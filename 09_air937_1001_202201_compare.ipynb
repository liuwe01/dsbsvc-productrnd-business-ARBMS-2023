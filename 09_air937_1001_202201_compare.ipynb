{
 "cells": [
  {
   "cell_type": "code",
   "execution_count": 1,
   "metadata": {},
   "outputs": [],
   "source": [
    "import time\n",
    "import pandas as pd\n",
    "import numpy as np\n",
    "import math\n",
    "\n",
    "# internal tools\n",
    "from dsgtools.reporting import make_format\n",
    "from dsgtools.reporting import TableWriter\n",
    "from dsgtools.reporting import freq\n",
    "from dsgtools.reporting import bivariate"
   ]
  },
  {
   "cell_type": "raw",
   "metadata": {},
   "source": [
    "Test1 - limit as of current\n",
    "Process as of archive mode with the given archive date \n",
    "Process the input dataset as of 202306, 202301, 202206, 202201, 202106, 201906, 201706, 201506\n",
    "\n",
    "Test2 - limit as of archive date\n",
    "Process as of archive mode with the given archive date \n",
    "Process the input dataset as of 202306, 202301, 202206, 202201, 202106, 201906, 201706, 201506"
   ]
  },
  {
   "cell_type": "code",
   "execution_count": 2,
   "metadata": {},
   "outputs": [],
   "source": [
    "bs_path = \"Analytics/RnD Projects/Product RnD/Business/_ARMBS_Tickets/2023/AIR_937/Processing_v2/air_937_business_shell_v31_baseline_202206_results_w20230725-073810.csv\"\n",
    "# test1_path = \"Analytics/RnD Projects/Product RnD/Business/_ARMBS_Tickets/2023/AIR_937/Processing_v2/air_937_business_shell_v31_test1_202206_results_w20230725-120106.csv\"\n",
    "test1_path = 'Analytics/RnD Projects/Product RnD/Business/_ARMBS_Tickets/2023/AIR_937/Processing_v3/air_937_business_shell_v31_test1_202201_results_w20230729-102909.csv'\n",
    "test2_path = \"Analytics/RnD Projects/Product RnD/Business/_ARMBS_Tickets/2023/AIR_937/Processing_v2/air_937_business_shell_v31_test2_202206_results_w20230725-153558.csv\""
   ]
  },
  {
   "cell_type": "code",
   "execution_count": 3,
   "metadata": {},
   "outputs": [],
   "source": [
    "string_list = {'lnlexidsele': str, 'outbestbusname': str, 'outbestbusstreetaddr': str, 'outbestbuscity': str, 'outbestbusstate': str, 'outbestbuszip': str, \n",
    "               'outbestbustin': str, 'outbestbusphone': str, 'outbestnaics': str, 'outbestsic': str, 'liennewesttype': str, 'judgmentnewesttype': str, \n",
    "               'inputaddrtype': str, }"
   ]
  },
  {
   "cell_type": "code",
   "execution_count": 4,
   "metadata": {},
   "outputs": [
    {
     "name": "stdout",
     "output_type": "stream",
     "text": [
      "(99988, 2304)\n",
      "(100000, 2304)\n",
      "(100000, 2304)\n"
     ]
    }
   ],
   "source": [
    "baseline = pd.read_adls(bs_path, reader = pd.read_csv, encoding='iso-8859-1', dtype = string_list, verbose = False, low_memory = False)\n",
    "print(baseline.shape)\n",
    "test_1 = pd.read_adls(test1_path, reader = pd.read_csv, encoding='iso-8859-1', dtype = string_list, verbose = False, low_memory = False)\n",
    "print(test_1.shape)\n",
    "test_2 = pd.read_adls(test2_path, reader = pd.read_csv, encoding='iso-8859-1', dtype = string_list, verbose = False, low_memory = False)\n",
    "print(test_2.shape)"
   ]
  },
  {
   "cell_type": "code",
   "execution_count": 5,
   "metadata": {},
   "outputs": [
    {
     "name": "stdout",
     "output_type": "stream",
     "text": [
      "(99988, 2305)\n",
      "(99988, 2305)\n",
      "(99988, 2305)\n",
      "(99988, 2305)\n"
     ]
    }
   ],
   "source": [
    "bs_seleid = baseline[[\"accountnumber\", \"seleid\"]]\n",
    "bs_seleid.columns = [\"accountnumber\", \"bs_seleid\"]\n",
    "test_1 = test_1.merge(bs_seleid, on = \"accountnumber\")\n",
    "print(test_1.shape)\n",
    "test_1 = test_1[test_1[\"seleid\"] == test_1[\"bs_seleid\"]]\n",
    "print(test_1.shape)\n",
    "\n",
    "test_2 = test_2.merge(bs_seleid, on = \"accountnumber\")\n",
    "print(test_2.shape)\n",
    "test_2 = test_2[test_2[\"seleid\"] == test_2[\"bs_seleid\"]]\n",
    "print(test_2.shape)"
   ]
  },
  {
   "cell_type": "code",
   "execution_count": 6,
   "metadata": {},
   "outputs": [],
   "source": [
    "exclude = ['accountnumber', 'historydateyyyymm', 'bus_company_name', 'powid', 'proxid', 'seleid', 'orgid', 'ultid', 'lnlexidsele','model1name', 'model1score',\n",
    "           'model1rc1', 'model1rc2', 'model1rc3', 'model1rc4', 'model1rc5', 'model1rc6', 'model2name', 'model2score', 'model2rc1', 'model2rc2', 'model2rc3', 'model2rc4',\n",
    "           'model2rc5', 'model2rc6', 'model3name', 'model3score', 'model3rc1', 'model3rc2', 'model3rc3', 'model3rc4', 'model3rc5', 'model3rc6', 'model4name', 'model4score',\n",
    "           'model4rc1', 'model4rc2', 'model4rc3', 'model4rc4', 'model4rc5', 'model4rc6', 'model5name', 'model5score', 'model5rc1', 'model5rc2', 'model5rc3', 'model5rc4',\n",
    "           'model5rc5', 'model5rc6', 'model6name', 'model6score', 'model6rc1', 'model6rc2', 'model6rc3', 'model6rc4', 'model6rc5', 'model6rc6', 'model7name', 'model7score',\n",
    "           'model7rc1', 'model7rc2', 'model7rc3', 'model7rc4', 'model7rc5', 'model7rc6', 'model8name', 'model8score', 'model8rc1', 'model8rc2', 'model8rc3', 'model8rc4',\n",
    "           'model8rc5', 'model8rc6', 'model9name', 'model9score', 'model9rc1', 'model9rc2', 'model9rc3', 'model9rc4', 'model9rc5', 'model9rc6', 'model10name', 'model10score',\n",
    "           'model10rc1', 'model10rc2', 'model10rc3', 'model10rc4', 'model10rc5', 'model10rc6', 'errorcode', 'time_ms']\n",
    "sbfe_attr = [x for x in baseline.columns if \"sbfe\" in x]\n",
    "rv_attr = [x for x in baseline.columns if x not in sbfe_attr and x not in exclude]\n",
    "model = [\"model1score\", \"model2score\"]\n",
    "\n",
    "exception_dict = dict()\n",
    "for x in baseline.columns:\n",
    "    if x in sbfe_attr:\n",
    "        exception_dict[x] = [-99, -98, -97]\n",
    "    if x in rv_attr:\n",
    "        exception_dict[x] = [-1]\n",
    "    if x in model:\n",
    "        exception_dict[x] = [0, 100, 200, 222]"
   ]
  },
  {
   "cell_type": "code",
   "execution_count": 7,
   "metadata": {},
   "outputs": [
    {
     "data": {
      "text/plain": [
       "<dsgtools.reporting.tablewriter.TableWriter at 0x7f9910113070>"
      ]
     },
     "execution_count": 7,
     "metadata": {},
     "output_type": "execute_result"
    },
    {
     "data": {
      "text/plain": [
       "<Figure size 640x480 with 0 Axes>"
      ]
     },
     "metadata": {},
     "output_type": "display_data"
    }
   ],
   "source": [
    "from dsgtools.reporting import ImpactAnalysisReport\n",
    "fmt_score = make_format(cuts = [-np.inf, 500, 550, 600, 625, 650, 675, 700, 725, 750, 775, 800, 825, 850, 900, np.inf], exceptions = [0, 100, 200, 222])\n",
    "cr = ImpactAnalysisReport(baseline, test_1, keys=\"accountnumber\",\n",
    "           score_columns = [\"model1score\", \"model2score\", \"sbfehitindex\"], \n",
    "           score_formats = {\"model1score\" : fmt_score, \n",
    "                         'model2score': fmt_score, },\n",
    "           exceptions= exception_dict,\n",
    "           dataframe_names = (\"baseline\", \"test1\"))\n",
    "cr.to_xlsx(\"./_temp/air937_202201_test1_data-comparison.xlsx\", overwrite= True)"
   ]
  },
  {
   "cell_type": "code",
   "execution_count": 8,
   "metadata": {},
   "outputs": [
    {
     "data": {
      "text/plain": [
       "<dsgtools.reporting.tablewriter.TableWriter at 0x7f980dd42a10>"
      ]
     },
     "execution_count": 8,
     "metadata": {},
     "output_type": "execute_result"
    },
    {
     "data": {
      "text/plain": [
       "<Figure size 640x480 with 0 Axes>"
      ]
     },
     "metadata": {},
     "output_type": "display_data"
    }
   ],
   "source": [
    "fmt_score = make_format(cuts = [-np.inf, 500, 550, 600, 625, 650, 675, 700, 725, 750, 775, 800, 825, 850, 900, np.inf], exceptions = [0, 100, 200, 222])\n",
    "cr = ImpactAnalysisReport(baseline, test_2, keys=\"accountnumber\",\n",
    "           score_columns = [\"model1score\", \"model2score\", \"sbfehitindex\"], \n",
    "           score_formats = {\"model1score\" : fmt_score, \n",
    "                         'model2score': fmt_score, },\n",
    "           exceptions= exception_dict, \n",
    "           dataframe_names = (\"baseline\", \"test2\"))\n",
    "cr.to_xlsx(\"./_temp/air937_202201_test2_data-comparison.xlsx\", overwrite= True)"
   ]
  },
  {
   "cell_type": "code",
   "execution_count": null,
   "metadata": {},
   "outputs": [],
   "source": []
  }
 ],
 "metadata": {
  "kernelspec": {
   "display_name": "data-science",
   "language": "python",
   "name": "python3"
  },
  "language_info": {
   "codemirror_mode": {
    "name": "ipython",
    "version": 3
   },
   "file_extension": ".py",
   "mimetype": "text/x-python",
   "name": "python",
   "nbconvert_exporter": "python",
   "pygments_lexer": "ipython3",
   "version": "3.10.6"
  },
  "orig_nbformat": 4
 },
 "nbformat": 4,
 "nbformat_minor": 2
}
