{
 "cells": [
  {
   "cell_type": "code",
   "execution_count": 1,
   "id": "2f104526-5a18-4594-9836-d1aae9612d86",
   "metadata": {},
   "outputs": [
    {
     "name": "stderr",
     "output_type": "stream",
     "text": [
      "Matplotlib is building the font cache; this may take a moment.\n"
     ]
    }
   ],
   "source": [
    "# Libraries needed: \n",
    "import time\n",
    "import pickle\n",
    "import pandas as pd\n",
    "import numpy as np\n",
    "import math\n",
    "\n",
    "# internal tools\n",
    "from dsgtools.reporting import make_format\n",
    "from dsgtools.reporting import TableWriter\n",
    "from dsgtools.reporting import freq\n",
    "from dsgtools.reporting import bivariate\n",
    "from dsgtools.reporting import col_summary\n",
    "from dsgtools import azure"
   ]
  },
  {
   "attachments": {},
   "cell_type": "raw",
   "id": "1fe6f788",
   "metadata": {},
   "source": [
    "Notes: \n",
    "Quickbase number: 11605\n",
    "Engineer workunits: \n"
   ]
  },
  {
   "cell_type": "markdown",
   "id": "083edefb",
   "metadata": {},
   "source": [
    "## Sample preparation"
   ]
  },
  {
   "attachments": {},
   "cell_type": "markdown",
   "id": "91df4e19",
   "metadata": {},
   "source": [
    "#### SBFE Sample"
   ]
  },
  {
   "cell_type": "code",
   "execution_count": 4,
   "id": "5b6235c8-a352-42f8-883b-d7c9d1a29cfd",
   "metadata": {},
   "outputs": [
    {
     "name": "stdout",
     "output_type": "stream",
     "text": [
      "(981928, 42)\n"
     ]
    }
   ],
   "source": [
    "path = \"Analytics/Personal Folders/liuwei01/2023/ARMBS_ticket/2390_SOS/combined_prod_liuwei01_37119_customer_input_W20230221-140008.csv\"\n",
    "SBFE_combined = pd.read_adls(path, reader = pd.read_csv,  encoding='iso-8859-1', dtype = str)\n",
    "print(SBFE_combined.shape)"
   ]
  },
  {
   "cell_type": "code",
   "execution_count": 5,
   "id": "9d0f8f04",
   "metadata": {},
   "outputs": [
    {
     "data": {
      "text/html": [
       "<div>\n",
       "<style scoped>\n",
       "    .dataframe tbody tr th:only-of-type {\n",
       "        vertical-align: middle;\n",
       "    }\n",
       "\n",
       "    .dataframe tbody tr th {\n",
       "        vertical-align: top;\n",
       "    }\n",
       "\n",
       "    .dataframe thead th {\n",
       "        text-align: right;\n",
       "    }\n",
       "</style>\n",
       "<table border=\"1\" class=\"dataframe\">\n",
       "  <thead>\n",
       "    <tr style=\"text-align: right;\">\n",
       "      <th></th>\n",
       "      <th>Count</th>\n",
       "      <th>Pct</th>\n",
       "      <th>Cuml Count</th>\n",
       "      <th>Cuml Pct</th>\n",
       "    </tr>\n",
       "    <tr>\n",
       "      <th>blank_ct</th>\n",
       "      <th></th>\n",
       "      <th></th>\n",
       "      <th></th>\n",
       "      <th></th>\n",
       "    </tr>\n",
       "  </thead>\n",
       "  <tbody>\n",
       "    <tr>\n",
       "      <th>0</th>\n",
       "      <td>891481.0</td>\n",
       "      <td>0.907888</td>\n",
       "      <td>891481.0</td>\n",
       "      <td>0.907888</td>\n",
       "    </tr>\n",
       "    <tr>\n",
       "      <th>1</th>\n",
       "      <td>33132.0</td>\n",
       "      <td>0.033742</td>\n",
       "      <td>924613.0</td>\n",
       "      <td>0.941630</td>\n",
       "    </tr>\n",
       "    <tr>\n",
       "      <th>2</th>\n",
       "      <td>41404.0</td>\n",
       "      <td>0.042166</td>\n",
       "      <td>966017.0</td>\n",
       "      <td>0.983796</td>\n",
       "    </tr>\n",
       "    <tr>\n",
       "      <th>3</th>\n",
       "      <td>3845.0</td>\n",
       "      <td>0.003916</td>\n",
       "      <td>969862.0</td>\n",
       "      <td>0.987712</td>\n",
       "    </tr>\n",
       "    <tr>\n",
       "      <th>4</th>\n",
       "      <td>12066.0</td>\n",
       "      <td>0.012288</td>\n",
       "      <td>981928.0</td>\n",
       "      <td>1.000000</td>\n",
       "    </tr>\n",
       "  </tbody>\n",
       "</table>\n",
       "</div>"
      ],
      "text/plain": [
       "             Count       Pct  Cuml Count  Cuml Pct\n",
       "blank_ct                                          \n",
       "0         891481.0  0.907888    891481.0  0.907888\n",
       "1          33132.0  0.033742    924613.0  0.941630\n",
       "2          41404.0  0.042166    966017.0  0.983796\n",
       "3           3845.0  0.003916    969862.0  0.987712\n",
       "4          12066.0  0.012288    981928.0  1.000000"
      ]
     },
     "execution_count": 5,
     "metadata": {},
     "output_type": "execute_result"
    }
   ],
   "source": [
    "SBFE_combined[\"blank_ct\"] = SBFE_combined[['businessname', 'businessaddress', 'businesscity', 'businessstate']].isnull().sum(axis = 1)\n",
    "freq(SBFE_combined[\"blank_ct\"])"
   ]
  },
  {
   "cell_type": "code",
   "execution_count": 6,
   "id": "f4d2c972",
   "metadata": {},
   "outputs": [
    {
     "name": "stdout",
     "output_type": "stream",
     "text": [
      "(795958, 8)\n"
     ]
    }
   ],
   "source": [
    "SBFE_combined = SBFE_combined[SBFE_combined[\"blank_ct\"] == 0]\n",
    "keep = ['transactionid', 'dateadded', 'businessname', 'businessaddress', 'businesscity','businessstate', 'businesszip', 'businessphone',]\n",
    "SBFE_combined = SBFE_combined[keep]\n",
    "SBFE_combined = SBFE_combined.sort_values(by = ['businessname', 'businessaddress', 'businesscity','businessstate', 'dateadded'])\n",
    "SBFE_combined = SBFE_combined.drop_duplicates(subset = ['businessname', 'businessaddress', 'businesscity','businessstate'], \n",
    "                                              keep = \"last\", ignore_index = True)\n",
    "print(SBFE_combined.shape)"
   ]
  },
  {
   "cell_type": "code",
   "execution_count": 7,
   "id": "75621820",
   "metadata": {},
   "outputs": [
    {
     "data": {
      "text/html": [
       "<div>\n",
       "<style scoped>\n",
       "    .dataframe tbody tr th:only-of-type {\n",
       "        vertical-align: middle;\n",
       "    }\n",
       "\n",
       "    .dataframe tbody tr th {\n",
       "        vertical-align: top;\n",
       "    }\n",
       "\n",
       "    .dataframe thead th {\n",
       "        text-align: right;\n",
       "    }\n",
       "</style>\n",
       "<table border=\"1\" class=\"dataframe\">\n",
       "  <thead>\n",
       "    <tr style=\"text-align: right;\">\n",
       "      <th></th>\n",
       "      <th>Count</th>\n",
       "      <th>Pct</th>\n",
       "      <th>Cuml Count</th>\n",
       "      <th>Cuml Pct</th>\n",
       "    </tr>\n",
       "    <tr>\n",
       "      <th>dateadded</th>\n",
       "      <th></th>\n",
       "      <th></th>\n",
       "      <th></th>\n",
       "      <th></th>\n",
       "    </tr>\n",
       "  </thead>\n",
       "  <tbody>\n",
       "    <tr>\n",
       "      <th>202210</th>\n",
       "      <td>167259.0</td>\n",
       "      <td>0.210135</td>\n",
       "      <td>167259.0</td>\n",
       "      <td>0.210135</td>\n",
       "    </tr>\n",
       "    <tr>\n",
       "      <th>202211</th>\n",
       "      <td>167168.0</td>\n",
       "      <td>0.210021</td>\n",
       "      <td>334427.0</td>\n",
       "      <td>0.420157</td>\n",
       "    </tr>\n",
       "    <tr>\n",
       "      <th>202212</th>\n",
       "      <td>158105.0</td>\n",
       "      <td>0.198635</td>\n",
       "      <td>492532.0</td>\n",
       "      <td>0.618791</td>\n",
       "    </tr>\n",
       "    <tr>\n",
       "      <th>202301</th>\n",
       "      <td>187094.0</td>\n",
       "      <td>0.235055</td>\n",
       "      <td>679626.0</td>\n",
       "      <td>0.853847</td>\n",
       "    </tr>\n",
       "    <tr>\n",
       "      <th>202302</th>\n",
       "      <td>116332.0</td>\n",
       "      <td>0.146153</td>\n",
       "      <td>795958.0</td>\n",
       "      <td>1.000000</td>\n",
       "    </tr>\n",
       "  </tbody>\n",
       "</table>\n",
       "</div>"
      ],
      "text/plain": [
       "              Count       Pct  Cuml Count  Cuml Pct\n",
       "dateadded                                          \n",
       "202210     167259.0  0.210135    167259.0  0.210135\n",
       "202211     167168.0  0.210021    334427.0  0.420157\n",
       "202212     158105.0  0.198635    492532.0  0.618791\n",
       "202301     187094.0  0.235055    679626.0  0.853847\n",
       "202302     116332.0  0.146153    795958.0  1.000000"
      ]
     },
     "execution_count": 7,
     "metadata": {},
     "output_type": "execute_result"
    }
   ],
   "source": [
    "freq(SBFE_combined[\"dateadded\"].astype(str).str.slice(0, 6))"
   ]
  },
  {
   "cell_type": "code",
   "execution_count": 17,
   "id": "640532c9",
   "metadata": {},
   "outputs": [
    {
     "name": "stdout",
     "output_type": "stream",
     "text": [
      "(500000, 8)\n"
     ]
    }
   ],
   "source": [
    "SBFE_combined = SBFE_combined[SBFE_combined[\"dateadded\"].astype(str).str.slice(0, 6) != \"202210\"]\n",
    "temp_sample = SBFE_combined.sample(500_000, replace = False, random_state = 0, ignore_index = True)\n",
    "print(temp_sample.shape)"
   ]
  },
  {
   "cell_type": "code",
   "execution_count": 18,
   "id": "213ac1a9",
   "metadata": {},
   "outputs": [],
   "source": [
    "temp_sample[\"business_fein\"] = \"\"\n",
    "temp_sample[\"source\"] = \"SBFE_combined\""
   ]
  },
  {
   "attachments": {},
   "cell_type": "markdown",
   "id": "b47cfcf7",
   "metadata": {},
   "source": [
    "#### BIID Sample"
   ]
  },
  {
   "cell_type": "code",
   "execution_count": 9,
   "id": "a4d0c45e-c7b1-4e3f-9f42-97927ac11840",
   "metadata": {},
   "outputs": [
    {
     "name": "stdout",
     "output_type": "stream",
     "text": [
      "(7411276, 93)\n"
     ]
    }
   ],
   "source": [
    "path = \"Analytics/Personal Folders/liuwei01/2023/ARMBS_ticket/2390_SOS/prod_liuwei01_37109_biid2_input_W20230221-133008.csv\"\n",
    "biid = pd.read_adls(path, reader = pd.read_csv,  encoding='iso-8859-1', dtype = str)\n",
    "print(biid.shape)"
   ]
  },
  {
   "cell_type": "code",
   "execution_count": 11,
   "id": "e4133c56",
   "metadata": {},
   "outputs": [
    {
     "name": "stderr",
     "output_type": "stream",
     "text": [
      "/tmp/ipykernel_31424/767051593.py:4: SettingWithCopyWarning: \n",
      "A value is trying to be set on a copy of a slice from a DataFrame.\n",
      "Try using .loc[row_indexer,col_indexer] = value instead\n",
      "\n",
      "See the caveats in the documentation: https://pandas.pydata.org/pandas-docs/stable/user_guide/indexing.html#returning-a-view-versus-a-copy\n",
      "  biid[\"blank_ct\"] = biid[['businessname', 'businessaddress', 'businesscity', 'businessstate']].isnull().sum(axis = 1)\n"
     ]
    },
    {
     "data": {
      "text/html": [
       "<div>\n",
       "<style scoped>\n",
       "    .dataframe tbody tr th:only-of-type {\n",
       "        vertical-align: middle;\n",
       "    }\n",
       "\n",
       "    .dataframe tbody tr th {\n",
       "        vertical-align: top;\n",
       "    }\n",
       "\n",
       "    .dataframe thead th {\n",
       "        text-align: right;\n",
       "    }\n",
       "</style>\n",
       "<table border=\"1\" class=\"dataframe\">\n",
       "  <thead>\n",
       "    <tr style=\"text-align: right;\">\n",
       "      <th></th>\n",
       "      <th>Count</th>\n",
       "      <th>Pct</th>\n",
       "      <th>Cuml Count</th>\n",
       "      <th>Cuml Pct</th>\n",
       "    </tr>\n",
       "    <tr>\n",
       "      <th>blank_ct</th>\n",
       "      <th></th>\n",
       "      <th></th>\n",
       "      <th></th>\n",
       "      <th></th>\n",
       "    </tr>\n",
       "  </thead>\n",
       "  <tbody>\n",
       "    <tr>\n",
       "      <th>0</th>\n",
       "      <td>6978629.0</td>\n",
       "      <td>9.416231e-01</td>\n",
       "      <td>6978629.0</td>\n",
       "      <td>0.941623</td>\n",
       "    </tr>\n",
       "    <tr>\n",
       "      <th>1</th>\n",
       "      <td>13883.0</td>\n",
       "      <td>1.873227e-03</td>\n",
       "      <td>6992512.0</td>\n",
       "      <td>0.943496</td>\n",
       "    </tr>\n",
       "    <tr>\n",
       "      <th>2</th>\n",
       "      <td>7477.0</td>\n",
       "      <td>1.008868e-03</td>\n",
       "      <td>6999989.0</td>\n",
       "      <td>0.944505</td>\n",
       "    </tr>\n",
       "    <tr>\n",
       "      <th>3</th>\n",
       "      <td>5.0</td>\n",
       "      <td>6.746477e-07</td>\n",
       "      <td>6999994.0</td>\n",
       "      <td>0.944506</td>\n",
       "    </tr>\n",
       "    <tr>\n",
       "      <th>4</th>\n",
       "      <td>411282.0</td>\n",
       "      <td>5.549409e-02</td>\n",
       "      <td>7411276.0</td>\n",
       "      <td>1.000000</td>\n",
       "    </tr>\n",
       "  </tbody>\n",
       "</table>\n",
       "</div>"
      ],
      "text/plain": [
       "              Count           Pct  Cuml Count  Cuml Pct\n",
       "blank_ct                                               \n",
       "0         6978629.0  9.416231e-01   6978629.0  0.941623\n",
       "1           13883.0  1.873227e-03   6992512.0  0.943496\n",
       "2            7477.0  1.008868e-03   6999989.0  0.944505\n",
       "3               5.0  6.746477e-07   6999994.0  0.944506\n",
       "4          411282.0  5.549409e-02   7411276.0  1.000000"
      ]
     },
     "execution_count": 11,
     "metadata": {},
     "output_type": "execute_result"
    }
   ],
   "source": [
    "keep = ['transaction_id', 'datetime', 'incompanyname', 'incompanystreetaddress', 'incompanycity','incompanystate', 'incompanyzip5', 'incompanyphone', \"incompanyfein\"]\n",
    "biid = biid[keep]\n",
    "biid.columns = ['transactionid', 'dateadded', 'businessname', 'businessaddress', 'businesscity','businessstate', 'businesszip', 'businessphone', \"business_fein\"]\n",
    "biid[\"blank_ct\"] = biid[['businessname', 'businessaddress', 'businesscity', 'businessstate']].isnull().sum(axis = 1)\n",
    "freq(biid[\"blank_ct\"])"
   ]
  },
  {
   "cell_type": "code",
   "execution_count": 12,
   "id": "bed14080",
   "metadata": {},
   "outputs": [
    {
     "name": "stdout",
     "output_type": "stream",
     "text": [
      "(5616978, 10)\n"
     ]
    }
   ],
   "source": [
    "biid = biid[biid[\"blank_ct\"] == 0]\n",
    "biid = biid.sort_values(by = ['businessname', 'businessaddress', 'businesscity','businessstate', 'dateadded'])\n",
    "biid = biid.drop_duplicates(subset = ['businessname', 'businessaddress', 'businesscity','businessstate'], keep = \"last\", ignore_index = True)\n",
    "print(biid.shape)"
   ]
  },
  {
   "cell_type": "code",
   "execution_count": 13,
   "id": "a532ef38",
   "metadata": {},
   "outputs": [
    {
     "data": {
      "text/html": [
       "<div>\n",
       "<style scoped>\n",
       "    .dataframe tbody tr th:only-of-type {\n",
       "        vertical-align: middle;\n",
       "    }\n",
       "\n",
       "    .dataframe tbody tr th {\n",
       "        vertical-align: top;\n",
       "    }\n",
       "\n",
       "    .dataframe thead th {\n",
       "        text-align: right;\n",
       "    }\n",
       "</style>\n",
       "<table border=\"1\" class=\"dataframe\">\n",
       "  <thead>\n",
       "    <tr style=\"text-align: right;\">\n",
       "      <th></th>\n",
       "      <th>Count</th>\n",
       "      <th>Pct</th>\n",
       "      <th>Cuml Count</th>\n",
       "      <th>Cuml Pct</th>\n",
       "    </tr>\n",
       "    <tr>\n",
       "      <th>dateadded</th>\n",
       "      <th></th>\n",
       "      <th></th>\n",
       "      <th></th>\n",
       "      <th></th>\n",
       "    </tr>\n",
       "  </thead>\n",
       "  <tbody>\n",
       "    <tr>\n",
       "      <th>202210</th>\n",
       "      <td>1178829.0</td>\n",
       "      <td>0.209869</td>\n",
       "      <td>1178829.0</td>\n",
       "      <td>0.209869</td>\n",
       "    </tr>\n",
       "    <tr>\n",
       "      <th>202211</th>\n",
       "      <td>1143592.0</td>\n",
       "      <td>0.203596</td>\n",
       "      <td>2322421.0</td>\n",
       "      <td>0.413464</td>\n",
       "    </tr>\n",
       "    <tr>\n",
       "      <th>202212</th>\n",
       "      <td>1140410.0</td>\n",
       "      <td>0.203029</td>\n",
       "      <td>3462831.0</td>\n",
       "      <td>0.616494</td>\n",
       "    </tr>\n",
       "    <tr>\n",
       "      <th>202301</th>\n",
       "      <td>1308767.0</td>\n",
       "      <td>0.233002</td>\n",
       "      <td>4771598.0</td>\n",
       "      <td>0.849496</td>\n",
       "    </tr>\n",
       "    <tr>\n",
       "      <th>202302</th>\n",
       "      <td>845380.0</td>\n",
       "      <td>0.150504</td>\n",
       "      <td>5616978.0</td>\n",
       "      <td>1.000000</td>\n",
       "    </tr>\n",
       "  </tbody>\n",
       "</table>\n",
       "</div>"
      ],
      "text/plain": [
       "               Count       Pct  Cuml Count  Cuml Pct\n",
       "dateadded                                           \n",
       "202210     1178829.0  0.209869   1178829.0  0.209869\n",
       "202211     1143592.0  0.203596   2322421.0  0.413464\n",
       "202212     1140410.0  0.203029   3462831.0  0.616494\n",
       "202301     1308767.0  0.233002   4771598.0  0.849496\n",
       "202302      845380.0  0.150504   5616978.0  1.000000"
      ]
     },
     "execution_count": 13,
     "metadata": {},
     "output_type": "execute_result"
    }
   ],
   "source": [
    "freq(biid[\"dateadded\"].astype(str).str.slice(0, 6))"
   ]
  },
  {
   "cell_type": "code",
   "execution_count": 16,
   "id": "326350ab",
   "metadata": {},
   "outputs": [
    {
     "name": "stdout",
     "output_type": "stream",
     "text": [
      "(500000, 10)\n"
     ]
    }
   ],
   "source": [
    "biid = biid[biid[\"dateadded\"].astype(str).str.slice(0, 6) == \"202302\"]\n",
    "temp_sample_biid = biid.sample(500_000, replace = False, random_state = 0, ignore_index = True)\n",
    "print(temp_sample_biid.shape)\n",
    "temp_sample_biid[\"source\"] = \"IIDBv2\""
   ]
  },
  {
   "attachments": {},
   "cell_type": "markdown",
   "id": "4212e9e9",
   "metadata": {},
   "source": [
    "#### Final Sample"
   ]
  },
  {
   "cell_type": "code",
   "execution_count": 19,
   "id": "21999881",
   "metadata": {},
   "outputs": [
    {
     "name": "stdout",
     "output_type": "stream",
     "text": [
      "(1000000, 11)\n"
     ]
    },
    {
     "data": {
      "text/html": [
       "<div>\n",
       "<style scoped>\n",
       "    .dataframe tbody tr th:only-of-type {\n",
       "        vertical-align: middle;\n",
       "    }\n",
       "\n",
       "    .dataframe tbody tr th {\n",
       "        vertical-align: top;\n",
       "    }\n",
       "\n",
       "    .dataframe thead th {\n",
       "        text-align: right;\n",
       "    }\n",
       "</style>\n",
       "<table border=\"1\" class=\"dataframe\">\n",
       "  <thead>\n",
       "    <tr style=\"text-align: right;\">\n",
       "      <th></th>\n",
       "      <th>Count</th>\n",
       "      <th>Pct</th>\n",
       "      <th>Cuml Count</th>\n",
       "      <th>Cuml Pct</th>\n",
       "    </tr>\n",
       "    <tr>\n",
       "      <th>source</th>\n",
       "      <th></th>\n",
       "      <th></th>\n",
       "      <th></th>\n",
       "      <th></th>\n",
       "    </tr>\n",
       "  </thead>\n",
       "  <tbody>\n",
       "    <tr>\n",
       "      <th>IIDBv2</th>\n",
       "      <td>500000.0</td>\n",
       "      <td>0.5</td>\n",
       "      <td>500000.0</td>\n",
       "      <td>0.5</td>\n",
       "    </tr>\n",
       "    <tr>\n",
       "      <th>SBFE_combined</th>\n",
       "      <td>500000.0</td>\n",
       "      <td>0.5</td>\n",
       "      <td>1000000.0</td>\n",
       "      <td>1.0</td>\n",
       "    </tr>\n",
       "  </tbody>\n",
       "</table>\n",
       "</div>"
      ],
      "text/plain": [
       "                  Count  Pct  Cuml Count  Cuml Pct\n",
       "source                                            \n",
       "IIDBv2         500000.0  0.5    500000.0       0.5\n",
       "SBFE_combined  500000.0  0.5   1000000.0       1.0"
      ]
     },
     "execution_count": 19,
     "metadata": {},
     "output_type": "execute_result"
    }
   ],
   "source": [
    "final = pd.concat([temp_sample, temp_sample_biid], ignore_index= True)\n",
    "print(final.shape)\n",
    "freq(final.source)"
   ]
  },
  {
   "cell_type": "code",
   "execution_count": 22,
   "id": "6283d3a7",
   "metadata": {},
   "outputs": [],
   "source": [
    "final.to_adls(\"Analytics/RnD Projects/Product RnD/Business/_ARMBS_Tickets/2023/ARMBS_2390/sbfe_combined_biid_1mil_2390_input.parquet\", format = '.parquet', overwrite = True)"
   ]
  },
  {
   "cell_type": "markdown",
   "id": "6240a1b8",
   "metadata": {},
   "source": [
    "## Bullet 2 for engineering - get BIPIDs"
   ]
  },
  {
   "cell_type": "code",
   "execution_count": 2,
   "id": "0723dda7",
   "metadata": {},
   "outputs": [
    {
     "name": "stdout",
     "output_type": "stream",
     "text": [
      "(163476, 263)\n"
     ]
    }
   ],
   "source": [
    "## error in this round of corpkey pull\n",
    "path = \"Analytics/RnD Projects/Product RnD/Business/_ARMBS_Tickets/2023/ARMBS_2390/wl_0405_ln_11605_20230318_busv31_credit_2390_corp_key.csv\"\n",
    "corpkey = pd.read_adls(path, reader = pd.read_csv, encoding='iso-8859-1', dtype = str)\n",
    "print(corpkey.shape)"
   ]
  },
  {
   "cell_type": "code",
   "execution_count": 4,
   "id": "ab6cc63f",
   "metadata": {},
   "outputs": [
    {
     "name": "stdout",
     "output_type": "stream",
     "text": [
      "(83911, 1)\n",
      "(1000001, 4)\n"
     ]
    }
   ],
   "source": [
    "corpkey = corpkey[['seleid']]\n",
    "corpkey = corpkey.drop_duplicates(subset= [\"seleid\"])\n",
    "print(corpkey.shape)\n",
    "\n",
    "shell_temp = shell[[\"account\", \"id_seleid\", \"sos_inc_filing_count\"]].copy()\n",
    "merged = shell_temp.merge(corpkey, left_on = \"id_seleid\", right_on = \"seleid\", how = \"outer\")\n",
    "print(merged.shape)"
   ]
  },
  {
   "cell_type": "code",
   "execution_count": 18,
   "id": "04988abe",
   "metadata": {},
   "outputs": [
    {
     "data": {
      "text/html": [
       "<div>\n",
       "<style scoped>\n",
       "    .dataframe tbody tr th:only-of-type {\n",
       "        vertical-align: middle;\n",
       "    }\n",
       "\n",
       "    .dataframe tbody tr th {\n",
       "        vertical-align: top;\n",
       "    }\n",
       "\n",
       "    .dataframe thead th {\n",
       "        text-align: right;\n",
       "    }\n",
       "</style>\n",
       "<table border=\"1\" class=\"dataframe\">\n",
       "  <thead>\n",
       "    <tr style=\"text-align: right;\">\n",
       "      <th></th>\n",
       "      <th>account</th>\n",
       "      <th>seq</th>\n",
       "      <th>id_powid</th>\n",
       "      <th>id_proxid</th>\n",
       "      <th>id_seleid</th>\n",
       "      <th>id_orgid</th>\n",
       "      <th>id_ultid</th>\n",
       "      <th>id_seleid_change_flag</th>\n",
       "      <th>id_seleid_change_code</th>\n",
       "      <th>id_weight</th>\n",
       "      <th>...</th>\n",
       "      <th>be_b2bfltrecflagbymonsum24mc</th>\n",
       "      <th>be_b2bmatrecflagbymonsum24mc</th>\n",
       "      <th>be_b2bopsrecflagbymonsum24mc</th>\n",
       "      <th>be_b2bothrecflagbymonsum24mc</th>\n",
       "      <th>be_b2bbalvol24mc</th>\n",
       "      <th>be_b2bcarrbalvol24mc</th>\n",
       "      <th>be_b2bfltbalvol24mc</th>\n",
       "      <th>be_b2bmatbalvol24mc</th>\n",
       "      <th>be_b2bopsbalvol24mc</th>\n",
       "      <th>be_b2bothbalvol24mc</th>\n",
       "    </tr>\n",
       "  </thead>\n",
       "  <tbody>\n",
       "    <tr>\n",
       "      <th>999997</th>\n",
       "      <td>172893681R469623</td>\n",
       "      <td>0</td>\n",
       "      <td>122167816483</td>\n",
       "      <td>133686899179</td>\n",
       "      <td>147421848</td>\n",
       "      <td>147421848</td>\n",
       "      <td>147421848</td>\n",
       "      <td>0</td>\n",
       "      <td>0</td>\n",
       "      <td>89</td>\n",
       "      <td>...</td>\n",
       "      <td>-99998</td>\n",
       "      <td>-99998</td>\n",
       "      <td>-99998</td>\n",
       "      <td>6</td>\n",
       "      <td>0</td>\n",
       "      <td>-99998</td>\n",
       "      <td>-99998</td>\n",
       "      <td>-99998</td>\n",
       "      <td>-99998</td>\n",
       "      <td>0</td>\n",
       "    </tr>\n",
       "  </tbody>\n",
       "</table>\n",
       "<p>1 rows × 3115 columns</p>\n",
       "</div>"
      ],
      "text/plain": [
       "                 account seq      id_powid     id_proxid  id_seleid  \\\n",
       "999997  172893681R469623   0  122167816483  133686899179  147421848   \n",
       "\n",
       "         id_orgid   id_ultid id_seleid_change_flag id_seleid_change_code  \\\n",
       "999997  147421848  147421848                     0                     0   \n",
       "\n",
       "       id_weight  ... be_b2bfltrecflagbymonsum24mc  \\\n",
       "999997        89  ...                       -99998   \n",
       "\n",
       "       be_b2bmatrecflagbymonsum24mc be_b2bopsrecflagbymonsum24mc  \\\n",
       "999997                       -99998                       -99998   \n",
       "\n",
       "       be_b2bothrecflagbymonsum24mc be_b2bbalvol24mc be_b2bcarrbalvol24mc  \\\n",
       "999997                            6                0               -99998   \n",
       "\n",
       "       be_b2bfltbalvol24mc be_b2bmatbalvol24mc be_b2bopsbalvol24mc  \\\n",
       "999997              -99998              -99998              -99998   \n",
       "\n",
       "       be_b2bothbalvol24mc  \n",
       "999997                   0  \n",
       "\n",
       "[1 rows x 3115 columns]"
      ]
     },
     "execution_count": 18,
     "metadata": {},
     "output_type": "execute_result"
    },
    {
     "name": "stderr",
     "output_type": "stream",
     "text": [
      "Bad pipe message: %s [b\"])f\\xd6\\xc2\\xa5\\x1b+\\xdd\\x02\\xe3\\x86j^\\x00 \\xeby \\xb2\\x0fh\\xd2Z\\xcc~\\x9b\\x84\\x7f\\xa6\\x1fE\\x80W\\xae\\xfd%Z=;\\xe4.\\x0c\\xf2 y/\\x1a\\xd8'\\xd0\\x00\\x08\\x13\\x02\\x13\\x03\\x13\\x01\\x00\\xff\", b'']\n",
      "Bad pipe message: %s [b'a\\xe8\\x000<\\x82\\x83\\xf7\\xf3\"\\xac\\xa98%\\xc4\\x1e\\xech\\x00\\x00']\n",
      "Bad pipe message: %s [b\",\\xc00\\x00\\xa3\\x00\\x9f\\xcc\\xa9\\xcc\\xa8\\xcc\\xaa\\xc0\\xaf\\xc0\\xad\\xc0\\xa3\\xc0\\x9f\\xc0]\\xc0a\\xc0W\\xc0S\\xc0+\\xc0/\\x00\\xa2\\x00\\x9e\\xc0\\xae\\xc0\\xac\\xc0\\xa2\\xc0\\x9e\\xc0\\\\\\xc0`\\xc0V\\xc0R\\xc0$\\xc0(\\x00k\\x00j\\xc0#\\xc0'\\x00g\\x00@\\xc0\\n\\xc0\\x14\\x009\\x008\\xc0\\t\\xc0\\x13\\x003\\x002\\x00\\x9d\\xc0\\xa1\\xc0\\x9d\\xc0Q\\x00\\x9c\\xc0\\xa0\\xc0\\x9c\\xc0P\\x00=\\x00<\\x005\\x00/\\x00\\x9a\\x00\\x99\\xc0\\x07\\xc0\\x11\\x00\\x96\\x00\\x05\\x00\\xff\"]\n",
      "Bad pipe message: %s [b'']\n",
      "Bad pipe message: %s [b\"L2\\x9c\\x07\\xa2]\\xed\\xd6y\\xf6\\x8d\\x94y2\\xa0 \\xee]\\x00\\x00\\xa6\\xc0,\\xc00\\x00\\xa3\\x00\\x9f\\xcc\\xa9\\xcc\\xa8\\xcc\\xaa\\xc0\\xaf\\xc0\\xad\\xc0\\xa3\\xc0\\x9f\\xc0]\\xc0a\\xc0W\\xc0S\\xc0+\\xc0/\\x00\\xa2\\x00\\x9e\\xc0\\xae\\xc0\\xac\\xc0\\xa2\\xc0\\x9e\\xc0\\\\\\xc0`\\xc0V\\xc0R\\xc0$\\xc0(\\x00k\\x00j\\xc0s\\xc0w\\x00\\xc4\\x00\\xc3\\xc0#\\xc0'\\x00g\\x00@\\xc0r\\xc0v\\x00\\xbe\\x00\\xbd\\xc0\\n\\xc0\\x14\\x009\\x008\\x00\\x88\\x00\\x87\\xc0\\t\\xc0\\x13\\x003\\x002\\x00\\x9a\\x00\\x99\\x00E\\x00D\\xc0\\x07\\xc0\\x11\\xc0\\x08\\xc0\\x12\\x00\\x16\\x00\\x13\\x00\\x9d\\xc0\\xa1\\xc0\\x9d\\xc0Q\\x00\\x9c\\xc0\\xa0\\xc0\\x9c\\xc0P\\x00=\\x00\\xc0\\x00<\\x00\\xba\\x005\\x00\\x84\\x00/\\x00\\x96\\x00A\\x00\\x05\\x00\\n\\x00\\xff\\x01\\x00\\x00j\\x00\\x00\\x00\\x0e\\x00\\x0c\\x00\\x00\\t12\", b'0.0.1\\x00\\x0b\\x00\\x04\\x03\\x00\\x01\\x02\\x00\\n\\x00\\x0c\\x00\\n\\x00\\x1d\\x00\\x17\\x00\\x1e\\x00\\x19\\x00\\x18\\x00#\\x00\\x00\\x00\\x16\\x00\\x00\\x00\\x17\\x00\\x00\\x00\\r\\x000\\x00.\\x04\\x03\\x05\\x03\\x06\\x03\\x08']\n",
      "Bad pipe message: %s [b'\\x08\\x08\\t\\x08\\n\\x08']\n",
      "Bad pipe message: %s [b'\\x04\\x08\\x05\\x08\\x06\\x04\\x01\\x05\\x01\\x06']\n",
      "Bad pipe message: %s [b'', b'\\x03\\x03']\n",
      "Bad pipe message: %s [b'']\n",
      "Bad pipe message: %s [b'', b'\\x02']\n",
      "Bad pipe message: %s [b'\\x05\\x02\\x06']\n",
      "Bad pipe message: %s [b'KC\\x1d', b')\\n\\xab\\x03\\xc8jya\\xe0c\\x01yV\\x00\\x00\\xa2\\xc0\\x14\\xc0\\n\\x009\\x008\\x007\\x006\\x00\\x88\\x00\\x87\\x00\\x86\\x00\\x85\\xc0\\x19\\x00:\\x00\\x89\\xc0\\x0f\\xc0\\x05\\x005\\x00\\x84\\xc0\\x13\\xc0\\t\\x003\\x002\\x001\\x000\\x00\\x9a\\x00\\x99\\x00\\x98\\x00\\x97\\x00E\\x00D\\x00C\\x00B\\xc0\\x18\\x004\\x00\\x9b\\x00F\\xc0\\x0e\\xc0\\x04\\x00/\\x00\\x96\\x00A\\x00\\x07\\xc0\\x11\\xc0\\x07\\xc0\\x16\\x00\\x18\\xc0\\x0c\\xc0\\x02\\x00\\x05\\x00\\x04\\xc0']\n",
      "Bad pipe message: %s [b'\\x08\\x00\\x16\\x00\\x13\\x00\\x10\\x00\\r\\xc0\\x17\\x00\\x1b\\xc0\\r\\xc0\\x03']\n",
      "Bad pipe message: %s [b'B&?!\\x1dQo\\xf0a\\xb5\\x8d:^\\xb7t\\xb2\\xd1v\\x00\\x00\\xa2\\xc0\\x14\\xc0\\n\\x009\\x008\\x007\\x006\\x00\\x88\\x00\\x87\\x00\\x86\\x00\\x85\\xc0\\x19\\x00:\\x00\\x89\\xc0\\x0f\\xc0\\x05\\x005\\x00\\x84\\xc0\\x13\\xc0\\t\\x003\\x002\\x001\\x000\\x00\\x9a\\x00\\x99\\x00\\x98\\x00\\x97\\x00E\\x00D\\x00C\\x00B\\xc0\\x18\\x004\\x00\\x9b\\x00F\\xc0\\x0e\\xc0\\x04\\x00/\\x00\\x96\\x00A\\x00\\x07\\xc0\\x11\\xc0\\x07\\xc0\\x16\\x00\\x18\\xc0\\x0c\\xc0\\x02\\x00\\x05\\x00\\x04\\xc0\\x12\\xc0', b'\\x16\\x00\\x13\\x00\\x10\\x00\\r']\n"
     ]
    }
   ],
   "source": [
    "shell[shell.account == \"172893681R469623\"]"
   ]
  },
  {
   "cell_type": "code",
   "execution_count": 6,
   "id": "ad7c0d9f",
   "metadata": {},
   "outputs": [],
   "source": [
    "merged.sos_inc_filing_count = merged.sos_inc_filing_count.astype(float)"
   ]
  },
  {
   "cell_type": "code",
   "execution_count": 7,
   "id": "cd70c07e",
   "metadata": {},
   "outputs": [
    {
     "data": {
      "text/html": [
       "<div>\n",
       "<style scoped>\n",
       "    .dataframe tbody tr th:only-of-type {\n",
       "        vertical-align: middle;\n",
       "    }\n",
       "\n",
       "    .dataframe tbody tr th {\n",
       "        vertical-align: top;\n",
       "    }\n",
       "\n",
       "    .dataframe thead th {\n",
       "        text-align: right;\n",
       "    }\n",
       "</style>\n",
       "<table border=\"1\" class=\"dataframe\">\n",
       "  <thead>\n",
       "    <tr style=\"text-align: right;\">\n",
       "      <th></th>\n",
       "      <th>account</th>\n",
       "      <th>id_seleid</th>\n",
       "      <th>sos_inc_filing_count</th>\n",
       "      <th>seleid</th>\n",
       "    </tr>\n",
       "  </thead>\n",
       "  <tbody>\n",
       "    <tr>\n",
       "      <th>252528</th>\n",
       "      <td>172682391R21658</td>\n",
       "      <td>138092217243</td>\n",
       "      <td>1.0</td>\n",
       "      <td>NaN</td>\n",
       "    </tr>\n",
       "    <tr>\n",
       "      <th>252529</th>\n",
       "      <td>172682291R11106</td>\n",
       "      <td>138813434501</td>\n",
       "      <td>1.0</td>\n",
       "      <td>NaN</td>\n",
       "    </tr>\n",
       "    <tr>\n",
       "      <th>252530</th>\n",
       "      <td>172566641R1475</td>\n",
       "      <td>135061959143</td>\n",
       "      <td>1.0</td>\n",
       "      <td>NaN</td>\n",
       "    </tr>\n",
       "    <tr>\n",
       "      <th>252531</th>\n",
       "      <td>172682141R9172</td>\n",
       "      <td>139774123066</td>\n",
       "      <td>1.0</td>\n",
       "      <td>NaN</td>\n",
       "    </tr>\n",
       "    <tr>\n",
       "      <th>252532</th>\n",
       "      <td>172682151R7080</td>\n",
       "      <td>139774123066</td>\n",
       "      <td>1.0</td>\n",
       "      <td>NaN</td>\n",
       "    </tr>\n",
       "    <tr>\n",
       "      <th>...</th>\n",
       "      <td>...</td>\n",
       "      <td>...</td>\n",
       "      <td>...</td>\n",
       "      <td>...</td>\n",
       "    </tr>\n",
       "    <tr>\n",
       "      <th>999992</th>\n",
       "      <td>172893611R291940</td>\n",
       "      <td>135369937239</td>\n",
       "      <td>1.0</td>\n",
       "      <td>NaN</td>\n",
       "    </tr>\n",
       "    <tr>\n",
       "      <th>999993</th>\n",
       "      <td>172893591R264249</td>\n",
       "      <td>139774073733</td>\n",
       "      <td>1.0</td>\n",
       "      <td>NaN</td>\n",
       "    </tr>\n",
       "    <tr>\n",
       "      <th>999996</th>\n",
       "      <td>172943481R80934</td>\n",
       "      <td>1259286060</td>\n",
       "      <td>1.0</td>\n",
       "      <td>NaN</td>\n",
       "    </tr>\n",
       "    <tr>\n",
       "      <th>999997</th>\n",
       "      <td>172887041R10349</td>\n",
       "      <td>62310678</td>\n",
       "      <td>1.0</td>\n",
       "      <td>NaN</td>\n",
       "    </tr>\n",
       "    <tr>\n",
       "      <th>999998</th>\n",
       "      <td>172893681R469623</td>\n",
       "      <td>147421848</td>\n",
       "      <td>4.0</td>\n",
       "      <td>NaN</td>\n",
       "    </tr>\n",
       "  </tbody>\n",
       "</table>\n",
       "<p>399034 rows × 4 columns</p>\n",
       "</div>"
      ],
      "text/plain": [
       "                 account     id_seleid  sos_inc_filing_count seleid\n",
       "252528   172682391R21658  138092217243                   1.0    NaN\n",
       "252529   172682291R11106  138813434501                   1.0    NaN\n",
       "252530    172566641R1475  135061959143                   1.0    NaN\n",
       "252531    172682141R9172  139774123066                   1.0    NaN\n",
       "252532    172682151R7080  139774123066                   1.0    NaN\n",
       "...                  ...           ...                   ...    ...\n",
       "999992  172893611R291940  135369937239                   1.0    NaN\n",
       "999993  172893591R264249  139774073733                   1.0    NaN\n",
       "999996   172943481R80934    1259286060                   1.0    NaN\n",
       "999997   172887041R10349      62310678                   1.0    NaN\n",
       "999998  172893681R469623     147421848                   4.0    NaN\n",
       "\n",
       "[399034 rows x 4 columns]"
      ]
     },
     "execution_count": 7,
     "metadata": {},
     "output_type": "execute_result"
    }
   ],
   "source": [
    "merged[(merged.id_seleid != \"0\") & (merged.seleid.isnull()) & (merged.sos_inc_filing_count >=1)]"
   ]
  },
  {
   "cell_type": "code",
   "execution_count": 7,
   "id": "f52c5dba",
   "metadata": {},
   "outputs": [
    {
     "data": {
      "text/html": [
       "<div>\n",
       "<style scoped>\n",
       "    .dataframe tbody tr th:only-of-type {\n",
       "        vertical-align: middle;\n",
       "    }\n",
       "\n",
       "    .dataframe tbody tr th {\n",
       "        vertical-align: top;\n",
       "    }\n",
       "\n",
       "    .dataframe thead th {\n",
       "        text-align: right;\n",
       "    }\n",
       "</style>\n",
       "<table border=\"1\" class=\"dataframe\">\n",
       "  <thead>\n",
       "    <tr style=\"text-align: right;\">\n",
       "      <th></th>\n",
       "      <th>ultid</th>\n",
       "      <th>orgid</th>\n",
       "      <th>seleid</th>\n",
       "      <th>proxid</th>\n",
       "      <th>powid</th>\n",
       "      <th>empid</th>\n",
       "      <th>dotid</th>\n",
       "      <th>ultscore</th>\n",
       "      <th>orgscore</th>\n",
       "      <th>selescore</th>\n",
       "      <th>...</th>\n",
       "      <th>corp_prep_addr1_last_line</th>\n",
       "      <th>append_addr2_rawaid</th>\n",
       "      <th>append_addr2_aceaid</th>\n",
       "      <th>corp_prep_addr2_line1</th>\n",
       "      <th>corp_prep_addr2_last_line</th>\n",
       "      <th>append_ra_rawaid</th>\n",
       "      <th>append_ra_aceaid</th>\n",
       "      <th>ra_prep_addr_line1</th>\n",
       "      <th>ra_prep_addr_last_line</th>\n",
       "      <th>fp</th>\n",
       "    </tr>\n",
       "  </thead>\n",
       "  <tbody>\n",
       "    <tr>\n",
       "      <th>0</th>\n",
       "      <td>2578</td>\n",
       "      <td>2578</td>\n",
       "      <td>2578</td>\n",
       "      <td>0</td>\n",
       "      <td>0</td>\n",
       "      <td>0</td>\n",
       "      <td>0</td>\n",
       "      <td>91</td>\n",
       "      <td>91</td>\n",
       "      <td>91</td>\n",
       "      <td>...</td>\n",
       "      <td>NaN</td>\n",
       "      <td>0</td>\n",
       "      <td>0</td>\n",
       "      <td>NaN</td>\n",
       "      <td>NaN</td>\n",
       "      <td>0</td>\n",
       "      <td>0</td>\n",
       "      <td>NaN</td>\n",
       "      <td>NaN</td>\n",
       "      <td>0</td>\n",
       "    </tr>\n",
       "    <tr>\n",
       "      <th>1</th>\n",
       "      <td>2809241</td>\n",
       "      <td>2809241</td>\n",
       "      <td>2809241</td>\n",
       "      <td>0</td>\n",
       "      <td>0</td>\n",
       "      <td>0</td>\n",
       "      <td>0</td>\n",
       "      <td>100</td>\n",
       "      <td>100</td>\n",
       "      <td>100</td>\n",
       "      <td>...</td>\n",
       "      <td>NaN</td>\n",
       "      <td>0</td>\n",
       "      <td>0</td>\n",
       "      <td>NaN</td>\n",
       "      <td>NaN</td>\n",
       "      <td>1070373674799</td>\n",
       "      <td>108359336663</td>\n",
       "      <td>2242 CRESTLINE LOOP</td>\n",
       "      <td>NORTH LAS VEGAS, NV 89030</td>\n",
       "      <td>0</td>\n",
       "    </tr>\n",
       "    <tr>\n",
       "      <th>2</th>\n",
       "      <td>2809241</td>\n",
       "      <td>2809241</td>\n",
       "      <td>2809241</td>\n",
       "      <td>0</td>\n",
       "      <td>0</td>\n",
       "      <td>0</td>\n",
       "      <td>0</td>\n",
       "      <td>100</td>\n",
       "      <td>100</td>\n",
       "      <td>100</td>\n",
       "      <td>...</td>\n",
       "      <td>NaN</td>\n",
       "      <td>0</td>\n",
       "      <td>0</td>\n",
       "      <td>NaN</td>\n",
       "      <td>NaN</td>\n",
       "      <td>1070373674799</td>\n",
       "      <td>108359336663</td>\n",
       "      <td>2242 CRESTLINE LOOP</td>\n",
       "      <td>NORTH LAS VEGAS, NV 89030</td>\n",
       "      <td>0</td>\n",
       "    </tr>\n",
       "    <tr>\n",
       "      <th>3</th>\n",
       "      <td>2809241</td>\n",
       "      <td>2809241</td>\n",
       "      <td>2809241</td>\n",
       "      <td>0</td>\n",
       "      <td>0</td>\n",
       "      <td>0</td>\n",
       "      <td>0</td>\n",
       "      <td>100</td>\n",
       "      <td>100</td>\n",
       "      <td>100</td>\n",
       "      <td>...</td>\n",
       "      <td>NaN</td>\n",
       "      <td>0</td>\n",
       "      <td>0</td>\n",
       "      <td>NaN</td>\n",
       "      <td>NaN</td>\n",
       "      <td>1070373674799</td>\n",
       "      <td>108359336663</td>\n",
       "      <td>2242 CRESTLINE LOOP</td>\n",
       "      <td>NORTH LAS VEGAS, NV 89030</td>\n",
       "      <td>0</td>\n",
       "    </tr>\n",
       "    <tr>\n",
       "      <th>4</th>\n",
       "      <td>2809241</td>\n",
       "      <td>2809241</td>\n",
       "      <td>2809241</td>\n",
       "      <td>0</td>\n",
       "      <td>0</td>\n",
       "      <td>0</td>\n",
       "      <td>0</td>\n",
       "      <td>100</td>\n",
       "      <td>100</td>\n",
       "      <td>100</td>\n",
       "      <td>...</td>\n",
       "      <td>NaN</td>\n",
       "      <td>0</td>\n",
       "      <td>0</td>\n",
       "      <td>NaN</td>\n",
       "      <td>NaN</td>\n",
       "      <td>1070373674799</td>\n",
       "      <td>108359336663</td>\n",
       "      <td>2242 CRESTLINE LOOP</td>\n",
       "      <td>NORTH LAS VEGAS, NV 89030</td>\n",
       "      <td>0</td>\n",
       "    </tr>\n",
       "  </tbody>\n",
       "</table>\n",
       "<p>5 rows × 263 columns</p>\n",
       "</div>"
      ],
      "text/plain": [
       "     ultid    orgid   seleid proxid powid empid dotid ultscore orgscore  \\\n",
       "0     2578     2578     2578      0     0     0     0       91       91   \n",
       "1  2809241  2809241  2809241      0     0     0     0      100      100   \n",
       "2  2809241  2809241  2809241      0     0     0     0      100      100   \n",
       "3  2809241  2809241  2809241      0     0     0     0      100      100   \n",
       "4  2809241  2809241  2809241      0     0     0     0      100      100   \n",
       "\n",
       "  selescore  ... corp_prep_addr1_last_line append_addr2_rawaid  \\\n",
       "0        91  ...                       NaN                   0   \n",
       "1       100  ...                       NaN                   0   \n",
       "2       100  ...                       NaN                   0   \n",
       "3       100  ...                       NaN                   0   \n",
       "4       100  ...                       NaN                   0   \n",
       "\n",
       "  append_addr2_aceaid corp_prep_addr2_line1 corp_prep_addr2_last_line  \\\n",
       "0                   0                   NaN                       NaN   \n",
       "1                   0                   NaN                       NaN   \n",
       "2                   0                   NaN                       NaN   \n",
       "3                   0                   NaN                       NaN   \n",
       "4                   0                   NaN                       NaN   \n",
       "\n",
       "  append_ra_rawaid append_ra_aceaid   ra_prep_addr_line1  \\\n",
       "0                0                0                  NaN   \n",
       "1    1070373674799     108359336663  2242 CRESTLINE LOOP   \n",
       "2    1070373674799     108359336663  2242 CRESTLINE LOOP   \n",
       "3    1070373674799     108359336663  2242 CRESTLINE LOOP   \n",
       "4    1070373674799     108359336663  2242 CRESTLINE LOOP   \n",
       "\n",
       "      ra_prep_addr_last_line fp  \n",
       "0                        NaN  0  \n",
       "1  NORTH LAS VEGAS, NV 89030  0  \n",
       "2  NORTH LAS VEGAS, NV 89030  0  \n",
       "3  NORTH LAS VEGAS, NV 89030  0  \n",
       "4  NORTH LAS VEGAS, NV 89030  0  \n",
       "\n",
       "[5 rows x 263 columns]"
      ]
     },
     "execution_count": 7,
     "metadata": {},
     "output_type": "execute_result"
    }
   ],
   "source": [
    "corpkey.head()"
   ]
  },
  {
   "cell_type": "code",
   "execution_count": 2,
   "id": "e2455441",
   "metadata": {},
   "outputs": [
    {
     "name": "stdout",
     "output_type": "stream",
     "text": [
      "(1000000, 3115)\n"
     ]
    }
   ],
   "source": [
    "path = \"Analytics/RnD Projects/Product RnD/Business/_ARMBS_Tickets/2023/ARMBS_2390/ln_11605_20230318_busv31_credit_w20230320-120136_sas_layout_busshell.csv.gz\"\n",
    "shell = pd.read_adls(path, reader = pd.read_csv, compression = \"gzip\", encoding='iso-8859-1', dtype = str)\n",
    "print(shell.shape)"
   ]
  },
  {
   "cell_type": "code",
   "execution_count": 6,
   "id": "8f57db8c",
   "metadata": {},
   "outputs": [
    {
     "data": {
      "text/plain": [
       "True"
      ]
     },
     "execution_count": 6,
     "metadata": {},
     "output_type": "execute_result"
    }
   ],
   "source": [
    "shell.account.is_unique"
   ]
  },
  {
   "cell_type": "code",
   "execution_count": 4,
   "id": "7b82e41b",
   "metadata": {},
   "outputs": [
    {
     "data": {
      "text/plain": [
       "488846.0"
      ]
     },
     "execution_count": 4,
     "metadata": {},
     "output_type": "execute_result"
    }
   ],
   "source": [
    "1000000-172589.0-338565.0"
   ]
  },
  {
   "cell_type": "code",
   "execution_count": 3,
   "id": "38209010",
   "metadata": {},
   "outputs": [
    {
     "data": {
      "text/html": [
       "<div>\n",
       "<style scoped>\n",
       "    .dataframe tbody tr th:only-of-type {\n",
       "        vertical-align: middle;\n",
       "    }\n",
       "\n",
       "    .dataframe tbody tr th {\n",
       "        vertical-align: top;\n",
       "    }\n",
       "\n",
       "    .dataframe thead th {\n",
       "        text-align: right;\n",
       "    }\n",
       "</style>\n",
       "<table border=\"1\" class=\"dataframe\">\n",
       "  <thead>\n",
       "    <tr style=\"text-align: right;\">\n",
       "      <th></th>\n",
       "      <th>Count</th>\n",
       "      <th>Pct</th>\n",
       "      <th>Cuml Count</th>\n",
       "      <th>Cuml Pct</th>\n",
       "    </tr>\n",
       "    <tr>\n",
       "      <th>sos_inc_filing_count</th>\n",
       "      <th></th>\n",
       "      <th></th>\n",
       "      <th></th>\n",
       "      <th></th>\n",
       "    </tr>\n",
       "  </thead>\n",
       "  <tbody>\n",
       "    <tr>\n",
       "      <th>&lt;= 0</th>\n",
       "      <td>172589.0</td>\n",
       "      <td>0.172589</td>\n",
       "      <td>172589.0</td>\n",
       "      <td>0.172589</td>\n",
       "    </tr>\n",
       "    <tr>\n",
       "      <th>1</th>\n",
       "      <td>396937.0</td>\n",
       "      <td>0.396937</td>\n",
       "      <td>569526.0</td>\n",
       "      <td>0.569526</td>\n",
       "    </tr>\n",
       "    <tr>\n",
       "      <th>2</th>\n",
       "      <td>61691.0</td>\n",
       "      <td>0.061691</td>\n",
       "      <td>631217.0</td>\n",
       "      <td>0.631217</td>\n",
       "    </tr>\n",
       "    <tr>\n",
       "      <th>3</th>\n",
       "      <td>14038.0</td>\n",
       "      <td>0.014038</td>\n",
       "      <td>645255.0</td>\n",
       "      <td>0.645255</td>\n",
       "    </tr>\n",
       "    <tr>\n",
       "      <th>4</th>\n",
       "      <td>5464.0</td>\n",
       "      <td>0.005464</td>\n",
       "      <td>650719.0</td>\n",
       "      <td>0.650719</td>\n",
       "    </tr>\n",
       "    <tr>\n",
       "      <th>5</th>\n",
       "      <td>2572.0</td>\n",
       "      <td>0.002572</td>\n",
       "      <td>653291.0</td>\n",
       "      <td>0.653291</td>\n",
       "    </tr>\n",
       "    <tr>\n",
       "      <th>6+</th>\n",
       "      <td>8141.0</td>\n",
       "      <td>0.008141</td>\n",
       "      <td>661432.0</td>\n",
       "      <td>0.661432</td>\n",
       "    </tr>\n",
       "    <tr>\n",
       "      <th>-1</th>\n",
       "      <td>338565.0</td>\n",
       "      <td>0.338565</td>\n",
       "      <td>999997.0</td>\n",
       "      <td>0.999997</td>\n",
       "    </tr>\n",
       "    <tr>\n",
       "      <th>Missing</th>\n",
       "      <td>3.0</td>\n",
       "      <td>0.000003</td>\n",
       "      <td>1000000.0</td>\n",
       "      <td>1.000000</td>\n",
       "    </tr>\n",
       "  </tbody>\n",
       "</table>\n",
       "</div>"
      ],
      "text/plain": [
       "                         Count       Pct  Cuml Count  Cuml Pct\n",
       "sos_inc_filing_count                                          \n",
       "<= 0                  172589.0  0.172589    172589.0  0.172589\n",
       "1                     396937.0  0.396937    569526.0  0.569526\n",
       "2                      61691.0  0.061691    631217.0  0.631217\n",
       "3                      14038.0  0.014038    645255.0  0.645255\n",
       "4                       5464.0  0.005464    650719.0  0.650719\n",
       "5                       2572.0  0.002572    653291.0  0.653291\n",
       "6+                      8141.0  0.008141    661432.0  0.661432\n",
       "-1                    338565.0  0.338565    999997.0  0.999997\n",
       "Missing                    3.0  0.000003   1000000.0  1.000000"
      ]
     },
     "execution_count": 3,
     "metadata": {},
     "output_type": "execute_result"
    },
    {
     "name": "stderr",
     "output_type": "stream",
     "text": [
      "Bad pipe message: %s [b'x\\x9aY\\xc0*\\x01t\\xc0d\\xcf\\x93*\\xc4VE}\\xf6\\xb2 \\xf2[\\xa3\\xd6\\xda\\x922\\x194\\xf2s\\x9b\\x8e\\xbe\\x1f\\x1eb*ritv\\x17\\x9d\\x08\\x97\\xc9MV\\x14\\x8bR\\x00\\x08\\x13\\x02\\x13\\x03\\x13\\x01\\x00\\xff\\x01\\x00\\x00\\x8f\\x00\\x00\\x00\\x0e\\x00\\x0c\\x00\\x00\\t127.0.0.1\\x00\\x0b\\x00\\x04\\x03\\x00\\x01\\x02\\x00\\n\\x00\\x0c\\x00\\n\\x00\\x1d']\n",
      "Bad pipe message: %s [b'PT\\x0fY(\\xf4\\xa9\\xbe\\xa3\\x06\\xb7\\x0c\\xc9)\\x13\\xd8\\xdb', b'\\x00|\\xc0,\\xc00\\x00\\xa3\\x00\\x9f\\xcc\\xa9\\xcc\\xa8\\xcc\\xaa\\xc0\\xaf\\xc0\\xad\\xc0\\xa3\\xc0\\x9f\\xc0]\\xc0a\\xc0W\\xc0S\\xc0+\\xc0/\\x00\\xa2\\x00\\x9e\\xc0\\xae\\xc0\\xac\\xc0\\xa2\\xc0\\x9e\\xc0\\\\\\xc0']\n",
      "Bad pipe message: %s [b\"V\\xc0R\\xc0$\\xc0(\\x00k\\x00j\\xc0#\\xc0'\\x00g\\x00@\\xc0\\n\\xc0\\x14\\x009\\x008\\xc0\\t\\xc0\\x13\\x003\\x002\\x00\\x9d\\xc0\\xa1\\xc0\\x9d\\xc0Q\\x00\\x9c\\xc0\\xa0\\xc0\\x9c\\xc0P\\x00=\\x00<\\x005\\x00/\\x00\\x9a\\x00\\x99\\xc0\\x07\\xc0\\x11\\x00\\x96\\x00\\x05\\x00\\xff\\x01\\x00\\x00j\\x00\\x00\\x00\\x0e\\x00\\x0c\\x00\\x00\\t127.0.0.1\"]\n",
      "Bad pipe message: %s [b\"p\\xb2m\\xdaW\\xa8\\x9aM\\xc3Y\\x1fsw\\xd8:\\x01\\x98f\\x00\\x00\\xa6\\xc0,\\xc00\\x00\\xa3\\x00\\x9f\\xcc\\xa9\\xcc\\xa8\\xcc\\xaa\\xc0\\xaf\\xc0\\xad\\xc0\\xa3\\xc0\\x9f\\xc0]\\xc0a\\xc0W\\xc0S\\xc0+\\xc0/\\x00\\xa2\\x00\\x9e\\xc0\\xae\\xc0\\xac\\xc0\\xa2\\xc0\\x9e\\xc0\\\\\\xc0`\\xc0V\\xc0R\\xc0$\\xc0(\\x00k\\x00j\\xc0s\\xc0w\\x00\\xc4\\x00\\xc3\\xc0#\\xc0'\\x00g\\x00@\\xc0r\\xc0v\\x00\\xbe\\x00\\xbd\\xc0\\n\\xc0\\x14\\x009\\x008\\x00\\x88\\x00\\x87\\xc0\\t\\xc0\\x13\\x003\\x002\\x00\\x9a\\x00\\x99\\x00E\\x00D\\xc0\\x07\\xc0\\x11\\xc0\\x08\\xc0\\x12\\x00\\x16\\x00\\x13\\x00\\x9d\\xc0\\xa1\\xc0\\x9d\\xc0Q\\x00\\x9c\\xc0\\xa0\\xc0\\x9c\\xc0P\\x00=\\x00\\xc0\\x00<\\x00\\xba\\x005\\x00\\x84\\x00/\\x00\\x96\\x00A\\x00\\x05\\x00\", b'\\xff\\x01\\x00\\x00j\\x00\\x00\\x00\\x0e']\n",
      "Bad pipe message: %s [b'\\xbc[AE\\xca\\x02\\xb2\\x86fJ\\xb5lB\\xc1\\x1a,Y\\x01\\x00\\x00>\\xc0\\x14\\xc0\\n\\x009\\x008\\x007\\x006\\xc0\\x0f\\xc0\\x05\\x005\\xc0\\x13\\xc0\\t\\x003\\x002\\x001\\x000\\xc0\\x0e\\xc0\\x04\\x00/\\x00\\x9a\\x00\\x99\\x00\\x98\\x00\\x97\\x00\\x96\\x00\\x07\\xc0\\x11\\xc0', b'\\x0c\\xc0\\x02\\x00\\x05\\x00']\n",
      "Bad pipe message: %s [b'\\xff\\x02\\x01']\n",
      "Bad pipe message: %s [b'i\\x8d\\x11\\xd1F\\xa0KSHz\\x00\\xe3\\xe6\\x8a\\x06\\x1d\\xd6\\xf5\\x00\\x00\\xa2\\xc0\\x14\\xc0\\n\\x009\\x008\\x007\\x006\\x00\\x88\\x00\\x87\\x00\\x86\\x00\\x85']\n",
      "Bad pipe message: %s [b'0K\\x13\\xb6cTu\\xb21.VC\\xf7y\\xc6\\xd0{u\\x00\\x00\\xa2\\xc0\\x14\\xc0\\n\\x009\\x008\\x007\\x006\\x00\\x88\\x00\\x87\\x00\\x86\\x00\\x85\\xc0\\x19\\x00:\\x00\\x89\\xc0\\x0f\\xc0\\x05\\x005\\x00\\x84\\xc0\\x13\\xc0\\t\\x003\\x002\\x001\\x000\\x00\\x9a\\x00\\x99\\x00\\x98\\x00\\x97\\x00E\\x00D\\x00C\\x00B\\xc0\\x18\\x004\\x00\\x9b\\x00F\\xc0\\x0e\\xc0\\x04\\x00/\\x00\\x96\\x00A\\x00\\x07\\xc0\\x11\\xc0\\x07\\xc0\\x16\\x00\\x18\\xc0\\x0c\\xc0\\x02\\x00\\x05\\x00\\x04\\xc0\\x12\\xc0\\x08\\x00\\x16\\x00\\x13\\x00\\x10\\x00\\r\\xc0\\x17\\x00\\x1b\\xc0\\r\\xc0\\x03\\x00\\n\\x00\\x15\\x00\\x12\\x00\\x0f\\x00\\x0c\\x00\\x1a\\x00\\t\\x00\\x14\\x00\\x11\\x00\\x19\\x00\\x08\\x00\\x06\\x00']\n",
      "Bad pipe message: %s [b'\\x03\\xc0\\x10\\xc0\\x06\\xc0\\x15\\xc0\\x0b\\xc0\\x01\\x00\\x02\\x00\\x01\\x00\\xff\\x02\\x01\\x00\\x15\\x03']\n",
      "Bad pipe message: %s [b\"k\\xcf=RO\\xde\\xe4'!]\\xc8^\\xde\\xba\\xb6\\xc8U\\xbe\\x00\\x00\\x86\\xc00\\xc0,\\xc0(\\xc0$\\xc0\\x14\\xc0\\n\\x00\\xa5\\x00\\xa3\\x00\\xa1\\x00\\x9f\\x00k\\x00j\\x00i\\x00h\\x009\\x008\\x007\\x006\\xc02\\xc0.\\xc0*\\xc0&\\xc0\\x0f\\xc0\\x05\\x00\\x9d\\x00=\\x005\\xc0/\\xc0+\\xc0'\\xc0#\\xc0\\x13\\xc0\\t\\x00\\xa4\\x00\\xa2\\x00\\xa0\\x00\\x9e\\x00g\\x00@\\x00?\\x00>\\x003\\x002\\x001\\x000\\xc01\\xc0-\\xc0)\\xc0%\\xc0\\x0e\\xc0\\x04\\x00\\x9c\\x00<\\x00/\\x00\\x9a\\x00\\x99\\x00\\x98\\x00\\x97\\x00\\x96\\x00\\x07\\xc0\\x11\\xc0\\x07\\xc0\\x0c\\xc0\\x02\\x00\\x05\\x00\\x04\\x00\\xff\\x02\\x01\\x00\\x00g\\x00\\x00\\x00\\x0e\\x00\\x0c\\x00\\x00\\t127.0.0.1\\x00\\x0b\\x00\\x04\\x03\\x00\\x01\\x02\\x00\\n\\x00\\x1c\\x00\\x1a\\x00\\x17\\x00\\x19\\x00\\x1c\\x00\\x1b\\x00\\x18\\x00\\x1a\\x00\\x16\\x00\\x0e\"]\n",
      "Bad pipe message: %s [b\"2\\xdb\\x1eJ\\xb4DfQ\\x89\\x19\\xbd\\x1e!A\\xcd\\x9b\\xc1\\xce\\x00\\x00\\xf4\\xc00\\xc0,\\xc0(\\xc0$\\xc0\\x14\\xc0\\n\\x00\\xa5\\x00\\xa3\\x00\\xa1\\x00\\x9f\\x00k\\x00j\\x00i\\x00h\\x009\\x008\\x007\\x006\\x00\\x88\\x00\\x87\\x00\\x86\\x00\\x85\\xc0\\x19\\x00\\xa7\\x00m\\x00:\\x00\\x89\\xc02\\xc0.\\xc0*\\xc0&\\xc0\\x0f\\xc0\\x05\\x00\\x9d\\x00=\\x005\\x00\\x84\\xc0/\\xc0+\\xc0'\\xc0#\\xc0\\x13\\xc0\\t\\x00\\xa4\\x00\\xa2\\x00\\xa0\\x00\\x9e\\x00g\\x00@\\x00?\\x00>\\x003\\x002\\x001\\x000\\x00\\x9a\\x00\\x99\\x00\\x98\\x00\\x97\\x00E\\x00D\\x00C\\x00B\\xc0\\x18\\x00\\xa6\\x00\"]\n",
      "Bad pipe message: %s [b'4\\x00\\x9b\\x00F\\xc01\\xc0-\\xc0)\\xc0%\\xc0\\x0e\\xc0\\x04\\x00\\x9c\\x00<\\x00/\\x00\\x96\\x00A\\x00\\x07\\xc0\\x11\\xc0\\x07\\xc0\\x16\\x00\\x18\\xc0\\x0c\\xc0\\x02\\x00\\x05\\x00\\x04\\xc0\\x12\\xc0\\x08\\x00\\x16\\x00\\x13\\x00\\x10\\x00\\r\\xc0\\x17\\x00\\x1b\\xc0\\r\\xc0\\x03\\x00\\n\\x00\\x15\\x00\\x12\\x00\\x0f\\x00\\x0c\\x00\\x1a\\x00\\t\\x00\\x14\\x00\\x11\\x00\\x19\\x00\\x08\\x00\\x06\\x00\\x17\\x00\\x03\\xc0\\x10\\xc0\\x06\\xc0\\x15\\xc0\\x0b\\xc0\\x01\\x00;\\x00\\x02']\n"
     ]
    }
   ],
   "source": [
    "shell[\"sos_inc_filing_count\"] = shell[\"sos_inc_filing_count\"].astype(float)\n",
    "fmt = make_format(cuts = [-np.inf, 0, 1, 2, 3, 4, 5, np.inf], exceptions = [-1])\n",
    "freq(shell[\"sos_inc_filing_count\"], format = [fmt])"
   ]
  },
  {
   "cell_type": "code",
   "execution_count": 14,
   "id": "5d2845db",
   "metadata": {},
   "outputs": [
    {
     "data": {
      "text/html": [
       "<div>\n",
       "<style scoped>\n",
       "    .dataframe tbody tr th:only-of-type {\n",
       "        vertical-align: middle;\n",
       "    }\n",
       "\n",
       "    .dataframe tbody tr th {\n",
       "        vertical-align: top;\n",
       "    }\n",
       "\n",
       "    .dataframe thead th {\n",
       "        text-align: right;\n",
       "    }\n",
       "</style>\n",
       "<table border=\"1\" class=\"dataframe\">\n",
       "  <thead>\n",
       "    <tr style=\"text-align: right;\">\n",
       "      <th></th>\n",
       "      <th>Count</th>\n",
       "      <th>Pct</th>\n",
       "      <th>Cuml Count</th>\n",
       "      <th>Cuml Pct</th>\n",
       "    </tr>\n",
       "    <tr>\n",
       "      <th>id_seleid</th>\n",
       "      <th></th>\n",
       "      <th></th>\n",
       "      <th></th>\n",
       "      <th></th>\n",
       "    </tr>\n",
       "  </thead>\n",
       "  <tbody>\n",
       "    <tr>\n",
       "      <th>&lt;= 0</th>\n",
       "      <td>252527.0</td>\n",
       "      <td>0.252527</td>\n",
       "      <td>252527.0</td>\n",
       "      <td>0.252527</td>\n",
       "    </tr>\n",
       "    <tr>\n",
       "      <th>1+</th>\n",
       "      <td>747470.0</td>\n",
       "      <td>0.747470</td>\n",
       "      <td>999997.0</td>\n",
       "      <td>0.999997</td>\n",
       "    </tr>\n",
       "    <tr>\n",
       "      <th>Missing</th>\n",
       "      <td>3.0</td>\n",
       "      <td>0.000003</td>\n",
       "      <td>1000000.0</td>\n",
       "      <td>1.000000</td>\n",
       "    </tr>\n",
       "  </tbody>\n",
       "</table>\n",
       "</div>"
      ],
      "text/plain": [
       "              Count       Pct  Cuml Count  Cuml Pct\n",
       "id_seleid                                          \n",
       "<= 0       252527.0  0.252527    252527.0  0.252527\n",
       "1+         747470.0  0.747470    999997.0  0.999997\n",
       "Missing         3.0  0.000003   1000000.0  1.000000"
      ]
     },
     "execution_count": 14,
     "metadata": {},
     "output_type": "execute_result"
    }
   ],
   "source": [
    "shell[\"id_seleid\"] = shell[\"id_seleid\"].astype(float)\n",
    "fmt = make_format(cuts = [-np.inf, 0, np.inf])\n",
    "freq(shell[\"id_seleid\"], format = [fmt])"
   ]
  },
  {
   "cell_type": "code",
   "execution_count": 7,
   "id": "6846ff6d",
   "metadata": {},
   "outputs": [
    {
     "data": {
      "text/html": [
       "<div>\n",
       "<style scoped>\n",
       "    .dataframe tbody tr th:only-of-type {\n",
       "        vertical-align: middle;\n",
       "    }\n",
       "\n",
       "    .dataframe tbody tr th {\n",
       "        vertical-align: top;\n",
       "    }\n",
       "\n",
       "    .dataframe thead th {\n",
       "        text-align: right;\n",
       "    }\n",
       "</style>\n",
       "<table border=\"1\" class=\"dataframe\">\n",
       "  <thead>\n",
       "    <tr style=\"text-align: right;\">\n",
       "      <th></th>\n",
       "      <th>Count</th>\n",
       "      <th>Pct</th>\n",
       "      <th>Cuml Count</th>\n",
       "      <th>Cuml Pct</th>\n",
       "    </tr>\n",
       "    <tr>\n",
       "      <th>id_seleid_change_flag</th>\n",
       "      <th></th>\n",
       "      <th></th>\n",
       "      <th></th>\n",
       "      <th></th>\n",
       "    </tr>\n",
       "  </thead>\n",
       "  <tbody>\n",
       "    <tr>\n",
       "      <th>0</th>\n",
       "      <td>999997.0</td>\n",
       "      <td>0.999997</td>\n",
       "      <td>999997.0</td>\n",
       "      <td>0.999997</td>\n",
       "    </tr>\n",
       "    <tr>\n",
       "      <th>Missing</th>\n",
       "      <td>3.0</td>\n",
       "      <td>0.000003</td>\n",
       "      <td>1000000.0</td>\n",
       "      <td>1.000000</td>\n",
       "    </tr>\n",
       "  </tbody>\n",
       "</table>\n",
       "</div>"
      ],
      "text/plain": [
       "                          Count       Pct  Cuml Count  Cuml Pct\n",
       "id_seleid_change_flag                                          \n",
       "0                      999997.0  0.999997    999997.0  0.999997\n",
       "Missing                     3.0  0.000003   1000000.0  1.000000"
      ]
     },
     "execution_count": 7,
     "metadata": {},
     "output_type": "execute_result"
    }
   ],
   "source": [
    "freq(shell.id_seleid_change_flag)"
   ]
  },
  {
   "cell_type": "code",
   "execution_count": 8,
   "id": "7cae73d2",
   "metadata": {},
   "outputs": [
    {
     "data": {
      "text/html": [
       "<div>\n",
       "<style scoped>\n",
       "    .dataframe tbody tr th:only-of-type {\n",
       "        vertical-align: middle;\n",
       "    }\n",
       "\n",
       "    .dataframe tbody tr th {\n",
       "        vertical-align: top;\n",
       "    }\n",
       "\n",
       "    .dataframe thead th {\n",
       "        text-align: right;\n",
       "    }\n",
       "</style>\n",
       "<table border=\"1\" class=\"dataframe\">\n",
       "  <thead>\n",
       "    <tr style=\"text-align: right;\">\n",
       "      <th></th>\n",
       "      <th>Count</th>\n",
       "      <th>Pct</th>\n",
       "      <th>Cuml Count</th>\n",
       "      <th>Cuml Pct</th>\n",
       "    </tr>\n",
       "    <tr>\n",
       "      <th>id_seleid_change_code</th>\n",
       "      <th></th>\n",
       "      <th></th>\n",
       "      <th></th>\n",
       "      <th></th>\n",
       "    </tr>\n",
       "  </thead>\n",
       "  <tbody>\n",
       "    <tr>\n",
       "      <th>0</th>\n",
       "      <td>1000000.0</td>\n",
       "      <td>1.0</td>\n",
       "      <td>1000000.0</td>\n",
       "      <td>1.0</td>\n",
       "    </tr>\n",
       "  </tbody>\n",
       "</table>\n",
       "</div>"
      ],
      "text/plain": [
       "                           Count  Pct  Cuml Count  Cuml Pct\n",
       "id_seleid_change_code                                      \n",
       "0                      1000000.0  1.0   1000000.0       1.0"
      ]
     },
     "execution_count": 8,
     "metadata": {},
     "output_type": "execute_result"
    }
   ],
   "source": [
    "freq(shell.id_seleid_change_code)"
   ]
  },
  {
   "cell_type": "code",
   "execution_count": 9,
   "id": "23c406ef",
   "metadata": {},
   "outputs": [
    {
     "data": {
      "text/html": [
       "<div>\n",
       "<style scoped>\n",
       "    .dataframe tbody tr th:only-of-type {\n",
       "        vertical-align: middle;\n",
       "    }\n",
       "\n",
       "    .dataframe tbody tr th {\n",
       "        vertical-align: top;\n",
       "    }\n",
       "\n",
       "    .dataframe thead th {\n",
       "        text-align: right;\n",
       "    }\n",
       "</style>\n",
       "<table border=\"1\" class=\"dataframe\">\n",
       "  <thead>\n",
       "    <tr style=\"text-align: right;\">\n",
       "      <th></th>\n",
       "      <th>Count</th>\n",
       "      <th>Pct</th>\n",
       "      <th>Cuml Count</th>\n",
       "      <th>Cuml Pct</th>\n",
       "    </tr>\n",
       "    <tr>\n",
       "      <th>id_truebiz</th>\n",
       "      <th></th>\n",
       "      <th></th>\n",
       "      <th></th>\n",
       "      <th></th>\n",
       "    </tr>\n",
       "  </thead>\n",
       "  <tbody>\n",
       "    <tr>\n",
       "      <th>-1</th>\n",
       "      <td>252527.0</td>\n",
       "      <td>0.252527</td>\n",
       "      <td>252527.0</td>\n",
       "      <td>0.252527</td>\n",
       "    </tr>\n",
       "    <tr>\n",
       "      <th>0</th>\n",
       "      <td>86038.0</td>\n",
       "      <td>0.086038</td>\n",
       "      <td>338565.0</td>\n",
       "      <td>0.338565</td>\n",
       "    </tr>\n",
       "    <tr>\n",
       "      <th>1</th>\n",
       "      <td>661432.0</td>\n",
       "      <td>0.661432</td>\n",
       "      <td>999997.0</td>\n",
       "      <td>0.999997</td>\n",
       "    </tr>\n",
       "    <tr>\n",
       "      <th>Missing</th>\n",
       "      <td>3.0</td>\n",
       "      <td>0.000003</td>\n",
       "      <td>1000000.0</td>\n",
       "      <td>1.000000</td>\n",
       "    </tr>\n",
       "  </tbody>\n",
       "</table>\n",
       "</div>"
      ],
      "text/plain": [
       "               Count       Pct  Cuml Count  Cuml Pct\n",
       "id_truebiz                                          \n",
       "-1          252527.0  0.252527    252527.0  0.252527\n",
       "0            86038.0  0.086038    338565.0  0.338565\n",
       "1           661432.0  0.661432    999997.0  0.999997\n",
       "Missing          3.0  0.000003   1000000.0  1.000000"
      ]
     },
     "execution_count": 9,
     "metadata": {},
     "output_type": "execute_result"
    }
   ],
   "source": [
    "freq(shell.id_truebiz)"
   ]
  },
  {
   "cell_type": "code",
   "execution_count": 13,
   "id": "bd6111a3",
   "metadata": {},
   "outputs": [],
   "source": [
    "path = \"Analytics/RnD Projects/Product RnD/Business/_ARMBS_Tickets/2023/ARMBS_2390/ln_11605_20230318_busv31_credit_w20230320-120136_for_Heberton_2390.csv\"\n",
    "shell[['account', 'id_powid', 'id_proxid', 'id_seleid', 'id_orgid', 'id_ultid', 'id_truebiz', 'history_date', 'history_datetime',]].to_adls(path, index = False, format = \".csv\")"
   ]
  },
  {
   "cell_type": "code",
   "execution_count": 11,
   "id": "114f3de7",
   "metadata": {},
   "outputs": [
    {
     "data": {
      "text/plain": [
       "0         20230318\n",
       "1         20230318\n",
       "2         20230318\n",
       "3         20230318\n",
       "4         20230318\n",
       "            ...   \n",
       "999995    20230318\n",
       "999996    20230318\n",
       "999997    20230318\n",
       "999998    20230318\n",
       "999999    20230318\n",
       "Name: history_datetime, Length: 1000000, dtype: object"
      ]
     },
     "execution_count": 11,
     "metadata": {},
     "output_type": "execute_result"
    }
   ],
   "source": [
    "shell.history_datetime"
   ]
  },
  {
   "cell_type": "markdown",
   "id": "b68bcc86",
   "metadata": {},
   "source": [
    "## Analysis"
   ]
  },
  {
   "attachments": {},
   "cell_type": "raw",
   "id": "eb2e5c98",
   "metadata": {},
   "source": [
    "Background: BR collects SOS data directly from states, but chooses to utilize the registered agent's address as the business address, if the record from the state doesn't have a business address. CorpKey data is direct from states also, but we do not impute the business address data if it is missing.\n",
    "Pull a large, mixed sample of businesses with current BIP IDs. Focus the research on where the LinkIDs match -  not looking to find potential links via filling numbers, for example.\n",
    "Engineering to pull raw data from the CorpKey and BR, based on LinkIDs.\n",
    "Evaluate the % of samples that only have records on BR and not Corp.\n",
    "Compare the BR only records to the input and best business addresses. This is to evaluate the imputation of the addresses objectively.\n",
    "Evaluate how many new records we would gain by including BR. Consider only records that are unique to BR (e.g. need to dedup between BR and CorpKey on filing # or similar). \n",
    "Report on ease of deduping between the two keys."
   ]
  },
  {
   "cell_type": "code",
   "execution_count": 2,
   "id": "fc9db6ca",
   "metadata": {},
   "outputs": [
    {
     "name": "stdout",
     "output_type": "stream",
     "text": [
      "(1000000, 11)\n"
     ]
    }
   ],
   "source": [
    "path = \"Analytics/RnD Projects/Product RnD/Business/_ARMBS_Tickets/2023/ARMBS_2390/ln_11605_20230318_busv31_credit_w20230320-120136_sas_layout_busshell.csv.gz\"\n",
    "keep = ['account', 'id_powid', 'id_proxid', 'id_seleid', 'id_orgid', 'id_ultid', 'id_truebiz', 'history_datetime',\n",
    "        'sos_inc_filing_count', 'sos_inc_filing_firstseen', 'sos_inc_filing_lastseen']\n",
    "shell = pd.read_adls(path, reader = pd.read_csv, compression = \"gzip\", encoding='iso-8859-1', dtype = str, usecols = keep)\n",
    "print(shell.shape)"
   ]
  },
  {
   "cell_type": "code",
   "execution_count": 3,
   "id": "f8135e66",
   "metadata": {},
   "outputs": [
    {
     "data": {
      "text/html": [
       "<div>\n",
       "<style scoped>\n",
       "    .dataframe tbody tr th:only-of-type {\n",
       "        vertical-align: middle;\n",
       "    }\n",
       "\n",
       "    .dataframe tbody tr th {\n",
       "        vertical-align: top;\n",
       "    }\n",
       "\n",
       "    .dataframe thead th {\n",
       "        text-align: right;\n",
       "    }\n",
       "</style>\n",
       "<table border=\"1\" class=\"dataframe\">\n",
       "  <thead>\n",
       "    <tr style=\"text-align: right;\">\n",
       "      <th></th>\n",
       "      <th>Count</th>\n",
       "      <th>Pct</th>\n",
       "      <th>Cuml Count</th>\n",
       "      <th>Cuml Pct</th>\n",
       "    </tr>\n",
       "    <tr>\n",
       "      <th>sos_inc_filing_count</th>\n",
       "      <th></th>\n",
       "      <th></th>\n",
       "      <th></th>\n",
       "      <th></th>\n",
       "    </tr>\n",
       "  </thead>\n",
       "  <tbody>\n",
       "    <tr>\n",
       "      <th>0</th>\n",
       "      <td>172589.0</td>\n",
       "      <td>0.172589</td>\n",
       "      <td>172589.0</td>\n",
       "      <td>0.172589</td>\n",
       "    </tr>\n",
       "    <tr>\n",
       "      <th>1</th>\n",
       "      <td>396937.0</td>\n",
       "      <td>0.396937</td>\n",
       "      <td>569526.0</td>\n",
       "      <td>0.569526</td>\n",
       "    </tr>\n",
       "    <tr>\n",
       "      <th>2</th>\n",
       "      <td>61691.0</td>\n",
       "      <td>0.061691</td>\n",
       "      <td>631217.0</td>\n",
       "      <td>0.631217</td>\n",
       "    </tr>\n",
       "    <tr>\n",
       "      <th>3</th>\n",
       "      <td>14038.0</td>\n",
       "      <td>0.014038</td>\n",
       "      <td>645255.0</td>\n",
       "      <td>0.645255</td>\n",
       "    </tr>\n",
       "    <tr>\n",
       "      <th>4</th>\n",
       "      <td>5464.0</td>\n",
       "      <td>0.005464</td>\n",
       "      <td>650719.0</td>\n",
       "      <td>0.650719</td>\n",
       "    </tr>\n",
       "    <tr>\n",
       "      <th>5</th>\n",
       "      <td>2572.0</td>\n",
       "      <td>0.002572</td>\n",
       "      <td>653291.0</td>\n",
       "      <td>0.653291</td>\n",
       "    </tr>\n",
       "    <tr>\n",
       "      <th>6-10</th>\n",
       "      <td>4240.0</td>\n",
       "      <td>0.004240</td>\n",
       "      <td>657531.0</td>\n",
       "      <td>0.657531</td>\n",
       "    </tr>\n",
       "    <tr>\n",
       "      <th>11-50</th>\n",
       "      <td>3655.0</td>\n",
       "      <td>0.003655</td>\n",
       "      <td>661186.0</td>\n",
       "      <td>0.661186</td>\n",
       "    </tr>\n",
       "    <tr>\n",
       "      <th>51+</th>\n",
       "      <td>246.0</td>\n",
       "      <td>0.000246</td>\n",
       "      <td>661432.0</td>\n",
       "      <td>0.661432</td>\n",
       "    </tr>\n",
       "    <tr>\n",
       "      <th>-1</th>\n",
       "      <td>338565.0</td>\n",
       "      <td>0.338565</td>\n",
       "      <td>999997.0</td>\n",
       "      <td>0.999997</td>\n",
       "    </tr>\n",
       "    <tr>\n",
       "      <th>Missing</th>\n",
       "      <td>3.0</td>\n",
       "      <td>0.000003</td>\n",
       "      <td>1000000.0</td>\n",
       "      <td>1.000000</td>\n",
       "    </tr>\n",
       "  </tbody>\n",
       "</table>\n",
       "</div>"
      ],
      "text/plain": [
       "                         Count       Pct  Cuml Count  Cuml Pct\n",
       "sos_inc_filing_count                                          \n",
       "0                     172589.0  0.172589    172589.0  0.172589\n",
       "1                     396937.0  0.396937    569526.0  0.569526\n",
       "2                      61691.0  0.061691    631217.0  0.631217\n",
       "3                      14038.0  0.014038    645255.0  0.645255\n",
       "4                       5464.0  0.005464    650719.0  0.650719\n",
       "5                       2572.0  0.002572    653291.0  0.653291\n",
       "6-10                    4240.0  0.004240    657531.0  0.657531\n",
       "11-50                   3655.0  0.003655    661186.0  0.661186\n",
       "51+                      246.0  0.000246    661432.0  0.661432\n",
       "-1                    338565.0  0.338565    999997.0  0.999997\n",
       "Missing                    3.0  0.000003   1000000.0  1.000000"
      ]
     },
     "execution_count": 3,
     "metadata": {},
     "output_type": "execute_result"
    }
   ],
   "source": [
    "fmt = make_format(cuts = [-np.inf, -1, 0, 1, 2, 3, 4, 5, 10, 50, np.inf], exceptions = [-1])\n",
    "shell[\"sos_inc_filing_count\"] = shell[\"sos_inc_filing_count\"].astype(float)\n",
    "freq(\"sos_inc_filing_count\", df = shell, format = [fmt], observed = True)"
   ]
  },
  {
   "cell_type": "code",
   "execution_count": 4,
   "id": "15a9e91f",
   "metadata": {},
   "outputs": [
    {
     "data": {
      "text/plain": [
       "428845"
      ]
     },
     "execution_count": 4,
     "metadata": {},
     "output_type": "execute_result"
    }
   ],
   "source": [
    "len(shell.loc[shell[\"sos_inc_filing_count\"] > 0, \"id_seleid\"].unique())"
   ]
  },
  {
   "cell_type": "markdown",
   "id": "96813515",
   "metadata": {},
   "source": [
    "#### BR Key"
   ]
  },
  {
   "cell_type": "code",
   "execution_count": 5,
   "id": "1901b668",
   "metadata": {},
   "outputs": [
    {
     "name": "stdout",
     "output_type": "stream",
     "text": [
      "(395474, 500)\n"
     ]
    }
   ],
   "source": [
    "path = \"Analytics/RnD Projects/Product RnD/Business/_ARMBS_Tickets/2023/ARMBS_2390/0410_ln_11605_20230318_busv31_credit_2390 (BR) rachel_edit.csv\"\n",
    "BR_key = pd.read_adls(path, reader = pd.read_csv, encoding='iso-8859-1', dtype = str, quotechar = '\"')\n",
    "print(BR_key.shape)"
   ]
  },
  {
   "cell_type": "code",
   "execution_count": 6,
   "id": "4ea192f6",
   "metadata": {},
   "outputs": [],
   "source": [
    "wb = TableWriter(filename = \"./_temp/test1.xlsx\", options={'nan_inf_to_errors': True}, overwrite = True)\n",
    "\n",
    "wb.write_table(\n",
    "    pd.DataFrame(BR_key.isnull().sum()),\n",
    "    sheetname=\"fair_lending\",\n",
    ")\n",
    "wb.close()"
   ]
  },
  {
   "attachments": {},
   "cell_type": "markdown",
   "id": "b8f9cbb9",
   "metadata": {},
   "source": [
    "#### Corp Key"
   ]
  },
  {
   "cell_type": "code",
   "execution_count": 5,
   "id": "be2f3859",
   "metadata": {},
   "outputs": [
    {
     "name": "stdout",
     "output_type": "stream",
     "text": [
      "(1668884, 266)\n"
     ]
    }
   ],
   "source": [
    "path = \"Analytics/RnD Projects/Product RnD/Business/_ARMBS_Tickets/2023/ARMBS_2390/0412_ln_11605_20230318_busv31_credit_2390_corp_key (modified).csv\"\n",
    "corp_key = pd.read_adls(path, reader = pd.read_csv, encoding='iso-8859-1', dtype = str)\n",
    "print(corp_key.shape)"
   ]
  },
  {
   "cell_type": "code",
   "execution_count": 6,
   "id": "41e8086b",
   "metadata": {},
   "outputs": [],
   "source": [
    "wb = TableWriter(filename = \"./_temp/test.xlsx\", options={'nan_inf_to_errors': True}, overwrite = True)\n",
    "\n",
    "wb.write_table(\n",
    "    pd.DataFrame(corp_key.isnull().sum()),\n",
    "    sheetname=\"fair_lending\",\n",
    ")\n",
    "wb.close()"
   ]
  },
  {
   "cell_type": "code",
   "execution_count": 7,
   "id": "c2251875",
   "metadata": {},
   "outputs": [
    {
     "data": {
      "text/plain": [
       "Index(['account', 'id_powid', 'id_proxid', 'id_seleid', 'id_orgid', 'id_ultid',\n",
       "       'id_truebiz', 'history_datetime', 'sos_inc_filing_count',\n",
       "       'sos_inc_filing_firstseen', 'sos_inc_filing_lastseen'],\n",
       "      dtype='object')"
      ]
     },
     "execution_count": 7,
     "metadata": {},
     "output_type": "execute_result"
    }
   ],
   "source": [
    "shell.columns"
   ]
  },
  {
   "cell_type": "code",
   "execution_count": 8,
   "id": "e4efb037",
   "metadata": {},
   "outputs": [
    {
     "name": "stdout",
     "output_type": "stream",
     "text": [
      "(747470, 3)\n",
      "(666666, 3)\n",
      "(428845, 3)\n"
     ]
    }
   ],
   "source": [
    "shell[\"id_seleid\"] = shell[\"id_seleid\"].astype(float)\n",
    "seleid_input = shell.loc[shell[\"id_seleid\"] > 0, [\"id_seleid\", \"history_datetime\", \"sos_inc_filing_count\"]]\n",
    "seleid_input = seleid_input.sort_values(by=['id_seleid', \"history_datetime\"])\n",
    "print(seleid_input.shape)\n",
    "seleid_input = seleid_input.drop_duplicates(subset = [\"id_seleid\"], keep = \"last\", ignore_index = True)\n",
    "print(seleid_input.shape)\n",
    "seleid_input = seleid_input[seleid_input[\"sos_inc_filing_count\"] >0]\n",
    "print(seleid_input.shape)"
   ]
  },
  {
   "cell_type": "code",
   "execution_count": 9,
   "id": "1a3dfb05",
   "metadata": {},
   "outputs": [
    {
     "name": "stdout",
     "output_type": "stream",
     "text": [
      "(1252473, 3)\n",
      "(378150, 3)\n"
     ]
    }
   ],
   "source": [
    "seleid_corp = corp_key[[\"seleid\", \"corp_inc_state\", \"corp_inc_date\"]].copy()\n",
    "seleid_corp = seleid_corp[seleid_corp[\"corp_inc_date\"].notnull()]\n",
    "seleid_corp = seleid_corp.sort_values(by=['seleid', \"corp_inc_date\"])\n",
    "print(seleid_corp.shape)\n",
    "seleid_corp = seleid_corp.drop_duplicates(subset = [\"seleid\"], ignore_index = True, keep = \"last\")\n",
    "seleid_corp[\"seleid\"] = seleid_corp[\"seleid\"].astype(float)\n",
    "seleid_corp.columns = [\"corp_\" + x for x in seleid_corp.columns]\n",
    "print(seleid_corp.shape)"
   ]
  },
  {
   "cell_type": "code",
   "execution_count": 10,
   "id": "5a23900f",
   "metadata": {},
   "outputs": [
    {
     "name": "stdout",
     "output_type": "stream",
     "text": [
      "(436070, 6)\n"
     ]
    }
   ],
   "source": [
    "merged = seleid_input.merge(seleid_corp, how = \"outer\", left_on = \"id_seleid\", right_on = \"corp_seleid\")\n",
    "print(merged.shape)"
   ]
  },
  {
   "cell_type": "code",
   "execution_count": 11,
   "id": "05734812",
   "metadata": {},
   "outputs": [
    {
     "data": {
      "text/plain": [
       "(7225, 6)"
      ]
     },
     "execution_count": 11,
     "metadata": {},
     "output_type": "execute_result"
    }
   ],
   "source": [
    "merged[(merged[\"corp_seleid\"].notnull()) & (merged[\"id_seleid\"].isnull())].shape"
   ]
  },
  {
   "cell_type": "code",
   "execution_count": 12,
   "id": "96e37f3f",
   "metadata": {},
   "outputs": [
    {
     "data": {
      "text/plain": [
       "(57920, 6)"
      ]
     },
     "execution_count": 12,
     "metadata": {},
     "output_type": "execute_result"
    }
   ],
   "source": [
    "merged[(merged[\"corp_seleid\"].isnull()) & (merged[\"id_seleid\"].notnull())].shape"
   ]
  },
  {
   "cell_type": "code",
   "execution_count": 32,
   "id": "99452a0a",
   "metadata": {},
   "outputs": [
    {
     "data": {
      "text/html": [
       "<div>\n",
       "<style scoped>\n",
       "    .dataframe tbody tr th:only-of-type {\n",
       "        vertical-align: middle;\n",
       "    }\n",
       "\n",
       "    .dataframe tbody tr th {\n",
       "        vertical-align: top;\n",
       "    }\n",
       "\n",
       "    .dataframe thead th {\n",
       "        text-align: right;\n",
       "    }\n",
       "</style>\n",
       "<table border=\"1\" class=\"dataframe\">\n",
       "  <thead>\n",
       "    <tr style=\"text-align: right;\">\n",
       "      <th></th>\n",
       "      <th>account</th>\n",
       "      <th>id_powid</th>\n",
       "      <th>id_proxid</th>\n",
       "      <th>id_seleid</th>\n",
       "      <th>id_orgid</th>\n",
       "      <th>id_ultid</th>\n",
       "      <th>id_truebiz</th>\n",
       "      <th>history_datetime</th>\n",
       "      <th>sos_inc_filing_count</th>\n",
       "      <th>sos_inc_filing_firstseen</th>\n",
       "      <th>sos_inc_filing_lastseen</th>\n",
       "    </tr>\n",
       "  </thead>\n",
       "  <tbody>\n",
       "    <tr>\n",
       "      <th>62</th>\n",
       "      <td>172682431R19865</td>\n",
       "      <td>139820665622</td>\n",
       "      <td>139820665622</td>\n",
       "      <td>139820665622</td>\n",
       "      <td>139820665622</td>\n",
       "      <td>139820665622</td>\n",
       "      <td>0</td>\n",
       "      <td>20230318</td>\n",
       "      <td>-1</td>\n",
       "      <td>-1</td>\n",
       "      <td>-1</td>\n",
       "    </tr>\n",
       "  </tbody>\n",
       "</table>\n",
       "</div>"
      ],
      "text/plain": [
       "            account      id_powid     id_proxid    id_seleid      id_orgid  \\\n",
       "62  172682431R19865  139820665622  139820665622 139820665622  139820665622   \n",
       "\n",
       "        id_ultid id_truebiz history_datetime  sos_inc_filing_count  \\\n",
       "62  139820665622          0         20230318                    -1   \n",
       "\n",
       "   sos_inc_filing_firstseen sos_inc_filing_lastseen  \n",
       "62                       -1                      -1  "
      ]
     },
     "execution_count": 32,
     "metadata": {},
     "output_type": "execute_result"
    }
   ],
   "source": [
    "shell[shell[\"id_seleid\"] == 139820665622]"
   ]
  },
  {
   "cell_type": "code",
   "execution_count": 14,
   "id": "7dac1507",
   "metadata": {},
   "outputs": [
    {
     "data": {
      "text/html": [
       "<div>\n",
       "<style scoped>\n",
       "    .dataframe tbody tr th:only-of-type {\n",
       "        vertical-align: middle;\n",
       "    }\n",
       "\n",
       "    .dataframe tbody tr th {\n",
       "        vertical-align: top;\n",
       "    }\n",
       "\n",
       "    .dataframe thead th {\n",
       "        text-align: right;\n",
       "    }\n",
       "</style>\n",
       "<table border=\"1\" class=\"dataframe\">\n",
       "  <thead>\n",
       "    <tr style=\"text-align: right;\">\n",
       "      <th></th>\n",
       "      <th>ultid</th>\n",
       "      <th>orgid</th>\n",
       "      <th>seleid</th>\n",
       "      <th>proxid</th>\n",
       "      <th>powid</th>\n",
       "      <th>empid</th>\n",
       "      <th>dotid</th>\n",
       "      <th>ultscore</th>\n",
       "      <th>orgscore</th>\n",
       "      <th>selescore</th>\n",
       "      <th>...</th>\n",
       "      <th>corp_prep_addr1_last_line</th>\n",
       "      <th>append_addr2_rawaid</th>\n",
       "      <th>append_addr2_aceaid</th>\n",
       "      <th>corp_prep_addr2_line1</th>\n",
       "      <th>corp_prep_addr2_last_line</th>\n",
       "      <th>append_ra_rawaid</th>\n",
       "      <th>append_ra_aceaid</th>\n",
       "      <th>ra_prep_addr_line1</th>\n",
       "      <th>ra_prep_addr_last_line</th>\n",
       "      <th>fp</th>\n",
       "    </tr>\n",
       "  </thead>\n",
       "  <tbody>\n",
       "  </tbody>\n",
       "</table>\n",
       "<p>0 rows × 266 columns</p>\n",
       "</div>"
      ],
      "text/plain": [
       "Empty DataFrame\n",
       "Columns: [ultid, orgid, seleid, proxid, powid, empid, dotid, ultscore, orgscore, selescore, proxscore, powscore, empscore, dotscore, ultweight, orgweight, seleweight, proxweight, powweight, empweight, dotweight, source_rec_id, bdid, dt_first_seen, dt_last_seen, dt_vendor_first_reported, dt_vendor_last_reported, corp_ra_dt_first_seen, corp_ra_dt_last_seen, corp_key, corp_supp_key, corp_vendor, corp_vendor_county, corp_vendor_subcode, corp_state_origin, corp_process_date, corp_orig_sos_charter_nbr, corp_sos_charter_nbr, corp_src_type, corp_legal_name, corp_ln_name_type_cd, corp_ln_name_type_desc, corp_supp_nbr, corp_name_comment, corp_address1_type_cd, corp_address1_type_desc, corp_address1_line1, corp_address1_line2, corp_address1_line3, corp_address1_line4, corp_address1_line5, corp_address1_line6, corp_address1_effective_date, corp_address2_type_cd, corp_address2_type_desc, corp_address2_line1, corp_address2_line2, corp_address2_line3, corp_address2_line4, corp_address2_line5, corp_address2_line6, corp_address2_effective_date, corp_phone_number, corp_phone_number_type_cd, corp_phone_number_type_desc, corp_fax_nbr, corp_email_address, corp_web_address, corp_filing_reference_nbr, corp_filing_date, corp_filing_cd, corp_filing_desc, corp_status_cd, corp_status_desc, corp_status_date, corp_standing, corp_status_comment, corp_ticker_symbol, corp_stock_exchange, corp_inc_state, corp_inc_county, corp_inc_date, corp_anniversary_month, corp_fed_tax_id, corp_state_tax_id, corp_term_exist_cd, corp_term_exist_exp, corp_term_exist_desc, corp_foreign_domestic_ind, corp_forgn_state_cd, corp_forgn_state_desc, corp_forgn_sos_charter_nbr, corp_forgn_date, corp_forgn_fed_tax_id, corp_forgn_state_tax_id, corp_forgn_term_exist_cd, corp_forgn_term_exist_exp, corp_forgn_term_exist_desc, corp_orig_org_structure_cd, corp_orig_org_structure_desc, ...]\n",
       "Index: []\n",
       "\n",
       "[0 rows x 266 columns]"
      ]
     },
     "execution_count": 14,
     "metadata": {},
     "output_type": "execute_result"
    }
   ],
   "source": [
    "corp_key[corp_key[\"seleid\"] == \"1611\"]"
   ]
  },
  {
   "cell_type": "code",
   "execution_count": 13,
   "id": "c64bfd3a",
   "metadata": {},
   "outputs": [
    {
     "data": {
      "text/html": [
       "<div>\n",
       "<style scoped>\n",
       "    .dataframe tbody tr th:only-of-type {\n",
       "        vertical-align: middle;\n",
       "    }\n",
       "\n",
       "    .dataframe tbody tr th {\n",
       "        vertical-align: top;\n",
       "    }\n",
       "\n",
       "    .dataframe thead th {\n",
       "        text-align: right;\n",
       "    }\n",
       "</style>\n",
       "<table border=\"1\" class=\"dataframe\">\n",
       "  <thead>\n",
       "    <tr style=\"text-align: right;\">\n",
       "      <th></th>\n",
       "      <th>id_seleid</th>\n",
       "      <th>history_datetime</th>\n",
       "      <th>sos_inc_filing_count</th>\n",
       "      <th>corp_seleid</th>\n",
       "      <th>corp_corp_inc_state</th>\n",
       "      <th>corp_corp_inc_date</th>\n",
       "    </tr>\n",
       "  </thead>\n",
       "  <tbody>\n",
       "    <tr>\n",
       "      <th>4</th>\n",
       "      <td>1611</td>\n",
       "      <td>20230318</td>\n",
       "      <td>1</td>\n",
       "      <td>NaN</td>\n",
       "      <td>NaN</td>\n",
       "      <td>NaN</td>\n",
       "    </tr>\n",
       "    <tr>\n",
       "      <th>9</th>\n",
       "      <td>5745</td>\n",
       "      <td>20230318</td>\n",
       "      <td>2</td>\n",
       "      <td>NaN</td>\n",
       "      <td>NaN</td>\n",
       "      <td>NaN</td>\n",
       "    </tr>\n",
       "    <tr>\n",
       "      <th>13</th>\n",
       "      <td>9951</td>\n",
       "      <td>20230318</td>\n",
       "      <td>7</td>\n",
       "      <td>NaN</td>\n",
       "      <td>NaN</td>\n",
       "      <td>NaN</td>\n",
       "    </tr>\n",
       "    <tr>\n",
       "      <th>14</th>\n",
       "      <td>10994</td>\n",
       "      <td>20230318</td>\n",
       "      <td>1</td>\n",
       "      <td>NaN</td>\n",
       "      <td>NaN</td>\n",
       "      <td>NaN</td>\n",
       "    </tr>\n",
       "    <tr>\n",
       "      <th>22</th>\n",
       "      <td>31774</td>\n",
       "      <td>20230318</td>\n",
       "      <td>15</td>\n",
       "      <td>NaN</td>\n",
       "      <td>NaN</td>\n",
       "      <td>NaN</td>\n",
       "    </tr>\n",
       "    <tr>\n",
       "      <th>...</th>\n",
       "      <td>...</td>\n",
       "      <td>...</td>\n",
       "      <td>...</td>\n",
       "      <td>...</td>\n",
       "      <td>...</td>\n",
       "      <td>...</td>\n",
       "    </tr>\n",
       "    <tr>\n",
       "      <th>428819</th>\n",
       "      <td>139872310404</td>\n",
       "      <td>20230318</td>\n",
       "      <td>1</td>\n",
       "      <td>NaN</td>\n",
       "      <td>NaN</td>\n",
       "      <td>NaN</td>\n",
       "    </tr>\n",
       "    <tr>\n",
       "      <th>428821</th>\n",
       "      <td>139872313501</td>\n",
       "      <td>20230318</td>\n",
       "      <td>1</td>\n",
       "      <td>NaN</td>\n",
       "      <td>NaN</td>\n",
       "      <td>NaN</td>\n",
       "    </tr>\n",
       "    <tr>\n",
       "      <th>428825</th>\n",
       "      <td>139872388708</td>\n",
       "      <td>20230318</td>\n",
       "      <td>1</td>\n",
       "      <td>NaN</td>\n",
       "      <td>NaN</td>\n",
       "      <td>NaN</td>\n",
       "    </tr>\n",
       "    <tr>\n",
       "      <th>428833</th>\n",
       "      <td>139872499826</td>\n",
       "      <td>20230318</td>\n",
       "      <td>1</td>\n",
       "      <td>NaN</td>\n",
       "      <td>NaN</td>\n",
       "      <td>NaN</td>\n",
       "    </tr>\n",
       "    <tr>\n",
       "      <th>428839</th>\n",
       "      <td>139872726749</td>\n",
       "      <td>20230318</td>\n",
       "      <td>1</td>\n",
       "      <td>NaN</td>\n",
       "      <td>NaN</td>\n",
       "      <td>NaN</td>\n",
       "    </tr>\n",
       "  </tbody>\n",
       "</table>\n",
       "<p>57920 rows × 6 columns</p>\n",
       "</div>"
      ],
      "text/plain": [
       "          id_seleid history_datetime  sos_inc_filing_count  corp_seleid  \\\n",
       "4              1611         20230318                     1          NaN   \n",
       "9              5745         20230318                     2          NaN   \n",
       "13             9951         20230318                     7          NaN   \n",
       "14            10994         20230318                     1          NaN   \n",
       "22            31774         20230318                    15          NaN   \n",
       "...             ...              ...                   ...          ...   \n",
       "428819 139872310404         20230318                     1          NaN   \n",
       "428821 139872313501         20230318                     1          NaN   \n",
       "428825 139872388708         20230318                     1          NaN   \n",
       "428833 139872499826         20230318                     1          NaN   \n",
       "428839 139872726749         20230318                     1          NaN   \n",
       "\n",
       "       corp_corp_inc_state corp_corp_inc_date  \n",
       "4                      NaN                NaN  \n",
       "9                      NaN                NaN  \n",
       "13                     NaN                NaN  \n",
       "14                     NaN                NaN  \n",
       "22                     NaN                NaN  \n",
       "...                    ...                ...  \n",
       "428819                 NaN                NaN  \n",
       "428821                 NaN                NaN  \n",
       "428825                 NaN                NaN  \n",
       "428833                 NaN                NaN  \n",
       "428839                 NaN                NaN  \n",
       "\n",
       "[57920 rows x 6 columns]"
      ]
     },
     "execution_count": 13,
     "metadata": {},
     "output_type": "execute_result"
    }
   ],
   "source": [
    "pd.set_option('display.float_format', lambda x: '%.f' % x)\n",
    "merged[(merged[\"corp_seleid\"].isnull()) & (merged[\"id_seleid\"].notnull())]"
   ]
  },
  {
   "cell_type": "code",
   "execution_count": 27,
   "metadata": {},
   "outputs": [
    {
     "data": {
      "text/html": [
       "<div>\n",
       "<style scoped>\n",
       "    .dataframe tbody tr th:only-of-type {\n",
       "        vertical-align: middle;\n",
       "    }\n",
       "\n",
       "    .dataframe tbody tr th {\n",
       "        vertical-align: top;\n",
       "    }\n",
       "\n",
       "    .dataframe thead th {\n",
       "        text-align: right;\n",
       "    }\n",
       "</style>\n",
       "<table border=\"1\" class=\"dataframe\">\n",
       "  <thead>\n",
       "    <tr style=\"text-align: right;\">\n",
       "      <th></th>\n",
       "      <th>account</th>\n",
       "      <th>id_powid</th>\n",
       "      <th>id_proxid</th>\n",
       "      <th>id_seleid</th>\n",
       "      <th>id_orgid</th>\n",
       "      <th>id_ultid</th>\n",
       "      <th>id_truebiz</th>\n",
       "      <th>history_datetime</th>\n",
       "      <th>sos_inc_filing_count</th>\n",
       "      <th>sos_inc_filing_firstseen</th>\n",
       "      <th>sos_inc_filing_lastseen</th>\n",
       "    </tr>\n",
       "  </thead>\n",
       "  <tbody>\n",
       "    <tr>\n",
       "      <th>45348</th>\n",
       "      <td>172649371R974</td>\n",
       "      <td>0</td>\n",
       "      <td>0</td>\n",
       "      <td>1611</td>\n",
       "      <td>1611</td>\n",
       "      <td>1611</td>\n",
       "      <td>1</td>\n",
       "      <td>20230318</td>\n",
       "      <td>1</td>\n",
       "      <td>20060623</td>\n",
       "      <td>20060623</td>\n",
       "    </tr>\n",
       "    <tr>\n",
       "      <th>92642</th>\n",
       "      <td>172943491R18638</td>\n",
       "      <td>31774</td>\n",
       "      <td>31774</td>\n",
       "      <td>31774</td>\n",
       "      <td>31774</td>\n",
       "      <td>31774</td>\n",
       "      <td>1</td>\n",
       "      <td>20230318</td>\n",
       "      <td>15</td>\n",
       "      <td>19660429</td>\n",
       "      <td>20050104</td>\n",
       "    </tr>\n",
       "    <tr>\n",
       "      <th>250568</th>\n",
       "      <td>172514275R264849</td>\n",
       "      <td>98671666</td>\n",
       "      <td>98671666</td>\n",
       "      <td>9951</td>\n",
       "      <td>9951</td>\n",
       "      <td>9951</td>\n",
       "      <td>1</td>\n",
       "      <td>20230318</td>\n",
       "      <td>7</td>\n",
       "      <td>19410505</td>\n",
       "      <td>20140714</td>\n",
       "    </tr>\n",
       "    <tr>\n",
       "      <th>424744</th>\n",
       "      <td>172582181R4509</td>\n",
       "      <td>139054402060</td>\n",
       "      <td>139872310404</td>\n",
       "      <td>139872310404</td>\n",
       "      <td>139054402060</td>\n",
       "      <td>139054402060</td>\n",
       "      <td>1</td>\n",
       "      <td>20230318</td>\n",
       "      <td>1</td>\n",
       "      <td>20230120</td>\n",
       "      <td>20230120</td>\n",
       "    </tr>\n",
       "    <tr>\n",
       "      <th>551355</th>\n",
       "      <td>172864121R1623</td>\n",
       "      <td>3806193480</td>\n",
       "      <td>3806193480</td>\n",
       "      <td>5745</td>\n",
       "      <td>5745</td>\n",
       "      <td>5745</td>\n",
       "      <td>1</td>\n",
       "      <td>20230318</td>\n",
       "      <td>2</td>\n",
       "      <td>20080520</td>\n",
       "      <td>20080520</td>\n",
       "    </tr>\n",
       "    <tr>\n",
       "      <th>730938</th>\n",
       "      <td>172564611R1304</td>\n",
       "      <td>122141018657</td>\n",
       "      <td>122141018657</td>\n",
       "      <td>10994</td>\n",
       "      <td>10994</td>\n",
       "      <td>10994</td>\n",
       "      <td>1</td>\n",
       "      <td>20230318</td>\n",
       "      <td>1</td>\n",
       "      <td>20070119</td>\n",
       "      <td>20070119</td>\n",
       "    </tr>\n",
       "    <tr>\n",
       "      <th>889674</th>\n",
       "      <td>172911231R5054</td>\n",
       "      <td>98671666</td>\n",
       "      <td>98671666</td>\n",
       "      <td>9951</td>\n",
       "      <td>9951</td>\n",
       "      <td>9951</td>\n",
       "      <td>1</td>\n",
       "      <td>20230318</td>\n",
       "      <td>7</td>\n",
       "      <td>19410505</td>\n",
       "      <td>20140714</td>\n",
       "    </tr>\n",
       "  </tbody>\n",
       "</table>\n",
       "</div>"
      ],
      "text/plain": [
       "                 account      id_powid     id_proxid    id_seleid  \\\n",
       "45348      172649371R974             0             0         1611   \n",
       "92642    172943491R18638         31774         31774        31774   \n",
       "250568  172514275R264849      98671666      98671666         9951   \n",
       "424744    172582181R4509  139054402060  139872310404 139872310404   \n",
       "551355    172864121R1623    3806193480    3806193480         5745   \n",
       "730938    172564611R1304  122141018657  122141018657        10994   \n",
       "889674    172911231R5054      98671666      98671666         9951   \n",
       "\n",
       "            id_orgid      id_ultid id_truebiz history_datetime  \\\n",
       "45348           1611          1611          1         20230318   \n",
       "92642          31774         31774          1         20230318   \n",
       "250568          9951          9951          1         20230318   \n",
       "424744  139054402060  139054402060          1         20230318   \n",
       "551355          5745          5745          1         20230318   \n",
       "730938         10994         10994          1         20230318   \n",
       "889674          9951          9951          1         20230318   \n",
       "\n",
       "        sos_inc_filing_count sos_inc_filing_firstseen sos_inc_filing_lastseen  \n",
       "45348                      1                 20060623                20060623  \n",
       "92642                     15                 19660429                20050104  \n",
       "250568                     7                 19410505                20140714  \n",
       "424744                     1                 20230120                20230120  \n",
       "551355                     2                 20080520                20080520  \n",
       "730938                     1                 20070119                20070119  \n",
       "889674                     7                 19410505                20140714  "
      ]
     },
     "execution_count": 27,
     "metadata": {},
     "output_type": "execute_result"
    }
   ],
   "source": [
    "shell[shell[\"id_seleid\"].isin([1611, 5745, 9951, 10994, 31774, 139872310404])]"
   ]
  },
  {
   "cell_type": "code",
   "execution_count": null,
   "metadata": {},
   "outputs": [],
   "source": []
  },
  {
   "cell_type": "code",
   "execution_count": 13,
   "id": "4ae1cf96",
   "metadata": {},
   "outputs": [
    {
     "name": "stdout",
     "output_type": "stream",
     "text": [
      "(272992, 1)\n"
     ]
    }
   ],
   "source": [
    "seleid_br = BR_key[[\"seleid\"]].copy()\n",
    "seleid_br = seleid_br.drop_duplicates(subset = [\"seleid\"], ignore_index = True)\n",
    "seleid_br.columns = [\"br_seleid\"]\n",
    "print(seleid_br.shape)"
   ]
  },
  {
   "cell_type": "code",
   "execution_count": 6,
   "id": "42742a61",
   "metadata": {},
   "outputs": [
    {
     "name": "stdout",
     "output_type": "stream",
     "text": [
      "(443885, 2)\n"
     ]
    }
   ],
   "source": [
    "## merge\n",
    "seleid_corp = corp_key[[\"seleid\"]].copy()\n",
    "seleid_corp = seleid_corp.drop_duplicates(subset = [\"seleid\"], ignore_index = True)\n",
    "seleid_br = BR_key[[\"seleid\"]].copy()\n",
    "seleid_br = seleid_br.drop_duplicates(subset = [\"seleid\"], ignore_index = True)\n",
    "seleid_br.columns = [\"br_seleid\"]\n",
    "temp = seleid_corp.merge(seleid_br, how = \"outer\", left_on = \"seleid\", right_on = \"br_seleid\")\n",
    "print(temp.shape)"
   ]
  },
  {
   "cell_type": "code",
   "execution_count": 12,
   "id": "d6af7968",
   "metadata": {},
   "outputs": [
    {
     "data": {
      "text/plain": [
       "(390792, 1)"
      ]
     },
     "execution_count": 12,
     "metadata": {},
     "output_type": "execute_result"
    }
   ],
   "source": [
    "seleid_corp.shape"
   ]
  },
  {
   "cell_type": "code",
   "execution_count": 13,
   "id": "72ddedbf",
   "metadata": {},
   "outputs": [
    {
     "data": {
      "text/plain": [
       "(272992, 1)"
      ]
     },
     "execution_count": 13,
     "metadata": {},
     "output_type": "execute_result"
    }
   ],
   "source": [
    "seleid_br.shape"
   ]
  },
  {
   "cell_type": "code",
   "execution_count": 9,
   "id": "9e518c50",
   "metadata": {},
   "outputs": [
    {
     "data": {
      "text/plain": [
       "(53093, 2)"
      ]
     },
     "execution_count": 9,
     "metadata": {},
     "output_type": "execute_result"
    }
   ],
   "source": [
    "temp[(temp[\"seleid\"].isnull()) & (temp[\"br_seleid\"].notnull())].shape"
   ]
  },
  {
   "cell_type": "code",
   "execution_count": 11,
   "id": "8a1f3a81",
   "metadata": {},
   "outputs": [
    {
     "data": {
      "text/html": [
       "<div>\n",
       "<style scoped>\n",
       "    .dataframe tbody tr th:only-of-type {\n",
       "        vertical-align: middle;\n",
       "    }\n",
       "\n",
       "    .dataframe tbody tr th {\n",
       "        vertical-align: top;\n",
       "    }\n",
       "\n",
       "    .dataframe thead th {\n",
       "        text-align: right;\n",
       "    }\n",
       "</style>\n",
       "<table border=\"1\" class=\"dataframe\">\n",
       "  <thead>\n",
       "    <tr style=\"text-align: right;\">\n",
       "      <th></th>\n",
       "      <th>seleid</th>\n",
       "      <th>br_seleid</th>\n",
       "    </tr>\n",
       "  </thead>\n",
       "  <tbody>\n",
       "    <tr>\n",
       "      <th>390792</th>\n",
       "      <td>NaN</td>\n",
       "      <td>41836</td>\n",
       "    </tr>\n",
       "    <tr>\n",
       "      <th>390793</th>\n",
       "      <td>NaN</td>\n",
       "      <td>51093</td>\n",
       "    </tr>\n",
       "    <tr>\n",
       "      <th>390794</th>\n",
       "      <td>NaN</td>\n",
       "      <td>62295</td>\n",
       "    </tr>\n",
       "    <tr>\n",
       "      <th>390795</th>\n",
       "      <td>NaN</td>\n",
       "      <td>72767</td>\n",
       "    </tr>\n",
       "    <tr>\n",
       "      <th>390796</th>\n",
       "      <td>NaN</td>\n",
       "      <td>119702</td>\n",
       "    </tr>\n",
       "    <tr>\n",
       "      <th>...</th>\n",
       "      <td>...</td>\n",
       "      <td>...</td>\n",
       "    </tr>\n",
       "    <tr>\n",
       "      <th>443880</th>\n",
       "      <td>NaN</td>\n",
       "      <td>139872616150</td>\n",
       "    </tr>\n",
       "    <tr>\n",
       "      <th>443881</th>\n",
       "      <td>NaN</td>\n",
       "      <td>139872675284</td>\n",
       "    </tr>\n",
       "    <tr>\n",
       "      <th>443882</th>\n",
       "      <td>NaN</td>\n",
       "      <td>139875518813</td>\n",
       "    </tr>\n",
       "    <tr>\n",
       "      <th>443883</th>\n",
       "      <td>NaN</td>\n",
       "      <td>139875621151</td>\n",
       "    </tr>\n",
       "    <tr>\n",
       "      <th>443884</th>\n",
       "      <td>NaN</td>\n",
       "      <td>139875738491</td>\n",
       "    </tr>\n",
       "  </tbody>\n",
       "</table>\n",
       "<p>53093 rows × 2 columns</p>\n",
       "</div>"
      ],
      "text/plain": [
       "       seleid     br_seleid\n",
       "390792    NaN         41836\n",
       "390793    NaN         51093\n",
       "390794    NaN         62295\n",
       "390795    NaN         72767\n",
       "390796    NaN        119702\n",
       "...       ...           ...\n",
       "443880    NaN  139872616150\n",
       "443881    NaN  139872675284\n",
       "443882    NaN  139875518813\n",
       "443883    NaN  139875621151\n",
       "443884    NaN  139875738491\n",
       "\n",
       "[53093 rows x 2 columns]"
      ]
     },
     "execution_count": 11,
     "metadata": {},
     "output_type": "execute_result"
    }
   ],
   "source": [
    "temp[(temp[\"seleid\"].isnull()) & (temp[\"br_seleid\"].notnull())]"
   ]
  },
  {
   "cell_type": "code",
   "execution_count": 10,
   "id": "42440d57",
   "metadata": {},
   "outputs": [
    {
     "data": {
      "text/plain": [
       "(170893, 2)"
      ]
     },
     "execution_count": 10,
     "metadata": {},
     "output_type": "execute_result"
    }
   ],
   "source": [
    "temp[(temp[\"seleid\"].notnull()) & (temp[\"br_seleid\"].isnull())].shape"
   ]
  },
  {
   "cell_type": "code",
   "execution_count": null,
   "id": "0a861ea2",
   "metadata": {},
   "outputs": [],
   "source": []
  }
 ],
 "metadata": {
  "kernelspec": {
   "display_name": "data-science",
   "language": "python",
   "name": "python3"
  },
  "language_info": {
   "codemirror_mode": {
    "name": "ipython",
    "version": 3
   },
   "file_extension": ".py",
   "mimetype": "text/x-python",
   "name": "python",
   "nbconvert_exporter": "python",
   "pygments_lexer": "ipython3",
   "version": "3.10.6"
  },
  "vscode": {
   "interpreter": {
    "hash": "fd7a0d1f3afaac03db19eb2df9b422c6fb1e935a3893b12842e021a8dc22d170"
   }
  }
 },
 "nbformat": 4,
 "nbformat_minor": 5
}
