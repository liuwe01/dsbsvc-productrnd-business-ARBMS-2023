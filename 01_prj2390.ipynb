{
 "cells": [
  {
   "cell_type": "code",
   "execution_count": 3,
   "id": "2f104526-5a18-4594-9836-d1aae9612d86",
   "metadata": {},
   "outputs": [],
   "source": [
    "# Libraries needed: \n",
    "import time\n",
    "import pickle\n",
    "import pandas as pd\n",
    "import numpy as np\n",
    "import math\n",
    "\n",
    "# internal tools\n",
    "from dsgtools.reporting import make_format\n",
    "from dsgtools.reporting import TableWriter\n",
    "from dsgtools.reporting import freq\n",
    "from dsgtools.reporting import bivariate\n",
    "from dsgtools.reporting import col_summary\n",
    "from dsgtools import azure"
   ]
  },
  {
   "attachments": {},
   "cell_type": "raw",
   "id": "1fe6f788",
   "metadata": {},
   "source": [
    "Notes: \n",
    "Quickbase number: 11605\n",
    "Engineer workunits: \n"
   ]
  },
  {
   "cell_type": "markdown",
   "id": "083edefb",
   "metadata": {},
   "source": [
    "## Sample preparation"
   ]
  },
  {
   "attachments": {},
   "cell_type": "markdown",
   "id": "91df4e19",
   "metadata": {},
   "source": [
    "#### SBFE Sample"
   ]
  },
  {
   "cell_type": "code",
   "execution_count": 4,
   "id": "5b6235c8-a352-42f8-883b-d7c9d1a29cfd",
   "metadata": {},
   "outputs": [
    {
     "name": "stdout",
     "output_type": "stream",
     "text": [
      "(981928, 42)\n"
     ]
    }
   ],
   "source": [
    "path = \"Analytics/Personal Folders/liuwei01/2023/ARMBS_ticket/2390_SOS/combined_prod_liuwei01_37119_customer_input_W20230221-140008.csv\"\n",
    "SBFE_combined = pd.read_adls(path, reader = pd.read_csv,  encoding='iso-8859-1', dtype = str)\n",
    "print(SBFE_combined.shape)"
   ]
  },
  {
   "cell_type": "code",
   "execution_count": 5,
   "id": "9d0f8f04",
   "metadata": {},
   "outputs": [
    {
     "data": {
      "text/html": [
       "<div>\n",
       "<style scoped>\n",
       "    .dataframe tbody tr th:only-of-type {\n",
       "        vertical-align: middle;\n",
       "    }\n",
       "\n",
       "    .dataframe tbody tr th {\n",
       "        vertical-align: top;\n",
       "    }\n",
       "\n",
       "    .dataframe thead th {\n",
       "        text-align: right;\n",
       "    }\n",
       "</style>\n",
       "<table border=\"1\" class=\"dataframe\">\n",
       "  <thead>\n",
       "    <tr style=\"text-align: right;\">\n",
       "      <th></th>\n",
       "      <th>Count</th>\n",
       "      <th>Pct</th>\n",
       "      <th>Cuml Count</th>\n",
       "      <th>Cuml Pct</th>\n",
       "    </tr>\n",
       "    <tr>\n",
       "      <th>blank_ct</th>\n",
       "      <th></th>\n",
       "      <th></th>\n",
       "      <th></th>\n",
       "      <th></th>\n",
       "    </tr>\n",
       "  </thead>\n",
       "  <tbody>\n",
       "    <tr>\n",
       "      <th>0</th>\n",
       "      <td>891481.0</td>\n",
       "      <td>0.907888</td>\n",
       "      <td>891481.0</td>\n",
       "      <td>0.907888</td>\n",
       "    </tr>\n",
       "    <tr>\n",
       "      <th>1</th>\n",
       "      <td>33132.0</td>\n",
       "      <td>0.033742</td>\n",
       "      <td>924613.0</td>\n",
       "      <td>0.941630</td>\n",
       "    </tr>\n",
       "    <tr>\n",
       "      <th>2</th>\n",
       "      <td>41404.0</td>\n",
       "      <td>0.042166</td>\n",
       "      <td>966017.0</td>\n",
       "      <td>0.983796</td>\n",
       "    </tr>\n",
       "    <tr>\n",
       "      <th>3</th>\n",
       "      <td>3845.0</td>\n",
       "      <td>0.003916</td>\n",
       "      <td>969862.0</td>\n",
       "      <td>0.987712</td>\n",
       "    </tr>\n",
       "    <tr>\n",
       "      <th>4</th>\n",
       "      <td>12066.0</td>\n",
       "      <td>0.012288</td>\n",
       "      <td>981928.0</td>\n",
       "      <td>1.000000</td>\n",
       "    </tr>\n",
       "  </tbody>\n",
       "</table>\n",
       "</div>"
      ],
      "text/plain": [
       "             Count       Pct  Cuml Count  Cuml Pct\n",
       "blank_ct                                          \n",
       "0         891481.0  0.907888    891481.0  0.907888\n",
       "1          33132.0  0.033742    924613.0  0.941630\n",
       "2          41404.0  0.042166    966017.0  0.983796\n",
       "3           3845.0  0.003916    969862.0  0.987712\n",
       "4          12066.0  0.012288    981928.0  1.000000"
      ]
     },
     "execution_count": 5,
     "metadata": {},
     "output_type": "execute_result"
    }
   ],
   "source": [
    "SBFE_combined[\"blank_ct\"] = SBFE_combined[['businessname', 'businessaddress', 'businesscity', 'businessstate']].isnull().sum(axis = 1)\n",
    "freq(SBFE_combined[\"blank_ct\"])"
   ]
  },
  {
   "cell_type": "code",
   "execution_count": 6,
   "id": "f4d2c972",
   "metadata": {},
   "outputs": [
    {
     "name": "stdout",
     "output_type": "stream",
     "text": [
      "(795958, 8)\n"
     ]
    }
   ],
   "source": [
    "SBFE_combined = SBFE_combined[SBFE_combined[\"blank_ct\"] == 0]\n",
    "keep = ['transactionid', 'dateadded', 'businessname', 'businessaddress', 'businesscity','businessstate', 'businesszip', 'businessphone',]\n",
    "SBFE_combined = SBFE_combined[keep]\n",
    "SBFE_combined = SBFE_combined.sort_values(by = ['businessname', 'businessaddress', 'businesscity','businessstate', 'dateadded'])\n",
    "SBFE_combined = SBFE_combined.drop_duplicates(subset = ['businessname', 'businessaddress', 'businesscity','businessstate'], \n",
    "                                              keep = \"last\", ignore_index = True)\n",
    "print(SBFE_combined.shape)"
   ]
  },
  {
   "cell_type": "code",
   "execution_count": 7,
   "id": "75621820",
   "metadata": {},
   "outputs": [
    {
     "data": {
      "text/html": [
       "<div>\n",
       "<style scoped>\n",
       "    .dataframe tbody tr th:only-of-type {\n",
       "        vertical-align: middle;\n",
       "    }\n",
       "\n",
       "    .dataframe tbody tr th {\n",
       "        vertical-align: top;\n",
       "    }\n",
       "\n",
       "    .dataframe thead th {\n",
       "        text-align: right;\n",
       "    }\n",
       "</style>\n",
       "<table border=\"1\" class=\"dataframe\">\n",
       "  <thead>\n",
       "    <tr style=\"text-align: right;\">\n",
       "      <th></th>\n",
       "      <th>Count</th>\n",
       "      <th>Pct</th>\n",
       "      <th>Cuml Count</th>\n",
       "      <th>Cuml Pct</th>\n",
       "    </tr>\n",
       "    <tr>\n",
       "      <th>dateadded</th>\n",
       "      <th></th>\n",
       "      <th></th>\n",
       "      <th></th>\n",
       "      <th></th>\n",
       "    </tr>\n",
       "  </thead>\n",
       "  <tbody>\n",
       "    <tr>\n",
       "      <th>202210</th>\n",
       "      <td>167259.0</td>\n",
       "      <td>0.210135</td>\n",
       "      <td>167259.0</td>\n",
       "      <td>0.210135</td>\n",
       "    </tr>\n",
       "    <tr>\n",
       "      <th>202211</th>\n",
       "      <td>167168.0</td>\n",
       "      <td>0.210021</td>\n",
       "      <td>334427.0</td>\n",
       "      <td>0.420157</td>\n",
       "    </tr>\n",
       "    <tr>\n",
       "      <th>202212</th>\n",
       "      <td>158105.0</td>\n",
       "      <td>0.198635</td>\n",
       "      <td>492532.0</td>\n",
       "      <td>0.618791</td>\n",
       "    </tr>\n",
       "    <tr>\n",
       "      <th>202301</th>\n",
       "      <td>187094.0</td>\n",
       "      <td>0.235055</td>\n",
       "      <td>679626.0</td>\n",
       "      <td>0.853847</td>\n",
       "    </tr>\n",
       "    <tr>\n",
       "      <th>202302</th>\n",
       "      <td>116332.0</td>\n",
       "      <td>0.146153</td>\n",
       "      <td>795958.0</td>\n",
       "      <td>1.000000</td>\n",
       "    </tr>\n",
       "  </tbody>\n",
       "</table>\n",
       "</div>"
      ],
      "text/plain": [
       "              Count       Pct  Cuml Count  Cuml Pct\n",
       "dateadded                                          \n",
       "202210     167259.0  0.210135    167259.0  0.210135\n",
       "202211     167168.0  0.210021    334427.0  0.420157\n",
       "202212     158105.0  0.198635    492532.0  0.618791\n",
       "202301     187094.0  0.235055    679626.0  0.853847\n",
       "202302     116332.0  0.146153    795958.0  1.000000"
      ]
     },
     "execution_count": 7,
     "metadata": {},
     "output_type": "execute_result"
    }
   ],
   "source": [
    "freq(SBFE_combined[\"dateadded\"].astype(str).str.slice(0, 6))"
   ]
  },
  {
   "cell_type": "code",
   "execution_count": 17,
   "id": "640532c9",
   "metadata": {},
   "outputs": [
    {
     "name": "stdout",
     "output_type": "stream",
     "text": [
      "(500000, 8)\n"
     ]
    }
   ],
   "source": [
    "SBFE_combined = SBFE_combined[SBFE_combined[\"dateadded\"].astype(str).str.slice(0, 6) != \"202210\"]\n",
    "temp_sample = SBFE_combined.sample(500_000, replace = False, random_state = 0, ignore_index = True)\n",
    "print(temp_sample.shape)"
   ]
  },
  {
   "cell_type": "code",
   "execution_count": 18,
   "id": "213ac1a9",
   "metadata": {},
   "outputs": [],
   "source": [
    "temp_sample[\"business_fein\"] = \"\"\n",
    "temp_sample[\"source\"] = \"SBFE_combined\""
   ]
  },
  {
   "attachments": {},
   "cell_type": "markdown",
   "id": "b47cfcf7",
   "metadata": {},
   "source": [
    "#### BIID Sample"
   ]
  },
  {
   "cell_type": "code",
   "execution_count": 9,
   "id": "a4d0c45e-c7b1-4e3f-9f42-97927ac11840",
   "metadata": {},
   "outputs": [
    {
     "name": "stdout",
     "output_type": "stream",
     "text": [
      "(7411276, 93)\n"
     ]
    }
   ],
   "source": [
    "path = \"Analytics/Personal Folders/liuwei01/2023/ARMBS_ticket/2390_SOS/prod_liuwei01_37109_biid2_input_W20230221-133008.csv\"\n",
    "biid = pd.read_adls(path, reader = pd.read_csv,  encoding='iso-8859-1', dtype = str)\n",
    "print(biid.shape)"
   ]
  },
  {
   "cell_type": "code",
   "execution_count": 11,
   "id": "e4133c56",
   "metadata": {},
   "outputs": [
    {
     "name": "stderr",
     "output_type": "stream",
     "text": [
      "/tmp/ipykernel_31424/767051593.py:4: SettingWithCopyWarning: \n",
      "A value is trying to be set on a copy of a slice from a DataFrame.\n",
      "Try using .loc[row_indexer,col_indexer] = value instead\n",
      "\n",
      "See the caveats in the documentation: https://pandas.pydata.org/pandas-docs/stable/user_guide/indexing.html#returning-a-view-versus-a-copy\n",
      "  biid[\"blank_ct\"] = biid[['businessname', 'businessaddress', 'businesscity', 'businessstate']].isnull().sum(axis = 1)\n"
     ]
    },
    {
     "data": {
      "text/html": [
       "<div>\n",
       "<style scoped>\n",
       "    .dataframe tbody tr th:only-of-type {\n",
       "        vertical-align: middle;\n",
       "    }\n",
       "\n",
       "    .dataframe tbody tr th {\n",
       "        vertical-align: top;\n",
       "    }\n",
       "\n",
       "    .dataframe thead th {\n",
       "        text-align: right;\n",
       "    }\n",
       "</style>\n",
       "<table border=\"1\" class=\"dataframe\">\n",
       "  <thead>\n",
       "    <tr style=\"text-align: right;\">\n",
       "      <th></th>\n",
       "      <th>Count</th>\n",
       "      <th>Pct</th>\n",
       "      <th>Cuml Count</th>\n",
       "      <th>Cuml Pct</th>\n",
       "    </tr>\n",
       "    <tr>\n",
       "      <th>blank_ct</th>\n",
       "      <th></th>\n",
       "      <th></th>\n",
       "      <th></th>\n",
       "      <th></th>\n",
       "    </tr>\n",
       "  </thead>\n",
       "  <tbody>\n",
       "    <tr>\n",
       "      <th>0</th>\n",
       "      <td>6978629.0</td>\n",
       "      <td>9.416231e-01</td>\n",
       "      <td>6978629.0</td>\n",
       "      <td>0.941623</td>\n",
       "    </tr>\n",
       "    <tr>\n",
       "      <th>1</th>\n",
       "      <td>13883.0</td>\n",
       "      <td>1.873227e-03</td>\n",
       "      <td>6992512.0</td>\n",
       "      <td>0.943496</td>\n",
       "    </tr>\n",
       "    <tr>\n",
       "      <th>2</th>\n",
       "      <td>7477.0</td>\n",
       "      <td>1.008868e-03</td>\n",
       "      <td>6999989.0</td>\n",
       "      <td>0.944505</td>\n",
       "    </tr>\n",
       "    <tr>\n",
       "      <th>3</th>\n",
       "      <td>5.0</td>\n",
       "      <td>6.746477e-07</td>\n",
       "      <td>6999994.0</td>\n",
       "      <td>0.944506</td>\n",
       "    </tr>\n",
       "    <tr>\n",
       "      <th>4</th>\n",
       "      <td>411282.0</td>\n",
       "      <td>5.549409e-02</td>\n",
       "      <td>7411276.0</td>\n",
       "      <td>1.000000</td>\n",
       "    </tr>\n",
       "  </tbody>\n",
       "</table>\n",
       "</div>"
      ],
      "text/plain": [
       "              Count           Pct  Cuml Count  Cuml Pct\n",
       "blank_ct                                               \n",
       "0         6978629.0  9.416231e-01   6978629.0  0.941623\n",
       "1           13883.0  1.873227e-03   6992512.0  0.943496\n",
       "2            7477.0  1.008868e-03   6999989.0  0.944505\n",
       "3               5.0  6.746477e-07   6999994.0  0.944506\n",
       "4          411282.0  5.549409e-02   7411276.0  1.000000"
      ]
     },
     "execution_count": 11,
     "metadata": {},
     "output_type": "execute_result"
    }
   ],
   "source": [
    "keep = ['transaction_id', 'datetime', 'incompanyname', 'incompanystreetaddress', 'incompanycity','incompanystate', 'incompanyzip5', 'incompanyphone', \"incompanyfein\"]\n",
    "biid = biid[keep]\n",
    "biid.columns = ['transactionid', 'dateadded', 'businessname', 'businessaddress', 'businesscity','businessstate', 'businesszip', 'businessphone', \"business_fein\"]\n",
    "biid[\"blank_ct\"] = biid[['businessname', 'businessaddress', 'businesscity', 'businessstate']].isnull().sum(axis = 1)\n",
    "freq(biid[\"blank_ct\"])"
   ]
  },
  {
   "cell_type": "code",
   "execution_count": 12,
   "id": "bed14080",
   "metadata": {},
   "outputs": [
    {
     "name": "stdout",
     "output_type": "stream",
     "text": [
      "(5616978, 10)\n"
     ]
    }
   ],
   "source": [
    "biid = biid[biid[\"blank_ct\"] == 0]\n",
    "biid = biid.sort_values(by = ['businessname', 'businessaddress', 'businesscity','businessstate', 'dateadded'])\n",
    "biid = biid.drop_duplicates(subset = ['businessname', 'businessaddress', 'businesscity','businessstate'], keep = \"last\", ignore_index = True)\n",
    "print(biid.shape)"
   ]
  },
  {
   "cell_type": "code",
   "execution_count": 13,
   "id": "a532ef38",
   "metadata": {},
   "outputs": [
    {
     "data": {
      "text/html": [
       "<div>\n",
       "<style scoped>\n",
       "    .dataframe tbody tr th:only-of-type {\n",
       "        vertical-align: middle;\n",
       "    }\n",
       "\n",
       "    .dataframe tbody tr th {\n",
       "        vertical-align: top;\n",
       "    }\n",
       "\n",
       "    .dataframe thead th {\n",
       "        text-align: right;\n",
       "    }\n",
       "</style>\n",
       "<table border=\"1\" class=\"dataframe\">\n",
       "  <thead>\n",
       "    <tr style=\"text-align: right;\">\n",
       "      <th></th>\n",
       "      <th>Count</th>\n",
       "      <th>Pct</th>\n",
       "      <th>Cuml Count</th>\n",
       "      <th>Cuml Pct</th>\n",
       "    </tr>\n",
       "    <tr>\n",
       "      <th>dateadded</th>\n",
       "      <th></th>\n",
       "      <th></th>\n",
       "      <th></th>\n",
       "      <th></th>\n",
       "    </tr>\n",
       "  </thead>\n",
       "  <tbody>\n",
       "    <tr>\n",
       "      <th>202210</th>\n",
       "      <td>1178829.0</td>\n",
       "      <td>0.209869</td>\n",
       "      <td>1178829.0</td>\n",
       "      <td>0.209869</td>\n",
       "    </tr>\n",
       "    <tr>\n",
       "      <th>202211</th>\n",
       "      <td>1143592.0</td>\n",
       "      <td>0.203596</td>\n",
       "      <td>2322421.0</td>\n",
       "      <td>0.413464</td>\n",
       "    </tr>\n",
       "    <tr>\n",
       "      <th>202212</th>\n",
       "      <td>1140410.0</td>\n",
       "      <td>0.203029</td>\n",
       "      <td>3462831.0</td>\n",
       "      <td>0.616494</td>\n",
       "    </tr>\n",
       "    <tr>\n",
       "      <th>202301</th>\n",
       "      <td>1308767.0</td>\n",
       "      <td>0.233002</td>\n",
       "      <td>4771598.0</td>\n",
       "      <td>0.849496</td>\n",
       "    </tr>\n",
       "    <tr>\n",
       "      <th>202302</th>\n",
       "      <td>845380.0</td>\n",
       "      <td>0.150504</td>\n",
       "      <td>5616978.0</td>\n",
       "      <td>1.000000</td>\n",
       "    </tr>\n",
       "  </tbody>\n",
       "</table>\n",
       "</div>"
      ],
      "text/plain": [
       "               Count       Pct  Cuml Count  Cuml Pct\n",
       "dateadded                                           \n",
       "202210     1178829.0  0.209869   1178829.0  0.209869\n",
       "202211     1143592.0  0.203596   2322421.0  0.413464\n",
       "202212     1140410.0  0.203029   3462831.0  0.616494\n",
       "202301     1308767.0  0.233002   4771598.0  0.849496\n",
       "202302      845380.0  0.150504   5616978.0  1.000000"
      ]
     },
     "execution_count": 13,
     "metadata": {},
     "output_type": "execute_result"
    }
   ],
   "source": [
    "freq(biid[\"dateadded\"].astype(str).str.slice(0, 6))"
   ]
  },
  {
   "cell_type": "code",
   "execution_count": 16,
   "id": "326350ab",
   "metadata": {},
   "outputs": [
    {
     "name": "stdout",
     "output_type": "stream",
     "text": [
      "(500000, 10)\n"
     ]
    }
   ],
   "source": [
    "biid = biid[biid[\"dateadded\"].astype(str).str.slice(0, 6) == \"202302\"]\n",
    "temp_sample_biid = biid.sample(500_000, replace = False, random_state = 0, ignore_index = True)\n",
    "print(temp_sample_biid.shape)\n",
    "temp_sample_biid[\"source\"] = \"IIDBv2\""
   ]
  },
  {
   "attachments": {},
   "cell_type": "markdown",
   "id": "4212e9e9",
   "metadata": {},
   "source": [
    "#### Final Sample"
   ]
  },
  {
   "cell_type": "code",
   "execution_count": 19,
   "id": "21999881",
   "metadata": {},
   "outputs": [
    {
     "name": "stdout",
     "output_type": "stream",
     "text": [
      "(1000000, 11)\n"
     ]
    },
    {
     "data": {
      "text/html": [
       "<div>\n",
       "<style scoped>\n",
       "    .dataframe tbody tr th:only-of-type {\n",
       "        vertical-align: middle;\n",
       "    }\n",
       "\n",
       "    .dataframe tbody tr th {\n",
       "        vertical-align: top;\n",
       "    }\n",
       "\n",
       "    .dataframe thead th {\n",
       "        text-align: right;\n",
       "    }\n",
       "</style>\n",
       "<table border=\"1\" class=\"dataframe\">\n",
       "  <thead>\n",
       "    <tr style=\"text-align: right;\">\n",
       "      <th></th>\n",
       "      <th>Count</th>\n",
       "      <th>Pct</th>\n",
       "      <th>Cuml Count</th>\n",
       "      <th>Cuml Pct</th>\n",
       "    </tr>\n",
       "    <tr>\n",
       "      <th>source</th>\n",
       "      <th></th>\n",
       "      <th></th>\n",
       "      <th></th>\n",
       "      <th></th>\n",
       "    </tr>\n",
       "  </thead>\n",
       "  <tbody>\n",
       "    <tr>\n",
       "      <th>IIDBv2</th>\n",
       "      <td>500000.0</td>\n",
       "      <td>0.5</td>\n",
       "      <td>500000.0</td>\n",
       "      <td>0.5</td>\n",
       "    </tr>\n",
       "    <tr>\n",
       "      <th>SBFE_combined</th>\n",
       "      <td>500000.0</td>\n",
       "      <td>0.5</td>\n",
       "      <td>1000000.0</td>\n",
       "      <td>1.0</td>\n",
       "    </tr>\n",
       "  </tbody>\n",
       "</table>\n",
       "</div>"
      ],
      "text/plain": [
       "                  Count  Pct  Cuml Count  Cuml Pct\n",
       "source                                            \n",
       "IIDBv2         500000.0  0.5    500000.0       0.5\n",
       "SBFE_combined  500000.0  0.5   1000000.0       1.0"
      ]
     },
     "execution_count": 19,
     "metadata": {},
     "output_type": "execute_result"
    }
   ],
   "source": [
    "final = pd.concat([temp_sample, temp_sample_biid], ignore_index= True)\n",
    "print(final.shape)\n",
    "freq(final.source)"
   ]
  },
  {
   "cell_type": "code",
   "execution_count": 22,
   "id": "6283d3a7",
   "metadata": {},
   "outputs": [],
   "source": [
    "final.to_adls(\"Analytics/RnD Projects/Product RnD/Business/_ARMBS_Tickets/2023/ARMBS_2390/sbfe_combined_biid_1mil_2390_input.parquet\", format = '.parquet', overwrite = True)"
   ]
  },
  {
   "cell_type": "code",
   "execution_count": null,
   "id": "6240a1b8",
   "metadata": {},
   "outputs": [],
   "source": []
  }
 ],
 "metadata": {
  "kernelspec": {
   "display_name": "data-science",
   "language": "python",
   "name": "python3"
  },
  "language_info": {
   "codemirror_mode": {
    "name": "ipython",
    "version": 3
   },
   "file_extension": ".py",
   "mimetype": "text/x-python",
   "name": "python",
   "nbconvert_exporter": "python",
   "pygments_lexer": "ipython3",
   "version": "3.10.6"
  },
  "vscode": {
   "interpreter": {
    "hash": "fd7a0d1f3afaac03db19eb2df9b422c6fb1e935a3893b12842e021a8dc22d170"
   }
  }
 },
 "nbformat": 4,
 "nbformat_minor": 5
}
