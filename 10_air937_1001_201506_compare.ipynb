{
 "cells": [
  {
   "cell_type": "code",
   "execution_count": 1,
   "metadata": {},
   "outputs": [],
   "source": [
    "import time\n",
    "import pandas as pd\n",
    "import numpy as np\n",
    "import math\n",
    "\n",
    "# internal tools\n",
    "from dsgtools.reporting import make_format\n",
    "from dsgtools.reporting import TableWriter\n",
    "from dsgtools.reporting import freq\n",
    "from dsgtools.reporting import bivariate"
   ]
  },
  {
   "cell_type": "raw",
   "metadata": {},
   "source": [
    "Test1 - limit as of current\n",
    "Process as of archive mode with the given archive date \n",
    "Process the input dataset as of 202306, 202301, 202206, 202201, 202106, 201906, 201706, 201506\n",
    "\n",
    "Test2 - limit as of archive date\n",
    "Process as of archive mode with the given archive date \n",
    "Process the input dataset as of 202306, 202301, 202206, 202201, 202106, 201906, 201706, 201506"
   ]
  },
  {
   "cell_type": "code",
   "execution_count": 2,
   "metadata": {},
   "outputs": [],
   "source": [
    "bs_path = \"Analytics/RnD Projects/Product RnD/Business/_ARMBS_Tickets/2023/AIR_937/Processing_v2/air_937_business_shell_v31_baseline_201506_results_w20230727-060927.csv\"\n",
    "# test1_path = \"Analytics/RnD Projects/Product RnD/Business/_ARMBS_Tickets/2023/AIR_937/Processing_v2/air_937_business_shell_v31_test1_201506_results_w20230727-085608.csv\"\n",
    "test1_path = 'Analytics/RnD Projects/Product RnD/Business/_ARMBS_Tickets/2023/AIR_937/Processing_v3/air_937_business_shell_v31_test1_201506_results_w20230729-140223.csv'\n",
    "test2_path = \"Analytics/RnD Projects/Product RnD/Business/_ARMBS_Tickets/2023/AIR_937/Processing_v2/air_937_business_shell_v31_test2_201506_results_w20230727-133356.csv\""
   ]
  },
  {
   "cell_type": "code",
   "execution_count": 3,
   "metadata": {},
   "outputs": [],
   "source": [
    "string_list = {'lnlexidsele': str, 'outbestbusname': str, 'outbestbusstreetaddr': str, 'outbestbuscity': str, 'outbestbusstate': str, 'outbestbuszip': str, \n",
    "               'outbestbustin': str, 'outbestbusphone': str, 'outbestnaics': str, 'outbestsic': str, 'liennewesttype': str, 'judgmentnewesttype': str, \n",
    "               'inputaddrtype': str, }"
   ]
  },
  {
   "cell_type": "code",
   "execution_count": 4,
   "metadata": {},
   "outputs": [
    {
     "name": "stdout",
     "output_type": "stream",
     "text": [
      "(100000, 2304)\n",
      "(99998, 2304)\n",
      "(100000, 2304)\n"
     ]
    }
   ],
   "source": [
    "baseline = pd.read_adls(bs_path, reader = pd.read_csv, encoding='iso-8859-1', dtype = string_list, verbose = False, low_memory = False)\n",
    "print(baseline.shape)\n",
    "test_1 = pd.read_adls(test1_path, reader = pd.read_csv, encoding='iso-8859-1', dtype = string_list, verbose = False, low_memory = False)\n",
    "print(test_1.shape)\n",
    "test_2 = pd.read_adls(test2_path, reader = pd.read_csv, encoding='iso-8859-1', dtype = string_list, verbose = False, low_memory = False)\n",
    "print(test_2.shape)"
   ]
  },
  {
   "cell_type": "code",
   "execution_count": 5,
   "metadata": {},
   "outputs": [
    {
     "name": "stdout",
     "output_type": "stream",
     "text": [
      "(99998, 2305)\n",
      "(99998, 2305)\n",
      "(100000, 2305)\n",
      "(100000, 2305)\n"
     ]
    }
   ],
   "source": [
    "bs_seleid = baseline[[\"accountnumber\", \"seleid\"]]\n",
    "bs_seleid.columns = [\"accountnumber\", \"bs_seleid\"]\n",
    "test_1 = test_1.merge(bs_seleid, on = \"accountnumber\")\n",
    "print(test_1.shape)\n",
    "test_1 = test_1[test_1[\"seleid\"] == test_1[\"bs_seleid\"]]\n",
    "print(test_1.shape)\n",
    "\n",
    "test_2 = test_2.merge(bs_seleid, on = \"accountnumber\")\n",
    "print(test_2.shape)\n",
    "test_2 = test_2[test_2[\"seleid\"] == test_2[\"bs_seleid\"]]\n",
    "print(test_2.shape)"
   ]
  },
  {
   "cell_type": "code",
   "execution_count": 16,
   "metadata": {},
   "outputs": [],
   "source": [
    "# keep = ['accountnumber', 'model1score', 'model2score']\n",
    "# test_1 = test_1[keep]\n",
    "# test_1.columns = [\"t1_\"+x for x in test_1.columns]\n",
    "# test_2 = test_2[keep]\n",
    "# test_2.columns = [\"t2_\"+x for x in test_2.columns]\n",
    "# baseline = baseline[keep]\n",
    "# baseline.columns = [\"b_\"+x for x in keep]\n",
    "# merged = test_1.merge(test_2, left_on = \"t1_accountnumber\", right_on = \"t2_accountnumber\")\n",
    "# merged = merged.merge(baseline, left_on = \"t1_accountnumber\", right_on = \"b_accountnumber\")\n",
    "# print(merged.shape)\n",
    "merged[\"t1_b_mld1score\"] = np.where((merged.t1_model1score >500) & (merged.b_model1score >500), merged.t1_model1score - merged.b_model1score, -999_999)\n",
    "merged[\"t1_b_mld2score\"] = np.where((merged.t1_model2score >500) & (merged.b_model2score >500), merged.t1_model2score - merged.b_model2score, -999_999)\n",
    "merged[\"t2_b_mld1score\"] = np.where((merged.t2_model1score >500) & (merged.b_model1score >500), merged.t2_model1score - merged.b_model1score, -999_999)\n",
    "merged[\"t2_b_mld2score\"] = np.where((merged.t2_model2score >500) & (merged.b_model2score >500), merged.t2_model2score - merged.b_model2score, -999_999)"
   ]
  },
  {
   "cell_type": "code",
   "execution_count": 17,
   "metadata": {},
   "outputs": [],
   "source": [
    "fmt = make_format(cuts = [-np.inf, -51, -41, -31, -21, -11, -6, -5, -4, -3, -2, -1, 0, 1, 2, 3, 4, 5, 10, 20, 30, 40, 50, np.inf], exceptions = [-999_999])\n",
    "result = dict()\n",
    "\n",
    "result[\"f1\"] = freq(merged[\"t1_b_mld1score\"], format = fmt, observed = True)\n",
    "result[\"f2\"] = freq(merged[\"t1_b_mld2score\"], format = fmt, observed = True)\n",
    "result[\"f3\"] = freq(merged[\"t2_b_mld1score\"], format = fmt, observed = True)\n",
    "result[\"f4\"] = freq(merged[\"t2_b_mld2score\"], format = fmt, observed = True)\n",
    "\n",
    "wb = TableWriter(filename = \"./_temp/freq_201506.xlsx\", options={'nan_inf_to_errors': True}, overwrite = True)\n",
    "for k in result.keys():\n",
    "    wb.write_table(\n",
    "        result[k],\n",
    "        sheetname=\"biv\",\n",
    "        conditional_fmt_cols=[1],\n",
    "    )\n",
    "wb.close()"
   ]
  },
  {
   "cell_type": "code",
   "execution_count": 6,
   "metadata": {},
   "outputs": [],
   "source": [
    "keep = [\"accountnumber\", \"sbfetimeoldestcycle\", \"sbfeaccountcount\", \"model2score\", \"sbfehitindex\"]\n",
    "temp_1 = test_1[keep].copy()\n",
    "temp_1.columns = [\"t1_\" + x for x in temp_1.columns]\n",
    "temp_2 = test_2[keep].copy()\n",
    "merged = temp_1.merge(temp_2, left_on = \"t1_accountnumber\", right_on = \"accountnumber\")\n",
    "merged[\"sbfetimeoldestcycle_flag\"] = np.where(merged.sbfetimeoldestcycle != merged.t1_sbfetimeoldestcycle, 1, 0)\n",
    "merged[\"sbfeaccountcount_flag\"] = np.where(merged.sbfeaccountcount != merged.t1_sbfeaccountcount, 1, 0)\n",
    "merged[\"model2score_flag\"] = np.where(merged.model2score != merged.t1_model2score, 1, 0)\n",
    "merged[\"sbfehitindex_flag\"] = np.where(merged.sbfehitindex != merged.sbfehitindex, 1, 0)"
   ]
  },
  {
   "cell_type": "code",
   "execution_count": 7,
   "metadata": {},
   "outputs": [
    {
     "data": {
      "text/plain": [
       "count    99988.000000\n",
       "mean       -67.153758\n",
       "std         67.178698\n",
       "min        -99.000000\n",
       "5%         -99.000000\n",
       "10%        -99.000000\n",
       "20%        -99.000000\n",
       "30%        -99.000000\n",
       "40%        -99.000000\n",
       "50%        -99.000000\n",
       "60%        -99.000000\n",
       "70%        -99.000000\n",
       "80%        -99.000000\n",
       "90%         88.000000\n",
       "95%         95.000000\n",
       "max         96.000000\n",
       "Name: sbfetimeoldestcycle, dtype: float64"
      ]
     },
     "execution_count": 7,
     "metadata": {},
     "output_type": "execute_result"
    }
   ],
   "source": [
    "merged.sbfetimeoldestcycle.describe([0.05, 0.1, 0.2, 0.3, 0.4, 0.5, 0.6, 0.7, 0.8, 0.9, 0.95])"
   ]
  },
  {
   "cell_type": "code",
   "execution_count": 8,
   "metadata": {},
   "outputs": [
    {
     "data": {
      "text/plain": [
       "count    99988.0\n",
       "mean       -99.0\n",
       "std          0.0\n",
       "min        -99.0\n",
       "5%         -99.0\n",
       "10%        -99.0\n",
       "20%        -99.0\n",
       "30%        -99.0\n",
       "40%        -99.0\n",
       "50%        -99.0\n",
       "60%        -99.0\n",
       "70%        -99.0\n",
       "80%        -99.0\n",
       "90%        -99.0\n",
       "95%        -99.0\n",
       "max        -99.0\n",
       "Name: t1_sbfetimeoldestcycle, dtype: float64"
      ]
     },
     "execution_count": 8,
     "metadata": {},
     "output_type": "execute_result"
    }
   ],
   "source": [
    "merged.t1_sbfetimeoldestcycle.describe([0.05, 0.1, 0.2, 0.3, 0.4, 0.5, 0.6, 0.7, 0.8, 0.9, 0.95])"
   ]
  },
  {
   "cell_type": "code",
   "execution_count": 9,
   "metadata": {},
   "outputs": [
    {
     "data": {
      "text/html": [
       "<div>\n",
       "<style scoped>\n",
       "    .dataframe tbody tr th:only-of-type {\n",
       "        vertical-align: middle;\n",
       "    }\n",
       "\n",
       "    .dataframe tbody tr th {\n",
       "        vertical-align: top;\n",
       "    }\n",
       "\n",
       "    .dataframe thead th {\n",
       "        text-align: right;\n",
       "    }\n",
       "</style>\n",
       "<table border=\"1\" class=\"dataframe\">\n",
       "  <thead>\n",
       "    <tr style=\"text-align: right;\">\n",
       "      <th></th>\n",
       "      <th>Count</th>\n",
       "      <th>Pct</th>\n",
       "      <th>Cuml Count</th>\n",
       "      <th>Cuml Pct</th>\n",
       "    </tr>\n",
       "    <tr>\n",
       "      <th>sbfetimeoldestcycle_flag</th>\n",
       "      <th></th>\n",
       "      <th></th>\n",
       "      <th></th>\n",
       "      <th></th>\n",
       "    </tr>\n",
       "  </thead>\n",
       "  <tbody>\n",
       "    <tr>\n",
       "      <th>0</th>\n",
       "      <td>80921.0</td>\n",
       "      <td>0.809226</td>\n",
       "      <td>80921.0</td>\n",
       "      <td>0.809226</td>\n",
       "    </tr>\n",
       "    <tr>\n",
       "      <th>1</th>\n",
       "      <td>19077.0</td>\n",
       "      <td>0.190774</td>\n",
       "      <td>99998.0</td>\n",
       "      <td>1.000000</td>\n",
       "    </tr>\n",
       "  </tbody>\n",
       "</table>\n",
       "</div>"
      ],
      "text/plain": [
       "                            Count       Pct  Cuml Count  Cuml Pct\n",
       "sbfetimeoldestcycle_flag                                         \n",
       "0                         80921.0  0.809226     80921.0  0.809226\n",
       "1                         19077.0  0.190774     99998.0  1.000000"
      ]
     },
     "execution_count": 9,
     "metadata": {},
     "output_type": "execute_result"
    }
   ],
   "source": [
    "freq(merged[\"sbfetimeoldestcycle_flag\"])"
   ]
  },
  {
   "cell_type": "code",
   "execution_count": 10,
   "metadata": {},
   "outputs": [
    {
     "data": {
      "text/html": [
       "<div>\n",
       "<style scoped>\n",
       "    .dataframe tbody tr th:only-of-type {\n",
       "        vertical-align: middle;\n",
       "    }\n",
       "\n",
       "    .dataframe tbody tr th {\n",
       "        vertical-align: top;\n",
       "    }\n",
       "\n",
       "    .dataframe thead th {\n",
       "        text-align: right;\n",
       "    }\n",
       "</style>\n",
       "<table border=\"1\" class=\"dataframe\">\n",
       "  <thead>\n",
       "    <tr style=\"text-align: right;\">\n",
       "      <th></th>\n",
       "      <th>Count</th>\n",
       "      <th>Pct</th>\n",
       "      <th>Cuml Count</th>\n",
       "      <th>Cuml Pct</th>\n",
       "    </tr>\n",
       "    <tr>\n",
       "      <th>sbfeaccountcount_flag</th>\n",
       "      <th></th>\n",
       "      <th></th>\n",
       "      <th></th>\n",
       "      <th></th>\n",
       "    </tr>\n",
       "  </thead>\n",
       "  <tbody>\n",
       "    <tr>\n",
       "      <th>0</th>\n",
       "      <td>80921.0</td>\n",
       "      <td>0.809226</td>\n",
       "      <td>80921.0</td>\n",
       "      <td>0.809226</td>\n",
       "    </tr>\n",
       "    <tr>\n",
       "      <th>1</th>\n",
       "      <td>19077.0</td>\n",
       "      <td>0.190774</td>\n",
       "      <td>99998.0</td>\n",
       "      <td>1.000000</td>\n",
       "    </tr>\n",
       "  </tbody>\n",
       "</table>\n",
       "</div>"
      ],
      "text/plain": [
       "                         Count       Pct  Cuml Count  Cuml Pct\n",
       "sbfeaccountcount_flag                                         \n",
       "0                      80921.0  0.809226     80921.0  0.809226\n",
       "1                      19077.0  0.190774     99998.0  1.000000"
      ]
     },
     "execution_count": 10,
     "metadata": {},
     "output_type": "execute_result"
    }
   ],
   "source": [
    "freq(merged[\"sbfeaccountcount_flag\"])"
   ]
  },
  {
   "cell_type": "code",
   "execution_count": 11,
   "metadata": {},
   "outputs": [
    {
     "data": {
      "text/html": [
       "<div>\n",
       "<style scoped>\n",
       "    .dataframe tbody tr th:only-of-type {\n",
       "        vertical-align: middle;\n",
       "    }\n",
       "\n",
       "    .dataframe tbody tr th {\n",
       "        vertical-align: top;\n",
       "    }\n",
       "\n",
       "    .dataframe thead th {\n",
       "        text-align: right;\n",
       "    }\n",
       "</style>\n",
       "<table border=\"1\" class=\"dataframe\">\n",
       "  <thead>\n",
       "    <tr style=\"text-align: right;\">\n",
       "      <th></th>\n",
       "      <th>Count</th>\n",
       "      <th>Pct</th>\n",
       "      <th>Cuml Count</th>\n",
       "      <th>Cuml Pct</th>\n",
       "    </tr>\n",
       "    <tr>\n",
       "      <th>sbfehitindex_flag</th>\n",
       "      <th></th>\n",
       "      <th></th>\n",
       "      <th></th>\n",
       "      <th></th>\n",
       "    </tr>\n",
       "  </thead>\n",
       "  <tbody>\n",
       "    <tr>\n",
       "      <th>0</th>\n",
       "      <td>99988.0</td>\n",
       "      <td>0.9999</td>\n",
       "      <td>99988.0</td>\n",
       "      <td>0.9999</td>\n",
       "    </tr>\n",
       "    <tr>\n",
       "      <th>1</th>\n",
       "      <td>10.0</td>\n",
       "      <td>0.0001</td>\n",
       "      <td>99998.0</td>\n",
       "      <td>1.0000</td>\n",
       "    </tr>\n",
       "  </tbody>\n",
       "</table>\n",
       "</div>"
      ],
      "text/plain": [
       "                     Count     Pct  Cuml Count  Cuml Pct\n",
       "sbfehitindex_flag                                       \n",
       "0                  99988.0  0.9999     99988.0    0.9999\n",
       "1                     10.0  0.0001     99998.0    1.0000"
      ]
     },
     "execution_count": 11,
     "metadata": {},
     "output_type": "execute_result"
    }
   ],
   "source": [
    "freq(merged[\"sbfehitindex_flag\"])"
   ]
  },
  {
   "cell_type": "code",
   "execution_count": 12,
   "metadata": {},
   "outputs": [
    {
     "data": {
      "text/html": [
       "<div>\n",
       "<style scoped>\n",
       "    .dataframe tbody tr th:only-of-type {\n",
       "        vertical-align: middle;\n",
       "    }\n",
       "\n",
       "    .dataframe tbody tr th {\n",
       "        vertical-align: top;\n",
       "    }\n",
       "\n",
       "    .dataframe thead th {\n",
       "        text-align: right;\n",
       "    }\n",
       "</style>\n",
       "<table border=\"1\" class=\"dataframe\">\n",
       "  <thead>\n",
       "    <tr style=\"text-align: right;\">\n",
       "      <th></th>\n",
       "      <th>Count</th>\n",
       "      <th>Pct</th>\n",
       "      <th>Cuml Count</th>\n",
       "      <th>Cuml Pct</th>\n",
       "    </tr>\n",
       "    <tr>\n",
       "      <th>model2score_flag</th>\n",
       "      <th></th>\n",
       "      <th></th>\n",
       "      <th></th>\n",
       "      <th></th>\n",
       "    </tr>\n",
       "  </thead>\n",
       "  <tbody>\n",
       "    <tr>\n",
       "      <th>0</th>\n",
       "      <td>81072.0</td>\n",
       "      <td>0.810736</td>\n",
       "      <td>81072.0</td>\n",
       "      <td>0.810736</td>\n",
       "    </tr>\n",
       "    <tr>\n",
       "      <th>1</th>\n",
       "      <td>18926.0</td>\n",
       "      <td>0.189264</td>\n",
       "      <td>99998.0</td>\n",
       "      <td>1.000000</td>\n",
       "    </tr>\n",
       "  </tbody>\n",
       "</table>\n",
       "</div>"
      ],
      "text/plain": [
       "                    Count       Pct  Cuml Count  Cuml Pct\n",
       "model2score_flag                                         \n",
       "0                 81072.0  0.810736     81072.0  0.810736\n",
       "1                 18926.0  0.189264     99998.0  1.000000"
      ]
     },
     "execution_count": 12,
     "metadata": {},
     "output_type": "execute_result"
    }
   ],
   "source": [
    "freq(merged[\"model2score_flag\"])"
   ]
  },
  {
   "cell_type": "code",
   "execution_count": 13,
   "metadata": {},
   "outputs": [],
   "source": [
    "exclude = ['accountnumber', 'historydateyyyymm', 'bus_company_name', 'powid', 'proxid', 'seleid', 'orgid', 'ultid', 'lnlexidsele','model1name', 'model1score',\n",
    "           'model1rc1', 'model1rc2', 'model1rc3', 'model1rc4', 'model1rc5', 'model1rc6', 'model2name', 'model2score', 'model2rc1', 'model2rc2', 'model2rc3', 'model2rc4',\n",
    "           'model2rc5', 'model2rc6', 'model3name', 'model3score', 'model3rc1', 'model3rc2', 'model3rc3', 'model3rc4', 'model3rc5', 'model3rc6', 'model4name', 'model4score',\n",
    "           'model4rc1', 'model4rc2', 'model4rc3', 'model4rc4', 'model4rc5', 'model4rc6', 'model5name', 'model5score', 'model5rc1', 'model5rc2', 'model5rc3', 'model5rc4',\n",
    "           'model5rc5', 'model5rc6', 'model6name', 'model6score', 'model6rc1', 'model6rc2', 'model6rc3', 'model6rc4', 'model6rc5', 'model6rc6', 'model7name', 'model7score',\n",
    "           'model7rc1', 'model7rc2', 'model7rc3', 'model7rc4', 'model7rc5', 'model7rc6', 'model8name', 'model8score', 'model8rc1', 'model8rc2', 'model8rc3', 'model8rc4',\n",
    "           'model8rc5', 'model8rc6', 'model9name', 'model9score', 'model9rc1', 'model9rc2', 'model9rc3', 'model9rc4', 'model9rc5', 'model9rc6', 'model10name', 'model10score',\n",
    "           'model10rc1', 'model10rc2', 'model10rc3', 'model10rc4', 'model10rc5', 'model10rc6', 'errorcode', 'time_ms']\n",
    "sbfe_attr = [x for x in baseline.columns if \"sbfe\" in x]\n",
    "rv_attr = [x for x in baseline.columns if x not in sbfe_attr and x not in exclude]\n",
    "model = [\"model1score\", \"model2score\"]\n",
    "\n",
    "exception_dict = dict()\n",
    "for x in baseline.columns:\n",
    "    if x in sbfe_attr:\n",
    "        exception_dict[x] = [-99, -98, -97]\n",
    "    if x in rv_attr:\n",
    "        exception_dict[x] = [-1]\n",
    "    if x in model:\n",
    "        exception_dict[x] = [0, 100, 200, 222]"
   ]
  },
  {
   "cell_type": "code",
   "execution_count": 14,
   "metadata": {},
   "outputs": [
    {
     "data": {
      "text/plain": [
       "<dsgtools.reporting.tablewriter.TableWriter at 0x7f9bce60cfd0>"
      ]
     },
     "execution_count": 14,
     "metadata": {},
     "output_type": "execute_result"
    },
    {
     "data": {
      "text/plain": [
       "<Figure size 640x480 with 0 Axes>"
      ]
     },
     "metadata": {},
     "output_type": "display_data"
    }
   ],
   "source": [
    "\n",
    "from dsgtools.reporting import ImpactAnalysisReport\n",
    "fmt_score = make_format(cuts = [-np.inf, 500, 550, 600, 625, 650, 675, 700, 725, 750, 775, 800, 825, 850, 900, np.inf], exceptions = [0, 100, 200, 222])\n",
    "cr = ImpactAnalysisReport(baseline, test_1, keys=\"accountnumber\",\n",
    "           score_formats = {\"model1score\" : fmt_score, \n",
    "                         'model2score': fmt_score, },\n",
    "           score_columns = [\"model1score\", \"model2score\", \"sbfehitindex\"], exceptions = exception_dict,\n",
    "           dataframe_names = (\"baseline\", \"test1\"))\n",
    "cr.to_xlsx(\"./_temp/air937_201506_test1_data-comparison.xlsx\", overwrite= True)"
   ]
  },
  {
   "cell_type": "code",
   "execution_count": 15,
   "metadata": {},
   "outputs": [
    {
     "data": {
      "text/plain": [
       "<dsgtools.reporting.tablewriter.TableWriter at 0x7f9bcf801600>"
      ]
     },
     "execution_count": 15,
     "metadata": {},
     "output_type": "execute_result"
    },
    {
     "data": {
      "text/plain": [
       "<Figure size 640x480 with 0 Axes>"
      ]
     },
     "metadata": {},
     "output_type": "display_data"
    }
   ],
   "source": [
    "fmt_score = make_format(cuts = [-np.inf, 500, 550, 600, 625, 650, 675, 700, 725, 750, 775, 800, 825, 850, 900, np.inf], exceptions = [0, 100, 200, 222])\n",
    "cr = ImpactAnalysisReport(baseline, test_2, keys=\"accountnumber\",\n",
    "           score_columns = [\"model1score\", \"model2score\", \"sbfehitindex\"], \n",
    "           score_formats = {\"model1score\" : fmt_score, \n",
    "                         'model2score': fmt_score, },\n",
    "           exceptions=exception_dict, \n",
    "           dataframe_names = (\"baseline\", \"test2\"))\n",
    "cr.to_xlsx(\"./_temp/air937_201506_test2_data-comparison.xlsx\", overwrite= True)"
   ]
  },
  {
   "cell_type": "code",
   "execution_count": 16,
   "metadata": {},
   "outputs": [],
   "source": [
    "\n",
    "# from dsgtools.reporting import ImpactAnalysisReport\n",
    "# fmt_score = make_format(cuts = [-np.inf, 500, 550, 600, 625, 650, 675, 700, 725, 750, 775, 800, 825, 850, 900, np.inf], exceptions = [0, 100, 200, 222])\n",
    "# cr = ImpactAnalysisReport(test_1, test_2, keys=\"accountnumber\",\n",
    "#            score_columns = [\"model1score\", \"model2score\", \"sbfehitindex\"], \n",
    "#            score_formats = {\"model1score\" : fmt_score, \n",
    "#                          'model2score': fmt_score, },\n",
    "#            exceptions=exception_dict, \n",
    "#            dataframe_names = (\"test_1\", \"test2\"))\n",
    "# cr.to_xlsx(\"./_temp/temp_air937_201506_test1_test2_data-comparison.xlsx\", overwrite= True)"
   ]
  },
  {
   "cell_type": "code",
   "execution_count": null,
   "metadata": {},
   "outputs": [],
   "source": []
  },
  {
   "cell_type": "code",
   "execution_count": null,
   "metadata": {},
   "outputs": [],
   "source": []
  }
 ],
 "metadata": {
  "kernelspec": {
   "display_name": "data-science",
   "language": "python",
   "name": "python3"
  },
  "language_info": {
   "codemirror_mode": {
    "name": "ipython",
    "version": 3
   },
   "file_extension": ".py",
   "mimetype": "text/x-python",
   "name": "python",
   "nbconvert_exporter": "python",
   "pygments_lexer": "ipython3",
   "version": "3.10.6"
  },
  "orig_nbformat": 4
 },
 "nbformat": 4,
 "nbformat_minor": 2
}
