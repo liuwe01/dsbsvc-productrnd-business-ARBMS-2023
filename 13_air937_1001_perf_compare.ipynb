{
 "cells": [
  {
   "cell_type": "code",
   "execution_count": 1,
   "metadata": {},
   "outputs": [],
   "source": [
    "import time\n",
    "import pandas as pd\n",
    "import numpy as np\n",
    "import math\n",
    "\n",
    "# internal tools\n",
    "from dsgtools.reporting import make_format\n",
    "from dsgtools.reporting import TableWriter\n",
    "from dsgtools.reporting import freq\n",
    "from dsgtools.reporting import bivariate"
   ]
  },
  {
   "cell_type": "raw",
   "metadata": {},
   "source": [
    "Test1 - limit as of current\n",
    "Process as of archive mode with the given archive date \n",
    "Process the input dataset as of 202306, 202301, 202206, 202201, 202106, 201906, 201706, 201506\n",
    "\n",
    "Test2 - limit as of archive date\n",
    "Process as of archive mode with the given archive date \n",
    "Process the input dataset as of 202306, 202301, 202206, 202201, 202106, 201906, 201706, 201506"
   ]
  },
  {
   "cell_type": "code",
   "execution_count": 2,
   "metadata": {},
   "outputs": [],
   "source": [
    "bs_path = \"Analytics/RnD Projects/Product RnD/Business/_ARMBS_Tickets/2023/AIR_937/air_937_business_shell_v31_baseline_unchanged_archive_date_results_w20230812-084055.csv\"\n",
    "test1_path = 'Analytics/RnD Projects/Product RnD/Business/_ARMBS_Tickets/2023/AIR_937/air_937_business_shell_v31_test1_unchanged_archive_date_results_w20230812-110244.csv'\n",
    "test2_path = \"Analytics/RnD Projects/Product RnD/Business/_ARMBS_Tickets/2023/AIR_937/air_937_business_shell_v31_test2_unchanged_archive_date_results_w20230812-172620.csv\""
   ]
  },
  {
   "cell_type": "code",
   "execution_count": 3,
   "metadata": {},
   "outputs": [],
   "source": [
    "string_list = {'lnlexidsele': str, 'outbestbusname': str, 'outbestbusstreetaddr': str, 'outbestbuscity': str, 'outbestbusstate': str, 'outbestbuszip': str, \n",
    "               'outbestbustin': str, 'outbestbusphone': str, 'outbestnaics': str, 'outbestsic': str, 'liennewesttype': str, 'judgmentnewesttype': str, \n",
    "               'inputaddrtype': str, }"
   ]
  },
  {
   "cell_type": "code",
   "execution_count": 4,
   "metadata": {},
   "outputs": [
    {
     "name": "stdout",
     "output_type": "stream",
     "text": [
      "(99978, 2304)\n",
      "(99889, 2304)\n",
      "(100000, 2304)\n"
     ]
    }
   ],
   "source": [
    "baseline = pd.read_adls(bs_path, reader = pd.read_csv, encoding='iso-8859-1', dtype = string_list, verbose = False, low_memory = False)\n",
    "print(baseline.shape)\n",
    "test_1 = pd.read_adls(test1_path, reader = pd.read_csv, encoding='iso-8859-1', dtype = string_list, verbose = False, low_memory = False)\n",
    "print(test_1.shape)\n",
    "test_2 = pd.read_adls(test2_path, reader = pd.read_csv, encoding='iso-8859-1', dtype = string_list, verbose = False, low_memory = False)\n",
    "print(test_2.shape)"
   ]
  },
  {
   "cell_type": "code",
   "execution_count": 5,
   "metadata": {},
   "outputs": [
    {
     "name": "stdout",
     "output_type": "stream",
     "text": [
      "(99867, 2305)\n",
      "(99867, 2305)\n",
      "(99978, 2305)\n",
      "(99978, 2305)\n"
     ]
    }
   ],
   "source": [
    "bs_seleid = baseline[[\"accountnumber\", \"seleid\"]]\n",
    "bs_seleid.columns = [\"accountnumber\", \"bs_seleid\"]\n",
    "test_1 = test_1.merge(bs_seleid, on = \"accountnumber\")\n",
    "print(test_1.shape)\n",
    "test_1 = test_1[test_1[\"seleid\"] == test_1[\"bs_seleid\"]]\n",
    "print(test_1.shape)\n",
    "\n",
    "test_2 = test_2.merge(bs_seleid, on = \"accountnumber\")\n",
    "print(test_2.shape)\n",
    "test_2 = test_2[test_2[\"seleid\"] == test_2[\"bs_seleid\"]]\n",
    "print(test_2.shape)"
   ]
  },
  {
   "cell_type": "code",
   "execution_count": 6,
   "metadata": {},
   "outputs": [
    {
     "name": "stdout",
     "output_type": "stream",
     "text": [
      "(50000, 53)\n"
     ]
    }
   ],
   "source": [
    "input_df = pd.read_adls(\"Analytics/RnD Projects/Product RnD/Business/_ARMBS_Tickets/2023/AIR_937/sbfe_sample_for_DS_wperf.parquet\")\n",
    "print(input_df.shape)"
   ]
  },
  {
   "cell_type": "code",
   "execution_count": 7,
   "metadata": {},
   "outputs": [],
   "source": [
    "input_df.unique_id = input_df.unique_id.astype(str)"
   ]
  },
  {
   "cell_type": "code",
   "execution_count": 8,
   "metadata": {},
   "outputs": [],
   "source": [
    "input_df[\"year\"] = input_df.ArchiveDate.str.slice(0, 4)"
   ]
  },
  {
   "cell_type": "code",
   "execution_count": 9,
   "metadata": {},
   "outputs": [
    {
     "name": "stdout",
     "output_type": "stream",
     "text": [
      "(49956, 12)\n"
     ]
    }
   ],
   "source": [
    "keep = ['accountnumber', 'model1score', 'model2score']\n",
    "test_1 = test_1[keep]\n",
    "test_1.columns = [\"t1_\"+x for x in test_1.columns]\n",
    "test_2 = test_2[keep]\n",
    "test_2.columns = [\"t2_\"+x for x in test_2.columns]\n",
    "baseline = baseline[keep]\n",
    "baseline = baseline\n",
    "baseline.columns = [\"b_\"+x for x in keep]\n",
    "merged = test_1.merge(test_2, left_on = \"t1_accountnumber\", right_on = \"t2_accountnumber\")\n",
    "merged = merged.merge(baseline, left_on = \"t1_accountnumber\", right_on = \"b_accountnumber\")\n",
    "merged = merged.merge(input_df[['unique_id', 'AnalysisCreditBad', \"ArchiveDate\"]], left_on = \"t1_accountnumber\", right_on = \"unique_id\")\n",
    "print(merged.shape)\n",
    "merged[\"t1_b_mld1score\"] = np.where((merged.t1_model1score >500) & (merged.b_model1score >500), merged.t1_model1score - merged.b_model1score, -999_999)\n",
    "merged[\"t1_b_mld2score\"] = np.where((merged.t1_model2score >500) & (merged.b_model2score >500), merged.t1_model2score - merged.b_model2score, -999_999)\n",
    "merged[\"t2_b_mld1score\"] = np.where((merged.t2_model1score >500) & (merged.b_model1score >500), merged.t2_model1score - merged.b_model1score, -999_999)\n",
    "merged[\"t2_b_mld2score\"] = np.where((merged.t2_model2score >500) & (merged.b_model2score >500), merged.t2_model2score - merged.b_model2score, -999_999)"
   ]
  },
  {
   "cell_type": "code",
   "execution_count": 10,
   "metadata": {},
   "outputs": [],
   "source": [
    "merged.AnalysisCreditBad = merged.AnalysisCreditBad.astype(int)"
   ]
  },
  {
   "cell_type": "code",
   "execution_count": 11,
   "metadata": {},
   "outputs": [
    {
     "ename": "Exception",
     "evalue": "year is not a column of df.",
     "output_type": "error",
     "traceback": [
      "\u001b[0;31m---------------------------------------------------------------------------\u001b[0m",
      "\u001b[0;31mException\u001b[0m                                 Traceback (most recent call last)",
      "\u001b[1;32m/home/liuwei01/mnt/liuwei01/dsbsvc-productrnd-business-ARBMS-2023/13_air937_1001_perf_compare.ipynb Cell 12\u001b[0m in \u001b[0;36m5\n\u001b[1;32m      <a href='vscode-notebook-cell://ssh-remote%2B10.239.72.15/home/liuwei01/mnt/liuwei01/dsbsvc-productrnd-business-ARBMS-2023/13_air937_1001_perf_compare.ipynb#X14sdnNjb2RlLXJlbW90ZQ%3D%3D?line=0'>1</a>\u001b[0m \u001b[39mfrom\u001b[39;00m \u001b[39mdsgtools\u001b[39;00m\u001b[39m.\u001b[39;00m\u001b[39mreporting\u001b[39;00m \u001b[39mimport\u001b[39;00m ks_tables\n\u001b[1;32m      <a href='vscode-notebook-cell://ssh-remote%2B10.239.72.15/home/liuwei01/mnt/liuwei01/dsbsvc-productrnd-business-ARBMS-2023/13_air937_1001_perf_compare.ipynb#X14sdnNjb2RlLXJlbW90ZQ%3D%3D?line=1'>2</a>\u001b[0m score_fmt \u001b[39m=\u001b[39m make_format(cuts \u001b[39m=\u001b[39m [\u001b[39m-\u001b[39mnp\u001b[39m.\u001b[39minf, \u001b[39m299\u001b[39m, \u001b[39m400\u001b[39m, \u001b[39m425\u001b[39m, \u001b[39m450\u001b[39m, \u001b[39m475\u001b[39m, \u001b[39m500\u001b[39m, \u001b[39m525\u001b[39m, \u001b[39m550\u001b[39m, \u001b[39m575\u001b[39m, \u001b[39m600\u001b[39m, \u001b[39m625\u001b[39m, \n\u001b[1;32m      <a href='vscode-notebook-cell://ssh-remote%2B10.239.72.15/home/liuwei01/mnt/liuwei01/dsbsvc-productrnd-business-ARBMS-2023/13_air937_1001_perf_compare.ipynb#X14sdnNjb2RlLXJlbW90ZQ%3D%3D?line=2'>3</a>\u001b[0m                                \u001b[39m650\u001b[39m, \u001b[39m675\u001b[39m, \u001b[39m700\u001b[39m, \u001b[39m725\u001b[39m, \u001b[39m750\u001b[39m, \u001b[39m775\u001b[39m, \u001b[39m800\u001b[39m, \u001b[39m850\u001b[39m, np\u001b[39m.\u001b[39minf], exceptions \u001b[39m=\u001b[39m [\u001b[39m0\u001b[39m, \u001b[39m100\u001b[39m, \u001b[39m200\u001b[39m, \u001b[39m222\u001b[39m])\n\u001b[0;32m----> <a href='vscode-notebook-cell://ssh-remote%2B10.239.72.15/home/liuwei01/mnt/liuwei01/dsbsvc-productrnd-business-ARBMS-2023/13_air937_1001_perf_compare.ipynb#X14sdnNjb2RlLXJlbW90ZQ%3D%3D?line=4'>5</a>\u001b[0m kss_tbl \u001b[39m=\u001b[39m ks_tables([\u001b[39m'\u001b[39;49m\u001b[39mb_model1score\u001b[39;49m\u001b[39m'\u001b[39;49m, \u001b[39m'\u001b[39;49m\u001b[39mt1_model1score\u001b[39;49m\u001b[39m'\u001b[39;49m, \u001b[39m'\u001b[39;49m\u001b[39mt2_model1score\u001b[39;49m\u001b[39m'\u001b[39;49m, \u001b[39m'\u001b[39;49m\u001b[39mb_model2score\u001b[39;49m\u001b[39m'\u001b[39;49m, \u001b[39m'\u001b[39;49m\u001b[39mt1_model2score\u001b[39;49m\u001b[39m'\u001b[39;49m, \u001b[39m'\u001b[39;49m\u001b[39mt2_model2score\u001b[39;49m\u001b[39m'\u001b[39;49m],\n\u001b[1;32m      <a href='vscode-notebook-cell://ssh-remote%2B10.239.72.15/home/liuwei01/mnt/liuwei01/dsbsvc-productrnd-business-ARBMS-2023/13_air937_1001_perf_compare.ipynb#X14sdnNjb2RlLXJlbW90ZQ%3D%3D?line=5'>6</a>\u001b[0m     y \u001b[39m=\u001b[39;49m \u001b[39m\"\u001b[39;49m\u001b[39mAnalysisCreditBad\u001b[39;49m\u001b[39m\"\u001b[39;49m,\n\u001b[1;32m      <a href='vscode-notebook-cell://ssh-remote%2B10.239.72.15/home/liuwei01/mnt/liuwei01/dsbsvc-productrnd-business-ARBMS-2023/13_air937_1001_perf_compare.ipynb#X14sdnNjb2RlLXJlbW90ZQ%3D%3D?line=6'>7</a>\u001b[0m     \u001b[39mformat\u001b[39;49m \u001b[39m=\u001b[39;49m score_fmt,\n\u001b[1;32m      <a href='vscode-notebook-cell://ssh-remote%2B10.239.72.15/home/liuwei01/mnt/liuwei01/dsbsvc-productrnd-business-ARBMS-2023/13_air937_1001_perf_compare.ipynb#X14sdnNjb2RlLXJlbW90ZQ%3D%3D?line=7'>8</a>\u001b[0m     df\u001b[39m=\u001b[39;49mmerged,\n\u001b[1;32m      <a href='vscode-notebook-cell://ssh-remote%2B10.239.72.15/home/liuwei01/mnt/liuwei01/dsbsvc-productrnd-business-ARBMS-2023/13_air937_1001_perf_compare.ipynb#X14sdnNjb2RlLXJlbW90ZQ%3D%3D?line=8'>9</a>\u001b[0m     groups \u001b[39m=\u001b[39;49m \u001b[39m\"\u001b[39;49m\u001b[39myear\u001b[39;49m\u001b[39m\"\u001b[39;49m\n\u001b[1;32m     <a href='vscode-notebook-cell://ssh-remote%2B10.239.72.15/home/liuwei01/mnt/liuwei01/dsbsvc-productrnd-business-ARBMS-2023/13_air937_1001_perf_compare.ipynb#X14sdnNjb2RlLXJlbW90ZQ%3D%3D?line=9'>10</a>\u001b[0m )\n\u001b[1;32m     <a href='vscode-notebook-cell://ssh-remote%2B10.239.72.15/home/liuwei01/mnt/liuwei01/dsbsvc-productrnd-business-ARBMS-2023/13_air937_1001_perf_compare.ipynb#X14sdnNjb2RlLXJlbW90ZQ%3D%3D?line=10'>11</a>\u001b[0m kss_tbl\u001b[39m.\u001b[39mto_xlsx(\u001b[39m\"\u001b[39m\u001b[39m./_temp/ks.xlsx\u001b[39m\u001b[39m\"\u001b[39m, dof \u001b[39m=\u001b[39m [\u001b[39m0.05\u001b[39m, \u001b[39m0.1\u001b[39m, \u001b[39m0.2\u001b[39m, \u001b[39m0.3\u001b[39m], overwrite \u001b[39m=\u001b[39m \u001b[39mTrue\u001b[39;00m)\n",
      "File \u001b[0;32m/anaconda/envs/data-science/lib/python3.10/site-packages/dsgtools/reporting/ks.py:991\u001b[0m, in \u001b[0;36mks_tables\u001b[0;34m(x, y, sample_weight, groups, extra_vars, numerator_vars, denominator_vars, format, number_bins, percent_bins, break_bins, exceptions, reverse, df)\u001b[0m\n\u001b[1;32m    935\u001b[0m \u001b[39mdef\u001b[39;00m \u001b[39mks_tables\u001b[39m(\n\u001b[1;32m    936\u001b[0m     x: Columns,\n\u001b[1;32m    937\u001b[0m     y: Columns,\n\u001b[0;32m   (...)\u001b[0m\n\u001b[1;32m    949\u001b[0m     df: Optional[pd\u001b[39m.\u001b[39mDataFrame] \u001b[39m=\u001b[39m \u001b[39mNone\u001b[39;00m,\n\u001b[1;32m    950\u001b[0m ) \u001b[39m-\u001b[39m\u001b[39m>\u001b[39m KSTables:\n\u001b[1;32m    951\u001b[0m     \u001b[39m\"\"\"Create a KS table object.\u001b[39;00m\n\u001b[1;32m    952\u001b[0m \n\u001b[1;32m    953\u001b[0m \u001b[39m    Args:\u001b[39;00m\n\u001b[0;32m   (...)\u001b[0m\n\u001b[1;32m    989\u001b[0m \u001b[39m        KSTables: KSTables object\u001b[39;00m\n\u001b[1;32m    990\u001b[0m \u001b[39m    \"\"\"\u001b[39;00m\n\u001b[0;32m--> 991\u001b[0m     x, y, groups, extra_vars, numerator_vars, denominator_vars \u001b[39m=\u001b[39m _fix_args(\n\u001b[1;32m    992\u001b[0m         x, y, groups, extra_vars, numerator_vars, denominator_vars, df\u001b[39m=\u001b[39mdf\n\u001b[1;32m    993\u001b[0m     )  \u001b[39m# type: ignore\u001b[39;00m\n\u001b[1;32m    995\u001b[0m     nxs \u001b[39m=\u001b[39m \u001b[39mlen\u001b[39m(x)  \u001b[39m# type: ignore\u001b[39;00m\n\u001b[1;32m    996\u001b[0m     N \u001b[39m=\u001b[39m \u001b[39mlen\u001b[39m(x[\u001b[39m0\u001b[39m])  \u001b[39m# type: ignore\u001b[39;00m\n",
      "File \u001b[0;32m/anaconda/envs/data-science/lib/python3.10/site-packages/dsgtools/reporting/ks.py:162\u001b[0m, in \u001b[0;36m_fix_args\u001b[0;34m(df, *args)\u001b[0m\n\u001b[1;32m    150\u001b[0m \u001b[39m\"\"\"Apply ``_fix_arg`` function to multiple arguments.\u001b[39;00m\n\u001b[1;32m    151\u001b[0m \n\u001b[1;32m    152\u001b[0m \u001b[39mArgs:\u001b[39;00m\n\u001b[0;32m   (...)\u001b[0m\n\u001b[1;32m    159\u001b[0m \u001b[39m    Iterator[Iterable[Optional[list[pd.Series]]]]\u001b[39;00m\n\u001b[1;32m    160\u001b[0m \u001b[39m\"\"\"\u001b[39;00m\n\u001b[1;32m    161\u001b[0m \u001b[39mfor\u001b[39;00m arg \u001b[39min\u001b[39;00m args:\n\u001b[0;32m--> 162\u001b[0m     \u001b[39myield\u001b[39;00m _fix_arg(arg\u001b[39m=\u001b[39;49marg, df\u001b[39m=\u001b[39;49mdf)\n",
      "File \u001b[0;32m/anaconda/envs/data-science/lib/python3.10/site-packages/dsgtools/reporting/ks.py:142\u001b[0m, in \u001b[0;36m_fix_arg\u001b[0;34m(arg, df)\u001b[0m\n\u001b[1;32m    140\u001b[0m     \u001b[39mreturn\u001b[39;00m [_column_to_series(val, df\u001b[39m=\u001b[39mdf) \u001b[39mfor\u001b[39;00m val \u001b[39min\u001b[39;00m arg]  \u001b[39m# type: ignore\u001b[39;00m\n\u001b[1;32m    141\u001b[0m \u001b[39melif\u001b[39;00m \u001b[39misinstance\u001b[39m(arg, \u001b[39mstr\u001b[39m) \u001b[39mor\u001b[39;00m \u001b[39misinstance\u001b[39m(arg, pd\u001b[39m.\u001b[39mSeries):\n\u001b[0;32m--> 142\u001b[0m     \u001b[39mreturn\u001b[39;00m [_column_to_series(arg, df\u001b[39m=\u001b[39;49mdf)]  \u001b[39m# type: ignore\u001b[39;00m\n\u001b[1;32m    143\u001b[0m \u001b[39melse\u001b[39;00m:\n\u001b[1;32m    144\u001b[0m     \u001b[39mraise\u001b[39;00m \u001b[39mValueError\u001b[39;00m(\u001b[39mf\u001b[39m\u001b[39m\"\u001b[39m\u001b[39mInvalid argument, \u001b[39m\u001b[39m{\u001b[39;00marg\u001b[39m}\u001b[39;00m\u001b[39m, of type \u001b[39m\u001b[39m{\u001b[39;00m\u001b[39mtype\u001b[39m(arg)\u001b[39m}\u001b[39;00m\u001b[39m\"\u001b[39m)\n",
      "File \u001b[0;32m/anaconda/envs/data-science/lib/python3.10/site-packages/dsgtools/utils/standardizeinputs.py:36\u001b[0m, in \u001b[0;36m_column_to_series\u001b[0;34m(column, df, reset_index)\u001b[0m\n\u001b[1;32m     33\u001b[0m         \u001b[39mraise\u001b[39;00m \u001b[39mException\u001b[39;00m(\u001b[39m\"\u001b[39m\u001b[39mMust provide df if using str column names.\u001b[39m\u001b[39m\"\u001b[39m)\n\u001b[1;32m     35\u001b[0m     \u001b[39mif\u001b[39;00m column \u001b[39mnot\u001b[39;00m \u001b[39min\u001b[39;00m df\u001b[39m.\u001b[39mcolumns\u001b[39m.\u001b[39mtolist():\n\u001b[0;32m---> 36\u001b[0m         \u001b[39mraise\u001b[39;00m \u001b[39mException\u001b[39;00m(\u001b[39mf\u001b[39m\u001b[39m\"\u001b[39m\u001b[39m{\u001b[39;00mcolumn\u001b[39m}\u001b[39;00m\u001b[39m is not a column of df.\u001b[39m\u001b[39m\"\u001b[39m)\n\u001b[1;32m     38\u001b[0m     res \u001b[39m=\u001b[39m df[column]\n\u001b[1;32m     39\u001b[0m \u001b[39melif\u001b[39;00m \u001b[39misinstance\u001b[39m(column, pd\u001b[39m.\u001b[39mSeries):\n",
      "\u001b[0;31mException\u001b[0m: year is not a column of df."
     ]
    }
   ],
   "source": [
    "from dsgtools.reporting import ks_tables\n",
    "score_fmt = make_format(cuts = [-np.inf, 299, 400, 425, 450, 475, 500, 525, 550, 575, 600, 625, \n",
    "                               650, 675, 700, 725, 750, 775, 800, 850, np.inf], exceptions = [0, 100, 200, 222])\n",
    "\n",
    "kss_tbl = ks_tables(['b_model1score', 't1_model1score', 't2_model1score', 'b_model2score', 't1_model2score', 't2_model2score'],\n",
    "    y = \"AnalysisCreditBad\",\n",
    "    format = score_fmt,\n",
    "    df=merged,\n",
    "    groups = \"year\"\n",
    ")\n",
    "kss_tbl.to_xlsx(\"./_temp/ks.xlsx\", dof = [0.05, 0.1, 0.2, 0.3], overwrite = True)"
   ]
  },
  {
   "cell_type": "code",
   "execution_count": 17,
   "metadata": {},
   "outputs": [],
   "source": [
    "fmt = make_format(cuts = [-np.inf, -51, -41, -31, -21, -11, -6, -5, -4, -3, -2, -1, 0, 1, 2, 3, 4, 5, 10, 20, 30, 40, 50, np.inf], exceptions = [-999_999])\n",
    "result = dict()\n",
    "\n",
    "result[\"f1\"] = freq(merged[\"t1_b_mld1score\"], format = fmt, observed = True)\n",
    "result[\"f2\"] = freq(merged[\"t1_b_mld2score\"], format = fmt, observed = True)\n",
    "result[\"f3\"] = freq(merged[\"t2_b_mld1score\"], format = fmt, observed = True)\n",
    "result[\"f4\"] = freq(merged[\"t2_b_mld2score\"], format = fmt, observed = True)\n",
    "\n",
    "wb = TableWriter(filename = \"./_temp/freq_201506.xlsx\", options={'nan_inf_to_errors': True}, overwrite = True)\n",
    "for k in result.keys():\n",
    "    wb.write_table(\n",
    "        result[k],\n",
    "        sheetname=\"biv\",\n",
    "        conditional_fmt_cols=[1],\n",
    "    )\n",
    "wb.close()"
   ]
  },
  {
   "cell_type": "code",
   "execution_count": 6,
   "metadata": {},
   "outputs": [],
   "source": [
    "exclude = ['accountnumber', 'historydateyyyymm', 'bus_company_name', 'powid', 'proxid', 'seleid', 'orgid', 'ultid', 'lnlexidsele','model1name', 'model1score',\n",
    "           'model1rc1', 'model1rc2', 'model1rc3', 'model1rc4', 'model1rc5', 'model1rc6', 'model2name', 'model2score', 'model2rc1', 'model2rc2', 'model2rc3', 'model2rc4',\n",
    "           'model2rc5', 'model2rc6', 'model3name', 'model3score', 'model3rc1', 'model3rc2', 'model3rc3', 'model3rc4', 'model3rc5', 'model3rc6', 'model4name', 'model4score',\n",
    "           'model4rc1', 'model4rc2', 'model4rc3', 'model4rc4', 'model4rc5', 'model4rc6', 'model5name', 'model5score', 'model5rc1', 'model5rc2', 'model5rc3', 'model5rc4',\n",
    "           'model5rc5', 'model5rc6', 'model6name', 'model6score', 'model6rc1', 'model6rc2', 'model6rc3', 'model6rc4', 'model6rc5', 'model6rc6', 'model7name', 'model7score',\n",
    "           'model7rc1', 'model7rc2', 'model7rc3', 'model7rc4', 'model7rc5', 'model7rc6', 'model8name', 'model8score', 'model8rc1', 'model8rc2', 'model8rc3', 'model8rc4',\n",
    "           'model8rc5', 'model8rc6', 'model9name', 'model9score', 'model9rc1', 'model9rc2', 'model9rc3', 'model9rc4', 'model9rc5', 'model9rc6', 'model10name', 'model10score',\n",
    "           'model10rc1', 'model10rc2', 'model10rc3', 'model10rc4', 'model10rc5', 'model10rc6', 'errorcode', 'time_ms']\n",
    "sbfe_attr = [x for x in baseline.columns if \"sbfe\" in x]\n",
    "rv_attr = [x for x in baseline.columns if x not in sbfe_attr and x not in exclude]\n",
    "model = [\"model1score\", \"model2score\"]\n",
    "\n",
    "exception_dict = dict()\n",
    "for x in baseline.columns:\n",
    "    if x in sbfe_attr:\n",
    "        exception_dict[x] = [-99, -98, -97]\n",
    "    if x in rv_attr:\n",
    "        exception_dict[x] = [-1]\n",
    "    if x in model:\n",
    "        exception_dict[x] = [0, 100, 200, 222]"
   ]
  },
  {
   "cell_type": "code",
   "execution_count": 7,
   "metadata": {},
   "outputs": [
    {
     "data": {
      "text/plain": [
       "<dsgtools.reporting.tablewriter.TableWriter at 0x7f44b8e9e8f0>"
      ]
     },
     "execution_count": 7,
     "metadata": {},
     "output_type": "execute_result"
    },
    {
     "data": {
      "text/plain": [
       "<Figure size 640x480 with 0 Axes>"
      ]
     },
     "metadata": {},
     "output_type": "display_data"
    }
   ],
   "source": [
    "\n",
    "from dsgtools.reporting import ImpactAnalysisReport\n",
    "fmt_score = make_format(cuts = [-np.inf, 500, 550, 600, 625, 650, 675, 700, 725, 750, 775, 800, 825, 850, 900, np.inf], exceptions = [0, 100, 200, 222])\n",
    "cr = ImpactAnalysisReport(baseline, test_1, keys=\"accountnumber\",\n",
    "           score_formats = {\"model1score\" : fmt_score, \n",
    "                         'model2score': fmt_score, },\n",
    "           score_columns = [\"model1score\", \"model2score\", \"sbfehitindex\"], exceptions = exception_dict,\n",
    "           dataframe_names = (\"baseline\", \"test1\"))\n",
    "cr.to_xlsx(\"./_temp/air937_perf_test1_data-comparison.xlsx\", overwrite= True)"
   ]
  },
  {
   "cell_type": "code",
   "execution_count": 8,
   "metadata": {},
   "outputs": [
    {
     "data": {
      "text/plain": [
       "<dsgtools.reporting.tablewriter.TableWriter at 0x7f44b9547340>"
      ]
     },
     "execution_count": 8,
     "metadata": {},
     "output_type": "execute_result"
    },
    {
     "data": {
      "text/plain": [
       "<Figure size 640x480 with 0 Axes>"
      ]
     },
     "metadata": {},
     "output_type": "display_data"
    }
   ],
   "source": [
    "fmt_score = make_format(cuts = [-np.inf, 500, 550, 600, 625, 650, 675, 700, 725, 750, 775, 800, 825, 850, 900, np.inf], exceptions = [0, 100, 200, 222])\n",
    "cr = ImpactAnalysisReport(baseline, test_2, keys=\"accountnumber\",\n",
    "           score_columns = [\"model1score\", \"model2score\", \"sbfehitindex\"], \n",
    "           score_formats = {\"model1score\" : fmt_score, \n",
    "                         'model2score': fmt_score, },\n",
    "           exceptions=exception_dict, \n",
    "           dataframe_names = (\"baseline\", \"test2\"))\n",
    "cr.to_xlsx(\"./_temp/air937_perf_test2_data-comparison.xlsx\", overwrite= True)"
   ]
  },
  {
   "cell_type": "code",
   "execution_count": 16,
   "metadata": {},
   "outputs": [],
   "source": [
    "\n",
    "# from dsgtools.reporting import ImpactAnalysisReport\n",
    "# fmt_score = make_format(cuts = [-np.inf, 500, 550, 600, 625, 650, 675, 700, 725, 750, 775, 800, 825, 850, 900, np.inf], exceptions = [0, 100, 200, 222])\n",
    "# cr = ImpactAnalysisReport(test_1, test_2, keys=\"accountnumber\",\n",
    "#            score_columns = [\"model1score\", \"model2score\", \"sbfehitindex\"], \n",
    "#            score_formats = {\"model1score\" : fmt_score, \n",
    "#                          'model2score': fmt_score, },\n",
    "#            exceptions=exception_dict, \n",
    "#            dataframe_names = (\"test_1\", \"test2\"))\n",
    "# cr.to_xlsx(\"./_temp/temp_air937_201506_test1_test2_data-comparison.xlsx\", overwrite= True)"
   ]
  },
  {
   "cell_type": "code",
   "execution_count": null,
   "metadata": {},
   "outputs": [],
   "source": []
  },
  {
   "cell_type": "code",
   "execution_count": null,
   "metadata": {},
   "outputs": [],
   "source": []
  }
 ],
 "metadata": {
  "kernelspec": {
   "display_name": "data-science",
   "language": "python",
   "name": "python3"
  },
  "language_info": {
   "codemirror_mode": {
    "name": "ipython",
    "version": 3
   },
   "file_extension": ".py",
   "mimetype": "text/x-python",
   "name": "python",
   "nbconvert_exporter": "python",
   "pygments_lexer": "ipython3",
   "version": "3.10.6"
  },
  "orig_nbformat": 4
 },
 "nbformat": 4,
 "nbformat_minor": 2
}
