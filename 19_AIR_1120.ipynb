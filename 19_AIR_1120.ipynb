{
 "cells": [
  {
   "cell_type": "code",
   "execution_count": 1,
   "metadata": {},
   "outputs": [
    {
     "name": "stderr",
     "output_type": "stream",
     "text": [
      "Matplotlib is building the font cache; this may take a moment.\n"
     ]
    }
   ],
   "source": [
    "import time\n",
    "import pandas as pd\n",
    "import numpy as np\n",
    "import math\n",
    "\n",
    "# internal tools\n",
    "from dsgtools.reporting import make_format\n",
    "from dsgtools.reporting import TableWriter\n",
    "from dsgtools.reporting import freq\n",
    "from dsgtools.reporting import bivariate"
   ]
  },
  {
   "cell_type": "markdown",
   "metadata": {},
   "source": [
    "# Sample"
   ]
  },
  {
   "cell_type": "code",
   "execution_count": 4,
   "metadata": {},
   "outputs": [
    {
     "name": "stdout",
     "output_type": "stream",
     "text": [
      "(3618335, 52)\n",
      "(1375730, 52)\n"
     ]
    }
   ],
   "source": [
    "extract_12_2021 = pd.read_adls('Analytics/Personal Folders/liuwei01/Prj2023/origination_extract_Joe/origination_extract_12M_202101_202112.csv', \n",
    "                      reader = pd.read_csv, dtype = str, encoding='iso-8859-1')\n",
    "print(extract_12_2021.shape)\n",
    "extract_12_2021 = extract_12_2021[extract_12_2021.AnalysisCreditBad.notnull() & (extract_12_2021.InsufficientBusiness == \"0\") & (extract_12_2021.InsufficientRep == \"0\")]\n",
    "print(extract_12_2021.shape)"
   ]
  },
  {
   "cell_type": "code",
   "execution_count": 5,
   "metadata": {},
   "outputs": [
    {
     "data": {
      "text/html": [
       "<div>\n",
       "<style scoped>\n",
       "    .dataframe tbody tr th:only-of-type {\n",
       "        vertical-align: middle;\n",
       "    }\n",
       "\n",
       "    .dataframe tbody tr th {\n",
       "        vertical-align: top;\n",
       "    }\n",
       "\n",
       "    .dataframe thead th {\n",
       "        text-align: right;\n",
       "    }\n",
       "</style>\n",
       "<table border=\"1\" class=\"dataframe\">\n",
       "  <thead>\n",
       "    <tr style=\"text-align: right;\">\n",
       "      <th></th>\n",
       "      <th></th>\n",
       "      <th></th>\n",
       "      <th>Count</th>\n",
       "      <th>Pct</th>\n",
       "      <th>Cuml Count</th>\n",
       "      <th>Cuml Pct</th>\n",
       "    </tr>\n",
       "    <tr>\n",
       "      <th>InsufficientBusiness</th>\n",
       "      <th>InsufficientRep</th>\n",
       "      <th>AnalysisCreditBad</th>\n",
       "      <th></th>\n",
       "      <th></th>\n",
       "      <th></th>\n",
       "      <th></th>\n",
       "    </tr>\n",
       "  </thead>\n",
       "  <tbody>\n",
       "    <tr>\n",
       "      <th rowspan=\"2\" valign=\"top\">0</th>\n",
       "      <th rowspan=\"2\" valign=\"top\">0</th>\n",
       "      <th>0</th>\n",
       "      <td>1352144.0</td>\n",
       "      <td>0.982856</td>\n",
       "      <td>1352144.0</td>\n",
       "      <td>0.982856</td>\n",
       "    </tr>\n",
       "    <tr>\n",
       "      <th>1</th>\n",
       "      <td>23586.0</td>\n",
       "      <td>0.017144</td>\n",
       "      <td>1375730.0</td>\n",
       "      <td>1.000000</td>\n",
       "    </tr>\n",
       "  </tbody>\n",
       "</table>\n",
       "</div>"
      ],
      "text/plain": [
       "                                                            Count       Pct  \\\n",
       "InsufficientBusiness InsufficientRep AnalysisCreditBad                        \n",
       "0                    0               0                  1352144.0  0.982856   \n",
       "                                     1                    23586.0  0.017144   \n",
       "\n",
       "                                                        Cuml Count  Cuml Pct  \n",
       "InsufficientBusiness InsufficientRep AnalysisCreditBad                        \n",
       "0                    0               0                   1352144.0  0.982856  \n",
       "                                     1                   1375730.0  1.000000  "
      ]
     },
     "execution_count": 5,
     "metadata": {},
     "output_type": "execute_result"
    }
   ],
   "source": [
    "freq(\"InsufficientBusiness\", \"InsufficientRep\", \"AnalysisCreditBad\", df = extract_12_2021, cross = False)"
   ]
  },
  {
   "cell_type": "code",
   "execution_count": 9,
   "metadata": {},
   "outputs": [
    {
     "data": {
      "text/html": [
       "<div>\n",
       "<style scoped>\n",
       "    .dataframe tbody tr th:only-of-type {\n",
       "        vertical-align: middle;\n",
       "    }\n",
       "\n",
       "    .dataframe tbody tr th {\n",
       "        vertical-align: top;\n",
       "    }\n",
       "\n",
       "    .dataframe thead th {\n",
       "        text-align: right;\n",
       "    }\n",
       "</style>\n",
       "<table border=\"1\" class=\"dataframe\">\n",
       "  <thead>\n",
       "    <tr style=\"text-align: right;\">\n",
       "      <th></th>\n",
       "      <th>Count</th>\n",
       "      <th>Pct</th>\n",
       "      <th>Cuml Count</th>\n",
       "      <th>Cuml Pct</th>\n",
       "    </tr>\n",
       "    <tr>\n",
       "      <th>seleid</th>\n",
       "      <th></th>\n",
       "      <th></th>\n",
       "      <th></th>\n",
       "      <th></th>\n",
       "    </tr>\n",
       "  </thead>\n",
       "  <tbody>\n",
       "    <tr>\n",
       "      <th>&lt;= 0</th>\n",
       "      <td>0.0</td>\n",
       "      <td>0.0</td>\n",
       "      <td>0.0</td>\n",
       "      <td>0.0</td>\n",
       "    </tr>\n",
       "    <tr>\n",
       "      <th>1+</th>\n",
       "      <td>1375730.0</td>\n",
       "      <td>1.0</td>\n",
       "      <td>1375730.0</td>\n",
       "      <td>1.0</td>\n",
       "    </tr>\n",
       "    <tr>\n",
       "      <th>Missing</th>\n",
       "      <td>0.0</td>\n",
       "      <td>0.0</td>\n",
       "      <td>1375730.0</td>\n",
       "      <td>1.0</td>\n",
       "    </tr>\n",
       "  </tbody>\n",
       "</table>\n",
       "</div>"
      ],
      "text/plain": [
       "             Count  Pct  Cuml Count  Cuml Pct\n",
       "seleid                                       \n",
       "<= 0           0.0  0.0         0.0       0.0\n",
       "1+       1375730.0  1.0   1375730.0       1.0\n",
       "Missing        0.0  0.0   1375730.0       1.0"
      ]
     },
     "execution_count": 9,
     "metadata": {},
     "output_type": "execute_result"
    }
   ],
   "source": [
    "fmt = make_format(cuts = [-np.inf, 0, np.inf])\n",
    "freq(extract_12_2021.seleid.astype(float), format = fmt)"
   ]
  },
  {
   "cell_type": "code",
   "execution_count": 6,
   "metadata": {},
   "outputs": [
    {
     "data": {
      "text/plain": [
       "Index(['sbfe_contributor_number', 'contract_account_number',\n",
       "       'account_type_reported', 'ultid', 'orgid', 'seleid', 'proxid', 'powid',\n",
       "       'ProjectName', 'UniqueIdentifier', 'ArchiveDate', 'BusinessName',\n",
       "       'BusinessStreetAddress', 'BusinessCity', 'BusinessState',\n",
       "       'BusinessZipcode', 'BusinessPhone', 'BusinessTIN',\n",
       "       'AlternateBusinessName', 'InsufficientBusiness', 'RepFirstName',\n",
       "       'RepLastName', 'RepStreetAddress', 'RepCity', 'RepState', 'RepZipcode',\n",
       "       'RepPhone', 'RepSSN', 'RepDOB', 'RepEmail', 'InsufficientRep', 'Sales',\n",
       "       'EmployeeCount', 'SIC', 'NAICS', 'Approved', 'ApprovedNotFunded',\n",
       "       'Declined', 'AnalysisCreditBad', 'AnalysisFraud', 'CreditDPD',\n",
       "       'ChargeOff', 'ChargeOffAmount', 'UndefinedFraud', 'FirstPayDefault',\n",
       "       'FirstPartyFraud', 'ThirdPartyFraud', 'FraudLossAmount',\n",
       "       'ClientScore1Name', 'ClientScore1', 'ClientScore2Name', 'ClientScore2'],\n",
       "      dtype='object')"
      ]
     },
     "execution_count": 6,
     "metadata": {},
     "output_type": "execute_result"
    }
   ],
   "source": [
    "# with SELEID\n",
    "extract_12_2021.columns"
   ]
  },
  {
   "cell_type": "code",
   "execution_count": 17,
   "metadata": {},
   "outputs": [
    {
     "name": "stdout",
     "output_type": "stream",
     "text": [
      "(100000, 52)\n"
     ]
    }
   ],
   "source": [
    "sample_100k = extract_12_2021.sample(n=100_000, random_state=1)\n",
    "print(sample_100k.shape)"
   ]
  },
  {
   "cell_type": "code",
   "execution_count": 18,
   "metadata": {},
   "outputs": [],
   "source": [
    "sample_100k.to_adls('Analytics/RnD Projects/Product RnD/Business/_ARMBS_Tickets/2023/AIR_1120_sample_100k.parquet')"
   ]
  },
  {
   "cell_type": "code",
   "execution_count": 19,
   "metadata": {},
   "outputs": [
    {
     "data": {
      "text/plain": [
       "True"
      ]
     },
     "execution_count": 19,
     "metadata": {},
     "output_type": "execute_result"
    }
   ],
   "source": [
    "sample_100k[\"unique_id\"] = sample_100k.index + 1\n",
    "sample_100k[\"unique_id\"].is_unique"
   ]
  },
  {
   "cell_type": "code",
   "execution_count": 20,
   "metadata": {},
   "outputs": [],
   "source": [
    "keep = ['unique_id', \n",
    "'BusinessName', 'AlternateBusinessName', 'BusinessStreetAddress', 'BusinessCity', 'BusinessState', 'BusinessZipcode', 'BusinessPhone','BusinessTIN', \n",
    "'RepFirstName', 'RepLastName', 'RepStreetAddress', 'RepCity', 'RepState', 'RepZipcode', 'RepSSN', 'RepDOB', 'RepEmail', 'RepPhone',\n",
    "'ArchiveDate', 'powid', 'proxid', 'seleid', 'orgid', 'ultid', ]\n",
    "sample_100k = sample_100k[keep]"
   ]
  },
  {
   "cell_type": "code",
   "execution_count": 21,
   "metadata": {},
   "outputs": [],
   "source": [
    "sample_100k = sample_100k.rename(columns = {\n",
    "    'unique_id' : \"Accountnumber\", \n",
    "    'BusinessName' : \"CompanyName\", \n",
    "    'AlternateBusinessName' : \"AlternateCompanyName\", \n",
    "    'BusinessStreetAddress' : \"Addr\", \n",
    "    'BusinessCity' : \"City\", \n",
    "    'BusinessState' : \"State\", \n",
    "    'BusinessZipcode' : 'Zip', \n",
    "    'BusinessPhone': 'BusinessPhone',\n",
    "    'BusinessTIN' : 'TaxIdNumber', \n",
    "    'RepFirstName' : 'RepresentativeFirstName', \n",
    "    'RepLastName' : 'RepresentativeLastName', \n",
    "    'RepStreetAddress': 'RepresentativeAddr', \n",
    "    'RepCity' : \"RepresentativeCity\", \n",
    "    'RepState' : 'RepresentativeState', \n",
    "    'RepZipcode' : 'RepresentativeZip', \n",
    "    'RepSSN' : 'RepresentativeSSN', \n",
    "    'RepDOB': 'RepresentativeDOB', \n",
    "    'RepEmail' : 'RepresentativeEmailAddress', \n",
    "    'RepPhone' : 'RepresentativeHomePhone',\n",
    "    'ArchiveDate' : 'HistoryDate', \n",
    "    'powid' : \"PowID\", \n",
    "    'proxid': \"ProxID\", \n",
    "    'seleid': \"SeleID\", \n",
    "    'orgid': \"OrgID\", \n",
    "    'ultid': \"UltID\", \n",
    "})"
   ]
  },
  {
   "cell_type": "code",
   "execution_count": 22,
   "metadata": {},
   "outputs": [],
   "source": [
    "sample_100k.loc[:, \"BusinessIPAddress\"] = None\n",
    "sample_100k.loc[:, \"RepresentativeMiddleName\"] = None\n",
    "sample_100k.loc[:, \"RepresentativeNameSuffix\"] = None\n",
    "sample_100k.loc[:, \"RepresentativeAge\"] = None\n",
    "sample_100k.loc[:, \"RepresentativeDLNumber\"] = None\n",
    "sample_100k.loc[:, \"RepresentativeDLState\"] = None\n",
    "sample_100k.loc[:, \"RepresentativeFormerLastName\"] = None\n",
    "sample_100k.loc[:, \"SIC_Code\"] = None\n",
    "sample_100k.loc[:, \"NAIC_Code\"] = None"
   ]
  },
  {
   "cell_type": "code",
   "execution_count": 23,
   "metadata": {},
   "outputs": [],
   "source": [
    "order = ['Accountnumber', 'CompanyName', 'AlternateCompanyName', 'Addr', 'City', 'State', 'Zip', 'BusinessPhone', 'TaxIdNumber', \n",
    "'BusinessIPAddress', 'RepresentativeFirstName', 'RepresentativeMiddleName', 'RepresentativeLastName', 'RepresentativeNameSuffix', \n",
    "'RepresentativeAddr', 'RepresentativeCity', 'RepresentativeState', 'RepresentativeZip', 'RepresentativeSSN', 'RepresentativeDOB', \n",
    "'RepresentativeAge', 'RepresentativeDLNumber', 'RepresentativeDLState', 'RepresentativeHomePhone', 'RepresentativeEmailAddress', 'RepresentativeFormerLastName', \n",
    "'HistoryDate', 'PowID', 'ProxID', 'SeleID', 'OrgID', 'UltID', 'SIC_Code', 'NAIC_Code', ]\n",
    "sample_100k = sample_100k[order]"
   ]
  },
  {
   "cell_type": "code",
   "execution_count": 24,
   "metadata": {},
   "outputs": [],
   "source": [
    "sample_100k.to_adls(\"Analytics/RnD Projects/Product RnD/Business/_ARMBS_Tickets/2023/AIR_1120_sample_100k.csv\", index = False, overwrite = True)"
   ]
  },
  {
   "cell_type": "markdown",
   "metadata": {},
   "source": [
    "# Analysis"
   ]
  },
  {
   "cell_type": "code",
   "execution_count": 2,
   "metadata": {},
   "outputs": [],
   "source": [
    "string_list = {'lnlexidsele': str, 'outbestbusname': str, 'outbestbusstreetaddr': str, 'outbestbuscity': str, 'outbestbusstate': str, 'outbestbuszip': str, \n",
    "               'outbestbustin': str, 'outbestbusphone': str, 'outbestnaics': str, 'outbestsic': str, 'liennewesttype': str, 'judgmentnewesttype': str, \n",
    "               'inputaddrtype': str, }"
   ]
  },
  {
   "cell_type": "code",
   "execution_count": 9,
   "metadata": {},
   "outputs": [
    {
     "name": "stderr",
     "output_type": "stream",
     "text": [
      "/anaconda/envs/data-science/lib/python3.10/site-packages/dsgtools/azure/adls.py:239: DtypeWarning: Columns (2302) have mixed types. Specify dtype option on import or set low_memory=False.\n",
      "  data = reader(file, **kwargs)\n"
     ]
    },
    {
     "name": "stdout",
     "output_type": "stream",
     "text": [
      "(95575, 2304)\n",
      "(4421, 2304)\n",
      "(99996, 2304)\n"
     ]
    },
    {
     "name": "stderr",
     "output_type": "stream",
     "text": [
      "/anaconda/envs/data-science/lib/python3.10/site-packages/dsgtools/azure/adls.py:239: DtypeWarning: Columns (2302) have mixed types. Specify dtype option on import or set low_memory=False.\n",
      "  data = reader(file, **kwargs)\n"
     ]
    },
    {
     "name": "stdout",
     "output_type": "stream",
     "text": [
      "(100000, 2304)\n"
     ]
    }
   ],
   "source": [
    "## bad data 0922\n",
    "# 1601: 'Analytics/RnD Projects/Product RnD/Business/_ARMBS_Tickets/2023/AIR_1120 (sbfe_bug)/data/0922_air_1120_business_shell_v31_baseline_results_w20230921-173734.csv.gz'\n",
    "# 1601: 'Analytics/RnD Projects/Product RnD/Business/_ARMBS_Tickets/2023/AIR_1120 (sbfe_bug)/data/0922_test_air_1120_business_shell_v31_baseline_results_w20230921-202044.csv.gz'\n",
    "\n",
    "## 2105 test:\n",
    "baseline_path_1 = 'Analytics/RnD Projects/Product RnD/Business/_ARMBS_Tickets/2023/AIR_1120 (sbfe_bug)/data/0922_2105_air_1120_business_shell_v31_baseline_results_w20230922-071955.csv'\n",
    "baseline_path_2 = 'Analytics/RnD Projects/Product RnD/Business/_ARMBS_Tickets/2023/AIR_1120 (sbfe_bug)/data/0922_2105_air_1120_business_shell_v31_baseline_results_w20230922-104035.csv'\n",
    "test_path = 'Analytics/RnD Projects/Product RnD/Business/_ARMBS_Tickets/2023/AIR_1120 (sbfe_bug)/data/0922_2105_air_1120_business_shell_v31_test_results_w20230922-105754.csv'\n",
    "baseline_1 = pd.read_adls(baseline_path_1, dtype = string_list, \n",
    "                        reader = pd.read_csv, verbose = False, low_memory = True, \n",
    "                        encoding='iso-8859-1')\n",
    "print(baseline_1.shape)\n",
    "\n",
    "baseline_2 = pd.read_adls(baseline_path_2, dtype = string_list, \n",
    "                        reader = pd.read_csv, verbose = False, low_memory = True, \n",
    "                        encoding='iso-8859-1')\n",
    "print(baseline_2.shape)\n",
    "baseline = pd.concat([baseline_1, baseline_2], ignore_index = True)\n",
    "print(baseline.shape)\n",
    "\n",
    "test = pd.read_adls(test_path, dtype = string_list, \n",
    "                        reader = pd.read_csv, verbose = False, low_memory = True, \n",
    "                        encoding='iso-8859-1')\n",
    "print(test.shape)\n",
    "\n",
    "\n",
    "## 1601 test:\n",
    "from dsgtools import azure\n",
    "# baseline_path = 'Analytics/RnD Projects/Product RnD/Business/_ARMBS_Tickets/2023/AIR_1120 (sbfe_bug)/data/0926_air_1120_business_shell_v31_baseline_results_w20230924-085143.csv'\n",
    "# test_path = 'Analytics/RnD Projects/Product RnD/Business/_ARMBS_Tickets/2023/AIR_1120 (sbfe_bug)/data/0926_air_1120_business_shell_v31_test_results_w20230924-123242.csv'\n",
    "# baseline = pd.read_adls(baseline_path, dtype = string_list, \n",
    "#                         reader = pd.read_csv, verbose = False, low_memory = True, \n",
    "#                         encoding='iso-8859-1')\n",
    "# print(baseline.shape)\n",
    "\n",
    "# test = pd.read_adls(test_path, dtype = string_list, \n",
    "#                         reader = pd.read_csv, verbose = False, low_memory = True, \n",
    "#                         encoding='iso-8859-1')\n",
    "# print(test.shape)"
   ]
  },
  {
   "cell_type": "code",
   "execution_count": 13,
   "metadata": {},
   "outputs": [],
   "source": [
    "keep = [\"accountnumber\", \"seleid\", 'SBFEUtilRevolving84M', 'SBFEUtilLine84M', 'SBFEUtilOELine84M', 'SBFEUtilCard84M', \n",
    "        'SBFEUtilRevolving24M', 'SBFEUtilLine24M', 'SBFEUtilOELine24M', 'SBFEUtilCard24M']\n",
    "keep = [x.lower() for x in keep]\n",
    "temp_base = baseline[keep].copy()\n",
    "temp_test = test[keep].copy()"
   ]
  },
  {
   "cell_type": "code",
   "execution_count": 14,
   "metadata": {},
   "outputs": [
    {
     "name": "stdout",
     "output_type": "stream",
     "text": [
      "(99996, 19)\n"
     ]
    },
    {
     "data": {
      "text/plain": [
       "(104, 19)"
      ]
     },
     "execution_count": 14,
     "metadata": {},
     "output_type": "execute_result"
    }
   ],
   "source": [
    "merged = temp_base.merge(temp_test, on = \"accountnumber\")\n",
    "print(merged.shape)\n",
    "merged[(merged.sbfeutilrevolving84m_x != merged.sbfeutilrevolving84m_y) | (merged.sbfeutilline84m_x != merged.sbfeutilline84m_y) |\\\n",
    "       (merged.sbfeutiloeline84m_x != merged.sbfeutiloeline84m_y) | (merged.sbfeutilcard84m_x != merged.sbfeutilcard84m_y)|\\\n",
    "              (merged.sbfeutilrevolving24m_x != merged.sbfeutilrevolving24m_y) | (merged.sbfeutilline24m_x != merged.sbfeutilline24m_y) |\\\n",
    "       (merged.sbfeutiloeline24m_x != merged.sbfeutiloeline24m_y) | (merged.sbfeutilcard24m_x != merged.sbfeutilcard24m_y)].shape"
   ]
  },
  {
   "cell_type": "code",
   "execution_count": null,
   "metadata": {},
   "outputs": [],
   "source": [
    "merged.loc[(merged.sbfeutilrevolving84m_x != merged.sbfeutilrevolving84m_y) | (merged.sbfeutilline84m_x != merged.sbfeutilline84m_y) |\\\n",
    "       (merged.sbfeutiloeline84m_x != merged.sbfeutiloeline84m_y) | (merged.sbfeutilcard84m_x != merged.sbfeutilcard84m_y)|\\\n",
    "              (merged.sbfeutilrevolving24m_x != merged.sbfeutilrevolving24m_y) | (merged.sbfeutilline24m_x != merged.sbfeutilline24m_y) |\\\n",
    "       (merged.sbfeutiloeline24m_x != merged.sbfeutiloeline24m_y) | (merged.sbfeutilcard24m_x != merged.sbfeutilcard24m_y), 'accountnumber'].to_csv('./_temp/sample_for_pri_1120.csv', index = False)"
   ]
  },
  {
   "cell_type": "code",
   "execution_count": 7,
   "metadata": {},
   "outputs": [
    {
     "name": "stdout",
     "output_type": "stream",
     "text": [
      "(99982, 2305)\n"
     ]
    },
    {
     "data": {
      "text/html": [
       "<div>\n",
       "<style scoped>\n",
       "    .dataframe tbody tr th:only-of-type {\n",
       "        vertical-align: middle;\n",
       "    }\n",
       "\n",
       "    .dataframe tbody tr th {\n",
       "        vertical-align: top;\n",
       "    }\n",
       "\n",
       "    .dataframe thead th {\n",
       "        text-align: right;\n",
       "    }\n",
       "</style>\n",
       "<table border=\"1\" class=\"dataframe\">\n",
       "  <thead>\n",
       "    <tr style=\"text-align: right;\">\n",
       "      <th></th>\n",
       "      <th>Count</th>\n",
       "      <th>Pct</th>\n",
       "      <th>Cuml Count</th>\n",
       "      <th>Cuml Pct</th>\n",
       "    </tr>\n",
       "    <tr>\n",
       "      <th>seleid_diff</th>\n",
       "      <th></th>\n",
       "      <th></th>\n",
       "      <th></th>\n",
       "      <th></th>\n",
       "    </tr>\n",
       "  </thead>\n",
       "  <tbody>\n",
       "    <tr>\n",
       "      <th>0</th>\n",
       "      <td>99982.0</td>\n",
       "      <td>1.0</td>\n",
       "      <td>99982.0</td>\n",
       "      <td>1.0</td>\n",
       "    </tr>\n",
       "  </tbody>\n",
       "</table>\n",
       "</div>"
      ],
      "text/plain": [
       "               Count  Pct  Cuml Count  Cuml Pct\n",
       "seleid_diff                                    \n",
       "0            99982.0  1.0     99982.0       1.0"
      ]
     },
     "execution_count": 7,
     "metadata": {},
     "output_type": "execute_result"
    }
   ],
   "source": [
    "bs_seleid = baseline[[\"accountnumber\", \"seleid\"]]\n",
    "bs_seleid.columns = [\"accountnumber\", \"bs_seleid\"]\n",
    "test = test.merge(bs_seleid, on = \"accountnumber\")\n",
    "print(test.shape)\n",
    "test[\"seleid_diff\"] = np.where(test.seleid == bs_seleid.bs_seleid, 0, 1)\n",
    "freq(test[\"seleid_diff\"])"
   ]
  },
  {
   "cell_type": "code",
   "execution_count": 8,
   "metadata": {},
   "outputs": [],
   "source": [
    "exclude = ['accountnumber', 'historydateyyyymm', 'bus_company_name', 'powid', 'proxid', 'seleid', 'orgid', 'ultid', 'lnlexidsele','model1name', 'model1score',\n",
    "           'model1rc1', 'model1rc2', 'model1rc3', 'model1rc4', 'model1rc5', 'model1rc6', 'model2name', 'model2score', 'model2rc1', 'model2rc2', 'model2rc3', 'model2rc4',\n",
    "           'model2rc5', 'model2rc6', 'model3name', 'model3score', 'model3rc1', 'model3rc2', 'model3rc3', 'model3rc4', 'model3rc5', 'model3rc6', 'model4name', 'model4score',\n",
    "           'model4rc1', 'model4rc2', 'model4rc3', 'model4rc4', 'model4rc5', 'model4rc6', 'model5name', 'model5score', 'model5rc1', 'model5rc2', 'model5rc3', 'model5rc4',\n",
    "           'model5rc5', 'model5rc6', 'model6name', 'model6score', 'model6rc1', 'model6rc2', 'model6rc3', 'model6rc4', 'model6rc5', 'model6rc6', 'model7name', 'model7score',\n",
    "           'model7rc1', 'model7rc2', 'model7rc3', 'model7rc4', 'model7rc5', 'model7rc6', 'model8name', 'model8score', 'model8rc1', 'model8rc2', 'model8rc3', 'model8rc4',\n",
    "           'model8rc5', 'model8rc6', 'model9name', 'model9score', 'model9rc1', 'model9rc2', 'model9rc3', 'model9rc4', 'model9rc5', 'model9rc6', 'model10name', 'model10score',\n",
    "           'model10rc1', 'model10rc2', 'model10rc3', 'model10rc4', 'model10rc5', 'model10rc6', 'errorcode', 'time_ms']\n",
    "sbfe_attr = [x for x in baseline.columns if \"sbfe\" in x]\n",
    "rv_attr = [x for x in baseline.columns if x not in sbfe_attr and x not in exclude]\n",
    "model = [\"model1score\", \"model2score\"]\n",
    "\n",
    "exception_dict = dict()\n",
    "for x in baseline.columns:\n",
    "    if x in sbfe_attr:\n",
    "        exception_dict[x] = [-99, -98, -97]\n",
    "    if x in rv_attr:\n",
    "        exception_dict[x] = [-1]\n",
    "    if x in model:\n",
    "        exception_dict[x] = [0, 100, 200, 222]"
   ]
  },
  {
   "cell_type": "code",
   "execution_count": 9,
   "metadata": {},
   "outputs": [
    {
     "data": {
      "text/plain": [
       "<dsgtools.reporting.tablewriter.TableWriter at 0x7ff9113d57e0>"
      ]
     },
     "execution_count": 9,
     "metadata": {},
     "output_type": "execute_result"
    },
    {
     "data": {
      "text/plain": [
       "<Figure size 640x480 with 0 Axes>"
      ]
     },
     "metadata": {},
     "output_type": "display_data"
    }
   ],
   "source": [
    "from dsgtools.reporting import ImpactAnalysisReport\n",
    "fmt_score = make_format(cuts = [-np.inf, 500, 550, 600, 625, 650, 675, 700, 725, 750, 775, 800, 825, 850, 900, np.inf], exceptions = [0, 100, 200, 222])\n",
    "cr = ImpactAnalysisReport(baseline, test, keys=\"accountnumber\",\n",
    "           score_formats = {\"model1score\" : fmt_score, \n",
    "                         'model2score': fmt_score, },\n",
    "           score_columns = [\"model1score\", \"model2score\", \"sbfehitindex\"], exceptions = exception_dict,\n",
    "           dataframe_names = (\"baseline\", \"test\"))\n",
    "cr.to_xlsx(\"./_temp/air1120_1601_data-comparison.xlsx\", overwrite= True)"
   ]
  },
  {
   "cell_type": "code",
   "execution_count": 10,
   "metadata": {},
   "outputs": [
    {
     "data": {
      "text/html": [
       "<div>\n",
       "<style scoped>\n",
       "    .dataframe tbody tr th:only-of-type {\n",
       "        vertical-align: middle;\n",
       "    }\n",
       "\n",
       "    .dataframe tbody tr th {\n",
       "        vertical-align: top;\n",
       "    }\n",
       "\n",
       "    .dataframe thead th {\n",
       "        text-align: right;\n",
       "    }\n",
       "</style>\n",
       "<table border=\"1\" class=\"dataframe\">\n",
       "  <thead>\n",
       "    <tr style=\"text-align: right;\">\n",
       "      <th></th>\n",
       "      <th>Count</th>\n",
       "      <th>Pct</th>\n",
       "      <th>Cuml Count</th>\n",
       "      <th>Cuml Pct</th>\n",
       "    </tr>\n",
       "    <tr>\n",
       "      <th>model1name</th>\n",
       "      <th></th>\n",
       "      <th></th>\n",
       "      <th></th>\n",
       "      <th></th>\n",
       "    </tr>\n",
       "  </thead>\n",
       "  <tbody>\n",
       "    <tr>\n",
       "      <th>SBBM1601_0_0</th>\n",
       "      <td>99982.0</td>\n",
       "      <td>1.0</td>\n",
       "      <td>99982.0</td>\n",
       "      <td>1.0</td>\n",
       "    </tr>\n",
       "  </tbody>\n",
       "</table>\n",
       "</div>"
      ],
      "text/plain": [
       "                Count  Pct  Cuml Count  Cuml Pct\n",
       "model1name                                      \n",
       "SBBM1601_0_0  99982.0  1.0     99982.0       1.0"
      ]
     },
     "execution_count": 10,
     "metadata": {},
     "output_type": "execute_result"
    }
   ],
   "source": [
    "freq(baseline.model1name)"
   ]
  },
  {
   "cell_type": "code",
   "execution_count": null,
   "metadata": {},
   "outputs": [],
   "source": [
    "## 2105 examples for tradeline pull:"
   ]
  },
  {
   "cell_type": "code",
   "execution_count": 4,
   "metadata": {},
   "outputs": [
    {
     "data": {
      "text/html": [
       "<div>\n",
       "<style scoped>\n",
       "    .dataframe tbody tr th:only-of-type {\n",
       "        vertical-align: middle;\n",
       "    }\n",
       "\n",
       "    .dataframe tbody tr th {\n",
       "        vertical-align: top;\n",
       "    }\n",
       "\n",
       "    .dataframe thead th {\n",
       "        text-align: right;\n",
       "    }\n",
       "</style>\n",
       "<table border=\"1\" class=\"dataframe\">\n",
       "  <thead>\n",
       "    <tr style=\"text-align: right;\">\n",
       "      <th></th>\n",
       "      <th>accountnumber</th>\n",
       "      <th>historydateyyyymm</th>\n",
       "      <th>seleid</th>\n",
       "      <th>sbfeaccountcount</th>\n",
       "      <th>sbfeutilrevolving03m</th>\n",
       "      <th>sbfeutilrevolving06m</th>\n",
       "      <th>sbfeutilrevolving12m</th>\n",
       "    </tr>\n",
       "  </thead>\n",
       "  <tbody>\n",
       "    <tr>\n",
       "      <th>8421</th>\n",
       "      <td>751924</td>\n",
       "      <td>202109</td>\n",
       "      <td>140763572</td>\n",
       "      <td>7.0</td>\n",
       "      <td>7.0</td>\n",
       "      <td>27.0</td>\n",
       "      <td>-97.0</td>\n",
       "    </tr>\n",
       "    <tr>\n",
       "      <th>33964</th>\n",
       "      <td>698578</td>\n",
       "      <td>202110</td>\n",
       "      <td>129612605</td>\n",
       "      <td>7.0</td>\n",
       "      <td>59.0</td>\n",
       "      <td>7.0</td>\n",
       "      <td>5.0</td>\n",
       "    </tr>\n",
       "    <tr>\n",
       "      <th>37938</th>\n",
       "      <td>76047</td>\n",
       "      <td>202108</td>\n",
       "      <td>13445417</td>\n",
       "      <td>10.0</td>\n",
       "      <td>83.0</td>\n",
       "      <td>86.0</td>\n",
       "      <td>100.0</td>\n",
       "    </tr>\n",
       "  </tbody>\n",
       "</table>\n",
       "</div>"
      ],
      "text/plain": [
       "       accountnumber  historydateyyyymm     seleid  sbfeaccountcount  \\\n",
       "8421          751924             202109  140763572               7.0   \n",
       "33964         698578             202110  129612605               7.0   \n",
       "37938          76047             202108   13445417              10.0   \n",
       "\n",
       "       sbfeutilrevolving03m  sbfeutilrevolving06m  sbfeutilrevolving12m  \n",
       "8421                    7.0                  27.0                 -97.0  \n",
       "33964                  59.0                   7.0                   5.0  \n",
       "37938                  83.0                  86.0                 100.0  "
      ]
     },
     "execution_count": 4,
     "metadata": {},
     "output_type": "execute_result"
    }
   ],
   "source": [
    "test.loc[test.accountnumber.isin([76047, 698578, 751924]), [\"accountnumber\", \"historydateyyyymm\", \"seleid\", \"sbfeaccountcount\", \"sbfeutilrevolving03m\", \"sbfeutilrevolving06m\", \"sbfeutilrevolving12m\"]]"
   ]
  },
  {
   "cell_type": "code",
   "execution_count": 5,
   "metadata": {},
   "outputs": [
    {
     "data": {
      "text/html": [
       "<div>\n",
       "<style scoped>\n",
       "    .dataframe tbody tr th:only-of-type {\n",
       "        vertical-align: middle;\n",
       "    }\n",
       "\n",
       "    .dataframe tbody tr th {\n",
       "        vertical-align: top;\n",
       "    }\n",
       "\n",
       "    .dataframe thead th {\n",
       "        text-align: right;\n",
       "    }\n",
       "</style>\n",
       "<table border=\"1\" class=\"dataframe\">\n",
       "  <thead>\n",
       "    <tr style=\"text-align: right;\">\n",
       "      <th></th>\n",
       "      <th>accountnumber</th>\n",
       "      <th>historydateyyyymm</th>\n",
       "      <th>seleid</th>\n",
       "      <th>sbfeaccountcount</th>\n",
       "      <th>sbfeutilrevolving03m</th>\n",
       "      <th>sbfeutilrevolving06m</th>\n",
       "      <th>sbfeutilrevolving12m</th>\n",
       "    </tr>\n",
       "  </thead>\n",
       "  <tbody>\n",
       "    <tr>\n",
       "      <th>8061</th>\n",
       "      <td>751924</td>\n",
       "      <td>202109</td>\n",
       "      <td>140763572</td>\n",
       "      <td>7.0</td>\n",
       "      <td>7.0</td>\n",
       "      <td>27.0</td>\n",
       "      <td>-97.0</td>\n",
       "    </tr>\n",
       "    <tr>\n",
       "      <th>32529</th>\n",
       "      <td>698578</td>\n",
       "      <td>202110</td>\n",
       "      <td>129612605</td>\n",
       "      <td>7.0</td>\n",
       "      <td>59.0</td>\n",
       "      <td>7.0</td>\n",
       "      <td>56.0</td>\n",
       "    </tr>\n",
       "    <tr>\n",
       "      <th>36346</th>\n",
       "      <td>76047</td>\n",
       "      <td>202108</td>\n",
       "      <td>13445417</td>\n",
       "      <td>10.0</td>\n",
       "      <td>83.0</td>\n",
       "      <td>86.0</td>\n",
       "      <td>100.0</td>\n",
       "    </tr>\n",
       "  </tbody>\n",
       "</table>\n",
       "</div>"
      ],
      "text/plain": [
       "       accountnumber  historydateyyyymm     seleid  sbfeaccountcount  \\\n",
       "8061          751924             202109  140763572               7.0   \n",
       "32529         698578             202110  129612605               7.0   \n",
       "36346          76047             202108   13445417              10.0   \n",
       "\n",
       "       sbfeutilrevolving03m  sbfeutilrevolving06m  sbfeutilrevolving12m  \n",
       "8061                    7.0                  27.0                 -97.0  \n",
       "32529                  59.0                   7.0                  56.0  \n",
       "36346                  83.0                  86.0                 100.0  "
      ]
     },
     "execution_count": 5,
     "metadata": {},
     "output_type": "execute_result"
    }
   ],
   "source": [
    "baseline.loc[baseline.accountnumber.isin([76047, 698578, 751924]), [\"accountnumber\", \"historydateyyyymm\", \"seleid\", \"sbfeaccountcount\", \"sbfeutilrevolving03m\", \"sbfeutilrevolving06m\", \"sbfeutilrevolving12m\"]]"
   ]
  },
  {
   "cell_type": "code",
   "execution_count": null,
   "metadata": {},
   "outputs": [],
   "source": [
    "### performance & attributes\n",
    "keep = [\"accountsnumber\", 'SBFEUtilRevolving03M'\n",
    "'SBFEUtilRevolving06M'\n",
    "'SBFEUtilRevolving12M'\n",
    "'SBFEUtilRevolving24M'\n",
    "'SBFEUtilRevolving36M'\n",
    "'SBFEUtilRevolving60M'\n",
    "'SBFEUtilRevolving84M'\n",
    " \n",
    "\n",
    "'SBFEUtilLine03M'\n",
    "'SBFEUtilLine06M'\n",
    "'SBFEUtilLine12M'\n",
    "'SBFEUtilLine24M'\n",
    "'SBFEUtilLine36M'\n",
    "'SBFEUtilLine60M'\n",
    "'SBFEUtilLine84M'\n",
    "'SBFEUtilCard03M'\n",
    "'SBFEUtilCard06M'\n",
    "'SBFEUtilCard12M'\n",
    "'SBFEUtilCard24M'\n",
    "'SBFEUtilCard36M'\n",
    "'SBFEUtilCard60M'\n",
    "'SBFEUtilCard84M'\n",
    "'SBFEUtilOELine03M'\n",
    "'SBFEUtilOELine06M'\n",
    "SBFEUtilOELine12M\n",
    "SBFEUtilOELine24M\n",
    "SBFEUtilOELine36M\n",
    "SBFEUtilOELine60M\n",
    "SBFEUtilOELine84M\n",
    "]\n"
   ]
  }
 ],
 "metadata": {
  "kernelspec": {
   "display_name": "data-science",
   "language": "python",
   "name": "python3"
  },
  "language_info": {
   "codemirror_mode": {
    "name": "ipython",
    "version": 3
   },
   "file_extension": ".py",
   "mimetype": "text/x-python",
   "name": "python",
   "nbconvert_exporter": "python",
   "pygments_lexer": "ipython3",
   "version": "3.10.6"
  },
  "orig_nbformat": 4
 },
 "nbformat": 4,
 "nbformat_minor": 2
}
