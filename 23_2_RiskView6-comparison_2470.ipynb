{
 "cells": [
  {
   "cell_type": "code",
   "execution_count": 1,
   "metadata": {},
   "outputs": [
    {
     "name": "stderr",
     "output_type": "stream",
     "text": [
      "Matplotlib is building the font cache; this may take a moment.\n"
     ]
    }
   ],
   "source": [
    "import time\n",
    "import pandas as pd\n",
    "import numpy as np\n",
    "import math\n",
    "\n",
    "# internal tools\n",
    "from dsgtools.reporting import make_format\n",
    "from dsgtools.reporting import TableWriter\n",
    "from dsgtools.reporting import freq\n",
    "from dsgtools.reporting import bivariate\n",
    "from dsgtools import azure"
   ]
  },
  {
   "cell_type": "code",
   "execution_count": 2,
   "metadata": {},
   "outputs": [
    {
     "name": "stdout",
     "output_type": "stream",
     "text": [
      "(43516, 401)\n",
      "(27572, 401)\n",
      "(11494, 401)\n",
      "(108596, 401)\n",
      "(191178, 401)\n"
     ]
    }
   ],
   "source": [
    "path = \"Analytics/Customer Projects/RND_multiple_clint_rv6_attr_rerun - proj 12092 (RV 6.0)/File from the Customer/ANCUMA821_bpl_4clients/input/\"\n",
    "df_prod_107571 = pd.read_adls(path + \"107571_cnu_parquet\", reader = pd.read_parquet)\n",
    "df_prod_107671 = pd.read_adls(path + \"107671_bankers_healthcare_parquet\", reader = pd.read_parquet)\n",
    "df_prod_107891 = pd.read_adls(path + \"107891_bpl_parquet\", reader = pd.read_parquet)\n",
    "df_prod_108706 = pd.read_adls(path + \"108706_blue_chip_parquet\", reader = pd.read_parquet)\n",
    "\n",
    "print(df_prod_107571.shape)\n",
    "print(df_prod_107671.shape)\n",
    "print(df_prod_107891.shape)\n",
    "print(df_prod_108706.shape)\n",
    "\n",
    "df_prod = pd.concat([df_prod_107571, df_prod_107671, df_prod_107891, df_prod_108706], ignore_index = True)\n",
    "print(df_prod.shape)"
   ]
  },
  {
   "cell_type": "code",
   "execution_count": 3,
   "metadata": {},
   "outputs": [
    {
     "data": {
      "text/plain": [
       "2023-10    11494\n",
       "Name: date_added, dtype: int64"
      ]
     },
     "metadata": {},
     "output_type": "display_data"
    },
    {
     "data": {
      "text/plain": [
       "2023-10    108596\n",
       "Name: date_added, dtype: int64"
      ]
     },
     "metadata": {},
     "output_type": "display_data"
    }
   ],
   "source": [
    "display(df_prod_107891.date_added.astype(str).str.slice(0, 7).value_counts())\n",
    "display(df_prod_108706.date_added.astype(str).str.slice(0, 7).value_counts())"
   ]
  },
  {
   "cell_type": "code",
   "execution_count": 4,
   "metadata": {},
   "outputs": [
    {
     "name": "stdout",
     "output_type": "stream",
     "text": [
      "(43516, 507)\n",
      "(27572, 507)\n",
      "(11494, 507)\n",
      "(108596, 507)\n",
      "(191178, 507)\n"
     ]
    }
   ],
   "source": [
    "path = \"Analytics/Customer Projects/RND_multiple_clint_rv6_attr_rerun - proj 12092 (RV 6.0)/File from the Customer/ANCUMA821_bpl_4clients/processing/\"\n",
    "df_107571 = pd.read_adls(path + \"ln_12092_cons1_input_107571_cnuohorvxml_riskview_v6_normal_mask_total.csv\", verbose = False, low_memory = False, encoding = \"iso-8859-1\")\n",
    "df_107671 = pd.read_adls(path + \"ln_12092_cons1_input_107671_bhgrvxml_riskview_v6_normal_mask_total.csv\", verbose = False, low_memory = False, encoding = \"iso-8859-1\")\n",
    "df_107891 = pd.read_adls(path + \"ln_12092_cons1_input_107891_gdsbpllrvxml_riskview_v6_normal_mask_total.csv\", verbose = False, low_memory = False, encoding = \"iso-8859-1\")\n",
    "df_108706 = pd.read_adls(path + \"ln_12092_cons1_input_108706_bluechiprvxml_riskview_v6_normal_mask_total.csv\", verbose = False, low_memory = False, encoding = \"iso-8859-1\")\n",
    "\n",
    "print(df_107571.shape)\n",
    "print(df_107671.shape)\n",
    "print(df_107891.shape)\n",
    "print(df_108706.shape)\n",
    "\n",
    "df = pd.concat([df_107571, df_107671, df_107891, df_108706], ignore_index = True)\n",
    "print(df.shape)"
   ]
  },
  {
   "cell_type": "code",
   "execution_count": 5,
   "metadata": {},
   "outputs": [
    {
     "name": "stdout",
     "output_type": "stream",
     "text": [
      "True\n",
      "True\n"
     ]
    }
   ],
   "source": [
    "print(df.acctno.is_unique)\n",
    "print(df_prod.transaction_id.is_unique)"
   ]
  },
  {
   "cell_type": "code",
   "execution_count": 6,
   "metadata": {},
   "outputs": [
    {
     "data": {
      "text/html": [
       "<div>\n",
       "<style scoped>\n",
       "    .dataframe tbody tr th:only-of-type {\n",
       "        vertical-align: middle;\n",
       "    }\n",
       "\n",
       "    .dataframe tbody tr th {\n",
       "        vertical-align: top;\n",
       "    }\n",
       "\n",
       "    .dataframe thead th {\n",
       "        text-align: right;\n",
       "    }\n",
       "</style>\n",
       "<table border=\"1\" class=\"dataframe\">\n",
       "  <thead>\n",
       "    <tr style=\"text-align: right;\">\n",
       "      <th></th>\n",
       "      <th>Count</th>\n",
       "      <th>Pct</th>\n",
       "      <th>Cuml Count</th>\n",
       "      <th>Cuml Pct</th>\n",
       "    </tr>\n",
       "    <tr>\n",
       "      <th>date_added</th>\n",
       "      <th></th>\n",
       "      <th></th>\n",
       "      <th></th>\n",
       "      <th></th>\n",
       "    </tr>\n",
       "  </thead>\n",
       "  <tbody>\n",
       "    <tr>\n",
       "      <th>2023-10</th>\n",
       "      <td>191178.0</td>\n",
       "      <td>1.0</td>\n",
       "      <td>191178.0</td>\n",
       "      <td>1.0</td>\n",
       "    </tr>\n",
       "  </tbody>\n",
       "</table>\n",
       "</div>"
      ],
      "text/plain": [
       "               Count  Pct  Cuml Count  Cuml Pct\n",
       "date_added                                     \n",
       "2023-10     191178.0  1.0    191178.0       1.0"
      ]
     },
     "execution_count": 6,
     "metadata": {},
     "output_type": "execute_result"
    }
   ],
   "source": [
    "freq(df_prod.date_added.astype(str).str.slice(0, 7))"
   ]
  },
  {
   "cell_type": "code",
   "execution_count": 7,
   "metadata": {},
   "outputs": [
    {
     "data": {
      "text/html": [
       "<div>\n",
       "<style scoped>\n",
       "    .dataframe tbody tr th:only-of-type {\n",
       "        vertical-align: middle;\n",
       "    }\n",
       "\n",
       "    .dataframe tbody tr th {\n",
       "        vertical-align: top;\n",
       "    }\n",
       "\n",
       "    .dataframe thead th {\n",
       "        text-align: right;\n",
       "    }\n",
       "</style>\n",
       "<table border=\"1\" class=\"dataframe\">\n",
       "  <thead>\n",
       "    <tr style=\"text-align: right;\">\n",
       "      <th></th>\n",
       "      <th>Count</th>\n",
       "      <th>Pct</th>\n",
       "      <th>Cuml Count</th>\n",
       "      <th>Cuml Pct</th>\n",
       "    </tr>\n",
       "    <tr>\n",
       "      <th>company_id</th>\n",
       "      <th></th>\n",
       "      <th></th>\n",
       "      <th></th>\n",
       "      <th></th>\n",
       "    </tr>\n",
       "  </thead>\n",
       "  <tbody>\n",
       "    <tr>\n",
       "      <th>107571</th>\n",
       "      <td>43516.0</td>\n",
       "      <td>0.227620</td>\n",
       "      <td>43516.0</td>\n",
       "      <td>0.227620</td>\n",
       "    </tr>\n",
       "    <tr>\n",
       "      <th>107671</th>\n",
       "      <td>27572.0</td>\n",
       "      <td>0.144222</td>\n",
       "      <td>71088.0</td>\n",
       "      <td>0.371842</td>\n",
       "    </tr>\n",
       "    <tr>\n",
       "      <th>107891</th>\n",
       "      <td>11494.0</td>\n",
       "      <td>0.060122</td>\n",
       "      <td>82582.0</td>\n",
       "      <td>0.431964</td>\n",
       "    </tr>\n",
       "    <tr>\n",
       "      <th>108706</th>\n",
       "      <td>108596.0</td>\n",
       "      <td>0.568036</td>\n",
       "      <td>191178.0</td>\n",
       "      <td>1.000000</td>\n",
       "    </tr>\n",
       "  </tbody>\n",
       "</table>\n",
       "</div>"
      ],
      "text/plain": [
       "               Count       Pct  Cuml Count  Cuml Pct\n",
       "company_id                                          \n",
       "107571       43516.0  0.227620     43516.0  0.227620\n",
       "107671       27572.0  0.144222     71088.0  0.371842\n",
       "107891       11494.0  0.060122     82582.0  0.431964\n",
       "108706      108596.0  0.568036    191178.0  1.000000"
      ]
     },
     "execution_count": 7,
     "metadata": {},
     "output_type": "execute_result"
    }
   ],
   "source": [
    "freq(df_prod.company_id)"
   ]
  },
  {
   "cell_type": "code",
   "execution_count": 8,
   "metadata": {},
   "outputs": [
    {
     "name": "stdout",
     "output_type": "stream",
     "text": [
      "(191178, 5)\n"
     ]
    }
   ],
   "source": [
    "## merged the df\n",
    "keep = [\"transaction_id\", \"date_added\", \"o_lexid\"]\n",
    "temp_prod = df_prod[keep]\n",
    "\n",
    "keep =[\"acctno\", \"lexid\"]\n",
    "temp_retro = df[keep]\n",
    "merged = temp_retro.merge(temp_prod, left_on = \"acctno\", right_on = \"transaction_id\")\n",
    "print(merged.shape)"
   ]
  },
  {
   "cell_type": "code",
   "execution_count": 9,
   "metadata": {},
   "outputs": [
    {
     "data": {
      "text/html": [
       "<div>\n",
       "<style scoped>\n",
       "    .dataframe tbody tr th:only-of-type {\n",
       "        vertical-align: middle;\n",
       "    }\n",
       "\n",
       "    .dataframe tbody tr th {\n",
       "        vertical-align: top;\n",
       "    }\n",
       "\n",
       "    .dataframe thead th {\n",
       "        text-align: right;\n",
       "    }\n",
       "</style>\n",
       "<table border=\"1\" class=\"dataframe\">\n",
       "  <thead>\n",
       "    <tr style=\"text-align: right;\">\n",
       "      <th></th>\n",
       "      <th></th>\n",
       "      <th></th>\n",
       "      <th>Count</th>\n",
       "      <th>Pct</th>\n",
       "      <th>Cuml Count</th>\n",
       "      <th>Cuml Pct</th>\n",
       "    </tr>\n",
       "    <tr>\n",
       "      <th>lexid_change</th>\n",
       "      <th>o_lexid</th>\n",
       "      <th>lexid</th>\n",
       "      <th></th>\n",
       "      <th></th>\n",
       "      <th></th>\n",
       "      <th></th>\n",
       "    </tr>\n",
       "  </thead>\n",
       "  <tbody>\n",
       "    <tr>\n",
       "      <th>0</th>\n",
       "      <th>1+</th>\n",
       "      <th>1+</th>\n",
       "      <td>188221.0</td>\n",
       "      <td>0.984533</td>\n",
       "      <td>188221.0</td>\n",
       "      <td>0.984533</td>\n",
       "    </tr>\n",
       "    <tr>\n",
       "      <th rowspan=\"4\" valign=\"top\">1</th>\n",
       "      <th rowspan=\"2\" valign=\"top\">&lt;= 0</th>\n",
       "      <th>1+</th>\n",
       "      <td>506.0</td>\n",
       "      <td>0.002647</td>\n",
       "      <td>188727.0</td>\n",
       "      <td>0.987179</td>\n",
       "    </tr>\n",
       "    <tr>\n",
       "      <th>Missing</th>\n",
       "      <td>1465.0</td>\n",
       "      <td>0.007663</td>\n",
       "      <td>190192.0</td>\n",
       "      <td>0.994843</td>\n",
       "    </tr>\n",
       "    <tr>\n",
       "      <th rowspan=\"2\" valign=\"top\">1+</th>\n",
       "      <th>1+</th>\n",
       "      <td>623.0</td>\n",
       "      <td>0.003259</td>\n",
       "      <td>190815.0</td>\n",
       "      <td>0.998101</td>\n",
       "    </tr>\n",
       "    <tr>\n",
       "      <th>Missing</th>\n",
       "      <td>363.0</td>\n",
       "      <td>0.001899</td>\n",
       "      <td>191178.0</td>\n",
       "      <td>1.000000</td>\n",
       "    </tr>\n",
       "  </tbody>\n",
       "</table>\n",
       "</div>"
      ],
      "text/plain": [
       "                                 Count       Pct  Cuml Count  Cuml Pct\n",
       "lexid_change o_lexid lexid                                            \n",
       "0            1+      1+       188221.0  0.984533    188221.0  0.984533\n",
       "1            <= 0    1+          506.0  0.002647    188727.0  0.987179\n",
       "                     Missing    1465.0  0.007663    190192.0  0.994843\n",
       "             1+      1+          623.0  0.003259    190815.0  0.998101\n",
       "                     Missing     363.0  0.001899    191178.0  1.000000"
      ]
     },
     "execution_count": 9,
     "metadata": {},
     "output_type": "execute_result"
    }
   ],
   "source": [
    "merged[\"lexid_change\"] = np.where(merged.o_lexid == merged.lexid, 0, 1)\n",
    "fmt = make_format(cuts = [-np.inf, 0, np.inf])\n",
    "freq(merged.lexid_change, merged.o_lexid, merged.lexid, format = [None, fmt, fmt], cross = False, observed = True)"
   ]
  },
  {
   "cell_type": "code",
   "execution_count": 10,
   "metadata": {},
   "outputs": [
    {
     "name": "stdout",
     "output_type": "stream",
     "text": [
      "(188221, 6)\n"
     ]
    },
    {
     "name": "stdout",
     "output_type": "stream",
     "text": [
      "(188221, 508)\n",
      "(188221, 402)\n"
     ]
    }
   ],
   "source": [
    "temp = merged[merged.lexid_change == 0]\n",
    "print(temp.shape)\n",
    "df = df.merge(temp[[\"acctno\", \"transaction_id\"]], on = \"acctno\")\n",
    "df_prod = df_prod.merge(temp[[\"acctno\", \"transaction_id\"]], on = \"transaction_id\")\n",
    "print(df.shape)\n",
    "print(df_prod.shape)"
   ]
  },
  {
   "cell_type": "code",
   "execution_count": 11,
   "metadata": {},
   "outputs": [
    {
     "data": {
      "text/plain": [
       "310"
      ]
     },
     "execution_count": 11,
     "metadata": {},
     "output_type": "execute_result"
    }
   ],
   "source": [
    "len([x for x in df.columns if \"pl_\" in x and x != \"pl_fileaddrtype\"])"
   ]
  },
  {
   "cell_type": "code",
   "execution_count": 12,
   "metadata": {},
   "outputs": [
    {
     "name": "stdout",
     "output_type": "stream",
     "text": [
      "340\n"
     ]
    }
   ],
   "source": [
    "col = [x for x in df.columns if \"pl_\" in x or \"pi_\" in x]\n",
    "print(len(col))\n",
    "not_in = ['PL_FileAddrTaxValYr', 'PL_FileAddrType', 'PL_DrgBkNewChType10Y', 'PL_DrgBkNewDispType10Y', 'PI_InpAddrTaxValYr', 'PI_InpAddrType']\n",
    "not_in = [x.lower() for x in not_in]\n",
    "df[[x for x in col if x not in not_in]] = df[[x for x in col if x not in not_in]].astype(float) \n",
    "df_prod[[x for x in col if x not in not_in]] = df_prod[[x for x in col if x not in not_in]].astype(float) \n",
    "col = col + [\"acctno\"]"
   ]
  },
  {
   "cell_type": "code",
   "execution_count": 23,
   "metadata": {},
   "outputs": [
    {
     "data": {
      "text/plain": [
       "<dsgtools.reporting.tablewriter.TableWriter at 0x7fe527271d20>"
      ]
     },
     "execution_count": 23,
     "metadata": {},
     "output_type": "execute_result"
    }
   ],
   "source": [
    "from dsgtools.reporting import ImpactAnalysisReport\n",
    "cr = ImpactAnalysisReport(df[col], df_prod[col], keys=\"acctno\",\n",
    "           exceptions= [-99_999, -99_998, -99_997],\n",
    "           dataframe_names = (\"retro\", \"prod\"))\n",
    "cr.to_xlsx(\"./_temp/riskview-comparison.xlsx\", overwrite= True)"
   ]
  },
  {
   "cell_type": "code",
   "execution_count": 20,
   "metadata": {},
   "outputs": [
    {
     "name": "stdout",
     "output_type": "stream",
     "text": [
      "(31772, 407)\n"
     ]
    },
    {
     "data": {
      "text/plain": [
       "<dsgtools.reporting.tablewriter.TableWriter at 0x7f63b32aef20>"
      ]
     },
     "execution_count": 20,
     "metadata": {},
     "output_type": "execute_result"
    }
   ],
   "source": [
    "temp_prod = df_prod[df_prod.company_id == 107891]\n",
    "print(temp_prod.shape)\n",
    "from dsgtools.reporting import ImpactAnalysisReport\n",
    "cr = ImpactAnalysisReport(df[col], temp_prod[col], keys=\"acctno\",\n",
    "           exceptions= [-99_999, -99_998, -99_997],\n",
    "           dataframe_names = (\"retro\", \"prod\"))\n",
    "cr.to_xlsx(\"./_temp/riskview-comparison_test.xlsx\", overwrite= True)"
   ]
  },
  {
   "cell_type": "code",
   "execution_count": 13,
   "metadata": {},
   "outputs": [
    {
     "name": "stdout",
     "output_type": "stream",
     "text": [
      "(188221, 11)\n"
     ]
    }
   ],
   "source": [
    "samples = ['pl_srcoldmsncev', 'pl_inqcnt2y', \"pl_inqcnt1m\"]\n",
    "temp_retro = df[samples + ['acctno', 'lexid']]\n",
    "temp_prod = df_prod[samples + ['acctno', 'o_lexid', \"company_id\", \"date_added\"]]\n",
    "merged = temp_retro.merge(temp_prod, on = \"acctno\")\n",
    "print(merged.shape)"
   ]
  },
  {
   "cell_type": "code",
   "execution_count": 14,
   "metadata": {},
   "outputs": [
    {
     "data": {
      "text/html": [
       "<div>\n",
       "<style scoped>\n",
       "    .dataframe tbody tr th:only-of-type {\n",
       "        vertical-align: middle;\n",
       "    }\n",
       "\n",
       "    .dataframe tbody tr th {\n",
       "        vertical-align: top;\n",
       "    }\n",
       "\n",
       "    .dataframe thead th {\n",
       "        text-align: right;\n",
       "    }\n",
       "</style>\n",
       "<table border=\"1\" class=\"dataframe\">\n",
       "  <thead>\n",
       "    <tr style=\"text-align: right;\">\n",
       "      <th></th>\n",
       "      <th>Count</th>\n",
       "      <th>Pct</th>\n",
       "      <th>Cuml Count</th>\n",
       "      <th>Cuml Pct</th>\n",
       "    </tr>\n",
       "    <tr>\n",
       "      <th>flag</th>\n",
       "      <th></th>\n",
       "      <th></th>\n",
       "      <th></th>\n",
       "      <th></th>\n",
       "    </tr>\n",
       "  </thead>\n",
       "  <tbody>\n",
       "    <tr>\n",
       "      <th>0</th>\n",
       "      <td>188221.0</td>\n",
       "      <td>1.0</td>\n",
       "      <td>188221.0</td>\n",
       "      <td>1.0</td>\n",
       "    </tr>\n",
       "  </tbody>\n",
       "</table>\n",
       "</div>"
      ],
      "text/plain": [
       "         Count  Pct  Cuml Count  Cuml Pct\n",
       "flag                                     \n",
       "0     188221.0  1.0    188221.0       1.0"
      ]
     },
     "execution_count": 14,
     "metadata": {},
     "output_type": "execute_result"
    }
   ],
   "source": [
    "merged[\"flag\"] = np.where(merged.lexid == merged.o_lexid, 0, 1)\n",
    "freq(merged[\"flag\"])"
   ]
  },
  {
   "cell_type": "code",
   "execution_count": 15,
   "metadata": {},
   "outputs": [],
   "source": [
    "for x in samples:\n",
    "    merged[x + \"_diff\"] = np.where((merged[x + \"_x\"] < 0) & (merged[x + \"_y\"] < 0), -999_999_999, np.where(\n",
    "        (merged[x + \"_x\"] >= 0) & (merged[x + \"_y\"] < 0), -999_999_998, np.where(\n",
    "            (merged[x + \"_x\"] < 0) & (merged[x + \"_y\"] >= 0), -999_999_997, merged[x+ \"_x\"] - merged[x + \"_y\"]\n",
    "        )\n",
    "    ))"
   ]
  },
  {
   "cell_type": "code",
   "execution_count": 16,
   "metadata": {},
   "outputs": [],
   "source": [
    "temp = merged[merged[\"pl_srcoldmsncev_diff\"] ==3].head(25)\n",
    "temp_2 = merged[merged[\"pl_srcoldmsncev_diff\"] >50].tail(25)\n",
    "pd.concat([temp, temp_2], ignore_index = True).to_csv(\"./_temp/example_for_engineering_1222.csv\", index = False)"
   ]
  },
  {
   "cell_type": "code",
   "execution_count": 20,
   "metadata": {},
   "outputs": [
    {
     "data": {
      "text/html": [
       "<div>\n",
       "<style scoped>\n",
       "    .dataframe tbody tr th:only-of-type {\n",
       "        vertical-align: middle;\n",
       "    }\n",
       "\n",
       "    .dataframe tbody tr th {\n",
       "        vertical-align: top;\n",
       "    }\n",
       "\n",
       "    .dataframe thead th {\n",
       "        text-align: right;\n",
       "    }\n",
       "</style>\n",
       "<table border=\"1\" class=\"dataframe\">\n",
       "  <thead>\n",
       "    <tr style=\"text-align: right;\">\n",
       "      <th></th>\n",
       "      <th>Count</th>\n",
       "      <th>Pct</th>\n",
       "      <th>Cuml Count</th>\n",
       "      <th>Cuml Pct</th>\n",
       "    </tr>\n",
       "    <tr>\n",
       "      <th>pl_srcoldmsncev_diff</th>\n",
       "      <th></th>\n",
       "      <th></th>\n",
       "      <th></th>\n",
       "      <th></th>\n",
       "    </tr>\n",
       "  </thead>\n",
       "  <tbody>\n",
       "    <tr>\n",
       "      <th>&lt;= -51</th>\n",
       "      <td>4.0</td>\n",
       "      <td>0.000021</td>\n",
       "      <td>4.0</td>\n",
       "      <td>0.000021</td>\n",
       "    </tr>\n",
       "    <tr>\n",
       "      <th>-50--21</th>\n",
       "      <td>6.0</td>\n",
       "      <td>0.000032</td>\n",
       "      <td>10.0</td>\n",
       "      <td>0.000053</td>\n",
       "    </tr>\n",
       "    <tr>\n",
       "      <th>-15--11</th>\n",
       "      <td>1.0</td>\n",
       "      <td>0.000005</td>\n",
       "      <td>11.0</td>\n",
       "      <td>0.000058</td>\n",
       "    </tr>\n",
       "    <tr>\n",
       "      <th>-10--6</th>\n",
       "      <td>6.0</td>\n",
       "      <td>0.000032</td>\n",
       "      <td>17.0</td>\n",
       "      <td>0.000090</td>\n",
       "    </tr>\n",
       "    <tr>\n",
       "      <th>-4</th>\n",
       "      <td>1.0</td>\n",
       "      <td>0.000005</td>\n",
       "      <td>18.0</td>\n",
       "      <td>0.000096</td>\n",
       "    </tr>\n",
       "    <tr>\n",
       "      <th>-3</th>\n",
       "      <td>2.0</td>\n",
       "      <td>0.000011</td>\n",
       "      <td>20.0</td>\n",
       "      <td>0.000106</td>\n",
       "    </tr>\n",
       "    <tr>\n",
       "      <th>-2</th>\n",
       "      <td>1.0</td>\n",
       "      <td>0.000005</td>\n",
       "      <td>21.0</td>\n",
       "      <td>0.000112</td>\n",
       "    </tr>\n",
       "    <tr>\n",
       "      <th>-1</th>\n",
       "      <td>1.0</td>\n",
       "      <td>0.000005</td>\n",
       "      <td>22.0</td>\n",
       "      <td>0.000117</td>\n",
       "    </tr>\n",
       "    <tr>\n",
       "      <th>0</th>\n",
       "      <td>2.0</td>\n",
       "      <td>0.000011</td>\n",
       "      <td>24.0</td>\n",
       "      <td>0.000128</td>\n",
       "    </tr>\n",
       "    <tr>\n",
       "      <th>1</th>\n",
       "      <td>5.0</td>\n",
       "      <td>0.000027</td>\n",
       "      <td>29.0</td>\n",
       "      <td>0.000154</td>\n",
       "    </tr>\n",
       "    <tr>\n",
       "      <th>2</th>\n",
       "      <td>28651.0</td>\n",
       "      <td>0.152220</td>\n",
       "      <td>28680.0</td>\n",
       "      <td>0.152374</td>\n",
       "    </tr>\n",
       "    <tr>\n",
       "      <th>3</th>\n",
       "      <td>155515.0</td>\n",
       "      <td>0.826236</td>\n",
       "      <td>184195.0</td>\n",
       "      <td>0.978610</td>\n",
       "    </tr>\n",
       "    <tr>\n",
       "      <th>4</th>\n",
       "      <td>7.0</td>\n",
       "      <td>0.000037</td>\n",
       "      <td>184202.0</td>\n",
       "      <td>0.978647</td>\n",
       "    </tr>\n",
       "    <tr>\n",
       "      <th>5</th>\n",
       "      <td>7.0</td>\n",
       "      <td>0.000037</td>\n",
       "      <td>184209.0</td>\n",
       "      <td>0.978685</td>\n",
       "    </tr>\n",
       "    <tr>\n",
       "      <th>6-10</th>\n",
       "      <td>22.0</td>\n",
       "      <td>0.000117</td>\n",
       "      <td>184231.0</td>\n",
       "      <td>0.978802</td>\n",
       "    </tr>\n",
       "    <tr>\n",
       "      <th>11-15</th>\n",
       "      <td>19.0</td>\n",
       "      <td>0.000101</td>\n",
       "      <td>184250.0</td>\n",
       "      <td>0.978902</td>\n",
       "    </tr>\n",
       "    <tr>\n",
       "      <th>16-20</th>\n",
       "      <td>10.0</td>\n",
       "      <td>0.000053</td>\n",
       "      <td>184260.0</td>\n",
       "      <td>0.978956</td>\n",
       "    </tr>\n",
       "    <tr>\n",
       "      <th>21-50</th>\n",
       "      <td>31.0</td>\n",
       "      <td>0.000165</td>\n",
       "      <td>184291.0</td>\n",
       "      <td>0.979120</td>\n",
       "    </tr>\n",
       "    <tr>\n",
       "      <th>51+</th>\n",
       "      <td>36.0</td>\n",
       "      <td>0.000191</td>\n",
       "      <td>184327.0</td>\n",
       "      <td>0.979312</td>\n",
       "    </tr>\n",
       "    <tr>\n",
       "      <th>-999999999</th>\n",
       "      <td>225.0</td>\n",
       "      <td>0.001195</td>\n",
       "      <td>184552.0</td>\n",
       "      <td>0.980507</td>\n",
       "    </tr>\n",
       "    <tr>\n",
       "      <th>-999999998</th>\n",
       "      <td>70.0</td>\n",
       "      <td>0.000372</td>\n",
       "      <td>184622.0</td>\n",
       "      <td>0.980879</td>\n",
       "    </tr>\n",
       "    <tr>\n",
       "      <th>-999999997</th>\n",
       "      <td>3.0</td>\n",
       "      <td>0.000016</td>\n",
       "      <td>184625.0</td>\n",
       "      <td>0.980895</td>\n",
       "    </tr>\n",
       "    <tr>\n",
       "      <th>Missing</th>\n",
       "      <td>3596.0</td>\n",
       "      <td>0.019105</td>\n",
       "      <td>188221.0</td>\n",
       "      <td>1.000000</td>\n",
       "    </tr>\n",
       "  </tbody>\n",
       "</table>\n",
       "</div>"
      ],
      "text/plain": [
       "                         Count       Pct  Cuml Count  Cuml Pct\n",
       "pl_srcoldmsncev_diff                                          \n",
       "<= -51                     4.0  0.000021         4.0  0.000021\n",
       "-50--21                    6.0  0.000032        10.0  0.000053\n",
       "-15--11                    1.0  0.000005        11.0  0.000058\n",
       "-10--6                     6.0  0.000032        17.0  0.000090\n",
       "-4                         1.0  0.000005        18.0  0.000096\n",
       "-3                         2.0  0.000011        20.0  0.000106\n",
       "-2                         1.0  0.000005        21.0  0.000112\n",
       "-1                         1.0  0.000005        22.0  0.000117\n",
       "0                          2.0  0.000011        24.0  0.000128\n",
       "1                          5.0  0.000027        29.0  0.000154\n",
       "2                      28651.0  0.152220     28680.0  0.152374\n",
       "3                     155515.0  0.826236    184195.0  0.978610\n",
       "4                          7.0  0.000037    184202.0  0.978647\n",
       "5                          7.0  0.000037    184209.0  0.978685\n",
       "6-10                      22.0  0.000117    184231.0  0.978802\n",
       "11-15                     19.0  0.000101    184250.0  0.978902\n",
       "16-20                     10.0  0.000053    184260.0  0.978956\n",
       "21-50                     31.0  0.000165    184291.0  0.979120\n",
       "51+                       36.0  0.000191    184327.0  0.979312\n",
       "-999999999               225.0  0.001195    184552.0  0.980507\n",
       "-999999998                70.0  0.000372    184622.0  0.980879\n",
       "-999999997                 3.0  0.000016    184625.0  0.980895\n",
       "Missing                 3596.0  0.019105    188221.0  1.000000"
      ]
     },
     "execution_count": 20,
     "metadata": {},
     "output_type": "execute_result"
    }
   ],
   "source": [
    "fmt_2 = make_format(cuts = [-np.inf, -51, -21, -16, -11, -6, -5, -4, -3, -2, -1, 0, 1, 2, 3, 4, 5, 10, 15, 20, 50, np.inf], exceptions = [-999_999_999, -999_999_998, -999_999_997])\n",
    "freq('pl_srcoldmsncev_diff', format = fmt_2, df = merged, observed = True)"
   ]
  },
  {
   "cell_type": "code",
   "execution_count": null,
   "metadata": {},
   "outputs": [],
   "source": []
  }
 ],
 "metadata": {
  "kernelspec": {
   "display_name": "data-science",
   "language": "python",
   "name": "python3"
  },
  "language_info": {
   "codemirror_mode": {
    "name": "ipython",
    "version": 3
   },
   "file_extension": ".py",
   "mimetype": "text/x-python",
   "name": "python",
   "nbconvert_exporter": "python",
   "pygments_lexer": "ipython3",
   "version": "3.10.6"
  }
 },
 "nbformat": 4,
 "nbformat_minor": 2
}
