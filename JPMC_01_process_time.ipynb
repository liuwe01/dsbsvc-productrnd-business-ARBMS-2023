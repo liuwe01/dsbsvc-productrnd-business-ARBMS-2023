{
 "cells": [
  {
   "cell_type": "code",
   "execution_count": 1,
   "metadata": {},
   "outputs": [],
   "source": [
    "import time\n",
    "import pickle\n",
    "import pandas as pd\n",
    "import numpy as np\n",
    "import math\n",
    "\n",
    "# internal tools\n",
    "import dsgtools.azure"
   ]
  },
  {
   "cell_type": "code",
   "execution_count": 3,
   "metadata": {},
   "outputs": [
    {
     "name": "stdout",
     "output_type": "stream",
     "text": [
      "(147171, 6)\n",
      "(147176, 8)\n"
     ]
    }
   ],
   "source": [
    "path = \"Analytics/Personal Folders/liuwei01/2023/JPMC/\"\n",
    "jpmc = pd.read_adls(path+ \"0307_armbs_1803_jpmc_attributes_w20230302-084435.csv\", reader = pd.read_csv, encoding='iso-8859-1', \n",
    "                    usecols = [\"accountnumber\", \"historydateyyyymm\", \"seleid\", \"errorcode\", \"time_ms\", \"bs035_bal_m0_fin\"], low_memory=False)\n",
    "jpmc.columns = [x + \"_jpmc\" for x in jpmc.columns]\n",
    "sbfe = pd.read_adls(path+ \"0307_armbs_1803_legacy_sbfe_attributes_w20230302-073425.csv\", reader = pd.read_csv, encoding='iso-8859-1', \n",
    "                    usecols = [\"accountnumber\", \"historydateyyyymm\", \"seleid\", \"errorcode\", \"time_ms\", \"sbfehitindex\", \"sbfeaccountcount\", \"sbfeopencount\"], low_memory=False)\n",
    "print(jpmc.shape)\n",
    "print(sbfe.shape)"
   ]
  },
  {
   "cell_type": "code",
   "execution_count": 4,
   "metadata": {},
   "outputs": [
    {
     "name": "stdout",
     "output_type": "stream",
     "text": [
      "(147171, 14)\n"
     ]
    }
   ],
   "source": [
    "merged = jpmc.merge(sbfe, left_on = \"accountnumber_jpmc\", right_on = \"accountnumber\")\n",
    "print(merged.shape)"
   ]
  },
  {
   "cell_type": "code",
   "execution_count": 40,
   "metadata": {},
   "outputs": [],
   "source": [
    "merged[\"bs035_bal_m0_fin_jpmcflag\"] = np.where(merged[\"bs035_bal_m0_fin_jpmc\"] >=999999990, merged[\"bs035_bal_m0_fin_jpmc\"], 1)"
   ]
  },
  {
   "cell_type": "code",
   "execution_count": 41,
   "metadata": {},
   "outputs": [
    {
     "name": "stdout",
     "output_type": "stream",
     "text": [
      "1.0    111826\n",
      "0.0     35343\n",
      "NaN         2\n",
      "Name: sbfehitindex, dtype: int64\n",
      "-99.0    147169\n",
      " NaN          2\n",
      "Name: sbfeaccountcount, dtype: int64\n",
      "1.0            63333\n",
      "999999990.0    57563\n",
      "999999997.0    15020\n",
      "999999996.0     8048\n",
      "999999999.0     3148\n",
      "999999994.0       59\n",
      "Name: bs035_bal_m0_fin_jpmcflag, dtype: int64\n"
     ]
    }
   ],
   "source": [
    "print(merged.sbfehitindex.value_counts(dropna = False))\n",
    "print(merged.sbfeaccountcount.value_counts(dropna = False))\n",
    "print(merged.bs035_bal_m0_fin_jpmcflag.value_counts(dropna = False))"
   ]
  },
  {
   "cell_type": "code",
   "execution_count": 10,
   "metadata": {},
   "outputs": [
    {
     "data": {
      "text/plain": [
       "0"
      ]
     },
     "execution_count": 10,
     "metadata": {},
     "output_type": "execute_result"
    }
   ],
   "source": [
    "merged[\"time_ms\"].min()"
   ]
  },
  {
   "cell_type": "code",
   "execution_count": 33,
   "metadata": {},
   "outputs": [
    {
     "name": "stdout",
     "output_type": "stream",
     "text": [
      "0.0    87459\n",
      "1.0    59710\n",
      "NaN        2\n",
      "Name: jpmc_slower, dtype: int64\n",
      "JPMC attribute return slower on  40.57 % of records\n"
     ]
    }
   ],
   "source": [
    "merged[\"valid_time\"] = np.where((merged[\"time_ms_jpmc\"] > 0) & (merged[\"time_ms\"] > 0), 1, 0)\n",
    "merged[\"diff_ms\"] = np.where(merged[\"valid_time\"]  == 1, merged[\"time_ms_jpmc\"] - merged[\"time_ms\"], None)\n",
    "merged[\"diff_ms\"] = merged[\"diff_ms\"].astype(float)\n",
    "merged[\"jpmc_slower\"] = np.where(merged[\"valid_time\"]  == 0, None, \n",
    "                                 np.where(merged[\"diff_ms\"] > 0, 1, 0))\n",
    "print(merged[\"jpmc_slower\"].value_counts(dropna = False))\n",
    "print(\"JPMC attribute return slower on \", round(merged[\"jpmc_slower\"].mean(skipna = True) *100, 2) , \"% of records\")"
   ]
  },
  {
   "cell_type": "code",
   "execution_count": 35,
   "metadata": {},
   "outputs": [
    {
     "data": {
      "text/html": [
       "<div>\n",
       "<style scoped>\n",
       "    .dataframe tbody tr th:only-of-type {\n",
       "        vertical-align: middle;\n",
       "    }\n",
       "\n",
       "    .dataframe tbody tr th {\n",
       "        vertical-align: top;\n",
       "    }\n",
       "\n",
       "    .dataframe thead th {\n",
       "        text-align: right;\n",
       "    }\n",
       "</style>\n",
       "<table border=\"1\" class=\"dataframe\">\n",
       "  <thead>\n",
       "    <tr style=\"text-align: right;\">\n",
       "      <th></th>\n",
       "      <th>time_ms_jpmc</th>\n",
       "      <th>time_ms</th>\n",
       "      <th>diff_ms</th>\n",
       "    </tr>\n",
       "  </thead>\n",
       "  <tbody>\n",
       "    <tr>\n",
       "      <th>count</th>\n",
       "      <td>147171.0</td>\n",
       "      <td>147171.0</td>\n",
       "      <td>147169.0</td>\n",
       "    </tr>\n",
       "    <tr>\n",
       "      <th>mean</th>\n",
       "      <td>1678.6</td>\n",
       "      <td>1712.1</td>\n",
       "      <td>-33.6</td>\n",
       "    </tr>\n",
       "    <tr>\n",
       "      <th>std</th>\n",
       "      <td>4129.3</td>\n",
       "      <td>3980.5</td>\n",
       "      <td>5557.1</td>\n",
       "    </tr>\n",
       "    <tr>\n",
       "      <th>min</th>\n",
       "      <td>0.0</td>\n",
       "      <td>0.0</td>\n",
       "      <td>-172741.0</td>\n",
       "    </tr>\n",
       "    <tr>\n",
       "      <th>25%</th>\n",
       "      <td>891.0</td>\n",
       "      <td>981.0</td>\n",
       "      <td>-251.0</td>\n",
       "    </tr>\n",
       "    <tr>\n",
       "      <th>50%</th>\n",
       "      <td>1079.0</td>\n",
       "      <td>1141.0</td>\n",
       "      <td>-65.0</td>\n",
       "    </tr>\n",
       "    <tr>\n",
       "      <th>75%</th>\n",
       "      <td>1429.0</td>\n",
       "      <td>1430.0</td>\n",
       "      <td>147.0</td>\n",
       "    </tr>\n",
       "    <tr>\n",
       "      <th>max</th>\n",
       "      <td>189455.0</td>\n",
       "      <td>174002.0</td>\n",
       "      <td>168984.0</td>\n",
       "    </tr>\n",
       "    <tr>\n",
       "      <th>null count</th>\n",
       "      <td>0.0</td>\n",
       "      <td>0.0</td>\n",
       "      <td>2.0</td>\n",
       "    </tr>\n",
       "    <tr>\n",
       "      <th>% null count</th>\n",
       "      <td>0.0</td>\n",
       "      <td>0.0</td>\n",
       "      <td>0.0</td>\n",
       "    </tr>\n",
       "  </tbody>\n",
       "</table>\n",
       "</div>"
      ],
      "text/plain": [
       "              time_ms_jpmc   time_ms   diff_ms\n",
       "count             147171.0  147171.0  147169.0\n",
       "mean                1678.6    1712.1     -33.6\n",
       "std                 4129.3    3980.5    5557.1\n",
       "min                    0.0       0.0 -172741.0\n",
       "25%                  891.0     981.0    -251.0\n",
       "50%                 1079.0    1141.0     -65.0\n",
       "75%                 1429.0    1430.0     147.0\n",
       "max               189455.0  174002.0  168984.0\n",
       "null count             0.0       0.0       2.0\n",
       "% null count           0.0       0.0       0.0"
      ]
     },
     "execution_count": 35,
     "metadata": {},
     "output_type": "execute_result"
    }
   ],
   "source": [
    "report = merged[['time_ms_jpmc', 'time_ms', 'diff_ms']].describe(include = 'all')\n",
    "report.loc['null count'] = merged.isnull().sum()\n",
    "report.loc['% null count'] = merged.isnull().mean()\n",
    "report.round(1)"
   ]
  },
  {
   "cell_type": "code",
   "execution_count": null,
   "metadata": {},
   "outputs": [],
   "source": [
    "temp = merged[merged[\"jpmc_slower\"] == 1]\n",
    "report = temp[[, 'time_ms_jpmc', 'time_ms', 'diff_ms']].describe([0.01, 0.05, 0.1, .25, .5, .75, 0.9, 0.95, 0.99], include = 'all')\n",
    "report.loc['null count'] = merged.isnull().sum()\n",
    "report.loc['% null count'] = merged.isnull().mean()\n",
    "report.round(1)"
   ]
  }
 ],
 "metadata": {
  "kernelspec": {
   "display_name": "data-science",
   "language": "python",
   "name": "python3"
  },
  "language_info": {
   "codemirror_mode": {
    "name": "ipython",
    "version": 3
   },
   "file_extension": ".py",
   "mimetype": "text/x-python",
   "name": "python",
   "nbconvert_exporter": "python",
   "pygments_lexer": "ipython3",
   "version": "3.10.6"
  },
  "orig_nbformat": 4
 },
 "nbformat": 4,
 "nbformat_minor": 2
}
