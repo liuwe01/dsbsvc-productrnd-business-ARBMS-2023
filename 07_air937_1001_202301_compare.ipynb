{
 "cells": [
  {
   "cell_type": "code",
   "execution_count": 1,
   "metadata": {},
   "outputs": [],
   "source": [
    "import time\n",
    "import pandas as pd\n",
    "import numpy as np\n",
    "import math\n",
    "\n",
    "# internal tools\n",
    "from dsgtools.reporting import make_format\n",
    "from dsgtools.reporting import TableWriter\n",
    "from dsgtools.reporting import freq\n",
    "from dsgtools.reporting import bivariate"
   ]
  },
  {
   "cell_type": "raw",
   "metadata": {},
   "source": [
    "Test1 - limit as of current\n",
    "Process as of archive mode with the given archive date \n",
    "Process the input dataset as of 202306, 202301, 202206, 202201, 202106, 201906, 201706, 201506\n",
    "\n",
    "Test2 - limit as of archive date\n",
    "Process as of archive mode with the given archive date \n",
    "Process the input dataset as of 202306, 202301, 202206, 202201, 202106, 201906, 201706, 201506"
   ]
  },
  {
   "cell_type": "code",
   "execution_count": 2,
   "metadata": {},
   "outputs": [],
   "source": [
    "bs_path = \"Analytics/RnD Projects/Product RnD/Business/_ARMBS_Tickets/2023/AIR_937/Processing/20230101_air_937_business_shell_v31_baseline_results_w20230711-071622.csv\"\n",
    "test1_path = \"Analytics/RnD Projects/Product RnD/Business/_ARMBS_Tickets/2023/AIR_937/Processing/20230101_air_937_business_shell_v31_test1_results_w20230711-092250.csv\"\n",
    "test2_path = \"Analytics/RnD Projects/Product RnD/Business/_ARMBS_Tickets/2023/AIR_937/Processing/20230101_air_937_business_shell_v31_test2_results_w20230711-113825.csv\""
   ]
  },
  {
   "cell_type": "code",
   "execution_count": 3,
   "metadata": {},
   "outputs": [
    {
     "name": "stderr",
     "output_type": "stream",
     "text": [
      "/anaconda/envs/data-science/lib/python3.10/site-packages/dsgtools/azure/adls.py:235: DtypeWarning: Columns (111,130,2302) have mixed types. Specify dtype option on import or set low_memory=False.\n",
      "  data = reader(file, **kwargs)\n"
     ]
    },
    {
     "name": "stdout",
     "output_type": "stream",
     "text": [
      "(99939, 2304)\n"
     ]
    },
    {
     "name": "stderr",
     "output_type": "stream",
     "text": [
      "/anaconda/envs/data-science/lib/python3.10/site-packages/dsgtools/azure/adls.py:235: DtypeWarning: Columns (111,130,2302) have mixed types. Specify dtype option on import or set low_memory=False.\n",
      "  data = reader(file, **kwargs)\n"
     ]
    },
    {
     "name": "stdout",
     "output_type": "stream",
     "text": [
      "(99998, 2304)\n"
     ]
    },
    {
     "name": "stderr",
     "output_type": "stream",
     "text": [
      "/anaconda/envs/data-science/lib/python3.10/site-packages/dsgtools/azure/adls.py:235: DtypeWarning: Columns (111,130,2302) have mixed types. Specify dtype option on import or set low_memory=False.\n",
      "  data = reader(file, **kwargs)\n"
     ]
    },
    {
     "name": "stdout",
     "output_type": "stream",
     "text": [
      "(100000, 2304)\n"
     ]
    }
   ],
   "source": [
    "baseline = pd.read_adls(bs_path, reader = pd.read_csv, encoding='iso-8859-1')\n",
    "print(baseline.shape)\n",
    "test_1 = pd.read_adls(test1_path, reader = pd.read_csv, encoding='iso-8859-1')\n",
    "print(test_1.shape)\n",
    "test_2 = pd.read_adls(test2_path, reader = pd.read_csv, encoding='iso-8859-1')\n",
    "print(test_2.shape)"
   ]
  },
  {
   "cell_type": "code",
   "execution_count": 4,
   "metadata": {},
   "outputs": [
    {
     "name": "stdout",
     "output_type": "stream",
     "text": [
      "49986\n",
      "49998\n",
      "50000\n"
     ]
    }
   ],
   "source": [
    "print(len([x for x in baseline.accountnumber if \"SBFE\" in x]))\n",
    "print(len([x for x in test_1.accountnumber if \"SBFE\" in x]))\n",
    "print(len([x for x in test_2.accountnumber if \"SBFE\" in x]))"
   ]
  },
  {
   "cell_type": "code",
   "execution_count": 5,
   "metadata": {},
   "outputs": [],
   "source": [
    "baseline[\"id\"] = baseline.accountnumber + \"_\" + baseline.bus_company_name.fillna(\"\").replace(' ', '_', regex=True)\n",
    "test_1[\"id\"] = test_1.accountnumber + \"_\" + test_1.bus_company_name.fillna(\"\").replace(' ', '_', regex=True)\n",
    "test_2[\"id\"] = test_2.accountnumber + \"_\" + test_2.bus_company_name.fillna(\"\").replace(' ', '_', regex=True)"
   ]
  },
  {
   "cell_type": "code",
   "execution_count": 6,
   "metadata": {},
   "outputs": [],
   "source": [
    "baseline[['liennewesttype', 'judgmentnewesttype', 'inputaddrtype']] = baseline[['liennewesttype', 'judgmentnewesttype', 'inputaddrtype']].astype(str)\n",
    "test_1[['liennewesttype', 'judgmentnewesttype', 'inputaddrtype']] = test_1[['liennewesttype', 'judgmentnewesttype', 'inputaddrtype']].astype(str)\n",
    "test_2[['liennewesttype', 'judgmentnewesttype', 'inputaddrtype']] = test_2[['liennewesttype', 'judgmentnewesttype', 'inputaddrtype']].astype(str)"
   ]
  },
  {
   "cell_type": "code",
   "execution_count": 7,
   "metadata": {},
   "outputs": [
    {
     "name": "stdout",
     "output_type": "stream",
     "text": [
      "(99937, 2306)\n",
      "(99937, 2306)\n",
      "(99939, 2306)\n",
      "(99939, 2306)\n"
     ]
    }
   ],
   "source": [
    "bs_seleid = baseline[[\"id\", \"seleid\"]]\n",
    "bs_seleid.columns = [\"id\", \"bs_seleid\"]\n",
    "test_1 = test_1.merge(bs_seleid, on = \"id\")\n",
    "print(test_1.shape)\n",
    "test_1 = test_1[test_1[\"seleid\"] == test_1[\"bs_seleid\"]]\n",
    "print(test_1.shape)\n",
    "\n",
    "test_2 = test_2.merge(bs_seleid, on = \"id\")\n",
    "print(test_2.shape)\n",
    "test_2 = test_2[test_2[\"seleid\"] == test_2[\"bs_seleid\"]]\n",
    "print(test_2.shape)"
   ]
  },
  {
   "cell_type": "code",
   "execution_count": 39,
   "metadata": {},
   "outputs": [
    {
     "data": {
      "text/plain": [
       "802"
      ]
     },
     "execution_count": 39,
     "metadata": {},
     "output_type": "execute_result"
    }
   ],
   "source": [
    "99579 - 98777"
   ]
  },
  {
   "cell_type": "code",
   "execution_count": 31,
   "metadata": {},
   "outputs": [
    {
     "data": {
      "text/plain": [
       "Index(['accountnumber', 'bus_company_name', 'outbestbusname',\n",
       "       'outbestbusstreetaddr', 'outbestbuscity', 'outbestbusstate',\n",
       "       'liennewesttype', 'judgmentnewesttype', 'inputaddrtype', 'model1name',\n",
       "       'model1rc1', 'model1rc2', 'model1rc3', 'model1rc4', 'model2name',\n",
       "       'model2rc1', 'model2rc2', 'model2rc3', 'model2rc4', 'errorcode', 'id'],\n",
       "      dtype='object')"
      ]
     },
     "execution_count": 31,
     "metadata": {},
     "output_type": "execute_result"
    }
   ],
   "source": [
    "baseline.select_dtypes(include=[object]).columns"
   ]
  },
  {
   "cell_type": "code",
   "execution_count": 8,
   "metadata": {},
   "outputs": [
    {
     "data": {
      "text/plain": [
       "<dsgtools.reporting.tablewriter.TableWriter at 0x7f7e2e1bf130>"
      ]
     },
     "execution_count": 8,
     "metadata": {},
     "output_type": "execute_result"
    },
    {
     "data": {
      "text/plain": [
       "<Figure size 640x480 with 0 Axes>"
      ]
     },
     "metadata": {},
     "output_type": "display_data"
    },
    {
     "data": {
      "text/plain": [
       "<Figure size 640x480 with 0 Axes>"
      ]
     },
     "metadata": {},
     "output_type": "display_data"
    },
    {
     "data": {
      "text/plain": [
       "<Figure size 640x480 with 0 Axes>"
      ]
     },
     "metadata": {},
     "output_type": "display_data"
    },
    {
     "data": {
      "text/plain": [
       "<Figure size 640x480 with 0 Axes>"
      ]
     },
     "metadata": {},
     "output_type": "display_data"
    }
   ],
   "source": [
    "from dsgtools.reporting import ImpactAnalysisReport\n",
    "fmt_score = make_format(cuts = [-np.inf, 500, 550, 600, 625, 650, 675, 700, 725, 750, 775, 800, 825, 850, 900, np.inf], exceptions = [0, 100, 200, 222])\n",
    "cr = ImpactAnalysisReport(baseline, test_1, keys=\"id\",\n",
    "           score_columns = [\"model1score\", \"model2score\", \"sbfehitindex\"], \n",
    "           score_formats = {\"model1score\" : fmt_score, \n",
    "                         'model2score': fmt_score, },\n",
    "           exceptions=[-1, -99, -98, -97, 0, 100, 200, 222],\n",
    "           dataframe_names = (\"baseline\", \"test1\"))\n",
    "cr.to_xlsx(\"./_temp/air937_202301_test1_data-comparison.xlsx\", overwrite= True)"
   ]
  },
  {
   "cell_type": "code",
   "execution_count": 9,
   "metadata": {},
   "outputs": [
    {
     "data": {
      "text/plain": [
       "<dsgtools.reporting.tablewriter.TableWriter at 0x7f7e329663b0>"
      ]
     },
     "execution_count": 9,
     "metadata": {},
     "output_type": "execute_result"
    },
    {
     "data": {
      "text/plain": [
       "<Figure size 640x480 with 0 Axes>"
      ]
     },
     "metadata": {},
     "output_type": "display_data"
    },
    {
     "data": {
      "text/plain": [
       "<Figure size 640x480 with 0 Axes>"
      ]
     },
     "metadata": {},
     "output_type": "display_data"
    },
    {
     "data": {
      "text/plain": [
       "<Figure size 640x480 with 0 Axes>"
      ]
     },
     "metadata": {},
     "output_type": "display_data"
    },
    {
     "data": {
      "text/plain": [
       "<Figure size 640x480 with 0 Axes>"
      ]
     },
     "metadata": {},
     "output_type": "display_data"
    }
   ],
   "source": [
    "fmt_score = make_format(cuts = [-np.inf, 500, 550, 600, 625, 650, 675, 700, 725, 750, 775, 800, 825, 850, 900, np.inf], exceptions = [0, 100, 200, 222])\n",
    "cr = ImpactAnalysisReport(baseline, test_2, keys=\"id\",\n",
    "           score_columns = [\"model1score\", \"model2score\", \"sbfehitindex\"], \n",
    "           score_formats = {\"model1score\" : fmt_score, \n",
    "                         'model2score': fmt_score, },\n",
    "           exceptions=[-1, -99, -98, -97, 0, 100, 200, 222], \n",
    "           dataframe_names = (\"baseline\", \"test2\"))\n",
    "cr.to_xlsx(\"./_temp/air937_202301_test2_data-comparison.xlsx\", overwrite= True)"
   ]
  },
  {
   "cell_type": "code",
   "execution_count": null,
   "metadata": {},
   "outputs": [],
   "source": []
  }
 ],
 "metadata": {
  "kernelspec": {
   "display_name": "data-science",
   "language": "python",
   "name": "python3"
  },
  "language_info": {
   "codemirror_mode": {
    "name": "ipython",
    "version": 3
   },
   "file_extension": ".py",
   "mimetype": "text/x-python",
   "name": "python",
   "nbconvert_exporter": "python",
   "pygments_lexer": "ipython3",
   "version": "3.10.6"
  },
  "orig_nbformat": 4
 },
 "nbformat": 4,
 "nbformat_minor": 2
}
