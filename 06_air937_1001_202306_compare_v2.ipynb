{
 "cells": [
  {
   "cell_type": "code",
   "execution_count": 1,
   "metadata": {},
   "outputs": [],
   "source": [
    "import time\n",
    "import pandas as pd\n",
    "import numpy as np\n",
    "import math\n",
    "\n",
    "# internal tools\n",
    "from dsgtools.reporting import make_format\n",
    "from dsgtools.reporting import TableWriter\n",
    "from dsgtools.reporting import freq\n",
    "from dsgtools.reporting import bivariate"
   ]
  },
  {
   "cell_type": "raw",
   "metadata": {},
   "source": [
    "Test1 - limit as of current\n",
    "Process as of archive mode with the given archive date \n",
    "Process the input dataset as of 202306, 202301, 202206, 202201, 202106, 201906, 201706, 201506\n",
    "\n",
    "Test2 - limit as of archive date\n",
    "Process as of archive mode with the given archive date \n",
    "Process the input dataset as of 202306, 202301, 202206, 202201, 202106, 201906, 201706, 201506"
   ]
  },
  {
   "cell_type": "code",
   "execution_count": 2,
   "metadata": {},
   "outputs": [],
   "source": [
    "# bs_path = \"Analytics/RnD Projects/Product RnD/Business/_ARMBS_Tickets/2023/AIR_937/Processing_v2/air_937_business_shell_v31_baseline_202306_results_w20230723-125528.csv\"\n",
    "# test1_path = \"Analytics/RnD Projects/Product RnD/Business/_ARMBS_Tickets/2023/AIR_937/Processing_v2/air_937_business_shell_v31_test1_202306_results_w20230723-164137.csv\"\n",
    "# test2_path = \"Analytics/RnD Projects/Product RnD/Business/_ARMBS_Tickets/2023/AIR_937/Processing_v2/air_937_business_shell_v31_test2_202306_results_w20230723-185619.csv\"\n",
    "\n",
    "bs_path = \"Analytics/RnD Projects/Product RnD/Business/_ARMBS_Tickets/2023/AIR_937/Processing_v3/air_937_business_shell_v31_baseline_202306_results_w20230728-144941.csv\"\n",
    "test1_path = \"Analytics/RnD Projects/Product RnD/Business/_ARMBS_Tickets/2023/AIR_937/Processing_v3/air_937_business_shell_v31_test1_202306_results_w20230728-163006.csv\"\n",
    "test2_path = \"Analytics/RnD Projects/Product RnD/Business/_ARMBS_Tickets/2023/AIR_937/Processing_v3/air_937_business_shell_v31_test2_202306_results_w20230728-175317.csv\""
   ]
  },
  {
   "cell_type": "code",
   "execution_count": 3,
   "metadata": {},
   "outputs": [],
   "source": [
    "string_list = {'lnlexidsele': str, 'outbestbusname': str, 'outbestbusstreetaddr': str, 'outbestbuscity': str, 'outbestbusstate': str, 'outbestbuszip': str, \n",
    "               'outbestbustin': str, 'outbestbusphone': str, 'outbestnaics': str, 'outbestsic': str, 'liennewesttype': str, 'judgmentnewesttype': str, \n",
    "               'inputaddrtype': str, }"
   ]
  },
  {
   "cell_type": "code",
   "execution_count": 4,
   "metadata": {},
   "outputs": [
    {
     "name": "stdout",
     "output_type": "stream",
     "text": [
      "(99994, 2304)\n"
     ]
    }
   ],
   "source": [
    "baseline = pd.read_adls(bs_path, reader = pd.read_csv, encoding='iso-8859-1', dtype = string_list, verbose = False, low_memory = False)\n",
    "print(baseline.shape)\n",
    "# test_1 = pd.read_adls(test1_path, reader = pd.read_csv, encoding='iso-8859-1', dtype = string_list, verbose = False, low_memory = False)\n",
    "# print(test_1.shape)\n",
    "# test_2 = pd.read_adls(test2_path, reader = pd.read_csv, encoding='iso-8859-1', dtype = string_list, verbose = False, low_memory = False)\n",
    "\n",
    "# print(test_2.shape)"
   ]
  },
  {
   "cell_type": "code",
   "execution_count": 10,
   "metadata": {},
   "outputs": [
    {
     "data": {
      "text/plain": [
       "['g_buildb2bdt',\n",
       " 'be_b2bcntev',\n",
       " 'be_b2bcnt2y',\n",
       " 'be_b2bcarrcnt2y',\n",
       " 'be_b2bfltcnt2y',\n",
       " 'be_b2bmatcnt2y',\n",
       " 'be_b2bopscnt2y',\n",
       " 'be_b2bothcnt2y',\n",
       " 'be_b2bcarrpct2y',\n",
       " 'be_b2bfltpct2y',\n",
       " 'be_b2bmatpct2y',\n",
       " 'be_b2bopspct2y',\n",
       " 'be_b2bothpct2y',\n",
       " 'be_b2bolddtev',\n",
       " 'be_b2boldmsncev',\n",
       " 'be_b2bolddt2y',\n",
       " 'be_b2bnewdt2y',\n",
       " 'be_b2boldmsnc2y',\n",
       " 'be_b2bnewmsnc2y',\n",
       " 'be_b2bactvcnt',\n",
       " 'be_b2bactvcarrcnt',\n",
       " 'be_b2bactvfltcnt',\n",
       " 'be_b2bactvmatcnt',\n",
       " 'be_b2bactvopscnt',\n",
       " 'be_b2bactvothcnt',\n",
       " 'be_b2bactvcarrpct',\n",
       " 'be_b2bactvfltpct',\n",
       " 'be_b2bactvmatpct',\n",
       " 'be_b2bactvopspct',\n",
       " 'be_b2bactvothpct',\n",
       " 'be_b2bactvcnta1y',\n",
       " 'be_b2bactvcarrcnta1y',\n",
       " 'be_b2bactvfltcnta1y',\n",
       " 'be_b2bactvmatcnta1y',\n",
       " 'be_b2bactvopscnta1y',\n",
       " 'be_b2bactvothcnta1y',\n",
       " 'be_b2bactvcntgrow1y',\n",
       " 'be_b2bactvcarrcntgrow1y',\n",
       " 'be_b2bactvfltcntgrow1y',\n",
       " 'be_b2bactvmatcntgrow1y',\n",
       " 'be_b2bactvopscntgrow1y',\n",
       " 'be_b2bactvothcntgrow1y',\n",
       " 'be_b2bactvbaltot',\n",
       " 'be_b2bactvcarrbaltot',\n",
       " 'be_b2bactvfltbaltot',\n",
       " 'be_b2bactvmatbaltot',\n",
       " 'be_b2bactvopsbaltot',\n",
       " 'be_b2bactvothbaltot',\n",
       " 'be_b2bactvcarrbaltotpct',\n",
       " 'be_b2bactvfltbalpct',\n",
       " 'be_b2bactvmatbalpct',\n",
       " 'be_b2bactvopsbalpct',\n",
       " 'be_b2bactvothbalpct',\n",
       " 'be_b2bactvbaltotrnge',\n",
       " 'be_b2bactvcarrbaltotrnge',\n",
       " 'be_b2bactvfltbaltotrnge',\n",
       " 'be_b2bactvmatbaltotrnge',\n",
       " 'be_b2bactvopsbaltotrnge',\n",
       " 'be_b2bactvothbaltotrnge',\n",
       " 'be_b2bactvbalavg',\n",
       " 'be_b2bactvcarrbalavg',\n",
       " 'be_b2bactvfltbalavg',\n",
       " 'be_b2bactvmatbalavg',\n",
       " 'be_b2bactvopsbalavg',\n",
       " 'be_b2bactvothbalavg',\n",
       " 'be_b2bactvbaltota1y',\n",
       " 'be_b2bactvcarrbaltota1y',\n",
       " 'be_b2bactvfltbaltota1y',\n",
       " 'be_b2bactvmatbaltota1y',\n",
       " 'be_b2bactvopsbaltota1y',\n",
       " 'be_b2bactvothbaltota1y',\n",
       " 'be_b2bactvbaltotgrow1y',\n",
       " 'be_b2bactvcarrbaltotgrow1y',\n",
       " 'be_b2bactvfltbaltotgrow1y',\n",
       " 'be_b2bactvmatbaltotgrow1y',\n",
       " 'be_b2bactvopsbaltotgrow1y',\n",
       " 'be_b2bactvothbaltotgrow1y',\n",
       " 'be_b2bactvbaltotgrowindx1y',\n",
       " 'be_b2bactvcarrbaltotgrowindx1y',\n",
       " 'be_b2bactvfltbaltotgrowindx1y',\n",
       " 'be_b2bactvmatbaltotgrowindx1y',\n",
       " 'be_b2bactvopsbaltotgrowindx1y',\n",
       " 'be_b2bactvothbaltotgrowindx1y',\n",
       " 'be_b2bbalmax2y',\n",
       " 'be_b2bcarrbalmax2y',\n",
       " 'be_b2bfltbalmax2y',\n",
       " 'be_b2bmatbalmax2y',\n",
       " 'be_b2bopsbalmax2y',\n",
       " 'be_b2bothbalmax2y',\n",
       " 'be_b2bbalmaxdt2y',\n",
       " 'be_b2bcarrbalmaxdt2y',\n",
       " 'be_b2bfltbalmaxdt2y',\n",
       " 'be_b2bmatbalmaxdt2y',\n",
       " 'be_b2bopsbalmaxdt2y',\n",
       " 'be_b2bothbalmaxdt2y',\n",
       " 'be_b2bbalmaxmsnc2y',\n",
       " 'be_b2bcarrbalmaxmsnc2y',\n",
       " 'be_b2bfltbalmaxmsnc2y',\n",
       " 'be_b2bmatbalmaxmsnc2y',\n",
       " 'be_b2bopsbalmaxmsnc2y',\n",
       " 'be_b2bothbalmaxmsnc2y',\n",
       " 'be_b2bbalmaxsegtype2y',\n",
       " 'be_b2bactvworstperfindx',\n",
       " 'be_b2bactvcarrworstperfindx',\n",
       " 'be_b2bactvfltworstperfindx',\n",
       " 'be_b2bactvmatworstperfindx',\n",
       " 'be_b2bactvopsworstperfindx',\n",
       " 'be_b2bactvothworstperfindx',\n",
       " 'be_b2bactv1pdpdcnt',\n",
       " 'be_b2bactv31pdpdcnt',\n",
       " 'be_b2bactv61pdpdcnt',\n",
       " 'be_b2bactv91pdpdcnt',\n",
       " 'be_b2bactv1pdpdpct',\n",
       " 'be_b2bactv31pdpdpct',\n",
       " 'be_b2bactv61pdpdpct',\n",
       " 'be_b2bactv91pdpdpct',\n",
       " 'be_b2bactv1pdpdbaltot',\n",
       " 'be_b2bactv31pdpdbaltot',\n",
       " 'be_b2bactv61pdpdbaltot',\n",
       " 'be_b2bactv91pdpdbaltot',\n",
       " 'be_b2bactv1pdpdbaltotpct',\n",
       " 'be_b2bactv31pdpdbaltotpct',\n",
       " 'be_b2bactv61pdpdbaltotpct',\n",
       " 'be_b2bactv91pdpdbaltotpct',\n",
       " 'be_b2bactv1pdpdbaltota1y',\n",
       " 'be_b2bactv31pdpdbaltota1y',\n",
       " 'be_b2bactv61pdpdbaltota1y',\n",
       " 'be_b2bactv91pdpdbaltota1y',\n",
       " 'be_b2bactv1pdpdbaltotgrow1y',\n",
       " 'be_b2bactv31pdpdbaltotgrow1y',\n",
       " 'be_b2bactv61pdpdbaltotgrow1y',\n",
       " 'be_b2bactv91pdpdbaltotgrow1y',\n",
       " 'be_b2bworstperfindx2y',\n",
       " 'be_b2bcarrworstperfindx2y',\n",
       " 'be_b2bfltworstperfindx2y',\n",
       " 'be_b2bmatworstperfindx2y',\n",
       " 'be_b2bopsworstperfindx2y',\n",
       " 'be_b2bothworstperfindx2y',\n",
       " 'be_b2bworstperfdt2y',\n",
       " 'be_b2bcarrworstperfdt2y',\n",
       " 'be_b2bfltworstperfdt2y',\n",
       " 'be_b2bmatworstperfdt2y',\n",
       " 'be_b2bopsworstperfdt2y',\n",
       " 'be_b2bothworstperfdt2y',\n",
       " 'be_b2bworstperfmsnc2y',\n",
       " 'be_b2bcarrworstperfmsnc2y',\n",
       " 'be_b2bfltworstperfmsnc2y',\n",
       " 'be_b2bmatworstperfmsnc2y',\n",
       " 'be_b2bopsworstperfmsnc2y',\n",
       " 'be_b2bothworstperfmsnc2y',\n",
       " 'be_b2bcnt24mc',\n",
       " 'be_b2bcarrcnt24mc',\n",
       " 'be_b2bfltcnt24mc',\n",
       " 'be_b2bmatcnt24mc',\n",
       " 'be_b2bopscnt24mc',\n",
       " 'be_b2bothcnt24mc',\n",
       " 'be_b2brecflagbymonstr24mc',\n",
       " 'be_b2bcarrrecflagbymonstr24mc',\n",
       " 'be_b2bfltrecflagbymonstr24mc',\n",
       " 'be_b2bmatrecflagbymonstr24mc',\n",
       " 'be_b2bopsrecflagbymonstr24mc',\n",
       " 'be_b2bothrecflagbymonstr24mc',\n",
       " 'be_b2brecflagbymonsum24mc',\n",
       " 'be_b2bcarrrecflagbymonsum24mc',\n",
       " 'be_b2bfltrecflagbymonsum24mc',\n",
       " 'be_b2bmatrecflagbymonsum24mc',\n",
       " 'be_b2bopsrecflagbymonsum24mc',\n",
       " 'be_b2bothrecflagbymonsum24mc',\n",
       " 'be_b2bbalvol24mc',\n",
       " 'be_b2bcarrbalvol24mc',\n",
       " 'be_b2bfltbalvol24mc',\n",
       " 'be_b2bmatbalvol24mc',\n",
       " 'be_b2bopsbalvol24mc',\n",
       " 'be_b2bothbalvol24mc']"
      ]
     },
     "execution_count": 10,
     "metadata": {},
     "output_type": "execute_result"
    }
   ],
   "source": [
    "[x for x in baseline.columns if \"b2b\" in x]"
   ]
  },
  {
   "cell_type": "code",
   "execution_count": 11,
   "metadata": {},
   "outputs": [
    {
     "data": {
      "text/html": [
       "<div>\n",
       "<style scoped>\n",
       "    .dataframe tbody tr th:only-of-type {\n",
       "        vertical-align: middle;\n",
       "    }\n",
       "\n",
       "    .dataframe tbody tr th {\n",
       "        vertical-align: top;\n",
       "    }\n",
       "\n",
       "    .dataframe thead th {\n",
       "        text-align: right;\n",
       "    }\n",
       "</style>\n",
       "<table border=\"1\" class=\"dataframe\">\n",
       "  <thead>\n",
       "    <tr style=\"text-align: right;\">\n",
       "      <th></th>\n",
       "      <th>Count</th>\n",
       "      <th>Pct</th>\n",
       "      <th>Cuml Count</th>\n",
       "      <th>Cuml Pct</th>\n",
       "    </tr>\n",
       "    <tr>\n",
       "      <th>be_b2bcntev</th>\n",
       "      <th></th>\n",
       "      <th></th>\n",
       "      <th></th>\n",
       "      <th></th>\n",
       "    </tr>\n",
       "  </thead>\n",
       "  <tbody>\n",
       "    <tr>\n",
       "      <th>&lt;= 0</th>\n",
       "      <td>53998.0</td>\n",
       "      <td>0.740297</td>\n",
       "      <td>53998.0</td>\n",
       "      <td>0.740297</td>\n",
       "    </tr>\n",
       "    <tr>\n",
       "      <th>1+</th>\n",
       "      <td>18943.0</td>\n",
       "      <td>0.259703</td>\n",
       "      <td>72941.0</td>\n",
       "      <td>1.000000</td>\n",
       "    </tr>\n",
       "    <tr>\n",
       "      <th>-1</th>\n",
       "      <td>0.0</td>\n",
       "      <td>0.000000</td>\n",
       "      <td>72941.0</td>\n",
       "      <td>1.000000</td>\n",
       "    </tr>\n",
       "    <tr>\n",
       "      <th>Missing</th>\n",
       "      <td>0.0</td>\n",
       "      <td>0.000000</td>\n",
       "      <td>72941.0</td>\n",
       "      <td>1.000000</td>\n",
       "    </tr>\n",
       "  </tbody>\n",
       "</table>\n",
       "</div>"
      ],
      "text/plain": [
       "               Count       Pct  Cuml Count  Cuml Pct\n",
       "be_b2bcntev                                         \n",
       "<= 0         53998.0  0.740297     53998.0  0.740297\n",
       "1+           18943.0  0.259703     72941.0  1.000000\n",
       "-1               0.0  0.000000     72941.0  1.000000\n",
       "Missing          0.0  0.000000     72941.0  1.000000"
      ]
     },
     "execution_count": 11,
     "metadata": {},
     "output_type": "execute_result"
    }
   ],
   "source": [
    "# baseline = pd.read_adls(\"Analytics/Personal Folders/liuwei01/Prj2023/ARMBS_ticket/air_248_business_shell_v31_results_w20230810-165853_sas_layout_busshell.csv\", \n",
    "#                         reader = pd.read_csv, encoding='iso-8859-1', dtype = string_list, verbose = False, low_memory = False)\n",
    "# print(baseline.shape)\n",
    "fmt = make_format(cuts = [-np.inf, 0, np.inf], exceptions = [-1])\n",
    "freq(baseline.be_b2bcntev, format = fmt)"
   ]
  },
  {
   "cell_type": "code",
   "execution_count": 12,
   "metadata": {},
   "outputs": [],
   "source": [
    "baseline[baseline.be_b2bcntev > 0, ]. to_csv(\"./_temp/alternative_bus_name_b2b_sample_heberton.csv\", index = False)"
   ]
  },
  {
   "cell_type": "code",
   "execution_count": 5,
   "metadata": {},
   "outputs": [
    {
     "name": "stdout",
     "output_type": "stream",
     "text": [
      "(99992, 2305)\n",
      "(99992, 2305)\n",
      "(99994, 2305)\n",
      "(99994, 2305)\n"
     ]
    }
   ],
   "source": [
    "bs_seleid = baseline[[\"accountnumber\", \"seleid\"]]\n",
    "bs_seleid.columns = [\"accountnumber\", \"bs_seleid\"]\n",
    "test_1 = test_1.merge(bs_seleid, on = \"accountnumber\")\n",
    "print(test_1.shape)\n",
    "test_1 = test_1[test_1[\"seleid\"] == test_1[\"bs_seleid\"]]\n",
    "print(test_1.shape)\n",
    "\n",
    "test_2 = test_2.merge(bs_seleid, on = \"accountnumber\")\n",
    "print(test_2.shape)\n",
    "test_2 = test_2[test_2[\"seleid\"] == test_2[\"bs_seleid\"]]\n",
    "print(test_2.shape)"
   ]
  },
  {
   "cell_type": "code",
   "execution_count": 12,
   "metadata": {},
   "outputs": [],
   "source": [
    "# keep = ['accountnumber', 'model1score', 'model2score']\n",
    "# test_1 = test_1[keep]\n",
    "# test_1.columns = [\"t1_\"+x for x in test_1.columns]\n",
    "# test_2 = test_2[keep]\n",
    "# test_2.columns = [\"t2_\"+x for x in test_2.columns]\n",
    "# baseline = baseline[keep]\n",
    "# baseline.columns = [\"b_\"+x for x in keep]\n",
    "# merged = test_1.merge(test_2, left_on = \"t1_accountnumber\", right_on = \"t2_accountnumber\")\n",
    "# merged = merged.merge(baseline, left_on = \"t1_accountnumber\", right_on = \"b_accountnumber\")\n",
    "# print(merged.shape)\n",
    "merged[\"t1_b_mld1score\"] = np.where((merged.t1_model1score >500) & (merged.b_model1score >500), merged.t1_model1score - merged.b_model1score, -999_999)\n",
    "merged[\"t1_b_mld2score\"] = np.where((merged.t1_model2score >500) & (merged.b_model2score >500), merged.t1_model2score - merged.b_model2score, -999_999)\n",
    "merged[\"t2_b_mld1score\"] = np.where((merged.t2_model1score >500) & (merged.b_model1score >500), merged.t2_model1score - merged.b_model1score, -999_999)\n",
    "merged[\"t2_b_mld2score\"] = np.where((merged.t2_model2score >500) & (merged.b_model2score >500), merged.t2_model2score - merged.b_model2score, -999_999)"
   ]
  },
  {
   "cell_type": "code",
   "execution_count": 13,
   "metadata": {},
   "outputs": [],
   "source": [
    "fmt = make_format(cuts = [-np.inf, -51, -41, -31, -21, -11, -6, -5, -4, -3, -2, -1, 0, 1, 2, 3, 4, 5, 10, 20, 30, 40, 50, np.inf], exceptions = [-999_999])\n",
    "result = dict()\n",
    "\n",
    "result[\"f1\"] = freq(merged[\"t1_b_mld1score\"], format = fmt, observed = True)\n",
    "result[\"f2\"] = freq(merged[\"t1_b_mld2score\"], format = fmt, observed = True)\n",
    "result[\"f3\"] = freq(merged[\"t2_b_mld1score\"], format = fmt, observed = True)\n",
    "result[\"f4\"] = freq(merged[\"t2_b_mld2score\"], format = fmt, observed = True)\n",
    "\n",
    "wb = TableWriter(filename = \"./_temp/freq_202306.xlsx\", options={'nan_inf_to_errors': True}, overwrite = True)\n",
    "for k in result.keys():\n",
    "    wb.write_table(\n",
    "        result[k],\n",
    "        sheetname=\"biv\",\n",
    "        conditional_fmt_cols=[1],\n",
    "    )\n",
    "wb.close()"
   ]
  },
  {
   "cell_type": "code",
   "execution_count": 14,
   "metadata": {},
   "outputs": [],
   "source": [
    "exclude = ['accountnumber', 'historydateyyyymm', 'bus_company_name', 'powid', 'proxid', 'seleid', 'orgid', 'ultid', 'lnlexidsele','model1name', 'model1score',\n",
    "           'model1rc1', 'model1rc2', 'model1rc3', 'model1rc4', 'model1rc5', 'model1rc6', 'model2name', 'model2score', 'model2rc1', 'model2rc2', 'model2rc3', 'model2rc4',\n",
    "           'model2rc5', 'model2rc6', 'model3name', 'model3score', 'model3rc1', 'model3rc2', 'model3rc3', 'model3rc4', 'model3rc5', 'model3rc6', 'model4name', 'model4score',\n",
    "           'model4rc1', 'model4rc2', 'model4rc3', 'model4rc4', 'model4rc5', 'model4rc6', 'model5name', 'model5score', 'model5rc1', 'model5rc2', 'model5rc3', 'model5rc4',\n",
    "           'model5rc5', 'model5rc6', 'model6name', 'model6score', 'model6rc1', 'model6rc2', 'model6rc3', 'model6rc4', 'model6rc5', 'model6rc6', 'model7name', 'model7score',\n",
    "           'model7rc1', 'model7rc2', 'model7rc3', 'model7rc4', 'model7rc5', 'model7rc6', 'model8name', 'model8score', 'model8rc1', 'model8rc2', 'model8rc3', 'model8rc4',\n",
    "           'model8rc5', 'model8rc6', 'model9name', 'model9score', 'model9rc1', 'model9rc2', 'model9rc3', 'model9rc4', 'model9rc5', 'model9rc6', 'model10name', 'model10score',\n",
    "           'model10rc1', 'model10rc2', 'model10rc3', 'model10rc4', 'model10rc5', 'model10rc6', 'errorcode', 'time_ms']\n",
    "sbfe_attr = [x for x in baseline.columns if \"sbfe\" in x]\n",
    "rv_attr = [x for x in baseline.columns if x not in sbfe_attr and x not in exclude]\n",
    "model = [\"model1score\", \"model2score\"]\n",
    "\n",
    "exception_dict = dict()\n",
    "for x in baseline.columns:\n",
    "    if x in sbfe_attr:\n",
    "        exception_dict[x] = [-99, -98, -97]\n",
    "    if x in rv_attr:\n",
    "        exception_dict[x] = [-1]\n",
    "    if x in model:\n",
    "        exception_dict[x] = [0, 100, 200, 222]"
   ]
  },
  {
   "cell_type": "code",
   "execution_count": 15,
   "metadata": {},
   "outputs": [
    {
     "data": {
      "text/plain": [
       "<dsgtools.reporting.tablewriter.TableWriter at 0x7f1df24d3dc0>"
      ]
     },
     "execution_count": 15,
     "metadata": {},
     "output_type": "execute_result"
    },
    {
     "data": {
      "text/plain": [
       "<Figure size 640x480 with 0 Axes>"
      ]
     },
     "metadata": {},
     "output_type": "display_data"
    }
   ],
   "source": [
    "from dsgtools.reporting import ImpactAnalysisReport\n",
    "fmt_score = make_format(cuts = [-np.inf, 500, 550, 600, 625, 650, 675, 700, 725, 750, 775, 800, 825, 850, 900, np.inf], exceptions = [0, 100, 200, 222])\n",
    "cr = ImpactAnalysisReport(baseline, test_1, keys=\"accountnumber\",\n",
    "           score_columns = [\"model1score\", \"model2score\", \"sbfehitindex\"], \n",
    "           score_formats = {\"model1score\" : fmt_score, \n",
    "                         'model2score': fmt_score, },\n",
    "           exceptions=exception_dict,\n",
    "           dataframe_names = (\"baseline\", \"test1\"))\n",
    "cr.to_xlsx(\"./_temp/air937_202306_test1_data-comparison.xlsx\", overwrite= True)"
   ]
  },
  {
   "cell_type": "code",
   "execution_count": 16,
   "metadata": {},
   "outputs": [
    {
     "data": {
      "text/plain": [
       "<dsgtools.reporting.tablewriter.TableWriter at 0x7f1e20f72c50>"
      ]
     },
     "execution_count": 16,
     "metadata": {},
     "output_type": "execute_result"
    },
    {
     "data": {
      "text/plain": [
       "<Figure size 640x480 with 0 Axes>"
      ]
     },
     "metadata": {},
     "output_type": "display_data"
    }
   ],
   "source": [
    "fmt_score = make_format(cuts = [-np.inf, 500, 550, 600, 625, 650, 675, 700, 725, 750, 775, 800, 825, 850, 900, np.inf], exceptions = [0, 100, 200, 222])\n",
    "cr = ImpactAnalysisReport(baseline, test_2, keys=\"accountnumber\",\n",
    "           score_columns = [\"model1score\", \"model2score\", \"sbfehitindex\"], \n",
    "           score_formats = {\"model1score\" : fmt_score, \n",
    "                         'model2score': fmt_score, },\n",
    "           exceptions=exception_dict, \n",
    "           dataframe_names = (\"baseline\", \"test2\"))\n",
    "cr.to_xlsx(\"./_temp/air937_202306_test2_data-comparison.xlsx\", overwrite= True)"
   ]
  },
  {
   "cell_type": "code",
   "execution_count": null,
   "metadata": {},
   "outputs": [],
   "source": []
  }
 ],
 "metadata": {
  "kernelspec": {
   "display_name": "data-science",
   "language": "python",
   "name": "python3"
  },
  "language_info": {
   "codemirror_mode": {
    "name": "ipython",
    "version": 3
   },
   "file_extension": ".py",
   "mimetype": "text/x-python",
   "name": "python",
   "nbconvert_exporter": "python",
   "pygments_lexer": "ipython3",
   "version": "3.10.6"
  },
  "orig_nbformat": 4
 },
 "nbformat": 4,
 "nbformat_minor": 2
}
