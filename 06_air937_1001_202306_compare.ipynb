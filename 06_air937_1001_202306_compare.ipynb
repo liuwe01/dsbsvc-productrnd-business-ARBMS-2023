{
 "cells": [
  {
   "cell_type": "code",
   "execution_count": 1,
   "metadata": {},
   "outputs": [
    {
     "name": "stderr",
     "output_type": "stream",
     "text": [
      "Matplotlib is building the font cache; this may take a moment.\n"
     ]
    }
   ],
   "source": [
    "import time\n",
    "import pandas as pd\n",
    "import numpy as np\n",
    "import math\n",
    "\n",
    "# internal tools\n",
    "from dsgtools.reporting import make_format\n",
    "from dsgtools.reporting import TableWriter\n",
    "from dsgtools.reporting import freq\n",
    "from dsgtools.reporting import bivariate"
   ]
  },
  {
   "cell_type": "raw",
   "metadata": {},
   "source": [
    "Test1 - limit as of current\n",
    "Process as of archive mode with the given archive date \n",
    "Process the input dataset as of 202306, 202301, 202206, 202201, 202106, 201906, 201706, 201506\n",
    "\n",
    "Test2 - limit as of archive date\n",
    "Process as of archive mode with the given archive date \n",
    "Process the input dataset as of 202306, 202301, 202206, 202201, 202106, 201906, 201706, 201506"
   ]
  },
  {
   "cell_type": "code",
   "execution_count": 2,
   "metadata": {},
   "outputs": [],
   "source": [
    "bs_path = \"Analytics/RnD Projects/Product RnD/Business/_ARMBS_Tickets/2023/AIR_937/Processing/202306/baseline_air_937_business_shell_v31_baseline_results_w20230707-114805.csv\"\n",
    "test1_path = \"Analytics/RnD Projects/Product RnD/Business/_ARMBS_Tickets/2023/AIR_937/Processing/202306/test1_air_937_business_shell_v31_baseline_results_w20230707-140142.csv\"\n",
    "test2_path = \"Analytics/RnD Projects/Product RnD/Business/_ARMBS_Tickets/2023/AIR_937/Processing/202306/test2_air_937_business_shell_v31_baseline_results_w20230707-155449.csv\""
   ]
  },
  {
   "cell_type": "code",
   "execution_count": 3,
   "metadata": {},
   "outputs": [
    {
     "name": "stderr",
     "output_type": "stream",
     "text": [
      "/anaconda/envs/data-science/lib/python3.10/site-packages/dsgtools/azure/adls.py:235: DtypeWarning: Columns (130,2302) have mixed types. Specify dtype option on import or set low_memory=False.\n",
      "  data = reader(file, **kwargs)\n"
     ]
    },
    {
     "name": "stdout",
     "output_type": "stream",
     "text": [
      "(99995, 2304)\n"
     ]
    },
    {
     "name": "stderr",
     "output_type": "stream",
     "text": [
      "/anaconda/envs/data-science/lib/python3.10/site-packages/dsgtools/azure/adls.py:235: DtypeWarning: Columns (130,2302) have mixed types. Specify dtype option on import or set low_memory=False.\n",
      "  data = reader(file, **kwargs)\n"
     ]
    },
    {
     "name": "stdout",
     "output_type": "stream",
     "text": [
      "(99997, 2304)\n"
     ]
    },
    {
     "name": "stderr",
     "output_type": "stream",
     "text": [
      "/anaconda/envs/data-science/lib/python3.10/site-packages/dsgtools/azure/adls.py:235: DtypeWarning: Columns (111,130,2302) have mixed types. Specify dtype option on import or set low_memory=False.\n",
      "  data = reader(file, **kwargs)\n"
     ]
    },
    {
     "name": "stdout",
     "output_type": "stream",
     "text": [
      "(99582, 2304)\n"
     ]
    }
   ],
   "source": [
    "baseline = pd.read_adls(bs_path, reader = pd.read_csv, encoding='iso-8859-1')\n",
    "print(baseline.shape)\n",
    "test_1 = pd.read_adls(test1_path, reader = pd.read_csv, encoding='iso-8859-1')\n",
    "print(test_1.shape)\n",
    "test_2 = pd.read_adls(test2_path, reader = pd.read_csv, encoding='iso-8859-1')\n",
    "print(test_2.shape)"
   ]
  },
  {
   "cell_type": "code",
   "execution_count": 41,
   "metadata": {},
   "outputs": [
    {
     "data": {
      "text/plain": [
       "Index(['accountnumber', 'historydateyyyymm', 'bus_company_name', 'powid',\n",
       "       'proxid', 'seleid', 'orgid', 'ultid', 'lnlexidsele',\n",
       "       'inputcheckbusname',\n",
       "       ...\n",
       "       'model10score', 'model10rc1', 'model10rc2', 'model10rc3', 'model10rc4',\n",
       "       'model10rc5', 'model10rc6', 'errorcode', 'time_ms', 'id'],\n",
       "      dtype='object', length=2305)"
      ]
     },
     "execution_count": 41,
     "metadata": {},
     "output_type": "execute_result"
    }
   ],
   "source": [
    "baseline.columns"
   ]
  },
  {
   "cell_type": "code",
   "execution_count": 42,
   "metadata": {},
   "outputs": [
    {
     "data": {
      "text/html": [
       "<div>\n",
       "<style scoped>\n",
       "    .dataframe tbody tr th:only-of-type {\n",
       "        vertical-align: middle;\n",
       "    }\n",
       "\n",
       "    .dataframe tbody tr th {\n",
       "        vertical-align: top;\n",
       "    }\n",
       "\n",
       "    .dataframe thead th {\n",
       "        text-align: right;\n",
       "    }\n",
       "</style>\n",
       "<table border=\"1\" class=\"dataframe\">\n",
       "  <thead>\n",
       "    <tr style=\"text-align: right;\">\n",
       "      <th></th>\n",
       "      <th>accountnumber</th>\n",
       "      <th>historydateyyyymm</th>\n",
       "      <th>bus_company_name</th>\n",
       "      <th>powid</th>\n",
       "      <th>proxid</th>\n",
       "      <th>seleid</th>\n",
       "      <th>orgid</th>\n",
       "      <th>ultid</th>\n",
       "    </tr>\n",
       "  </thead>\n",
       "  <tbody>\n",
       "    <tr>\n",
       "      <th>50120</th>\n",
       "      <td>172863781R584309</td>\n",
       "      <td>202306</td>\n",
       "      <td>ALFRED W AMORE</td>\n",
       "      <td>15812976747</td>\n",
       "      <td>15812976747</td>\n",
       "      <td>15812976747</td>\n",
       "      <td>15812976747</td>\n",
       "      <td>15812976747</td>\n",
       "    </tr>\n",
       "    <tr>\n",
       "      <th>50671</th>\n",
       "      <td>172862631R433824</td>\n",
       "      <td>202306</td>\n",
       "      <td>BULK CANDY STORE MAIN</td>\n",
       "      <td>15039071657</td>\n",
       "      <td>15039071657</td>\n",
       "      <td>15039071657</td>\n",
       "      <td>15039071657</td>\n",
       "      <td>15039071657</td>\n",
       "    </tr>\n",
       "    <tr>\n",
       "      <th>51610</th>\n",
       "      <td>172862631R660998</td>\n",
       "      <td>202306</td>\n",
       "      <td>TRINITY EVANGELICAL LUTHERAN CHURCH</td>\n",
       "      <td>149586581</td>\n",
       "      <td>149586581</td>\n",
       "      <td>149586581</td>\n",
       "      <td>149586581</td>\n",
       "      <td>149586581</td>\n",
       "    </tr>\n",
       "    <tr>\n",
       "      <th>52453</th>\n",
       "      <td>172863881R462978</td>\n",
       "      <td>202306</td>\n",
       "      <td>SIMPLY SOLAR LLC</td>\n",
       "      <td>137356580125</td>\n",
       "      <td>137356580125</td>\n",
       "      <td>28881689682</td>\n",
       "      <td>28881689682</td>\n",
       "      <td>28881689682</td>\n",
       "    </tr>\n",
       "    <tr>\n",
       "      <th>62227</th>\n",
       "      <td>172862611R456068</td>\n",
       "      <td>202306</td>\n",
       "      <td>MANAGEMENT SYS INTL</td>\n",
       "      <td>7252432254</td>\n",
       "      <td>7252432254</td>\n",
       "      <td>7252432254</td>\n",
       "      <td>7252432254</td>\n",
       "      <td>7252432254</td>\n",
       "    </tr>\n",
       "  </tbody>\n",
       "</table>\n",
       "</div>"
      ],
      "text/plain": [
       "          accountnumber  historydateyyyymm  \\\n",
       "50120  172863781R584309             202306   \n",
       "50671  172862631R433824             202306   \n",
       "51610  172862631R660998             202306   \n",
       "52453  172863881R462978             202306   \n",
       "62227  172862611R456068             202306   \n",
       "\n",
       "                          bus_company_name         powid        proxid  \\\n",
       "50120                       ALFRED W AMORE   15812976747   15812976747   \n",
       "50671                BULK CANDY STORE MAIN   15039071657   15039071657   \n",
       "51610  TRINITY EVANGELICAL LUTHERAN CHURCH     149586581     149586581   \n",
       "52453                     SIMPLY SOLAR LLC  137356580125  137356580125   \n",
       "62227                  MANAGEMENT SYS INTL    7252432254    7252432254   \n",
       "\n",
       "            seleid        orgid        ultid  \n",
       "50120  15812976747  15812976747  15812976747  \n",
       "50671  15039071657  15039071657  15039071657  \n",
       "51610    149586581    149586581    149586581  \n",
       "52453  28881689682  28881689682  28881689682  \n",
       "62227   7252432254   7252432254   7252432254  "
      ]
     },
     "execution_count": 42,
     "metadata": {},
     "output_type": "execute_result"
    }
   ],
   "source": [
    "baseline.loc[baseline[\"id\"].isin(['172863781R584309_ALFRED_W_AMORE', '172862631R433824_BULK_CANDY_STORE_MAIN', \n",
    "                                  '172862611R456068_MANAGEMENT_SYS_INTL', '172863881R462978_SIMPLY_SOLAR_LLC', \n",
    "                                  '172862631R660998_TRINITY_EVANGELICAL_LUTHERAN_CHURCH']), ['accountnumber', 'historydateyyyymm', 'bus_company_name', 'powid',\n",
    "       'proxid', 'seleid', 'orgid', 'ultid']]"
   ]
  },
  {
   "cell_type": "code",
   "execution_count": 36,
   "metadata": {},
   "outputs": [],
   "source": [
    "baseline[\"id\"] = baseline.accountnumber + \"_\" + baseline.bus_company_name.fillna(\"\").replace(' ', '_', regex=True)\n",
    "test_1[\"id\"] = test_1.accountnumber + \"_\" + test_1.bus_company_name.fillna(\"\").replace(' ', '_', regex=True)\n",
    "test_2[\"id\"] = test_2.accountnumber + \"_\" + test_2.bus_company_name.fillna(\"\").replace(' ', '_', regex=True)"
   ]
  },
  {
   "cell_type": "code",
   "execution_count": 32,
   "metadata": {},
   "outputs": [],
   "source": [
    "baseline[['liennewesttype', 'judgmentnewesttype', 'inputaddrtype']] = baseline[['liennewesttype', 'judgmentnewesttype', 'inputaddrtype']].astype(str)\n",
    "test_1[['liennewesttype', 'judgmentnewesttype', 'inputaddrtype']] = test_1[['liennewesttype', 'judgmentnewesttype', 'inputaddrtype']].astype(str)\n",
    "test_2[['liennewesttype', 'judgmentnewesttype', 'inputaddrtype']] = test_2[['liennewesttype', 'judgmentnewesttype', 'inputaddrtype']].astype(str)"
   ]
  },
  {
   "cell_type": "code",
   "execution_count": 38,
   "metadata": {},
   "outputs": [
    {
     "name": "stdout",
     "output_type": "stream",
     "text": [
      "(99994, 2306)\n",
      "(99994, 2306)\n",
      "(99579, 2306)\n",
      "(98777, 2306)\n"
     ]
    }
   ],
   "source": [
    "bs_seleid = baseline[[\"id\", \"seleid\"]]\n",
    "bs_seleid.columns = [\"id\", \"bs_seleid\"]\n",
    "test_1 = test_1.merge(bs_seleid, on = \"id\")\n",
    "print(test_1.shape)\n",
    "test_1 = test_1[test_1[\"seleid\"] == test_1[\"bs_seleid\"]]\n",
    "print(test_1.shape)\n",
    "\n",
    "test_2 = test_2.merge(bs_seleid, on = \"id\")\n",
    "print(test_2.shape)\n",
    "test_2 = test_2[test_2[\"seleid\"] == test_2[\"bs_seleid\"]]\n",
    "print(test_2.shape)"
   ]
  },
  {
   "cell_type": "code",
   "execution_count": 39,
   "metadata": {},
   "outputs": [
    {
     "data": {
      "text/plain": [
       "802"
      ]
     },
     "execution_count": 39,
     "metadata": {},
     "output_type": "execute_result"
    }
   ],
   "source": [
    "99579 - 98777"
   ]
  },
  {
   "cell_type": "code",
   "execution_count": 31,
   "metadata": {},
   "outputs": [
    {
     "data": {
      "text/plain": [
       "Index(['accountnumber', 'bus_company_name', 'outbestbusname',\n",
       "       'outbestbusstreetaddr', 'outbestbuscity', 'outbestbusstate',\n",
       "       'liennewesttype', 'judgmentnewesttype', 'inputaddrtype', 'model1name',\n",
       "       'model1rc1', 'model1rc2', 'model1rc3', 'model1rc4', 'model2name',\n",
       "       'model2rc1', 'model2rc2', 'model2rc3', 'model2rc4', 'errorcode', 'id'],\n",
       "      dtype='object')"
      ]
     },
     "execution_count": 31,
     "metadata": {},
     "output_type": "execute_result"
    }
   ],
   "source": [
    "baseline.select_dtypes(include=[object]).columns"
   ]
  },
  {
   "cell_type": "code",
   "execution_count": 35,
   "metadata": {},
   "outputs": [
    {
     "data": {
      "text/plain": [
       "<dsgtools.reporting.tablewriter.TableWriter at 0x7f204dea6a40>"
      ]
     },
     "execution_count": 35,
     "metadata": {},
     "output_type": "execute_result"
    },
    {
     "data": {
      "text/plain": [
       "<Figure size 640x480 with 0 Axes>"
      ]
     },
     "metadata": {},
     "output_type": "display_data"
    },
    {
     "data": {
      "text/plain": [
       "<Figure size 640x480 with 0 Axes>"
      ]
     },
     "metadata": {},
     "output_type": "display_data"
    },
    {
     "data": {
      "text/plain": [
       "<Figure size 640x480 with 0 Axes>"
      ]
     },
     "metadata": {},
     "output_type": "display_data"
    },
    {
     "data": {
      "text/plain": [
       "<Figure size 640x480 with 0 Axes>"
      ]
     },
     "metadata": {},
     "output_type": "display_data"
    }
   ],
   "source": [
    "from dsgtools.reporting import ImpactAnalysisReport\n",
    "fmt_score = make_format(cuts = [-np.inf, 500, 550, 600, 625, 650, 675, 700, 725, 750, 775, 800, 825, 850, 900, np.inf], exceptions = [0, 100, 200, 222])\n",
    "cr = ImpactAnalysisReport(baseline, test_1, keys=\"id\",\n",
    "           score_columns = [\"model1score\", \"model2score\", \"sbfehitindex\"], \n",
    "           score_formats = {\"model1score\" : fmt_score, \n",
    "                         'model2score': fmt_score, },\n",
    "           exceptions=[-1, -99, -98, -97, 0, 100, 200, 222],\n",
    "           dataframe_names = (\"baseline\", \"test1\"))\n",
    "cr.to_xlsx(\"./_temp/air937_202306_test1_data-comparison.xlsx\", overwrite= True)"
   ]
  },
  {
   "cell_type": "code",
   "execution_count": 40,
   "metadata": {},
   "outputs": [
    {
     "data": {
      "text/plain": [
       "<dsgtools.reporting.tablewriter.TableWriter at 0x7f21ce658fd0>"
      ]
     },
     "execution_count": 40,
     "metadata": {},
     "output_type": "execute_result"
    },
    {
     "data": {
      "text/plain": [
       "<Figure size 640x480 with 0 Axes>"
      ]
     },
     "metadata": {},
     "output_type": "display_data"
    },
    {
     "data": {
      "text/plain": [
       "<Figure size 640x480 with 0 Axes>"
      ]
     },
     "metadata": {},
     "output_type": "display_data"
    },
    {
     "data": {
      "text/plain": [
       "<Figure size 640x480 with 0 Axes>"
      ]
     },
     "metadata": {},
     "output_type": "display_data"
    },
    {
     "data": {
      "text/plain": [
       "<Figure size 640x480 with 0 Axes>"
      ]
     },
     "metadata": {},
     "output_type": "display_data"
    }
   ],
   "source": [
    "fmt_score = make_format(cuts = [-np.inf, 500, 550, 600, 625, 650, 675, 700, 725, 750, 775, 800, 825, 850, 900, np.inf], exceptions = [0, 100, 200, 222])\n",
    "cr = ImpactAnalysisReport(baseline, test_2, keys=\"id\",\n",
    "           score_columns = [\"model1score\", \"model2score\", \"sbfehitindex\"], \n",
    "           score_formats = {\"model1score\" : fmt_score, \n",
    "                         'model2score': fmt_score, },\n",
    "           exceptions=[-1, -99, -98, -97, 0, 100, 200, 222], \n",
    "           dataframe_names = (\"baseline\", \"test2\"))\n",
    "cr.to_xlsx(\"./_temp/air937_202306_test2_data-comparison.xlsx\", overwrite= True)"
   ]
  },
  {
   "cell_type": "code",
   "execution_count": null,
   "metadata": {},
   "outputs": [],
   "source": []
  }
 ],
 "metadata": {
  "kernelspec": {
   "display_name": "data-science",
   "language": "python",
   "name": "python3"
  },
  "language_info": {
   "codemirror_mode": {
    "name": "ipython",
    "version": 3
   },
   "file_extension": ".py",
   "mimetype": "text/x-python",
   "name": "python",
   "nbconvert_exporter": "python",
   "pygments_lexer": "ipython3",
   "version": "3.10.6"
  },
  "orig_nbformat": 4
 },
 "nbformat": 4,
 "nbformat_minor": 2
}
