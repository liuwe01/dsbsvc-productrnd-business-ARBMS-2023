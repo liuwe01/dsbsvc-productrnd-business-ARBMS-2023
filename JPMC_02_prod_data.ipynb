{
 "cells": [
  {
   "cell_type": "code",
   "execution_count": 1,
   "metadata": {},
   "outputs": [
    {
     "name": "stderr",
     "output_type": "stream",
     "text": [
      "Matplotlib is building the font cache; this may take a moment.\n"
     ]
    }
   ],
   "source": [
    "import time\n",
    "import pickle\n",
    "import pandas as pd\n",
    "import numpy as np\n",
    "import math\n",
    "\n",
    "# internal tools\n",
    "from dsgtools.reporting import make_format\n",
    "from dsgtools.reporting import TableWriter\n",
    "from dsgtools.reporting import freq\n",
    "from dsgtools.reporting import bivariate"
   ]
  },
  {
   "cell_type": "code",
   "execution_count": 2,
   "metadata": {},
   "outputs": [],
   "source": [
    "# path = \"Analytics/Personal Folders/liuwei01/2023/JPMC/new_data_run_0316_prod/\"\n",
    "path = \"Analytics/Personal Folders/liuwei01/2023/JPMC/new_data_run_0319_prod/\""
   ]
  },
  {
   "cell_type": "code",
   "execution_count": 3,
   "metadata": {},
   "outputs": [
    {
     "name": "stdout",
     "output_type": "stream",
     "text": [
      "(34550, 142)\n",
      "(34550, 114)\n",
      "(34550, 27)\n"
     ]
    }
   ],
   "source": [
    "file1 = pd.read_adls(path + \"z_LN_TrendV_Bal_with_sv_0321_prod_v3.csv\")\n",
    "file2 = pd.read_adls(path + 'z_LN_TrendV_Util_with_sv_0321_prod_v3.csv')\n",
    "file3 = pd.read_adls(path + 'z_ln_core_with_sv_0321_prod_v3.csv')\n",
    "\n",
    "print(file1.shape)\n",
    "print(file2.shape)\n",
    "print(file3.shape)"
   ]
  },
  {
   "cell_type": "code",
   "execution_count": 4,
   "metadata": {},
   "outputs": [
    {
     "name": "stdout",
     "output_type": "stream",
     "text": [
      "(34550, 281)\n"
     ]
    }
   ],
   "source": [
    "merged = file1.copy()\n",
    "merged =merged.merge(file2, on = \"scramble_2\")\n",
    "merged =merged.merge(file3, on = \"scramble_2\")\n",
    "print(merged.shape)"
   ]
  },
  {
   "cell_type": "code",
   "execution_count": 5,
   "metadata": {},
   "outputs": [
    {
     "data": {
      "text/plain": [
       "Index(['scramble_2', 'snapshot_dt', 'BS001_num_fin_accts',\n",
       "       'BS002_num_acct_rev_dlq_1p_12m', 'BS003_num_acct_inst_dlq_2p_12m',\n",
       "       'BS004_past_due_amt_loan', 'BS005_past_due_amt_loc',\n",
       "       'BS006_past_due_amt_leas', 'B07_max_bal', 'BS007_tot_cred_rem_max',\n",
       "       'BS008_share_open_not_dlq', 'BS009_num_cards_pos_bal',\n",
       "       'BS010_current_util_card_nocf', 'BS011_util_fin_12m_nocf',\n",
       "       'BS012_util_rev_3m_nocf', 'BS013_wrst_bckt_max_12m_fin',\n",
       "       'BS014_wrst_bckt_max_3m_fin', 'BS015_wrst_bckt_max_1m_fin',\n",
       "       'BS016_months_since_open_max', 'BS017_cur_rem_bal_card',\n",
       "       'BS018_cur_rem_bal_loan', 'BS019_cur_rem_bal_loc',\n",
       "       'BS020_sum_vel_avg_11m_rev', 'BS021_cur_rem_bal_rev',\n",
       "       'BS022_total_cur_cred_lmt_rev', 'BS023_current_util_rev_nocf',\n",
       "       'BS024_num_open_accts_pos_bal'],\n",
       "      dtype='object')"
      ]
     },
     "execution_count": 5,
     "metadata": {},
     "output_type": "execute_result"
    }
   ],
   "source": [
    "file3.columns"
   ]
  },
  {
   "cell_type": "code",
   "execution_count": 6,
   "metadata": {},
   "outputs": [],
   "source": [
    "merged.columns = [x.lower() for x in merged.columns]"
   ]
  },
  {
   "cell_type": "code",
   "execution_count": 7,
   "metadata": {},
   "outputs": [
    {
     "name": "stdout",
     "output_type": "stream",
     "text": [
      "99\n"
     ]
    }
   ],
   "source": [
    "keep = ['scramble_2', 'snapshot_dt', 'bs035_bal_m0_fin', 'bs036_bal_m0_card', 'bs033_bal_min_3m_rev', 'bs034_bal_min_3m_card', 'bs066_bal_avg_12m_rev', 'bs045_bal_dif_m0_m11_fin', \n",
    "'bs043_bal_dif_m0_m11_rev', 'bs046_bal_dif_m0_m11_card', 'bs044_bal_dif_m0_m11_loc', 'bs050_bal_dif_cur_12mavg_fin', 'bs049_bal_dif_cur_12mmax_rev', 'bs048_bal_dif_cur_6mmax_fin', \n",
    "'bs047_bal_dif_cur_6mmax_rev', 'bs064_bal_ch_abs_max_12m_rev', 'bs062_bal_ch_abs_min_12m_rev', 'bs065_bal_ch_abs_max_12m_card', 'bs063_bal_ch_abs_min_12m_card', \n",
    "'bs058_bal_ch_min_12m_fin', 'bs057_bal_ch_min_12m_rev', 'bs056_bal_ch_min_3m_fin', 'bs060_bal_ch_avg_12m_fin', 'bs059_bal_ch_avg_12m_rev', 'bs061_bal_ch_avg_12m_card', \n",
    "'bs055_bal_ch_neg_sum_6m_fin', 'bs054_bal_ch_neg_sum_6m_rev', 'bs031_bal_rto_cur_12mmax_fin', 'bs030_bal_rto_cur_12mmax_rev', 'bs032_bal_rto_cur_12mmax_card', \n",
    "'bs028_bal_rto_cur_6mmax_fin', 'bs027_bal_rto_cur_6mmax_rev', 'bs029_bal_rto_cur_6mmax_card', 'bs040_bal_dif_r_m0_m11_rev', 'bs042_bal_dif_r_m0_m11_card', \n",
    "'bs041_bal_dif_r_m0_m11_loc', 'bs052_bal_ch_r_min_6m_fin', 'bs051_bal_ch_r_min_6m_rev', 'bs053_bal_ch_r_min_6m_card', 'bs039_bal_inc_cnt_12m_fin', 'bs038_bal_inc_cnt_6m_card', \n",
    "'bs037_bal_inc_cnt_6m_rev', 'bs026_bal_trend_ind_3m_fin', 'bs025_bal_trend_ind_3m_rev', 'bs078_util_m0_loc', 'bs076_util_max_3m_rev', 'bs077_util_max_12m_card', \n",
    "'bs074_util_max_6m_rev', 'bs075_util_max_6m_card', 'bs073_util_min_3m_rev', 'bs071_util_min_6m_rev', 'bs072_util_min_6m_card', 'bs087_util_avg_6m_rev', 'bs089_util_avg_3m_card', \n",
    "'bs088_util_avg_3m_loc', 'bs081_util_dif_m0_m11_rev', 'bs082_util_dif_m0_m11_card', 'bs085_util_ch_avg_6m_rev', 'bs086_util_ch_avg_12m_card', 'bs079_util_inc_cnt_12m_rev', \n",
    "'bs080_util_inc_cnt_12m_card', 'bs092_util_75_cnt_12m_open', 'bs091_util_75_cnt_12m_rev', 'bs093_util_75_cnt_12m_card', 'bs090_util_75_cnt_3m_rev', 'bs070_util_rto_cur_12mmax_card', \n",
    "'bs069_util_rto_cur_12mmax_rev', 'bs083_util_ch_r_min_6m_rev', 'bs084_util_ch_r_min_6m_card', 'bs067_util_trend_ind_3m_rev', 'bs068_util_trend_ind_3m_card', 'bs007_tot_cred_rem_max', \n",
    "'bs022_total_cur_cred_lmt_rev', 'bs023_current_util_rev_nocf', 'bs010_current_util_card_nocf', 'bs011_util_fin_12m_nocf', 'bs012_util_rev_3m_nocf', 'bs016_months_since_open_max', \n",
    "'bs001_num_fin_accts', 'bs024_num_open_accts_pos_bal', 'bs009_num_cards_pos_bal', 'bs021_cur_rem_bal_rev', 'bs017_cur_rem_bal_card', 'bs019_cur_rem_bal_loc', \n",
    "'bs018_cur_rem_bal_loan', 'bs020_sum_vel_avg_47m_rev', 'bs020_sum_vel_avg_11m_rev', 'bs002_num_acct_rev_dlq_1p_48m', 'bs002_num_acct_rev_dlq_1p_12m', \n",
    "'bs003_num_acct_inst_dlq_2p_48m', 'bs003_num_acct_inst_dlq_2p_12m', 'bs015_wrst_bckt_max_1m_fin', 'bs013_wrst_bckt_max_48m_fin', 'bs013_wrst_bckt_max_12m_fin', \n",
    "'bs014_wrst_bckt_max_3m_fin', 'bs008_share_open_not_dlq', 'bs004_past_due_amt_loan', 'bs005_past_due_amt_loc', 'bs006_past_due_amt_leas', ]\n",
    "print(len(keep))"
   ]
  },
  {
   "cell_type": "code",
   "execution_count": 8,
   "metadata": {},
   "outputs": [
    {
     "data": {
      "text/plain": [
       "['bs020_sum_vel_avg_47m_rev',\n",
       " 'bs002_num_acct_rev_dlq_1p_48m',\n",
       " 'bs003_num_acct_inst_dlq_2p_48m',\n",
       " 'bs013_wrst_bckt_max_48m_fin']"
      ]
     },
     "execution_count": 8,
     "metadata": {},
     "output_type": "execute_result"
    }
   ],
   "source": [
    "[x for x in keep if x not in merged.columns]"
   ]
  },
  {
   "cell_type": "code",
   "execution_count": 9,
   "metadata": {},
   "outputs": [],
   "source": [
    "temp = merged[[x for x in keep if x in merged.columns]].copy()"
   ]
  },
  {
   "cell_type": "code",
   "execution_count": 10,
   "metadata": {},
   "outputs": [],
   "source": [
    "temp = temp.rename(columns = {\"scramble_2\":\"account\", 'snapshot_dt': \"history_date\"})"
   ]
  },
  {
   "cell_type": "code",
   "execution_count": 20,
   "metadata": {},
   "outputs": [
    {
     "name": "stderr",
     "output_type": "stream",
     "text": [
      "Bad pipe message: %s [b'X\\x08\\xc4\\xbe\\xdd\\xae#\\xc0\\xf5\\xbd\\xcc[\\xd3\\xf5\\x8b\\xe6=\\xa8 E\\xb2\\xf1\\xbd\\x1e1\\xb8\\xcb(\\xcd\\xb5#oWs\\x16\\x82\\xbd\\x1c5\\xaf\\xb2,\\xd2\\x80D\\xd9i\\xf4\\xda|Y\\x00\\x08\\x13\\x02\\x13\\x03\\x13\\x01\\x00\\xff\\x01\\x00\\x00\\x8f\\x00\\x00\\x00\\x0e\\x00\\x0c\\x00\\x00\\t127.0.0.1\\x00\\x0b\\x00\\x04\\x03\\x00\\x01\\x02\\x00\\n\\x00\\x0c\\x00\\n\\x00\\x1d\\x00\\x17\\x00\\x1e\\x00\\x19\\x00\\x18\\x00#\\x00\\x00\\x00\\x16\\x00\\x00\\x00\\x17\\x00\\x00\\x00\\r\\x00\\x1e\\x00\\x1c\\x04\\x03\\x05\\x03\\x06\\x03\\x08\\x07\\x08\\x08\\x08\\t\\x08\\n\\x08\\x0b\\x08\\x04\\x08\\x05\\x08\\x06\\x04']\n",
      "Bad pipe message: %s [b'', b'']\n",
      "Bad pipe message: %s [b'']\n",
      "Bad pipe message: %s [b'\\x03\\x02\\x03\\x04\\x00-\\x00\\x02\\x01\\x01\\x003\\x00&\\x00$\\x00\\x1d\\x00 L\\x10OL\\\\\\x07\\xe6\\x9d\\x8c\\xf3\\xf3c{|N\\xdd\\x81\\x86\\xc6\\xaa\\x02\\x9f']\n",
      "Bad pipe message: %s [b'\\xf7\\xdd:\\xf4\\x88\\xac\\x16h\\x98\\xaa\\x0c@Vn\\x1f\\x92\\xcd \\x00\\x00>\\xc0\\x14\\xc0\\n\\x009\\x008\\x007\\x006\\xc0\\x0f\\xc0\\x05\\x005\\xc0\\x13\\xc0\\t\\x003\\x002\\x001\\x000\\xc0\\x0e\\xc0\\x04\\x00/\\x00\\x9a\\x00\\x99']\n",
      "Bad pipe message: %s [b'@fFg%(sQi\\x16\\xe7\\x17\\x8e\\xc78\\xf7S\\x92\\x00\\x00\\xa2\\xc0\\x14\\xc0\\n\\x009\\x008\\x007\\x006\\x00\\x88\\x00\\x87\\x00\\x86\\x00\\x85\\xc0\\x19\\x00:\\x00\\x89\\xc0\\x0f\\xc0']\n",
      "Bad pipe message: %s [b'5\\x00\\x84\\xc0']\n",
      "Bad pipe message: %s [b'\\t\\x003\\x002\\x001\\x000\\x00\\x9a\\x00\\x99\\x00\\x98\\x00\\x97\\x00']\n",
      "Bad pipe message: %s [b'D\\x00C\\x00B\\xc0\\x18\\x004\\x00\\x9b\\x00F\\xc0\\x0e\\xc0\\x04\\x00/\\x00\\x96\\x00A\\x00\\x07\\xc0\\x11\\xc0\\x07\\xc0\\x16\\x00\\x18\\xc0\\x0c\\xc0\\x02\\x00\\x05\\x00\\x04\\xc0\\x12\\xc0\\x08\\x00\\x16\\x00\\x13\\x00\\x10\\x00\\r\\xc0\\x17\\x00\\x1b\\xc0\\r\\xc0\\x03\\x00\\n\\x00\\x15\\x00\\x12\\x00']\n",
      "Bad pipe message: %s [b'\\x0c\\x00\\x1a\\x00\\t\\x00\\x14\\x00\\x11\\x00\\x19\\x00\\x08\\x00']\n",
      "Bad pipe message: %s [b'\\x17\\x00\\x03\\xc0\\x10']\n",
      "Bad pipe message: %s [b'\\x89;[\\xe1B;\\x00\\xcc\\xa4\\xb2z\\n\\xc6\\\\#\\xff\\xec7\\x00\\x00>\\xc0\\x14\\xc0\\n\\x009\\x008\\x007\\x006\\xc0\\x0f\\xc0\\x05\\x005\\xc0\\x13\\xc0\\t\\x003\\x002\\x001\\x000\\xc0\\x0e\\xc0\\x04\\x00/\\x00\\x9a\\x00\\x99\\x00\\x98\\x00\\x97\\x00\\x96\\x00\\x07\\xc0\\x11\\xc0\\x07\\xc0\\x0c\\xc0\\x02\\x00\\x05\\x00\\x04\\x00\\xff\\x02\\x01\\x00\\x15']\n",
      "Bad pipe message: %s [b'\\x00\\x02']\n",
      "Bad pipe message: %s [b'\\tn\\x1avig|l\\x7f\\x81\\x87SJ\\xd4\\xb3\\x15\\xd5T\\x00\\x00\\xa2\\xc0\\x14\\xc0\\n\\x009\\x008\\x007\\x006\\x00\\x88\\x00\\x87\\x00\\x86\\x00\\x85\\xc0\\x19\\x00:\\x00\\x89\\xc0\\x0f\\xc0\\x05\\x005\\x00\\x84\\xc0']\n",
      "Bad pipe message: %s [b'\\t\\x003\\x002\\x001\\x000\\x00\\x9a\\x00\\x99\\x00\\x98\\x00\\x97\\x00']\n",
      "Bad pipe message: %s [b'D\\x00C\\x00B\\xc0\\x18\\x004\\x00\\x9b\\x00F\\xc0\\x0e\\xc0\\x04\\x00/\\x00\\x96\\x00A\\x00\\x07\\xc0\\x11\\xc0\\x07\\xc0\\x16\\x00\\x18\\xc0\\x0c\\xc0\\x02\\x00\\x05\\x00\\x04\\xc0\\x12\\xc0\\x08\\x00\\x16\\x00\\x13\\x00\\x10\\x00\\r\\xc0\\x17\\x00\\x1b\\xc0\\r\\xc0\\x03\\x00\\n\\x00\\x15\\x00\\x12\\x00']\n",
      "Bad pipe message: %s [b'\\x0c\\x00\\x1a\\x00\\t\\x00\\x14\\x00\\x11\\x00\\x19\\x00\\x08\\x00']\n",
      "Bad pipe message: %s [b'\\x17\\x00\\x03\\xc0\\x10']\n",
      "Bad pipe message: %s [b'R\\xf5\\xa1\"\\x1f\\x95kF]', b\"\\xec\\xc0'\\xc2\\x1c\\xf3h\\x00\\x00\\x86\\xc00\\xc0,\\xc0(\\xc0$\\xc0\\x14\\xc0\\n\\x00\\xa5\\x00\\xa3\\x00\\xa1\\x00\\x9f\\x00k\\x00j\\x00i\\x00h\\x009\\x008\\x007\\x006\\xc02\\xc0.\\xc0*\\xc0&\\xc0\\x0f\\xc0\\x05\\x00\\x9d\\x00=\\x005\\xc0/\\xc0+\\xc0'\\xc0#\\xc0\\x13\\xc0\\t\\x00\\xa4\\x00\\xa2\\x00\\xa0\\x00\\x9e\\x00g\\x00@\\x00?\\x00>\\x003\\x002\\x001\\x000\\xc01\\xc0-\\xc0)\\xc0%\\xc0\\x0e\\xc0\\x04\\x00\\x9c\\x00<\\x00/\\x00\\x9a\\x00\\x99\\x00\\x98\\x00\\x97\\x00\\x96\\x00\\x07\\xc0\\x11\\xc0\\x07\\xc0\\x0c\\xc0\\x02\\x00\\x05\\x00\\x04\\x00\\xff\\x02\\x01\\x00\\x00g\\x00\\x00\\x00\\x0e\\x00\"]\n",
      "Bad pipe message: %s [b'\\x00\\t127.0.0.1']\n"
     ]
    }
   ],
   "source": [
    "temp.to_adls(path + \"file_for_heberton_prod_0321_run.csv\", format = \".csv\", index = False, overwrite = True)"
   ]
  },
  {
   "cell_type": "markdown",
   "metadata": {},
   "source": [
    "## ECL output"
   ]
  },
  {
   "cell_type": "code",
   "execution_count": 13,
   "metadata": {},
   "outputs": [
    {
     "name": "stdout",
     "output_type": "stream",
     "text": [
      "(51298, 105)\n"
     ]
    }
   ],
   "source": [
    "ecl = pd.read_adls(path + \"0321_armbs_1803_deliverables_attributes_50k_roxie_w20230321-165050.csv\")\n",
    "print(ecl.shape)"
   ]
  },
  {
   "cell_type": "code",
   "execution_count": 14,
   "metadata": {},
   "outputs": [
    {
     "name": "stdout",
     "output_type": "stream",
     "text": [
      "(51298, 200)\n"
     ]
    }
   ],
   "source": [
    "temp.columns = [\"sas_\" + x for x in temp.columns]\n",
    "merged = temp.merge(ecl, left_on = \"sas_account\", right_on = \"account\", how = 'outer')\n",
    "print(merged.shape)"
   ]
  },
  {
   "cell_type": "code",
   "execution_count": 15,
   "metadata": {},
   "outputs": [
    {
     "name": "stdout",
     "output_type": "stream",
     "text": [
      "(16748, 200)\n"
     ]
    }
   ],
   "source": [
    "merged = merged[merged.sas_account.isnull()]\n",
    "print(merged.shape)"
   ]
  },
  {
   "cell_type": "code",
   "execution_count": 19,
   "metadata": {},
   "outputs": [
    {
     "data": {
      "text/plain": [
       "array([999999999, 999999990,       999,       990])"
      ]
     },
     "execution_count": 19,
     "metadata": {},
     "output_type": "execute_result"
    }
   ],
   "source": [
    "pd.unique(merged[['bs035_bal_m0_fin', 'bs036_bal_m0_card', 'bs033_bal_min_3m_rev', 'bs034_bal_min_3m_card', 'bs066_bal_avg_12m_rev', 'bs045_bal_dif_m0_m11_fin', \n",
    "'bs043_bal_dif_m0_m11_rev', 'bs046_bal_dif_m0_m11_card', 'bs044_bal_dif_m0_m11_loc', 'bs050_bal_dif_cur_12mavg_fin', 'bs049_bal_dif_cur_12mmax_rev', 'bs048_bal_dif_cur_6mmax_fin', \n",
    "'bs047_bal_dif_cur_6mmax_rev', 'bs064_bal_ch_abs_max_12m_rev', 'bs062_bal_ch_abs_min_12m_rev', 'bs065_bal_ch_abs_max_12m_card', 'bs063_bal_ch_abs_min_12m_card', \n",
    "'bs058_bal_ch_min_12m_fin', 'bs057_bal_ch_min_12m_rev', 'bs056_bal_ch_min_3m_fin', 'bs060_bal_ch_avg_12m_fin', 'bs059_bal_ch_avg_12m_rev', 'bs061_bal_ch_avg_12m_card', \n",
    "'bs055_bal_ch_neg_sum_6m_fin', 'bs054_bal_ch_neg_sum_6m_rev', 'bs031_bal_rto_cur_12mmax_fin', 'bs030_bal_rto_cur_12mmax_rev', 'bs032_bal_rto_cur_12mmax_card', \n",
    "'bs028_bal_rto_cur_6mmax_fin', 'bs027_bal_rto_cur_6mmax_rev', 'bs029_bal_rto_cur_6mmax_card', 'bs040_bal_dif_r_m0_m11_rev', 'bs042_bal_dif_r_m0_m11_card', \n",
    "'bs041_bal_dif_r_m0_m11_loc', 'bs052_bal_ch_r_min_6m_fin', 'bs051_bal_ch_r_min_6m_rev', 'bs053_bal_ch_r_min_6m_card', 'bs039_bal_inc_cnt_12m_fin', 'bs038_bal_inc_cnt_6m_card', \n",
    "'bs037_bal_inc_cnt_6m_rev', 'bs026_bal_trend_ind_3m_fin', 'bs025_bal_trend_ind_3m_rev', 'bs078_util_m0_loc', 'bs076_util_max_3m_rev', 'bs077_util_max_12m_card', \n",
    "'bs074_util_max_6m_rev', 'bs075_util_max_6m_card', 'bs073_util_min_3m_rev', 'bs071_util_min_6m_rev', 'bs072_util_min_6m_card', 'bs087_util_avg_6m_rev', 'bs089_util_avg_3m_card', \n",
    "'bs088_util_avg_3m_loc', 'bs081_util_dif_m0_m11_rev', 'bs082_util_dif_m0_m11_card', 'bs085_util_ch_avg_6m_rev', 'bs086_util_ch_avg_12m_card', 'bs079_util_inc_cnt_12m_rev', \n",
    "'bs080_util_inc_cnt_12m_card', 'bs092_util_75_cnt_12m_open', 'bs091_util_75_cnt_12m_rev', 'bs093_util_75_cnt_12m_card', 'bs090_util_75_cnt_3m_rev', 'bs070_util_rto_cur_12mmax_card', \n",
    "'bs069_util_rto_cur_12mmax_rev', 'bs083_util_ch_r_min_6m_rev', 'bs084_util_ch_r_min_6m_card', 'bs067_util_trend_ind_3m_rev', 'bs068_util_trend_ind_3m_card', 'bs007_tot_cred_rem_max', \n",
    "'bs022_total_cur_cred_lmt_rev', 'bs023_current_util_rev_nocf', 'bs010_current_util_card_nocf', 'bs011_util_fin_12m_nocf', 'bs012_util_rev_3m_nocf', 'bs016_months_since_open_max', \n",
    "'bs001_num_fin_accts', 'bs024_num_open_accts_pos_bal', 'bs009_num_cards_pos_bal', 'bs021_cur_rem_bal_rev', 'bs017_cur_rem_bal_card', 'bs019_cur_rem_bal_loc', \n",
    "'bs018_cur_rem_bal_loan', 'bs020_sum_vel_avg_47m_rev', 'bs020_sum_vel_avg_11m_rev', 'bs002_num_acct_rev_dlq_1p_48m', 'bs002_num_acct_rev_dlq_1p_12m', \n",
    "'bs003_num_acct_inst_dlq_2p_48m', 'bs003_num_acct_inst_dlq_2p_12m', 'bs015_wrst_bckt_max_1m_fin', 'bs013_wrst_bckt_max_48m_fin', 'bs013_wrst_bckt_max_12m_fin', \n",
    "'bs014_wrst_bckt_max_3m_fin', 'bs008_share_open_not_dlq', 'bs004_past_due_amt_loan', 'bs005_past_due_amt_loc', 'bs006_past_due_amt_leas', ]].values.ravel('K'))"
   ]
  },
  {
   "cell_type": "code",
   "execution_count": 13,
   "metadata": {},
   "outputs": [
    {
     "data": {
      "text/plain": [
       "Index(['account', 'id_powid', 'id_proxid', 'id_seleid', 'id_orgid', 'id_ultid',\n",
       "       'history_date', 'history_datetime', 'bs035_bal_m0_fin',\n",
       "       'bs036_bal_m0_card',\n",
       "       ...\n",
       "       'bs003_num_acct_inst_dlq_2p_48m', 'bs003_num_acct_inst_dlq_2p_12m',\n",
       "       'bs015_wrst_bckt_max_1m_fin', 'bs013_wrst_bckt_max_48m_fin',\n",
       "       'bs013_wrst_bckt_max_12m_fin', 'bs014_wrst_bckt_max_3m_fin',\n",
       "       'bs008_share_open_not_dlq', 'bs004_past_due_amt_loan',\n",
       "       'bs005_past_due_amt_loc', 'bs006_past_due_amt_leas'],\n",
       "      dtype='object', length=105)"
      ]
     },
     "execution_count": 13,
     "metadata": {},
     "output_type": "execute_result"
    }
   ],
   "source": [
    "ecl.columns"
   ]
  },
  {
   "cell_type": "code",
   "execution_count": 14,
   "metadata": {},
   "outputs": [
    {
     "data": {
      "text/plain": [
       "<dsgtools.reporting.tablewriter.TableWriter at 0x7f31d1937c10>"
      ]
     },
     "execution_count": 14,
     "metadata": {},
     "output_type": "execute_result"
    }
   ],
   "source": [
    "from dsgtools.reporting import ImpactAnalysisReport\n",
    "cr = ImpactAnalysisReport(temp, ecl, keys=\"account\", dataframe_names =(\"sas\", \"ecl\"))\n",
    "cr.to_xlsx(\"./_temp/sas_vs_ecl_jpmc.xlsx\", overwrite=True)"
   ]
  },
  {
   "cell_type": "code",
   "execution_count": 15,
   "metadata": {},
   "outputs": [
    {
     "name": "stdout",
     "output_type": "stream",
     "text": [
      "(34550, 200)\n"
     ]
    }
   ],
   "source": [
    "temp.columns = [\"sas_\" + x for x in temp.columns]\n",
    "merged = temp.merge(ecl, left_on = \"sas_account\", right_on = \"account\")\n",
    "print(merged.shape)"
   ]
  },
  {
   "cell_type": "code",
   "execution_count": 16,
   "metadata": {},
   "outputs": [
    {
     "data": {
      "text/html": [
       "<div>\n",
       "<style scoped>\n",
       "    .dataframe tbody tr th:only-of-type {\n",
       "        vertical-align: middle;\n",
       "    }\n",
       "\n",
       "    .dataframe tbody tr th {\n",
       "        vertical-align: top;\n",
       "    }\n",
       "\n",
       "    .dataframe thead th {\n",
       "        text-align: right;\n",
       "    }\n",
       "</style>\n",
       "<table border=\"1\" class=\"dataframe\">\n",
       "  <thead>\n",
       "    <tr style=\"text-align: right;\">\n",
       "      <th></th>\n",
       "      <th>account</th>\n",
       "      <th>id_powid</th>\n",
       "      <th>id_proxid</th>\n",
       "      <th>id_seleid</th>\n",
       "      <th>id_orgid</th>\n",
       "      <th>id_ultid</th>\n",
       "      <th>history_date</th>\n",
       "      <th>history_datetime</th>\n",
       "      <th>sas_bs001_num_fin_accts</th>\n",
       "      <th>bs001_num_fin_accts</th>\n",
       "    </tr>\n",
       "  </thead>\n",
       "  <tbody>\n",
       "    <tr>\n",
       "      <th>7286</th>\n",
       "      <td>q177p4on22q</td>\n",
       "      <td>NaN</td>\n",
       "      <td>NaN</td>\n",
       "      <td>NaN</td>\n",
       "      <td>NaN</td>\n",
       "      <td>NaN</td>\n",
       "      <td>0</td>\n",
       "      <td>0</td>\n",
       "      <td>1</td>\n",
       "      <td>NaN</td>\n",
       "    </tr>\n",
       "    <tr>\n",
       "      <th>7878</th>\n",
       "      <td>q177p4p7816</td>\n",
       "      <td>NaN</td>\n",
       "      <td>NaN</td>\n",
       "      <td>NaN</td>\n",
       "      <td>NaN</td>\n",
       "      <td>NaN</td>\n",
       "      <td>0</td>\n",
       "      <td>0</td>\n",
       "      <td>2</td>\n",
       "      <td>NaN</td>\n",
       "    </tr>\n",
       "    <tr>\n",
       "      <th>9962</th>\n",
       "      <td>q177p7171n7</td>\n",
       "      <td>NaN</td>\n",
       "      <td>NaN</td>\n",
       "      <td>NaN</td>\n",
       "      <td>NaN</td>\n",
       "      <td>NaN</td>\n",
       "      <td>0</td>\n",
       "      <td>0</td>\n",
       "      <td>2</td>\n",
       "      <td>NaN</td>\n",
       "    </tr>\n",
       "  </tbody>\n",
       "</table>\n",
       "</div>"
      ],
      "text/plain": [
       "          account  id_powid  id_proxid  id_seleid  id_orgid  id_ultid  \\\n",
       "7286  q177p4on22q       NaN        NaN        NaN       NaN       NaN   \n",
       "7878  q177p4p7816       NaN        NaN        NaN       NaN       NaN   \n",
       "9962  q177p7171n7       NaN        NaN        NaN       NaN       NaN   \n",
       "\n",
       "      history_date  history_datetime  sas_bs001_num_fin_accts  \\\n",
       "7286             0                 0                        1   \n",
       "7878             0                 0                        2   \n",
       "9962             0                 0                        2   \n",
       "\n",
       "      bs001_num_fin_accts  \n",
       "7286                  NaN  \n",
       "7878                  NaN  \n",
       "9962                  NaN  "
      ]
     },
     "execution_count": 16,
     "metadata": {},
     "output_type": "execute_result"
    }
   ],
   "source": [
    "pd.set_option('display.float_format', lambda x: '%.f' % x)\n",
    "merged.loc[merged[\"bs001_num_fin_accts\"]!= merged[\"sas_bs001_num_fin_accts\"], [\"account\", 'id_powid', 'id_proxid', 'id_seleid', 'id_orgid', 'id_ultid',\n",
    "       'history_date', 'history_datetime', \"sas_bs001_num_fin_accts\", \"bs001_num_fin_accts\"]]"
   ]
  },
  {
   "cell_type": "code",
   "execution_count": 18,
   "metadata": {},
   "outputs": [
    {
     "data": {
      "text/html": [
       "<div>\n",
       "<style scoped>\n",
       "    .dataframe tbody tr th:only-of-type {\n",
       "        vertical-align: middle;\n",
       "    }\n",
       "\n",
       "    .dataframe tbody tr th {\n",
       "        vertical-align: top;\n",
       "    }\n",
       "\n",
       "    .dataframe thead th {\n",
       "        text-align: right;\n",
       "    }\n",
       "</style>\n",
       "<table border=\"1\" class=\"dataframe\">\n",
       "  <thead>\n",
       "    <tr style=\"text-align: right;\">\n",
       "      <th></th>\n",
       "      <th>account</th>\n",
       "      <th>id_powid</th>\n",
       "      <th>id_proxid</th>\n",
       "      <th>id_seleid</th>\n",
       "      <th>id_orgid</th>\n",
       "      <th>id_ultid</th>\n",
       "      <th>history_date</th>\n",
       "      <th>history_datetime</th>\n",
       "      <th>bs001_num_fin_accts</th>\n",
       "      <th>sas_bs006_past_due_amt_leas</th>\n",
       "      <th>bs006_past_due_amt_leas</th>\n",
       "    </tr>\n",
       "  </thead>\n",
       "  <tbody>\n",
       "    <tr>\n",
       "      <th>1134</th>\n",
       "      <td>q177p1n67p8</td>\n",
       "      <td>136796291670</td>\n",
       "      <td>136796291670</td>\n",
       "      <td>160607872</td>\n",
       "      <td>160607872</td>\n",
       "      <td>160607872</td>\n",
       "      <td>202103</td>\n",
       "      <td>20210331</td>\n",
       "      <td>6</td>\n",
       "      <td>999999996</td>\n",
       "      <td>999999997</td>\n",
       "    </tr>\n",
       "    <tr>\n",
       "      <th>5285</th>\n",
       "      <td>q177p47p22p</td>\n",
       "      <td>157358768</td>\n",
       "      <td>157358768</td>\n",
       "      <td>157358768</td>\n",
       "      <td>157358768</td>\n",
       "      <td>157358768</td>\n",
       "      <td>202103</td>\n",
       "      <td>20210331</td>\n",
       "      <td>5</td>\n",
       "      <td>999999996</td>\n",
       "      <td>999999997</td>\n",
       "    </tr>\n",
       "    <tr>\n",
       "      <th>5309</th>\n",
       "      <td>q177p47pnq4</td>\n",
       "      <td>157358768</td>\n",
       "      <td>157358768</td>\n",
       "      <td>157358768</td>\n",
       "      <td>157358768</td>\n",
       "      <td>157358768</td>\n",
       "      <td>202103</td>\n",
       "      <td>20210331</td>\n",
       "      <td>5</td>\n",
       "      <td>999999996</td>\n",
       "      <td>999999997</td>\n",
       "    </tr>\n",
       "    <tr>\n",
       "      <th>7286</th>\n",
       "      <td>q177p4on22q</td>\n",
       "      <td>NaN</td>\n",
       "      <td>NaN</td>\n",
       "      <td>NaN</td>\n",
       "      <td>NaN</td>\n",
       "      <td>NaN</td>\n",
       "      <td>0</td>\n",
       "      <td>0</td>\n",
       "      <td>NaN</td>\n",
       "      <td>999999991</td>\n",
       "      <td>NaN</td>\n",
       "    </tr>\n",
       "    <tr>\n",
       "      <th>7878</th>\n",
       "      <td>q177p4p7816</td>\n",
       "      <td>NaN</td>\n",
       "      <td>NaN</td>\n",
       "      <td>NaN</td>\n",
       "      <td>NaN</td>\n",
       "      <td>NaN</td>\n",
       "      <td>0</td>\n",
       "      <td>0</td>\n",
       "      <td>NaN</td>\n",
       "      <td>999999991</td>\n",
       "      <td>NaN</td>\n",
       "    </tr>\n",
       "    <tr>\n",
       "      <th>8177</th>\n",
       "      <td>q177p4pqqpq</td>\n",
       "      <td>80033702</td>\n",
       "      <td>80033702</td>\n",
       "      <td>80033702</td>\n",
       "      <td>80033702</td>\n",
       "      <td>80033702</td>\n",
       "      <td>202103</td>\n",
       "      <td>20210331</td>\n",
       "      <td>9</td>\n",
       "      <td>999999996</td>\n",
       "      <td>999999997</td>\n",
       "    </tr>\n",
       "    <tr>\n",
       "      <th>8315</th>\n",
       "      <td>q177p4q447q</td>\n",
       "      <td>136207511894</td>\n",
       "      <td>136207511894</td>\n",
       "      <td>68561472</td>\n",
       "      <td>68561472</td>\n",
       "      <td>68561472</td>\n",
       "      <td>202103</td>\n",
       "      <td>20210331</td>\n",
       "      <td>4</td>\n",
       "      <td>999999996</td>\n",
       "      <td>999999997</td>\n",
       "    </tr>\n",
       "    <tr>\n",
       "      <th>9695</th>\n",
       "      <td>q177p6pn4q4</td>\n",
       "      <td>134444141566</td>\n",
       "      <td>134444141566</td>\n",
       "      <td>142406685</td>\n",
       "      <td>142406685</td>\n",
       "      <td>142406685</td>\n",
       "      <td>202012</td>\n",
       "      <td>20201231</td>\n",
       "      <td>3</td>\n",
       "      <td>999999996</td>\n",
       "      <td>999999997</td>\n",
       "    </tr>\n",
       "    <tr>\n",
       "      <th>9962</th>\n",
       "      <td>q177p7171n7</td>\n",
       "      <td>NaN</td>\n",
       "      <td>NaN</td>\n",
       "      <td>NaN</td>\n",
       "      <td>NaN</td>\n",
       "      <td>NaN</td>\n",
       "      <td>0</td>\n",
       "      <td>0</td>\n",
       "      <td>NaN</td>\n",
       "      <td>999999991</td>\n",
       "      <td>NaN</td>\n",
       "    </tr>\n",
       "    <tr>\n",
       "      <th>9971</th>\n",
       "      <td>q177p717486</td>\n",
       "      <td>202759238</td>\n",
       "      <td>202759238</td>\n",
       "      <td>41949543</td>\n",
       "      <td>41949543</td>\n",
       "      <td>41949543</td>\n",
       "      <td>202012</td>\n",
       "      <td>20201231</td>\n",
       "      <td>1</td>\n",
       "      <td>999999996</td>\n",
       "      <td>999999997</td>\n",
       "    </tr>\n",
       "    <tr>\n",
       "      <th>10234</th>\n",
       "      <td>q177p721opn</td>\n",
       "      <td>136326676344</td>\n",
       "      <td>136326676344</td>\n",
       "      <td>160022229</td>\n",
       "      <td>160022229</td>\n",
       "      <td>160022229</td>\n",
       "      <td>202012</td>\n",
       "      <td>20201231</td>\n",
       "      <td>4</td>\n",
       "      <td>999999996</td>\n",
       "      <td>999999997</td>\n",
       "    </tr>\n",
       "    <tr>\n",
       "      <th>10498</th>\n",
       "      <td>q177p727p74</td>\n",
       "      <td>202759238</td>\n",
       "      <td>202759238</td>\n",
       "      <td>41949543</td>\n",
       "      <td>41949543</td>\n",
       "      <td>41949543</td>\n",
       "      <td>202012</td>\n",
       "      <td>20201231</td>\n",
       "      <td>1</td>\n",
       "      <td>999999996</td>\n",
       "      <td>999999997</td>\n",
       "    </tr>\n",
       "    <tr>\n",
       "      <th>10981</th>\n",
       "      <td>q177p764811</td>\n",
       "      <td>5562135</td>\n",
       "      <td>5562135</td>\n",
       "      <td>5559778</td>\n",
       "      <td>5559778</td>\n",
       "      <td>5559778</td>\n",
       "      <td>202012</td>\n",
       "      <td>20201231</td>\n",
       "      <td>6</td>\n",
       "      <td>999999996</td>\n",
       "      <td>999999997</td>\n",
       "    </tr>\n",
       "    <tr>\n",
       "      <th>11184</th>\n",
       "      <td>q177p76po2n</td>\n",
       "      <td>136796291670</td>\n",
       "      <td>136796291670</td>\n",
       "      <td>160607872</td>\n",
       "      <td>160607872</td>\n",
       "      <td>160607872</td>\n",
       "      <td>202012</td>\n",
       "      <td>20201231</td>\n",
       "      <td>5</td>\n",
       "      <td>999999996</td>\n",
       "      <td>999999997</td>\n",
       "    </tr>\n",
       "    <tr>\n",
       "      <th>11353</th>\n",
       "      <td>q177p77po28</td>\n",
       "      <td>58410307892</td>\n",
       "      <td>58410307892</td>\n",
       "      <td>58410307892</td>\n",
       "      <td>58410307892</td>\n",
       "      <td>58410307892</td>\n",
       "      <td>202103</td>\n",
       "      <td>20210331</td>\n",
       "      <td>4</td>\n",
       "      <td>999999996</td>\n",
       "      <td>999999997</td>\n",
       "    </tr>\n",
       "    <tr>\n",
       "      <th>11618</th>\n",
       "      <td>q177p7pq6p8</td>\n",
       "      <td>58410307892</td>\n",
       "      <td>58410307892</td>\n",
       "      <td>58410307892</td>\n",
       "      <td>58410307892</td>\n",
       "      <td>58410307892</td>\n",
       "      <td>202012</td>\n",
       "      <td>20201231</td>\n",
       "      <td>4</td>\n",
       "      <td>999999996</td>\n",
       "      <td>999999997</td>\n",
       "    </tr>\n",
       "    <tr>\n",
       "      <th>12324</th>\n",
       "      <td>q177p8278p4</td>\n",
       "      <td>4103783</td>\n",
       "      <td>4103783</td>\n",
       "      <td>4103783</td>\n",
       "      <td>4103783</td>\n",
       "      <td>4103783</td>\n",
       "      <td>202103</td>\n",
       "      <td>20210331</td>\n",
       "      <td>5</td>\n",
       "      <td>999999996</td>\n",
       "      <td>999999997</td>\n",
       "    </tr>\n",
       "    <tr>\n",
       "      <th>12327</th>\n",
       "      <td>q177p827n8p</td>\n",
       "      <td>16697669</td>\n",
       "      <td>16697669</td>\n",
       "      <td>16697669</td>\n",
       "      <td>16697669</td>\n",
       "      <td>16697669</td>\n",
       "      <td>202103</td>\n",
       "      <td>20210331</td>\n",
       "      <td>2</td>\n",
       "      <td>999999996</td>\n",
       "      <td>999999997</td>\n",
       "    </tr>\n",
       "    <tr>\n",
       "      <th>12845</th>\n",
       "      <td>q177p8676n4</td>\n",
       "      <td>13580215</td>\n",
       "      <td>13580215</td>\n",
       "      <td>13580215</td>\n",
       "      <td>13580215</td>\n",
       "      <td>13580215</td>\n",
       "      <td>202103</td>\n",
       "      <td>20210331</td>\n",
       "      <td>1</td>\n",
       "      <td>999999996</td>\n",
       "      <td>999999997</td>\n",
       "    </tr>\n",
       "    <tr>\n",
       "      <th>13291</th>\n",
       "      <td>q177p882n6o</td>\n",
       "      <td>16420911</td>\n",
       "      <td>16420911</td>\n",
       "      <td>16420911</td>\n",
       "      <td>16420911</td>\n",
       "      <td>16420911</td>\n",
       "      <td>202103</td>\n",
       "      <td>20210331</td>\n",
       "      <td>4</td>\n",
       "      <td>999999996</td>\n",
       "      <td>999999997</td>\n",
       "    </tr>\n",
       "    <tr>\n",
       "      <th>13373</th>\n",
       "      <td>q177p887746</td>\n",
       "      <td>1056122987</td>\n",
       "      <td>1056122987</td>\n",
       "      <td>1056122987</td>\n",
       "      <td>1056122987</td>\n",
       "      <td>1056122987</td>\n",
       "      <td>202103</td>\n",
       "      <td>20210331</td>\n",
       "      <td>3</td>\n",
       "      <td>999999996</td>\n",
       "      <td>999999997</td>\n",
       "    </tr>\n",
       "    <tr>\n",
       "      <th>13417</th>\n",
       "      <td>q177p88n281</td>\n",
       "      <td>89206900</td>\n",
       "      <td>89206900</td>\n",
       "      <td>89206900</td>\n",
       "      <td>89206900</td>\n",
       "      <td>89206900</td>\n",
       "      <td>202103</td>\n",
       "      <td>20210331</td>\n",
       "      <td>2</td>\n",
       "      <td>999999996</td>\n",
       "      <td>999999997</td>\n",
       "    </tr>\n",
       "    <tr>\n",
       "      <th>13640</th>\n",
       "      <td>q177p8n2q72</td>\n",
       "      <td>89206900</td>\n",
       "      <td>89206900</td>\n",
       "      <td>89206900</td>\n",
       "      <td>89206900</td>\n",
       "      <td>89206900</td>\n",
       "      <td>202103</td>\n",
       "      <td>20210331</td>\n",
       "      <td>2</td>\n",
       "      <td>999999996</td>\n",
       "      <td>999999997</td>\n",
       "    </tr>\n",
       "    <tr>\n",
       "      <th>14299</th>\n",
       "      <td>q177p8o67n6</td>\n",
       "      <td>25626197</td>\n",
       "      <td>25626197</td>\n",
       "      <td>25626197</td>\n",
       "      <td>25626197</td>\n",
       "      <td>25626197</td>\n",
       "      <td>202103</td>\n",
       "      <td>20210331</td>\n",
       "      <td>6</td>\n",
       "      <td>999999996</td>\n",
       "      <td>999999997</td>\n",
       "    </tr>\n",
       "    <tr>\n",
       "      <th>15081</th>\n",
       "      <td>q177p8qq62q</td>\n",
       "      <td>138468032</td>\n",
       "      <td>138468032</td>\n",
       "      <td>138158300</td>\n",
       "      <td>138158300</td>\n",
       "      <td>138158300</td>\n",
       "      <td>202103</td>\n",
       "      <td>20210331</td>\n",
       "      <td>6</td>\n",
       "      <td>999999996</td>\n",
       "      <td>999999997</td>\n",
       "    </tr>\n",
       "    <tr>\n",
       "      <th>30717</th>\n",
       "      <td>q177ppo4417</td>\n",
       "      <td>2591127</td>\n",
       "      <td>2591127</td>\n",
       "      <td>2591127</td>\n",
       "      <td>2591127</td>\n",
       "      <td>2591127</td>\n",
       "      <td>202012</td>\n",
       "      <td>20201231</td>\n",
       "      <td>9</td>\n",
       "      <td>999999996</td>\n",
       "      <td>999999997</td>\n",
       "    </tr>\n",
       "    <tr>\n",
       "      <th>30993</th>\n",
       "      <td>q177pq486pn</td>\n",
       "      <td>125669760</td>\n",
       "      <td>125669760</td>\n",
       "      <td>125538300</td>\n",
       "      <td>125538300</td>\n",
       "      <td>125538300</td>\n",
       "      <td>202012</td>\n",
       "      <td>20201231</td>\n",
       "      <td>5</td>\n",
       "      <td>999999996</td>\n",
       "      <td>999999997</td>\n",
       "    </tr>\n",
       "    <tr>\n",
       "      <th>31001</th>\n",
       "      <td>q177pq4o7oq</td>\n",
       "      <td>153697825</td>\n",
       "      <td>153697825</td>\n",
       "      <td>153639433</td>\n",
       "      <td>153639433</td>\n",
       "      <td>153639433</td>\n",
       "      <td>202012</td>\n",
       "      <td>20201231</td>\n",
       "      <td>5</td>\n",
       "      <td>999999996</td>\n",
       "      <td>999999997</td>\n",
       "    </tr>\n",
       "    <tr>\n",
       "      <th>31167</th>\n",
       "      <td>q177pq82qp2</td>\n",
       "      <td>82445035</td>\n",
       "      <td>82445035</td>\n",
       "      <td>82445035</td>\n",
       "      <td>82445035</td>\n",
       "      <td>82445035</td>\n",
       "      <td>202012</td>\n",
       "      <td>20201231</td>\n",
       "      <td>4</td>\n",
       "      <td>999999996</td>\n",
       "      <td>999999997</td>\n",
       "    </tr>\n",
       "    <tr>\n",
       "      <th>31223</th>\n",
       "      <td>q177pqn6n67</td>\n",
       "      <td>153039681</td>\n",
       "      <td>153039681</td>\n",
       "      <td>153039681</td>\n",
       "      <td>153039681</td>\n",
       "      <td>153039681</td>\n",
       "      <td>202012</td>\n",
       "      <td>20201231</td>\n",
       "      <td>5</td>\n",
       "      <td>999999996</td>\n",
       "      <td>999999997</td>\n",
       "    </tr>\n",
       "  </tbody>\n",
       "</table>\n",
       "</div>"
      ],
      "text/plain": [
       "           account     id_powid    id_proxid   id_seleid    id_orgid  \\\n",
       "1134   q177p1n67p8 136796291670 136796291670   160607872   160607872   \n",
       "5285   q177p47p22p    157358768    157358768   157358768   157358768   \n",
       "5309   q177p47pnq4    157358768    157358768   157358768   157358768   \n",
       "7286   q177p4on22q          NaN          NaN         NaN         NaN   \n",
       "7878   q177p4p7816          NaN          NaN         NaN         NaN   \n",
       "8177   q177p4pqqpq     80033702     80033702    80033702    80033702   \n",
       "8315   q177p4q447q 136207511894 136207511894    68561472    68561472   \n",
       "9695   q177p6pn4q4 134444141566 134444141566   142406685   142406685   \n",
       "9962   q177p7171n7          NaN          NaN         NaN         NaN   \n",
       "9971   q177p717486    202759238    202759238    41949543    41949543   \n",
       "10234  q177p721opn 136326676344 136326676344   160022229   160022229   \n",
       "10498  q177p727p74    202759238    202759238    41949543    41949543   \n",
       "10981  q177p764811      5562135      5562135     5559778     5559778   \n",
       "11184  q177p76po2n 136796291670 136796291670   160607872   160607872   \n",
       "11353  q177p77po28  58410307892  58410307892 58410307892 58410307892   \n",
       "11618  q177p7pq6p8  58410307892  58410307892 58410307892 58410307892   \n",
       "12324  q177p8278p4      4103783      4103783     4103783     4103783   \n",
       "12327  q177p827n8p     16697669     16697669    16697669    16697669   \n",
       "12845  q177p8676n4     13580215     13580215    13580215    13580215   \n",
       "13291  q177p882n6o     16420911     16420911    16420911    16420911   \n",
       "13373  q177p887746   1056122987   1056122987  1056122987  1056122987   \n",
       "13417  q177p88n281     89206900     89206900    89206900    89206900   \n",
       "13640  q177p8n2q72     89206900     89206900    89206900    89206900   \n",
       "14299  q177p8o67n6     25626197     25626197    25626197    25626197   \n",
       "15081  q177p8qq62q    138468032    138468032   138158300   138158300   \n",
       "30717  q177ppo4417      2591127      2591127     2591127     2591127   \n",
       "30993  q177pq486pn    125669760    125669760   125538300   125538300   \n",
       "31001  q177pq4o7oq    153697825    153697825   153639433   153639433   \n",
       "31167  q177pq82qp2     82445035     82445035    82445035    82445035   \n",
       "31223  q177pqn6n67    153039681    153039681   153039681   153039681   \n",
       "\n",
       "         id_ultid  history_date  history_datetime  bs001_num_fin_accts  \\\n",
       "1134    160607872        202103          20210331                    6   \n",
       "5285    157358768        202103          20210331                    5   \n",
       "5309    157358768        202103          20210331                    5   \n",
       "7286          NaN             0                 0                  NaN   \n",
       "7878          NaN             0                 0                  NaN   \n",
       "8177     80033702        202103          20210331                    9   \n",
       "8315     68561472        202103          20210331                    4   \n",
       "9695    142406685        202012          20201231                    3   \n",
       "9962          NaN             0                 0                  NaN   \n",
       "9971     41949543        202012          20201231                    1   \n",
       "10234   160022229        202012          20201231                    4   \n",
       "10498    41949543        202012          20201231                    1   \n",
       "10981     5559778        202012          20201231                    6   \n",
       "11184   160607872        202012          20201231                    5   \n",
       "11353 58410307892        202103          20210331                    4   \n",
       "11618 58410307892        202012          20201231                    4   \n",
       "12324     4103783        202103          20210331                    5   \n",
       "12327    16697669        202103          20210331                    2   \n",
       "12845    13580215        202103          20210331                    1   \n",
       "13291    16420911        202103          20210331                    4   \n",
       "13373  1056122987        202103          20210331                    3   \n",
       "13417    89206900        202103          20210331                    2   \n",
       "13640    89206900        202103          20210331                    2   \n",
       "14299    25626197        202103          20210331                    6   \n",
       "15081   138158300        202103          20210331                    6   \n",
       "30717     2591127        202012          20201231                    9   \n",
       "30993   125538300        202012          20201231                    5   \n",
       "31001   153639433        202012          20201231                    5   \n",
       "31167    82445035        202012          20201231                    4   \n",
       "31223   153039681        202012          20201231                    5   \n",
       "\n",
       "       sas_bs006_past_due_amt_leas  bs006_past_due_amt_leas  \n",
       "1134                     999999996                999999997  \n",
       "5285                     999999996                999999997  \n",
       "5309                     999999996                999999997  \n",
       "7286                     999999991                      NaN  \n",
       "7878                     999999991                      NaN  \n",
       "8177                     999999996                999999997  \n",
       "8315                     999999996                999999997  \n",
       "9695                     999999996                999999997  \n",
       "9962                     999999991                      NaN  \n",
       "9971                     999999996                999999997  \n",
       "10234                    999999996                999999997  \n",
       "10498                    999999996                999999997  \n",
       "10981                    999999996                999999997  \n",
       "11184                    999999996                999999997  \n",
       "11353                    999999996                999999997  \n",
       "11618                    999999996                999999997  \n",
       "12324                    999999996                999999997  \n",
       "12327                    999999996                999999997  \n",
       "12845                    999999996                999999997  \n",
       "13291                    999999996                999999997  \n",
       "13373                    999999996                999999997  \n",
       "13417                    999999996                999999997  \n",
       "13640                    999999996                999999997  \n",
       "14299                    999999996                999999997  \n",
       "15081                    999999996                999999997  \n",
       "30717                    999999996                999999997  \n",
       "30993                    999999996                999999997  \n",
       "31001                    999999996                999999997  \n",
       "31167                    999999996                999999997  \n",
       "31223                    999999996                999999997  "
      ]
     },
     "execution_count": 18,
     "metadata": {},
     "output_type": "execute_result"
    }
   ],
   "source": [
    "pd.set_option('display.float_format', lambda x: '%.f' % x)\n",
    "merged.loc[merged[\"bs006_past_due_amt_leas\"]!= merged[\"sas_bs006_past_due_amt_leas\"], [\"account\", 'id_powid', 'id_proxid', 'id_seleid', 'id_orgid', 'id_ultid',\n",
    "       'history_date', 'history_datetime', \"bs001_num_fin_accts\", \"sas_bs006_past_due_amt_leas\", \"bs006_past_due_amt_leas\"]]"
   ]
  },
  {
   "cell_type": "markdown",
   "metadata": {},
   "source": [
    "## Compare to the prior run"
   ]
  },
  {
   "cell_type": "code",
   "execution_count": 19,
   "metadata": {},
   "outputs": [
    {
     "name": "stdout",
     "output_type": "stream",
     "text": [
      "(34550, 281)\n"
     ]
    }
   ],
   "source": [
    "path = \"Analytics/Personal Folders/liuwei01/2023/JPMC/new_data_run_0316_prod/\"\n",
    "file1 = pd.read_adls(path + \"z_LN_TrendV_Bal_with_sv_0315_prod_v1.csv\")\n",
    "file2 = pd.read_adls(path + 'z_LN_TrendV_Util_with_sv_0315_prod_v1.csv')\n",
    "file3 = pd.read_adls(path + 'z_ln_core_with_sv_0315_prod_v1.csv')\n",
    "merged = file1.copy()\n",
    "merged =merged.merge(file2, on = \"scramble_2\")\n",
    "merged =merged.merge(file3, on = \"scramble_2\")\n",
    "print(merged.shape)\n",
    "merged.columns = [x.lower() for x in merged.columns]\n",
    "temp_old = merged[[x for x in keep if x in merged.columns]].copy()\n",
    "temp_old = temp_old.rename(columns = {\"scramble_2\":\"account\", 'snapshot_dt': \"history_date\"})"
   ]
  },
  {
   "cell_type": "code",
   "execution_count": 20,
   "metadata": {},
   "outputs": [
    {
     "data": {
      "text/plain": [
       "<dsgtools.reporting.tablewriter.TableWriter at 0x7f78c2f1f970>"
      ]
     },
     "execution_count": 20,
     "metadata": {},
     "output_type": "execute_result"
    }
   ],
   "source": [
    "cr = ImpactAnalysisReport(temp, temp_old, keys=\"account\", dataframe_names =(\"sas\", \"sas_old\"))\n",
    "cr.to_xlsx(\"./_temp/sas_vs_sas_old_jpmc.xlsx\", overwrite=True)"
   ]
  },
  {
   "cell_type": "code",
   "execution_count": null,
   "metadata": {},
   "outputs": [],
   "source": []
  }
 ],
 "metadata": {
  "kernelspec": {
   "display_name": "data-science",
   "language": "python",
   "name": "python3"
  },
  "language_info": {
   "codemirror_mode": {
    "name": "ipython",
    "version": 3
   },
   "file_extension": ".py",
   "mimetype": "text/x-python",
   "name": "python",
   "nbconvert_exporter": "python",
   "pygments_lexer": "ipython3",
   "version": "3.10.6"
  },
  "orig_nbformat": 4
 },
 "nbformat": 4,
 "nbformat_minor": 2
}
